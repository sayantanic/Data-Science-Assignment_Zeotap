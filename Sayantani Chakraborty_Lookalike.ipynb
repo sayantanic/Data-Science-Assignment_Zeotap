{
 "cells": [
  {
   "cell_type": "markdown",
   "id": "57019d6a",
   "metadata": {},
   "source": [
    "# Installing dependencies\n",
    " Importing libraries and load Data"
   ]
  },
  {
   "cell_type": "code",
   "execution_count": 1,
   "id": "dbada446",
   "metadata": {},
   "outputs": [],
   "source": [
    "import pandas as pd\n",
    "from sklearn.metrics.pairwise import cosine_similarity\n",
    "from sklearn.preprocessing import StandardScaler\n",
    "import numpy as np\n",
    "\n",
    "customers_df = pd.read_csv('Customers.csv')\n",
    "transactions_df = pd.read_csv('Transactions.csv')"
   ]
  },
  {
   "cell_type": "markdown",
   "id": "97f72bac",
   "metadata": {},
   "source": [
    "# Data Preprocessing\n",
    "- Cleaning and merging customer and product information to create a feature set.\n",
    "- Ensuring that the data has no missing values and it is in the correct format."
   ]
  },
  {
   "cell_type": "code",
   "execution_count": 2,
   "id": "fa41a3a2",
   "metadata": {},
   "outputs": [],
   "source": [
    "merged_df = pd.merge(transactions_df, customers_df, on=\"CustomerID\")"
   ]
  },
  {
   "cell_type": "code",
   "execution_count": 14,
   "id": "295c5df0",
   "metadata": {
    "scrolled": true
   },
   "outputs": [
    {
     "data": {
      "text/plain": [
       "Index(['TransactionID', 'CustomerID', 'ProductID', 'TransactionDate',\n",
       "       'Quantity', 'TotalValue', 'Price'],\n",
       "      dtype='object')"
      ]
     },
     "execution_count": 14,
     "metadata": {},
     "output_type": "execute_result"
    }
   ],
   "source": [
    "transactions_df.columns"
   ]
  },
  {
   "cell_type": "markdown",
   "id": "0f6c54e9",
   "metadata": {},
   "source": [
    "# Feature Engineering"
   ]
  },
  {
   "cell_type": "markdown",
   "id": "69dd878b",
   "metadata": {},
   "source": [
    "#### We need to create a feature set that will help in calculating the similarity score between customers. The features can include:\n",
    " 1. Demographic features from the customer dataset.\n",
    " 2. Transaction history features, such as total spend, frequency, etc"
   ]
  },
  {
   "cell_type": "code",
   "execution_count": 5,
   "id": "05ce55c3",
   "metadata": {},
   "outputs": [],
   "source": [
    "merged_df['Total_Spend'] = merged_df['TotalValue'].groupby(merged_df['CustomerID']).transform('sum')\n",
    "merged_df['Transaction_Frequency'] = merged_df['TotalValue'].groupby(merged_df['CustomerID']).transform('count')"
   ]
  },
  {
   "cell_type": "markdown",
   "id": "371bb342",
   "metadata": {},
   "source": [
    "# Standardizing Features\n",
    "Normalizing the numerical features to ensure that all features contribute equally to the similarity calculation."
   ]
  },
  {
   "cell_type": "code",
   "execution_count": 6,
   "id": "54887c71",
   "metadata": {},
   "outputs": [],
   "source": [
    "scaler = StandardScaler()\n",
    "numerical_features = ['Total_Spend', 'Transaction_Frequency']\n",
    "merged_df[numerical_features] = scaler.fit_transform(merged_df[numerical_features])"
   ]
  },
  {
   "cell_type": "markdown",
   "id": "f85149c3",
   "metadata": {},
   "source": [
    "# Calculating Similarity Scores - Cosine Similarity\n",
    "Used cosine similarity to calculate the similarity between the customers based on their transaction and demographic information."
   ]
  },
  {
   "cell_type": "code",
   "execution_count": 7,
   "id": "44e1b7f6",
   "metadata": {},
   "outputs": [],
   "source": [
    "customer_features = merged_df[['Total_Spend', 'Transaction_Frequency']].drop_duplicates()\n",
    "similarity_matrix = cosine_similarity(customer_features)"
   ]
  },
  {
   "cell_type": "markdown",
   "id": "9424a336",
   "metadata": {},
   "source": [
    "# Creating Lookalike Recommendations\n",
    "For each of the first 20 customers (C0001 to C0020), calculated the top 3 most similar customers and their similarity scores."
   ]
  },
  {
   "cell_type": "code",
   "execution_count": 8,
   "id": "b2150061",
   "metadata": {},
   "outputs": [],
   "source": [
    "lookalike_recommendations = {}\n",
    "\n",
    "for cust_id in range(1, 21):\n",
    "    customer_index = cust_id - 1  \n",
    "    similarity_scores = similarity_matrix[customer_index]\n",
    "    similar_customers = np.argsort(similarity_scores)[-4:-1]  \n",
    "    lookalike_recommendations[f\"C{cust_id:04d}\"] = [(f\"C{similar_cust + 1:04d}\", similarity_scores[similar_cust]) for similar_cust in similar_customers]\n"
   ]
  },
  {
   "cell_type": "code",
   "execution_count": 15,
   "id": "ac6d518e",
   "metadata": {},
   "outputs": [
    {
     "data": {
      "text/plain": [
       "[('C0174', 0.9999420199247117),\n",
       " ('C0190', 0.9999816835278627),\n",
       " ('C0093', 0.9999982810471502)]"
      ]
     },
     "execution_count": 15,
     "metadata": {},
     "output_type": "execute_result"
    }
   ],
   "source": [
    "lookalike_recommendations[\"C0001\"]"
   ]
  },
  {
   "cell_type": "markdown",
   "id": "ce2bae9c",
   "metadata": {},
   "source": [
    "# Saved Recommendations to a CSV\n",
    "\n"
   ]
  },
  {
   "cell_type": "code",
   "execution_count": 13,
   "id": "3d5a5939",
   "metadata": {},
   "outputs": [],
   "source": [
    "customer_ids_1 = []\n",
    "similarity_scores_1 = []\n",
    "customer_ids_2 = []\n",
    "similarity_scores_2 = []\n",
    "customer_ids_3 = []\n",
    "similarity_scores_3 = []\n",
    "\n",
    "for cust_id, recommendations in lookalike_recommendations.items():\n",
    "    customer_ids_1.append(recommendations[0][0])\n",
    "    similarity_scores_1.append(recommendations[0][1])\n",
    "    customer_ids_2.append(recommendations[1][0])\n",
    "    similarity_scores_2.append(recommendations[1][1])\n",
    "    customer_ids_3.append(recommendations[2][0])\n",
    "    similarity_scores_3.append(recommendations[2][1])\n",
    "\n",
    "lookalike_df = pd.DataFrame({\n",
    "    'CustomerID': list(lookalike_recommendations.keys()),\n",
    "    'CustomerID_1': customer_ids_1,\n",
    "    'Similarity_Score_1': similarity_scores_1,\n",
    "    'CustomerID_2': customer_ids_2,\n",
    "    'Similarity_Score_2': similarity_scores_2,\n",
    "    'CustomerID_3': customer_ids_3,\n",
    "    'Similarity_Score_3': similarity_scores_3\n",
    "})\n",
    "\n",
    "lookalike_df.to_csv('Sayantani_Chakraborty_Lookalike.csv', index=False)\n"
   ]
  },
  {
   "cell_type": "code",
   "execution_count": null,
   "id": "609fb8a5",
   "metadata": {},
   "outputs": [],
   "source": []
  }
 ],
 "metadata": {
  "kernelspec": {
   "display_name": "Python 3 (ipykernel)",
   "language": "python",
   "name": "python3"
  },
  "language_info": {
   "codemirror_mode": {
    "name": "ipython",
    "version": 3
   },
   "file_extension": ".py",
   "mimetype": "text/x-python",
   "name": "python",
   "nbconvert_exporter": "python",
   "pygments_lexer": "ipython3",
   "version": "3.11.5"
  }
 },
 "nbformat": 4,
 "nbformat_minor": 5
}
