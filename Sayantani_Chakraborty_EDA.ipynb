{
 "cells": [
  {
   "cell_type": "markdown",
   "id": "8a6edac6",
   "metadata": {},
   "source": [
    "# Installing dependencies and loading data"
   ]
  },
  {
   "cell_type": "code",
   "execution_count": 93,
   "id": "3241a4b3",
   "metadata": {},
   "outputs": [],
   "source": [
    "import pandas as pd\n",
    "import plotly.express as px\n",
    "import plotly.graph_objects as go\n",
    "import requests\n",
    "import json"
   ]
  },
  {
   "cell_type": "code",
   "execution_count": 30,
   "id": "640fb2be",
   "metadata": {},
   "outputs": [],
   "source": [
    "customers = pd.read_csv(\"Customers.csv\")\n",
    "products = pd.read_csv(\"Products.csv\")\n",
    "transactions = pd.read_csv(\"Transactions.csv\")"
   ]
  },
  {
   "cell_type": "code",
   "execution_count": 31,
   "id": "83d22a6c",
   "metadata": {},
   "outputs": [],
   "source": [
    "merged_data = transactions.merge(customers, on=\"CustomerID\").merge(products, on=\"ProductID\")"
   ]
  },
  {
   "cell_type": "markdown",
   "id": "ac17b7e8",
   "metadata": {},
   "source": [
    "# Data Transformations"
   ]
  },
  {
   "cell_type": "code",
   "execution_count": 32,
   "id": "9cc79b97",
   "metadata": {},
   "outputs": [],
   "source": [
    "# Convert date columns to datetime\n",
    "merged_data['TransactionDate'] = pd.to_datetime(merged_data['TransactionDate'])\n",
    "merged_data['Month'] = merged_data['TransactionDate'].dt.month_name()"
   ]
  },
  {
   "cell_type": "code",
   "execution_count": 33,
   "id": "31aa5363",
   "metadata": {},
   "outputs": [
    {
     "name": "stdout",
     "output_type": "stream",
     "text": [
      "\n",
      "Missing Values:\n",
      "Customers: CustomerID      0\n",
      "CustomerName    0\n",
      "Region          0\n",
      "SignupDate      0\n",
      "dtype: int64\n",
      "Products: ProductID      0\n",
      "ProductName    0\n",
      "Category       0\n",
      "Price          0\n",
      "dtype: int64\n",
      "Transactions: TransactionID      0\n",
      "CustomerID         0\n",
      "ProductID          0\n",
      "TransactionDate    0\n",
      "Quantity           0\n",
      "TotalValue         0\n",
      "Price              0\n",
      "dtype: int64\n"
     ]
    }
   ],
   "source": [
    "# Check for missing values\n",
    "print(\"\\nMissing Values:\")\n",
    "print(\"Customers:\", customers.isnull().sum())\n",
    "print(\"Products:\", products.isnull().sum())\n",
    "print(\"Transactions:\", transactions.isnull().sum())"
   ]
  },
  {
   "cell_type": "code",
   "execution_count": 159,
   "id": "9042ee8e",
   "metadata": {
    "scrolled": true
   },
   "outputs": [
    {
     "data": {
      "text/html": [
       "<div>\n",
       "<style scoped>\n",
       "    .dataframe tbody tr th:only-of-type {\n",
       "        vertical-align: middle;\n",
       "    }\n",
       "\n",
       "    .dataframe tbody tr th {\n",
       "        vertical-align: top;\n",
       "    }\n",
       "\n",
       "    .dataframe thead th {\n",
       "        text-align: right;\n",
       "    }\n",
       "</style>\n",
       "<table border=\"1\" class=\"dataframe\">\n",
       "  <thead>\n",
       "    <tr style=\"text-align: right;\">\n",
       "      <th></th>\n",
       "      <th>TransactionID</th>\n",
       "      <th>CustomerID</th>\n",
       "      <th>ProductID</th>\n",
       "      <th>TransactionDate</th>\n",
       "      <th>Quantity</th>\n",
       "      <th>TotalValue</th>\n",
       "      <th>CustomerName</th>\n",
       "      <th>Region</th>\n",
       "      <th>SignupDate</th>\n",
       "      <th>ProductName</th>\n",
       "      <th>Category</th>\n",
       "      <th>Price</th>\n",
       "      <th>Month</th>\n",
       "    </tr>\n",
       "  </thead>\n",
       "  <tbody>\n",
       "    <tr>\n",
       "      <th>0</th>\n",
       "      <td>T00001</td>\n",
       "      <td>C0199</td>\n",
       "      <td>P067</td>\n",
       "      <td>2024-08-25 12:38:23</td>\n",
       "      <td>1</td>\n",
       "      <td>300.68</td>\n",
       "      <td>Andrea Jenkins</td>\n",
       "      <td>Europe</td>\n",
       "      <td>2022-12-03</td>\n",
       "      <td>ComfortLiving Bluetooth Speaker</td>\n",
       "      <td>Electronics</td>\n",
       "      <td>300.68</td>\n",
       "      <td>August</td>\n",
       "    </tr>\n",
       "    <tr>\n",
       "      <th>1</th>\n",
       "      <td>T00112</td>\n",
       "      <td>C0146</td>\n",
       "      <td>P067</td>\n",
       "      <td>2024-05-27 22:23:54</td>\n",
       "      <td>1</td>\n",
       "      <td>300.68</td>\n",
       "      <td>Brittany Harvey</td>\n",
       "      <td>Asia</td>\n",
       "      <td>2024-09-04</td>\n",
       "      <td>ComfortLiving Bluetooth Speaker</td>\n",
       "      <td>Electronics</td>\n",
       "      <td>300.68</td>\n",
       "      <td>May</td>\n",
       "    </tr>\n",
       "    <tr>\n",
       "      <th>2</th>\n",
       "      <td>T00166</td>\n",
       "      <td>C0127</td>\n",
       "      <td>P067</td>\n",
       "      <td>2024-04-25 07:38:55</td>\n",
       "      <td>1</td>\n",
       "      <td>300.68</td>\n",
       "      <td>Kathryn Stevens</td>\n",
       "      <td>Europe</td>\n",
       "      <td>2024-04-04</td>\n",
       "      <td>ComfortLiving Bluetooth Speaker</td>\n",
       "      <td>Electronics</td>\n",
       "      <td>300.68</td>\n",
       "      <td>April</td>\n",
       "    </tr>\n",
       "    <tr>\n",
       "      <th>3</th>\n",
       "      <td>T00272</td>\n",
       "      <td>C0087</td>\n",
       "      <td>P067</td>\n",
       "      <td>2024-03-26 22:55:37</td>\n",
       "      <td>2</td>\n",
       "      <td>601.36</td>\n",
       "      <td>Travis Campbell</td>\n",
       "      <td>South America</td>\n",
       "      <td>2024-04-11</td>\n",
       "      <td>ComfortLiving Bluetooth Speaker</td>\n",
       "      <td>Electronics</td>\n",
       "      <td>300.68</td>\n",
       "      <td>March</td>\n",
       "    </tr>\n",
       "    <tr>\n",
       "      <th>4</th>\n",
       "      <td>T00363</td>\n",
       "      <td>C0070</td>\n",
       "      <td>P067</td>\n",
       "      <td>2024-03-21 15:10:10</td>\n",
       "      <td>3</td>\n",
       "      <td>902.04</td>\n",
       "      <td>Timothy Perez</td>\n",
       "      <td>Europe</td>\n",
       "      <td>2022-03-15</td>\n",
       "      <td>ComfortLiving Bluetooth Speaker</td>\n",
       "      <td>Electronics</td>\n",
       "      <td>300.68</td>\n",
       "      <td>March</td>\n",
       "    </tr>\n",
       "  </tbody>\n",
       "</table>\n",
       "</div>"
      ],
      "text/plain": [
       "  TransactionID CustomerID ProductID     TransactionDate  Quantity  \\\n",
       "0        T00001      C0199      P067 2024-08-25 12:38:23         1   \n",
       "1        T00112      C0146      P067 2024-05-27 22:23:54         1   \n",
       "2        T00166      C0127      P067 2024-04-25 07:38:55         1   \n",
       "3        T00272      C0087      P067 2024-03-26 22:55:37         2   \n",
       "4        T00363      C0070      P067 2024-03-21 15:10:10         3   \n",
       "\n",
       "   TotalValue     CustomerName         Region  SignupDate  \\\n",
       "0      300.68   Andrea Jenkins         Europe  2022-12-03   \n",
       "1      300.68  Brittany Harvey           Asia  2024-09-04   \n",
       "2      300.68  Kathryn Stevens         Europe  2024-04-04   \n",
       "3      601.36  Travis Campbell  South America  2024-04-11   \n",
       "4      902.04    Timothy Perez         Europe  2022-03-15   \n",
       "\n",
       "                       ProductName     Category   Price   Month  \n",
       "0  ComfortLiving Bluetooth Speaker  Electronics  300.68  August  \n",
       "1  ComfortLiving Bluetooth Speaker  Electronics  300.68     May  \n",
       "2  ComfortLiving Bluetooth Speaker  Electronics  300.68   April  \n",
       "3  ComfortLiving Bluetooth Speaker  Electronics  300.68   March  \n",
       "4  ComfortLiving Bluetooth Speaker  Electronics  300.68   March  "
      ]
     },
     "execution_count": 159,
     "metadata": {},
     "output_type": "execute_result"
    }
   ],
   "source": [
    "merged_data.head()"
   ]
  },
  {
   "cell_type": "code",
   "execution_count": 166,
   "id": "f0959a52",
   "metadata": {},
   "outputs": [
    {
     "data": {
      "text/plain": [
       "array(['August', 'May', 'April', 'March', 'December', 'November',\n",
       "       'September', 'January', 'October', 'June', 'July', 'February'],\n",
       "      dtype=object)"
      ]
     },
     "execution_count": 166,
     "metadata": {},
     "output_type": "execute_result"
    }
   ],
   "source": [
    "# Extract month from timestamp\n",
    "\n",
    "merged_data['TransactionDate'] = pd.to_datetime(merged_data['TransactionDate'], errors='coerce')\n",
    "# print(merged_data['TransactionDate'].isnull().sum())\n",
    "merged_data['Month'] = merged_data['TransactionDate'].dt.month_name()\n",
    "merged_data['Month'].unique()  "
   ]
  },
  {
   "cell_type": "code",
   "execution_count": 218,
   "id": "d2556f28",
   "metadata": {},
   "outputs": [
    {
     "data": {
      "text/html": [
       "<div>\n",
       "<style scoped>\n",
       "    .dataframe tbody tr th:only-of-type {\n",
       "        vertical-align: middle;\n",
       "    }\n",
       "\n",
       "    .dataframe tbody tr th {\n",
       "        vertical-align: top;\n",
       "    }\n",
       "\n",
       "    .dataframe thead th {\n",
       "        text-align: right;\n",
       "    }\n",
       "</style>\n",
       "<table border=\"1\" class=\"dataframe\">\n",
       "  <thead>\n",
       "    <tr style=\"text-align: right;\">\n",
       "      <th></th>\n",
       "      <th>Region</th>\n",
       "      <th>TotalValue</th>\n",
       "    </tr>\n",
       "  </thead>\n",
       "  <tbody>\n",
       "    <tr>\n",
       "      <th>0</th>\n",
       "      <td>Asia</td>\n",
       "      <td>152074.97</td>\n",
       "    </tr>\n",
       "    <tr>\n",
       "      <th>1</th>\n",
       "      <td>Europe</td>\n",
       "      <td>166254.63</td>\n",
       "    </tr>\n",
       "    <tr>\n",
       "      <th>2</th>\n",
       "      <td>North America</td>\n",
       "      <td>152313.40</td>\n",
       "    </tr>\n",
       "    <tr>\n",
       "      <th>3</th>\n",
       "      <td>South America</td>\n",
       "      <td>219352.56</td>\n",
       "    </tr>\n",
       "  </tbody>\n",
       "</table>\n",
       "</div>"
      ],
      "text/plain": [
       "          Region  TotalValue\n",
       "0           Asia   152074.97\n",
       "1         Europe   166254.63\n",
       "2  North America   152313.40\n",
       "3  South America   219352.56"
      ]
     },
     "execution_count": 218,
     "metadata": {},
     "output_type": "execute_result"
    }
   ],
   "source": [
    "# Region Sales\n",
    "\n",
    "region_sales = merged_data.groupby('Region')['TotalValue'].sum().reset_index()\n",
    "region_sales"
   ]
  },
  {
   "cell_type": "code",
   "execution_count": 169,
   "id": "e2e01064",
   "metadata": {},
   "outputs": [
    {
     "data": {
      "text/html": [
       "<div>\n",
       "<style scoped>\n",
       "    .dataframe tbody tr th:only-of-type {\n",
       "        vertical-align: middle;\n",
       "    }\n",
       "\n",
       "    .dataframe tbody tr th {\n",
       "        vertical-align: top;\n",
       "    }\n",
       "\n",
       "    .dataframe thead th {\n",
       "        text-align: right;\n",
       "    }\n",
       "</style>\n",
       "<table border=\"1\" class=\"dataframe\">\n",
       "  <thead>\n",
       "    <tr style=\"text-align: right;\">\n",
       "      <th></th>\n",
       "      <th>Category</th>\n",
       "      <th>TotalValue</th>\n",
       "    </tr>\n",
       "  </thead>\n",
       "  <tbody>\n",
       "    <tr>\n",
       "      <th>0</th>\n",
       "      <td>Books</td>\n",
       "      <td>192147.47</td>\n",
       "    </tr>\n",
       "    <tr>\n",
       "      <th>2</th>\n",
       "      <td>Electronics</td>\n",
       "      <td>180783.50</td>\n",
       "    </tr>\n",
       "    <tr>\n",
       "      <th>1</th>\n",
       "      <td>Clothing</td>\n",
       "      <td>166170.66</td>\n",
       "    </tr>\n",
       "    <tr>\n",
       "      <th>3</th>\n",
       "      <td>Home Decor</td>\n",
       "      <td>150893.93</td>\n",
       "    </tr>\n",
       "  </tbody>\n",
       "</table>\n",
       "</div>"
      ],
      "text/plain": [
       "      Category  TotalValue\n",
       "0        Books   192147.47\n",
       "2  Electronics   180783.50\n",
       "1     Clothing   166170.66\n",
       "3   Home Decor   150893.93"
      ]
     },
     "execution_count": 169,
     "metadata": {},
     "output_type": "execute_result"
    }
   ],
   "source": [
    "# Group data by Category and sum TotalValue\n",
    "\n",
    "category_sales = merged_data.groupby('Category')['TotalValue'].sum().reset_index()\n",
    "category_sales = category_sales.sort_values('TotalValue', ascending=False)\n",
    "category_sales"
   ]
  },
  {
   "cell_type": "code",
   "execution_count": 168,
   "id": "5d8ccda4",
   "metadata": {
    "scrolled": false
   },
   "outputs": [
    {
     "data": {
      "text/html": [
       "<div>\n",
       "<style scoped>\n",
       "    .dataframe tbody tr th:only-of-type {\n",
       "        vertical-align: middle;\n",
       "    }\n",
       "\n",
       "    .dataframe tbody tr th {\n",
       "        vertical-align: top;\n",
       "    }\n",
       "\n",
       "    .dataframe thead th {\n",
       "        text-align: right;\n",
       "    }\n",
       "</style>\n",
       "<table border=\"1\" class=\"dataframe\">\n",
       "  <thead>\n",
       "    <tr style=\"text-align: right;\">\n",
       "      <th></th>\n",
       "      <th>Month</th>\n",
       "      <th>TotalValue</th>\n",
       "    </tr>\n",
       "  </thead>\n",
       "  <tbody>\n",
       "    <tr>\n",
       "      <th>4</th>\n",
       "      <td>January</td>\n",
       "      <td>66376.39</td>\n",
       "    </tr>\n",
       "    <tr>\n",
       "      <th>3</th>\n",
       "      <td>February</td>\n",
       "      <td>51459.27</td>\n",
       "    </tr>\n",
       "    <tr>\n",
       "      <th>7</th>\n",
       "      <td>March</td>\n",
       "      <td>47828.73</td>\n",
       "    </tr>\n",
       "    <tr>\n",
       "      <th>0</th>\n",
       "      <td>April</td>\n",
       "      <td>57519.06</td>\n",
       "    </tr>\n",
       "    <tr>\n",
       "      <th>8</th>\n",
       "      <td>May</td>\n",
       "      <td>64527.74</td>\n",
       "    </tr>\n",
       "    <tr>\n",
       "      <th>6</th>\n",
       "      <td>June</td>\n",
       "      <td>48771.18</td>\n",
       "    </tr>\n",
       "    <tr>\n",
       "      <th>5</th>\n",
       "      <td>July</td>\n",
       "      <td>71366.39</td>\n",
       "    </tr>\n",
       "    <tr>\n",
       "      <th>1</th>\n",
       "      <td>August</td>\n",
       "      <td>63436.74</td>\n",
       "    </tr>\n",
       "    <tr>\n",
       "      <th>11</th>\n",
       "      <td>September</td>\n",
       "      <td>70603.75</td>\n",
       "    </tr>\n",
       "    <tr>\n",
       "      <th>10</th>\n",
       "      <td>October</td>\n",
       "      <td>47063.22</td>\n",
       "    </tr>\n",
       "    <tr>\n",
       "      <th>9</th>\n",
       "      <td>November</td>\n",
       "      <td>38224.37</td>\n",
       "    </tr>\n",
       "    <tr>\n",
       "      <th>2</th>\n",
       "      <td>December</td>\n",
       "      <td>62818.72</td>\n",
       "    </tr>\n",
       "  </tbody>\n",
       "</table>\n",
       "</div>"
      ],
      "text/plain": [
       "        Month  TotalValue\n",
       "4     January    66376.39\n",
       "3    February    51459.27\n",
       "7       March    47828.73\n",
       "0       April    57519.06\n",
       "8         May    64527.74\n",
       "6        June    48771.18\n",
       "5        July    71366.39\n",
       "1      August    63436.74\n",
       "11  September    70603.75\n",
       "10    October    47063.22\n",
       "9    November    38224.37\n",
       "2    December    62818.72"
      ]
     },
     "execution_count": 168,
     "metadata": {},
     "output_type": "execute_result"
    }
   ],
   "source": [
    "# Monthly Sales\n",
    "\n",
    "monthly_sales = merged_data.groupby('Month')['TotalValue'].sum().reset_index()\n",
    "monthly_sales['Month'] = pd.Categorical(\n",
    "    monthly_sales['Month'],\n",
    "    categories=[\n",
    "        'January', 'February', 'March', 'April', 'May', 'June',\n",
    "        'July', 'August', 'September', 'October', 'November', 'December'\n",
    "    ],\n",
    "    ordered=True\n",
    ")\n",
    "monthly_sales = monthly_sales.sort_values('Month')\n",
    "monthly_sales"
   ]
  },
  {
   "cell_type": "code",
   "execution_count": 220,
   "id": "4376850d",
   "metadata": {},
   "outputs": [
    {
     "data": {
      "text/html": [
       "<div>\n",
       "<style scoped>\n",
       "    .dataframe tbody tr th:only-of-type {\n",
       "        vertical-align: middle;\n",
       "    }\n",
       "\n",
       "    .dataframe tbody tr th {\n",
       "        vertical-align: top;\n",
       "    }\n",
       "\n",
       "    .dataframe thead th {\n",
       "        text-align: right;\n",
       "    }\n",
       "</style>\n",
       "<table border=\"1\" class=\"dataframe\">\n",
       "  <thead>\n",
       "    <tr style=\"text-align: right;\">\n",
       "      <th></th>\n",
       "      <th>ProductName</th>\n",
       "      <th>TotalValue</th>\n",
       "    </tr>\n",
       "  </thead>\n",
       "  <tbody>\n",
       "    <tr>\n",
       "      <th>9</th>\n",
       "      <td>ActiveWear Smartwatch</td>\n",
       "      <td>39096.97</td>\n",
       "    </tr>\n",
       "    <tr>\n",
       "      <th>47</th>\n",
       "      <td>SoundWave Headphones</td>\n",
       "      <td>25211.64</td>\n",
       "    </tr>\n",
       "    <tr>\n",
       "      <th>52</th>\n",
       "      <td>SoundWave Novel</td>\n",
       "      <td>24507.90</td>\n",
       "    </tr>\n",
       "    <tr>\n",
       "      <th>4</th>\n",
       "      <td>ActiveWear Jacket</td>\n",
       "      <td>22712.56</td>\n",
       "    </tr>\n",
       "    <tr>\n",
       "      <th>6</th>\n",
       "      <td>ActiveWear Rug</td>\n",
       "      <td>22314.43</td>\n",
       "    </tr>\n",
       "    <tr>\n",
       "      <th>58</th>\n",
       "      <td>TechPro Headphones</td>\n",
       "      <td>19513.80</td>\n",
       "    </tr>\n",
       "    <tr>\n",
       "      <th>15</th>\n",
       "      <td>BookWorld Cookbook</td>\n",
       "      <td>19221.99</td>\n",
       "    </tr>\n",
       "    <tr>\n",
       "      <th>21</th>\n",
       "      <td>BookWorld Sweater</td>\n",
       "      <td>18743.79</td>\n",
       "    </tr>\n",
       "    <tr>\n",
       "      <th>64</th>\n",
       "      <td>TechPro Textbook</td>\n",
       "      <td>18267.96</td>\n",
       "    </tr>\n",
       "    <tr>\n",
       "      <th>2</th>\n",
       "      <td>ActiveWear Cookware Set</td>\n",
       "      <td>18083.73</td>\n",
       "    </tr>\n",
       "  </tbody>\n",
       "</table>\n",
       "</div>"
      ],
      "text/plain": [
       "                ProductName  TotalValue\n",
       "9     ActiveWear Smartwatch    39096.97\n",
       "47     SoundWave Headphones    25211.64\n",
       "52          SoundWave Novel    24507.90\n",
       "4         ActiveWear Jacket    22712.56\n",
       "6            ActiveWear Rug    22314.43\n",
       "58       TechPro Headphones    19513.80\n",
       "15       BookWorld Cookbook    19221.99\n",
       "21        BookWorld Sweater    18743.79\n",
       "64         TechPro Textbook    18267.96\n",
       "2   ActiveWear Cookware Set    18083.73"
      ]
     },
     "execution_count": 220,
     "metadata": {},
     "output_type": "execute_result"
    }
   ],
   "source": [
    "# Top 10 Products\n",
    "\n",
    "product_sales = merged_data.groupby('ProductName')['TotalValue'].sum().reset_index()\n",
    "top_10_products = product_sales.nlargest(10, 'TotalValue')\n",
    "top_10_products"
   ]
  },
  {
   "cell_type": "markdown",
   "id": "288bdc42",
   "metadata": {},
   "source": [
    "# Exploratory Data Analysis"
   ]
  },
  {
   "cell_type": "markdown",
   "id": "d4e9de26",
   "metadata": {},
   "source": [
    "### Total Sales by Region"
   ]
  },
  {
   "cell_type": "code",
   "execution_count": 219,
   "id": "cb18e69a",
   "metadata": {
    "scrolled": false
   },
   "outputs": [
    {
     "data": {
      "application/vnd.plotly.v1+json": {
       "config": {
        "plotlyServerURL": "https://plot.ly"
       },
       "data": [
        {
         "fillpattern": {
          "shape": ""
         },
         "hovertemplate": "Continent=%{x}<br>TotalValue=%{y}<extra></extra>",
         "legendgroup": "Asia",
         "line": {
          "color": "rgb(176, 242, 188)"
         },
         "marker": {
          "symbol": "circle"
         },
         "mode": "lines",
         "name": "Asia",
         "orientation": "v",
         "showlegend": true,
         "stackgroup": "1",
         "type": "scatter",
         "x": [
          "Asia"
         ],
         "xaxis": "x",
         "y": [
          152074.97
         ],
         "yaxis": "y"
        },
        {
         "fillpattern": {
          "shape": ""
         },
         "hovertemplate": "Continent=%{x}<br>TotalValue=%{y}<extra></extra>",
         "legendgroup": "Europe",
         "line": {
          "color": "rgb(137, 232, 172)"
         },
         "marker": {
          "symbol": "circle"
         },
         "mode": "lines",
         "name": "Europe",
         "orientation": "v",
         "showlegend": true,
         "stackgroup": "1",
         "type": "scatter",
         "x": [
          "Europe"
         ],
         "xaxis": "x",
         "y": [
          166254.63
         ],
         "yaxis": "y"
        },
        {
         "fillpattern": {
          "shape": ""
         },
         "hovertemplate": "Continent=%{x}<br>TotalValue=%{y}<extra></extra>",
         "legendgroup": "North America",
         "line": {
          "color": "rgb(103, 219, 165)"
         },
         "marker": {
          "symbol": "circle"
         },
         "mode": "lines",
         "name": "North America",
         "orientation": "v",
         "showlegend": true,
         "stackgroup": "1",
         "type": "scatter",
         "x": [
          "North America"
         ],
         "xaxis": "x",
         "y": [
          152313.4
         ],
         "yaxis": "y"
        },
        {
         "fillpattern": {
          "shape": ""
         },
         "hovertemplate": "Continent=%{x}<br>TotalValue=%{y}<extra></extra>",
         "legendgroup": "South America",
         "line": {
          "color": "rgb(76, 200, 163)"
         },
         "marker": {
          "symbol": "circle"
         },
         "mode": "lines",
         "name": "South America",
         "orientation": "v",
         "showlegend": true,
         "stackgroup": "1",
         "type": "scatter",
         "x": [
          "South America"
         ],
         "xaxis": "x",
         "y": [
          219352.56
         ],
         "yaxis": "y"
        }
       ],
       "layout": {
        "legend": {
         "title": {
          "text": "Continent"
         },
         "tracegroupgap": 0
        },
        "template": {
         "data": {
          "bar": [
           {
            "error_x": {
             "color": "#2a3f5f"
            },
            "error_y": {
             "color": "#2a3f5f"
            },
            "marker": {
             "line": {
              "color": "#E5ECF6",
              "width": 0.5
             },
             "pattern": {
              "fillmode": "overlay",
              "size": 10,
              "solidity": 0.2
             }
            },
            "type": "bar"
           }
          ],
          "barpolar": [
           {
            "marker": {
             "line": {
              "color": "#E5ECF6",
              "width": 0.5
             },
             "pattern": {
              "fillmode": "overlay",
              "size": 10,
              "solidity": 0.2
             }
            },
            "type": "barpolar"
           }
          ],
          "carpet": [
           {
            "aaxis": {
             "endlinecolor": "#2a3f5f",
             "gridcolor": "white",
             "linecolor": "white",
             "minorgridcolor": "white",
             "startlinecolor": "#2a3f5f"
            },
            "baxis": {
             "endlinecolor": "#2a3f5f",
             "gridcolor": "white",
             "linecolor": "white",
             "minorgridcolor": "white",
             "startlinecolor": "#2a3f5f"
            },
            "type": "carpet"
           }
          ],
          "choropleth": [
           {
            "colorbar": {
             "outlinewidth": 0,
             "ticks": ""
            },
            "type": "choropleth"
           }
          ],
          "contour": [
           {
            "colorbar": {
             "outlinewidth": 0,
             "ticks": ""
            },
            "colorscale": [
             [
              0,
              "#0d0887"
             ],
             [
              0.1111111111111111,
              "#46039f"
             ],
             [
              0.2222222222222222,
              "#7201a8"
             ],
             [
              0.3333333333333333,
              "#9c179e"
             ],
             [
              0.4444444444444444,
              "#bd3786"
             ],
             [
              0.5555555555555556,
              "#d8576b"
             ],
             [
              0.6666666666666666,
              "#ed7953"
             ],
             [
              0.7777777777777778,
              "#fb9f3a"
             ],
             [
              0.8888888888888888,
              "#fdca26"
             ],
             [
              1,
              "#f0f921"
             ]
            ],
            "type": "contour"
           }
          ],
          "contourcarpet": [
           {
            "colorbar": {
             "outlinewidth": 0,
             "ticks": ""
            },
            "type": "contourcarpet"
           }
          ],
          "heatmap": [
           {
            "colorbar": {
             "outlinewidth": 0,
             "ticks": ""
            },
            "colorscale": [
             [
              0,
              "#0d0887"
             ],
             [
              0.1111111111111111,
              "#46039f"
             ],
             [
              0.2222222222222222,
              "#7201a8"
             ],
             [
              0.3333333333333333,
              "#9c179e"
             ],
             [
              0.4444444444444444,
              "#bd3786"
             ],
             [
              0.5555555555555556,
              "#d8576b"
             ],
             [
              0.6666666666666666,
              "#ed7953"
             ],
             [
              0.7777777777777778,
              "#fb9f3a"
             ],
             [
              0.8888888888888888,
              "#fdca26"
             ],
             [
              1,
              "#f0f921"
             ]
            ],
            "type": "heatmap"
           }
          ],
          "heatmapgl": [
           {
            "colorbar": {
             "outlinewidth": 0,
             "ticks": ""
            },
            "colorscale": [
             [
              0,
              "#0d0887"
             ],
             [
              0.1111111111111111,
              "#46039f"
             ],
             [
              0.2222222222222222,
              "#7201a8"
             ],
             [
              0.3333333333333333,
              "#9c179e"
             ],
             [
              0.4444444444444444,
              "#bd3786"
             ],
             [
              0.5555555555555556,
              "#d8576b"
             ],
             [
              0.6666666666666666,
              "#ed7953"
             ],
             [
              0.7777777777777778,
              "#fb9f3a"
             ],
             [
              0.8888888888888888,
              "#fdca26"
             ],
             [
              1,
              "#f0f921"
             ]
            ],
            "type": "heatmapgl"
           }
          ],
          "histogram": [
           {
            "marker": {
             "pattern": {
              "fillmode": "overlay",
              "size": 10,
              "solidity": 0.2
             }
            },
            "type": "histogram"
           }
          ],
          "histogram2d": [
           {
            "colorbar": {
             "outlinewidth": 0,
             "ticks": ""
            },
            "colorscale": [
             [
              0,
              "#0d0887"
             ],
             [
              0.1111111111111111,
              "#46039f"
             ],
             [
              0.2222222222222222,
              "#7201a8"
             ],
             [
              0.3333333333333333,
              "#9c179e"
             ],
             [
              0.4444444444444444,
              "#bd3786"
             ],
             [
              0.5555555555555556,
              "#d8576b"
             ],
             [
              0.6666666666666666,
              "#ed7953"
             ],
             [
              0.7777777777777778,
              "#fb9f3a"
             ],
             [
              0.8888888888888888,
              "#fdca26"
             ],
             [
              1,
              "#f0f921"
             ]
            ],
            "type": "histogram2d"
           }
          ],
          "histogram2dcontour": [
           {
            "colorbar": {
             "outlinewidth": 0,
             "ticks": ""
            },
            "colorscale": [
             [
              0,
              "#0d0887"
             ],
             [
              0.1111111111111111,
              "#46039f"
             ],
             [
              0.2222222222222222,
              "#7201a8"
             ],
             [
              0.3333333333333333,
              "#9c179e"
             ],
             [
              0.4444444444444444,
              "#bd3786"
             ],
             [
              0.5555555555555556,
              "#d8576b"
             ],
             [
              0.6666666666666666,
              "#ed7953"
             ],
             [
              0.7777777777777778,
              "#fb9f3a"
             ],
             [
              0.8888888888888888,
              "#fdca26"
             ],
             [
              1,
              "#f0f921"
             ]
            ],
            "type": "histogram2dcontour"
           }
          ],
          "mesh3d": [
           {
            "colorbar": {
             "outlinewidth": 0,
             "ticks": ""
            },
            "type": "mesh3d"
           }
          ],
          "parcoords": [
           {
            "line": {
             "colorbar": {
              "outlinewidth": 0,
              "ticks": ""
             }
            },
            "type": "parcoords"
           }
          ],
          "pie": [
           {
            "automargin": true,
            "type": "pie"
           }
          ],
          "scatter": [
           {
            "fillpattern": {
             "fillmode": "overlay",
             "size": 10,
             "solidity": 0.2
            },
            "type": "scatter"
           }
          ],
          "scatter3d": [
           {
            "line": {
             "colorbar": {
              "outlinewidth": 0,
              "ticks": ""
             }
            },
            "marker": {
             "colorbar": {
              "outlinewidth": 0,
              "ticks": ""
             }
            },
            "type": "scatter3d"
           }
          ],
          "scattercarpet": [
           {
            "marker": {
             "colorbar": {
              "outlinewidth": 0,
              "ticks": ""
             }
            },
            "type": "scattercarpet"
           }
          ],
          "scattergeo": [
           {
            "marker": {
             "colorbar": {
              "outlinewidth": 0,
              "ticks": ""
             }
            },
            "type": "scattergeo"
           }
          ],
          "scattergl": [
           {
            "marker": {
             "colorbar": {
              "outlinewidth": 0,
              "ticks": ""
             }
            },
            "type": "scattergl"
           }
          ],
          "scattermapbox": [
           {
            "marker": {
             "colorbar": {
              "outlinewidth": 0,
              "ticks": ""
             }
            },
            "type": "scattermapbox"
           }
          ],
          "scatterpolar": [
           {
            "marker": {
             "colorbar": {
              "outlinewidth": 0,
              "ticks": ""
             }
            },
            "type": "scatterpolar"
           }
          ],
          "scatterpolargl": [
           {
            "marker": {
             "colorbar": {
              "outlinewidth": 0,
              "ticks": ""
             }
            },
            "type": "scatterpolargl"
           }
          ],
          "scatterternary": [
           {
            "marker": {
             "colorbar": {
              "outlinewidth": 0,
              "ticks": ""
             }
            },
            "type": "scatterternary"
           }
          ],
          "surface": [
           {
            "colorbar": {
             "outlinewidth": 0,
             "ticks": ""
            },
            "colorscale": [
             [
              0,
              "#0d0887"
             ],
             [
              0.1111111111111111,
              "#46039f"
             ],
             [
              0.2222222222222222,
              "#7201a8"
             ],
             [
              0.3333333333333333,
              "#9c179e"
             ],
             [
              0.4444444444444444,
              "#bd3786"
             ],
             [
              0.5555555555555556,
              "#d8576b"
             ],
             [
              0.6666666666666666,
              "#ed7953"
             ],
             [
              0.7777777777777778,
              "#fb9f3a"
             ],
             [
              0.8888888888888888,
              "#fdca26"
             ],
             [
              1,
              "#f0f921"
             ]
            ],
            "type": "surface"
           }
          ],
          "table": [
           {
            "cells": {
             "fill": {
              "color": "#EBF0F8"
             },
             "line": {
              "color": "white"
             }
            },
            "header": {
             "fill": {
              "color": "#C8D4E3"
             },
             "line": {
              "color": "white"
             }
            },
            "type": "table"
           }
          ]
         },
         "layout": {
          "annotationdefaults": {
           "arrowcolor": "#2a3f5f",
           "arrowhead": 0,
           "arrowwidth": 1
          },
          "autotypenumbers": "strict",
          "coloraxis": {
           "colorbar": {
            "outlinewidth": 0,
            "ticks": ""
           }
          },
          "colorscale": {
           "diverging": [
            [
             0,
             "#8e0152"
            ],
            [
             0.1,
             "#c51b7d"
            ],
            [
             0.2,
             "#de77ae"
            ],
            [
             0.3,
             "#f1b6da"
            ],
            [
             0.4,
             "#fde0ef"
            ],
            [
             0.5,
             "#f7f7f7"
            ],
            [
             0.6,
             "#e6f5d0"
            ],
            [
             0.7,
             "#b8e186"
            ],
            [
             0.8,
             "#7fbc41"
            ],
            [
             0.9,
             "#4d9221"
            ],
            [
             1,
             "#276419"
            ]
           ],
           "sequential": [
            [
             0,
             "#0d0887"
            ],
            [
             0.1111111111111111,
             "#46039f"
            ],
            [
             0.2222222222222222,
             "#7201a8"
            ],
            [
             0.3333333333333333,
             "#9c179e"
            ],
            [
             0.4444444444444444,
             "#bd3786"
            ],
            [
             0.5555555555555556,
             "#d8576b"
            ],
            [
             0.6666666666666666,
             "#ed7953"
            ],
            [
             0.7777777777777778,
             "#fb9f3a"
            ],
            [
             0.8888888888888888,
             "#fdca26"
            ],
            [
             1,
             "#f0f921"
            ]
           ],
           "sequentialminus": [
            [
             0,
             "#0d0887"
            ],
            [
             0.1111111111111111,
             "#46039f"
            ],
            [
             0.2222222222222222,
             "#7201a8"
            ],
            [
             0.3333333333333333,
             "#9c179e"
            ],
            [
             0.4444444444444444,
             "#bd3786"
            ],
            [
             0.5555555555555556,
             "#d8576b"
            ],
            [
             0.6666666666666666,
             "#ed7953"
            ],
            [
             0.7777777777777778,
             "#fb9f3a"
            ],
            [
             0.8888888888888888,
             "#fdca26"
            ],
            [
             1,
             "#f0f921"
            ]
           ]
          },
          "colorway": [
           "#636efa",
           "#EF553B",
           "#00cc96",
           "#ab63fa",
           "#FFA15A",
           "#19d3f3",
           "#FF6692",
           "#B6E880",
           "#FF97FF",
           "#FECB52"
          ],
          "font": {
           "color": "#2a3f5f"
          },
          "geo": {
           "bgcolor": "white",
           "lakecolor": "white",
           "landcolor": "#E5ECF6",
           "showlakes": true,
           "showland": true,
           "subunitcolor": "white"
          },
          "hoverlabel": {
           "align": "left"
          },
          "hovermode": "closest",
          "mapbox": {
           "style": "light"
          },
          "paper_bgcolor": "white",
          "plot_bgcolor": "#E5ECF6",
          "polar": {
           "angularaxis": {
            "gridcolor": "white",
            "linecolor": "white",
            "ticks": ""
           },
           "bgcolor": "#E5ECF6",
           "radialaxis": {
            "gridcolor": "white",
            "linecolor": "white",
            "ticks": ""
           }
          },
          "scene": {
           "xaxis": {
            "backgroundcolor": "#E5ECF6",
            "gridcolor": "white",
            "gridwidth": 2,
            "linecolor": "white",
            "showbackground": true,
            "ticks": "",
            "zerolinecolor": "white"
           },
           "yaxis": {
            "backgroundcolor": "#E5ECF6",
            "gridcolor": "white",
            "gridwidth": 2,
            "linecolor": "white",
            "showbackground": true,
            "ticks": "",
            "zerolinecolor": "white"
           },
           "zaxis": {
            "backgroundcolor": "#E5ECF6",
            "gridcolor": "white",
            "gridwidth": 2,
            "linecolor": "white",
            "showbackground": true,
            "ticks": "",
            "zerolinecolor": "white"
           }
          },
          "shapedefaults": {
           "line": {
            "color": "#2a3f5f"
           }
          },
          "ternary": {
           "aaxis": {
            "gridcolor": "white",
            "linecolor": "white",
            "ticks": ""
           },
           "baxis": {
            "gridcolor": "white",
            "linecolor": "white",
            "ticks": ""
           },
           "bgcolor": "#E5ECF6",
           "caxis": {
            "gridcolor": "white",
            "linecolor": "white",
            "ticks": ""
           }
          },
          "title": {
           "x": 0.05
          },
          "xaxis": {
           "automargin": true,
           "gridcolor": "white",
           "linecolor": "white",
           "ticks": "",
           "title": {
            "standoff": 15
           },
           "zerolinecolor": "white",
           "zerolinewidth": 2
          },
          "yaxis": {
           "automargin": true,
           "gridcolor": "white",
           "linecolor": "white",
           "ticks": "",
           "title": {
            "standoff": 15
           },
           "zerolinecolor": "white",
           "zerolinewidth": 2
          }
         }
        },
        "title": {
         "text": "Total Sales by Region"
        },
        "xaxis": {
         "anchor": "y",
         "categoryarray": [
          "Asia",
          "Europe",
          "North America",
          "South America"
         ],
         "categoryorder": "array",
         "domain": [
          0,
          1
         ],
         "title": {
          "text": "Continent"
         }
        },
        "yaxis": {
         "anchor": "x",
         "domain": [
          0,
          1
         ],
         "title": {
          "text": "TotalValue"
         }
        }
       }
      },
      "text/html": [
       "<div>                            <div id=\"0461a97d-69c2-4bd2-8dad-79511f6a4052\" class=\"plotly-graph-div\" style=\"height:525px; width:100%;\"></div>            <script type=\"text/javascript\">                require([\"plotly\"], function(Plotly) {                    window.PLOTLYENV=window.PLOTLYENV || {};                                    if (document.getElementById(\"0461a97d-69c2-4bd2-8dad-79511f6a4052\")) {                    Plotly.newPlot(                        \"0461a97d-69c2-4bd2-8dad-79511f6a4052\",                        [{\"fillpattern\":{\"shape\":\"\"},\"hovertemplate\":\"Continent=%{x}<br>TotalValue=%{y}<extra></extra>\",\"legendgroup\":\"Asia\",\"line\":{\"color\":\"rgb(176, 242, 188)\"},\"marker\":{\"symbol\":\"circle\"},\"mode\":\"lines\",\"name\":\"Asia\",\"orientation\":\"v\",\"showlegend\":true,\"stackgroup\":\"1\",\"x\":[\"Asia\"],\"xaxis\":\"x\",\"y\":[152074.97],\"yaxis\":\"y\",\"type\":\"scatter\"},{\"fillpattern\":{\"shape\":\"\"},\"hovertemplate\":\"Continent=%{x}<br>TotalValue=%{y}<extra></extra>\",\"legendgroup\":\"Europe\",\"line\":{\"color\":\"rgb(137, 232, 172)\"},\"marker\":{\"symbol\":\"circle\"},\"mode\":\"lines\",\"name\":\"Europe\",\"orientation\":\"v\",\"showlegend\":true,\"stackgroup\":\"1\",\"x\":[\"Europe\"],\"xaxis\":\"x\",\"y\":[166254.63],\"yaxis\":\"y\",\"type\":\"scatter\"},{\"fillpattern\":{\"shape\":\"\"},\"hovertemplate\":\"Continent=%{x}<br>TotalValue=%{y}<extra></extra>\",\"legendgroup\":\"North America\",\"line\":{\"color\":\"rgb(103, 219, 165)\"},\"marker\":{\"symbol\":\"circle\"},\"mode\":\"lines\",\"name\":\"North America\",\"orientation\":\"v\",\"showlegend\":true,\"stackgroup\":\"1\",\"x\":[\"North America\"],\"xaxis\":\"x\",\"y\":[152313.4],\"yaxis\":\"y\",\"type\":\"scatter\"},{\"fillpattern\":{\"shape\":\"\"},\"hovertemplate\":\"Continent=%{x}<br>TotalValue=%{y}<extra></extra>\",\"legendgroup\":\"South America\",\"line\":{\"color\":\"rgb(76, 200, 163)\"},\"marker\":{\"symbol\":\"circle\"},\"mode\":\"lines\",\"name\":\"South America\",\"orientation\":\"v\",\"showlegend\":true,\"stackgroup\":\"1\",\"x\":[\"South America\"],\"xaxis\":\"x\",\"y\":[219352.56],\"yaxis\":\"y\",\"type\":\"scatter\"}],                        {\"template\":{\"data\":{\"histogram2dcontour\":[{\"type\":\"histogram2dcontour\",\"colorbar\":{\"outlinewidth\":0,\"ticks\":\"\"},\"colorscale\":[[0.0,\"#0d0887\"],[0.1111111111111111,\"#46039f\"],[0.2222222222222222,\"#7201a8\"],[0.3333333333333333,\"#9c179e\"],[0.4444444444444444,\"#bd3786\"],[0.5555555555555556,\"#d8576b\"],[0.6666666666666666,\"#ed7953\"],[0.7777777777777778,\"#fb9f3a\"],[0.8888888888888888,\"#fdca26\"],[1.0,\"#f0f921\"]]}],\"choropleth\":[{\"type\":\"choropleth\",\"colorbar\":{\"outlinewidth\":0,\"ticks\":\"\"}}],\"histogram2d\":[{\"type\":\"histogram2d\",\"colorbar\":{\"outlinewidth\":0,\"ticks\":\"\"},\"colorscale\":[[0.0,\"#0d0887\"],[0.1111111111111111,\"#46039f\"],[0.2222222222222222,\"#7201a8\"],[0.3333333333333333,\"#9c179e\"],[0.4444444444444444,\"#bd3786\"],[0.5555555555555556,\"#d8576b\"],[0.6666666666666666,\"#ed7953\"],[0.7777777777777778,\"#fb9f3a\"],[0.8888888888888888,\"#fdca26\"],[1.0,\"#f0f921\"]]}],\"heatmap\":[{\"type\":\"heatmap\",\"colorbar\":{\"outlinewidth\":0,\"ticks\":\"\"},\"colorscale\":[[0.0,\"#0d0887\"],[0.1111111111111111,\"#46039f\"],[0.2222222222222222,\"#7201a8\"],[0.3333333333333333,\"#9c179e\"],[0.4444444444444444,\"#bd3786\"],[0.5555555555555556,\"#d8576b\"],[0.6666666666666666,\"#ed7953\"],[0.7777777777777778,\"#fb9f3a\"],[0.8888888888888888,\"#fdca26\"],[1.0,\"#f0f921\"]]}],\"heatmapgl\":[{\"type\":\"heatmapgl\",\"colorbar\":{\"outlinewidth\":0,\"ticks\":\"\"},\"colorscale\":[[0.0,\"#0d0887\"],[0.1111111111111111,\"#46039f\"],[0.2222222222222222,\"#7201a8\"],[0.3333333333333333,\"#9c179e\"],[0.4444444444444444,\"#bd3786\"],[0.5555555555555556,\"#d8576b\"],[0.6666666666666666,\"#ed7953\"],[0.7777777777777778,\"#fb9f3a\"],[0.8888888888888888,\"#fdca26\"],[1.0,\"#f0f921\"]]}],\"contourcarpet\":[{\"type\":\"contourcarpet\",\"colorbar\":{\"outlinewidth\":0,\"ticks\":\"\"}}],\"contour\":[{\"type\":\"contour\",\"colorbar\":{\"outlinewidth\":0,\"ticks\":\"\"},\"colorscale\":[[0.0,\"#0d0887\"],[0.1111111111111111,\"#46039f\"],[0.2222222222222222,\"#7201a8\"],[0.3333333333333333,\"#9c179e\"],[0.4444444444444444,\"#bd3786\"],[0.5555555555555556,\"#d8576b\"],[0.6666666666666666,\"#ed7953\"],[0.7777777777777778,\"#fb9f3a\"],[0.8888888888888888,\"#fdca26\"],[1.0,\"#f0f921\"]]}],\"surface\":[{\"type\":\"surface\",\"colorbar\":{\"outlinewidth\":0,\"ticks\":\"\"},\"colorscale\":[[0.0,\"#0d0887\"],[0.1111111111111111,\"#46039f\"],[0.2222222222222222,\"#7201a8\"],[0.3333333333333333,\"#9c179e\"],[0.4444444444444444,\"#bd3786\"],[0.5555555555555556,\"#d8576b\"],[0.6666666666666666,\"#ed7953\"],[0.7777777777777778,\"#fb9f3a\"],[0.8888888888888888,\"#fdca26\"],[1.0,\"#f0f921\"]]}],\"mesh3d\":[{\"type\":\"mesh3d\",\"colorbar\":{\"outlinewidth\":0,\"ticks\":\"\"}}],\"scatter\":[{\"fillpattern\":{\"fillmode\":\"overlay\",\"size\":10,\"solidity\":0.2},\"type\":\"scatter\"}],\"parcoords\":[{\"type\":\"parcoords\",\"line\":{\"colorbar\":{\"outlinewidth\":0,\"ticks\":\"\"}}}],\"scatterpolargl\":[{\"type\":\"scatterpolargl\",\"marker\":{\"colorbar\":{\"outlinewidth\":0,\"ticks\":\"\"}}}],\"bar\":[{\"error_x\":{\"color\":\"#2a3f5f\"},\"error_y\":{\"color\":\"#2a3f5f\"},\"marker\":{\"line\":{\"color\":\"#E5ECF6\",\"width\":0.5},\"pattern\":{\"fillmode\":\"overlay\",\"size\":10,\"solidity\":0.2}},\"type\":\"bar\"}],\"scattergeo\":[{\"type\":\"scattergeo\",\"marker\":{\"colorbar\":{\"outlinewidth\":0,\"ticks\":\"\"}}}],\"scatterpolar\":[{\"type\":\"scatterpolar\",\"marker\":{\"colorbar\":{\"outlinewidth\":0,\"ticks\":\"\"}}}],\"histogram\":[{\"marker\":{\"pattern\":{\"fillmode\":\"overlay\",\"size\":10,\"solidity\":0.2}},\"type\":\"histogram\"}],\"scattergl\":[{\"type\":\"scattergl\",\"marker\":{\"colorbar\":{\"outlinewidth\":0,\"ticks\":\"\"}}}],\"scatter3d\":[{\"type\":\"scatter3d\",\"line\":{\"colorbar\":{\"outlinewidth\":0,\"ticks\":\"\"}},\"marker\":{\"colorbar\":{\"outlinewidth\":0,\"ticks\":\"\"}}}],\"scattermapbox\":[{\"type\":\"scattermapbox\",\"marker\":{\"colorbar\":{\"outlinewidth\":0,\"ticks\":\"\"}}}],\"scatterternary\":[{\"type\":\"scatterternary\",\"marker\":{\"colorbar\":{\"outlinewidth\":0,\"ticks\":\"\"}}}],\"scattercarpet\":[{\"type\":\"scattercarpet\",\"marker\":{\"colorbar\":{\"outlinewidth\":0,\"ticks\":\"\"}}}],\"carpet\":[{\"aaxis\":{\"endlinecolor\":\"#2a3f5f\",\"gridcolor\":\"white\",\"linecolor\":\"white\",\"minorgridcolor\":\"white\",\"startlinecolor\":\"#2a3f5f\"},\"baxis\":{\"endlinecolor\":\"#2a3f5f\",\"gridcolor\":\"white\",\"linecolor\":\"white\",\"minorgridcolor\":\"white\",\"startlinecolor\":\"#2a3f5f\"},\"type\":\"carpet\"}],\"table\":[{\"cells\":{\"fill\":{\"color\":\"#EBF0F8\"},\"line\":{\"color\":\"white\"}},\"header\":{\"fill\":{\"color\":\"#C8D4E3\"},\"line\":{\"color\":\"white\"}},\"type\":\"table\"}],\"barpolar\":[{\"marker\":{\"line\":{\"color\":\"#E5ECF6\",\"width\":0.5},\"pattern\":{\"fillmode\":\"overlay\",\"size\":10,\"solidity\":0.2}},\"type\":\"barpolar\"}],\"pie\":[{\"automargin\":true,\"type\":\"pie\"}]},\"layout\":{\"autotypenumbers\":\"strict\",\"colorway\":[\"#636efa\",\"#EF553B\",\"#00cc96\",\"#ab63fa\",\"#FFA15A\",\"#19d3f3\",\"#FF6692\",\"#B6E880\",\"#FF97FF\",\"#FECB52\"],\"font\":{\"color\":\"#2a3f5f\"},\"hovermode\":\"closest\",\"hoverlabel\":{\"align\":\"left\"},\"paper_bgcolor\":\"white\",\"plot_bgcolor\":\"#E5ECF6\",\"polar\":{\"bgcolor\":\"#E5ECF6\",\"angularaxis\":{\"gridcolor\":\"white\",\"linecolor\":\"white\",\"ticks\":\"\"},\"radialaxis\":{\"gridcolor\":\"white\",\"linecolor\":\"white\",\"ticks\":\"\"}},\"ternary\":{\"bgcolor\":\"#E5ECF6\",\"aaxis\":{\"gridcolor\":\"white\",\"linecolor\":\"white\",\"ticks\":\"\"},\"baxis\":{\"gridcolor\":\"white\",\"linecolor\":\"white\",\"ticks\":\"\"},\"caxis\":{\"gridcolor\":\"white\",\"linecolor\":\"white\",\"ticks\":\"\"}},\"coloraxis\":{\"colorbar\":{\"outlinewidth\":0,\"ticks\":\"\"}},\"colorscale\":{\"sequential\":[[0.0,\"#0d0887\"],[0.1111111111111111,\"#46039f\"],[0.2222222222222222,\"#7201a8\"],[0.3333333333333333,\"#9c179e\"],[0.4444444444444444,\"#bd3786\"],[0.5555555555555556,\"#d8576b\"],[0.6666666666666666,\"#ed7953\"],[0.7777777777777778,\"#fb9f3a\"],[0.8888888888888888,\"#fdca26\"],[1.0,\"#f0f921\"]],\"sequentialminus\":[[0.0,\"#0d0887\"],[0.1111111111111111,\"#46039f\"],[0.2222222222222222,\"#7201a8\"],[0.3333333333333333,\"#9c179e\"],[0.4444444444444444,\"#bd3786\"],[0.5555555555555556,\"#d8576b\"],[0.6666666666666666,\"#ed7953\"],[0.7777777777777778,\"#fb9f3a\"],[0.8888888888888888,\"#fdca26\"],[1.0,\"#f0f921\"]],\"diverging\":[[0,\"#8e0152\"],[0.1,\"#c51b7d\"],[0.2,\"#de77ae\"],[0.3,\"#f1b6da\"],[0.4,\"#fde0ef\"],[0.5,\"#f7f7f7\"],[0.6,\"#e6f5d0\"],[0.7,\"#b8e186\"],[0.8,\"#7fbc41\"],[0.9,\"#4d9221\"],[1,\"#276419\"]]},\"xaxis\":{\"gridcolor\":\"white\",\"linecolor\":\"white\",\"ticks\":\"\",\"title\":{\"standoff\":15},\"zerolinecolor\":\"white\",\"automargin\":true,\"zerolinewidth\":2},\"yaxis\":{\"gridcolor\":\"white\",\"linecolor\":\"white\",\"ticks\":\"\",\"title\":{\"standoff\":15},\"zerolinecolor\":\"white\",\"automargin\":true,\"zerolinewidth\":2},\"scene\":{\"xaxis\":{\"backgroundcolor\":\"#E5ECF6\",\"gridcolor\":\"white\",\"linecolor\":\"white\",\"showbackground\":true,\"ticks\":\"\",\"zerolinecolor\":\"white\",\"gridwidth\":2},\"yaxis\":{\"backgroundcolor\":\"#E5ECF6\",\"gridcolor\":\"white\",\"linecolor\":\"white\",\"showbackground\":true,\"ticks\":\"\",\"zerolinecolor\":\"white\",\"gridwidth\":2},\"zaxis\":{\"backgroundcolor\":\"#E5ECF6\",\"gridcolor\":\"white\",\"linecolor\":\"white\",\"showbackground\":true,\"ticks\":\"\",\"zerolinecolor\":\"white\",\"gridwidth\":2}},\"shapedefaults\":{\"line\":{\"color\":\"#2a3f5f\"}},\"annotationdefaults\":{\"arrowcolor\":\"#2a3f5f\",\"arrowhead\":0,\"arrowwidth\":1},\"geo\":{\"bgcolor\":\"white\",\"landcolor\":\"#E5ECF6\",\"subunitcolor\":\"white\",\"showland\":true,\"showlakes\":true,\"lakecolor\":\"white\"},\"title\":{\"x\":0.05},\"mapbox\":{\"style\":\"light\"}}},\"xaxis\":{\"anchor\":\"y\",\"domain\":[0.0,1.0],\"title\":{\"text\":\"Continent\"},\"categoryorder\":\"array\",\"categoryarray\":[\"Asia\",\"Europe\",\"North America\",\"South America\"]},\"yaxis\":{\"anchor\":\"x\",\"domain\":[0.0,1.0],\"title\":{\"text\":\"TotalValue\"}},\"legend\":{\"title\":{\"text\":\"Continent\"},\"tracegroupgap\":0},\"title\":{\"text\":\"Total Sales by Region\"}},                        {\"responsive\": true}                    ).then(function(){\n",
       "                            \n",
       "var gd = document.getElementById('0461a97d-69c2-4bd2-8dad-79511f6a4052');\n",
       "var x = new MutationObserver(function (mutations, observer) {{\n",
       "        var display = window.getComputedStyle(gd).display;\n",
       "        if (!display || display === 'none') {{\n",
       "            console.log([gd, 'removed!']);\n",
       "            Plotly.purge(gd);\n",
       "            observer.disconnect();\n",
       "        }}\n",
       "}});\n",
       "\n",
       "// Listen for the removal of the full notebook cells\n",
       "var notebookContainer = gd.closest('#notebook-container');\n",
       "if (notebookContainer) {{\n",
       "    x.observe(notebookContainer, {childList: true});\n",
       "}}\n",
       "\n",
       "// Listen for the clearing of the current output cell\n",
       "var outputEl = gd.closest('.output');\n",
       "if (outputEl) {{\n",
       "    x.observe(outputEl, {childList: true});\n",
       "}}\n",
       "\n",
       "                        })                };                });            </script>        </div>"
      ]
     },
     "metadata": {},
     "output_type": "display_data"
    }
   ],
   "source": [
    "fig = px.area(region_sales, \n",
    "              x='Region', \n",
    "              y='TotalValue', \n",
    "              title=\"Total Sales by Region\", \n",
    "              color='Region', \n",
    "              color_discrete_sequence=px.colors.sequential.Tealgrn,  \n",
    "              labels={'Total Sales by Region': 'Total Sales by Region', 'Region': 'Continent'},\n",
    "              hover_data={'TotalValue': True, 'Region': True})\n",
    "\n",
    "fig.show()"
   ]
  },
  {
   "cell_type": "markdown",
   "id": "36aa6f19",
   "metadata": {},
   "source": [
    "### Category-wise Sales Distribution"
   ]
  },
  {
   "cell_type": "code",
   "execution_count": 162,
   "id": "d30f5e58",
   "metadata": {},
   "outputs": [
    {
     "data": {
      "application/vnd.plotly.v1+json": {
       "config": {
        "plotlyServerURL": "https://plot.ly"
       },
       "data": [
        {
         "alignmentgroup": "True",
         "hovertemplate": "Product Category=%{y}<br>Sales Value=%{text}<extra></extra>",
         "legendgroup": "Books",
         "marker": {
          "color": "rgb(75, 41, 145)",
          "pattern": {
           "shape": ""
          }
         },
         "name": "Books",
         "offsetgroup": "Books",
         "orientation": "h",
         "showlegend": true,
         "text": [
          192147.47
         ],
         "textposition": "inside",
         "texttemplate": "%{text:.2f}",
         "type": "bar",
         "x": [
          192147.47
         ],
         "xaxis": "x",
         "y": [
          "Books"
         ],
         "yaxis": "y"
        },
        {
         "alignmentgroup": "True",
         "hovertemplate": "Product Category=%{y}<br>Sales Value=%{text}<extra></extra>",
         "legendgroup": "Electronics",
         "marker": {
          "color": "rgb(135, 44, 162)",
          "pattern": {
           "shape": ""
          }
         },
         "name": "Electronics",
         "offsetgroup": "Electronics",
         "orientation": "h",
         "showlegend": true,
         "text": [
          180783.5
         ],
         "textposition": "inside",
         "texttemplate": "%{text:.2f}",
         "type": "bar",
         "x": [
          180783.5
         ],
         "xaxis": "x",
         "y": [
          "Electronics"
         ],
         "yaxis": "y"
        },
        {
         "alignmentgroup": "True",
         "hovertemplate": "Product Category=%{y}<br>Sales Value=%{text}<extra></extra>",
         "legendgroup": "Clothing",
         "marker": {
          "color": "rgb(192, 54, 157)",
          "pattern": {
           "shape": ""
          }
         },
         "name": "Clothing",
         "offsetgroup": "Clothing",
         "orientation": "h",
         "showlegend": true,
         "text": [
          166170.66
         ],
         "textposition": "inside",
         "texttemplate": "%{text:.2f}",
         "type": "bar",
         "x": [
          166170.66
         ],
         "xaxis": "x",
         "y": [
          "Clothing"
         ],
         "yaxis": "y"
        },
        {
         "alignmentgroup": "True",
         "hovertemplate": "Product Category=%{y}<br>Sales Value=%{text}<extra></extra>",
         "legendgroup": "Home Decor",
         "marker": {
          "color": "rgb(234, 79, 136)",
          "pattern": {
           "shape": ""
          }
         },
         "name": "Home Decor",
         "offsetgroup": "Home Decor",
         "orientation": "h",
         "showlegend": true,
         "text": [
          150893.93
         ],
         "textposition": "inside",
         "texttemplate": "%{text:.2f}",
         "type": "bar",
         "x": [
          150893.93
         ],
         "xaxis": "x",
         "y": [
          "Home Decor"
         ],
         "yaxis": "y"
        }
       ],
       "layout": {
        "barmode": "stack",
        "legend": {
         "title": {
          "text": "Product Category"
         },
         "tracegroupgap": 0
        },
        "plot_bgcolor": "rgba(0,0,0,0)",
        "showlegend": true,
        "template": {
         "data": {
          "bar": [
           {
            "error_x": {
             "color": "#2a3f5f"
            },
            "error_y": {
             "color": "#2a3f5f"
            },
            "marker": {
             "line": {
              "color": "#E5ECF6",
              "width": 0.5
             },
             "pattern": {
              "fillmode": "overlay",
              "size": 10,
              "solidity": 0.2
             }
            },
            "type": "bar"
           }
          ],
          "barpolar": [
           {
            "marker": {
             "line": {
              "color": "#E5ECF6",
              "width": 0.5
             },
             "pattern": {
              "fillmode": "overlay",
              "size": 10,
              "solidity": 0.2
             }
            },
            "type": "barpolar"
           }
          ],
          "carpet": [
           {
            "aaxis": {
             "endlinecolor": "#2a3f5f",
             "gridcolor": "white",
             "linecolor": "white",
             "minorgridcolor": "white",
             "startlinecolor": "#2a3f5f"
            },
            "baxis": {
             "endlinecolor": "#2a3f5f",
             "gridcolor": "white",
             "linecolor": "white",
             "minorgridcolor": "white",
             "startlinecolor": "#2a3f5f"
            },
            "type": "carpet"
           }
          ],
          "choropleth": [
           {
            "colorbar": {
             "outlinewidth": 0,
             "ticks": ""
            },
            "type": "choropleth"
           }
          ],
          "contour": [
           {
            "colorbar": {
             "outlinewidth": 0,
             "ticks": ""
            },
            "colorscale": [
             [
              0,
              "#0d0887"
             ],
             [
              0.1111111111111111,
              "#46039f"
             ],
             [
              0.2222222222222222,
              "#7201a8"
             ],
             [
              0.3333333333333333,
              "#9c179e"
             ],
             [
              0.4444444444444444,
              "#bd3786"
             ],
             [
              0.5555555555555556,
              "#d8576b"
             ],
             [
              0.6666666666666666,
              "#ed7953"
             ],
             [
              0.7777777777777778,
              "#fb9f3a"
             ],
             [
              0.8888888888888888,
              "#fdca26"
             ],
             [
              1,
              "#f0f921"
             ]
            ],
            "type": "contour"
           }
          ],
          "contourcarpet": [
           {
            "colorbar": {
             "outlinewidth": 0,
             "ticks": ""
            },
            "type": "contourcarpet"
           }
          ],
          "heatmap": [
           {
            "colorbar": {
             "outlinewidth": 0,
             "ticks": ""
            },
            "colorscale": [
             [
              0,
              "#0d0887"
             ],
             [
              0.1111111111111111,
              "#46039f"
             ],
             [
              0.2222222222222222,
              "#7201a8"
             ],
             [
              0.3333333333333333,
              "#9c179e"
             ],
             [
              0.4444444444444444,
              "#bd3786"
             ],
             [
              0.5555555555555556,
              "#d8576b"
             ],
             [
              0.6666666666666666,
              "#ed7953"
             ],
             [
              0.7777777777777778,
              "#fb9f3a"
             ],
             [
              0.8888888888888888,
              "#fdca26"
             ],
             [
              1,
              "#f0f921"
             ]
            ],
            "type": "heatmap"
           }
          ],
          "heatmapgl": [
           {
            "colorbar": {
             "outlinewidth": 0,
             "ticks": ""
            },
            "colorscale": [
             [
              0,
              "#0d0887"
             ],
             [
              0.1111111111111111,
              "#46039f"
             ],
             [
              0.2222222222222222,
              "#7201a8"
             ],
             [
              0.3333333333333333,
              "#9c179e"
             ],
             [
              0.4444444444444444,
              "#bd3786"
             ],
             [
              0.5555555555555556,
              "#d8576b"
             ],
             [
              0.6666666666666666,
              "#ed7953"
             ],
             [
              0.7777777777777778,
              "#fb9f3a"
             ],
             [
              0.8888888888888888,
              "#fdca26"
             ],
             [
              1,
              "#f0f921"
             ]
            ],
            "type": "heatmapgl"
           }
          ],
          "histogram": [
           {
            "marker": {
             "pattern": {
              "fillmode": "overlay",
              "size": 10,
              "solidity": 0.2
             }
            },
            "type": "histogram"
           }
          ],
          "histogram2d": [
           {
            "colorbar": {
             "outlinewidth": 0,
             "ticks": ""
            },
            "colorscale": [
             [
              0,
              "#0d0887"
             ],
             [
              0.1111111111111111,
              "#46039f"
             ],
             [
              0.2222222222222222,
              "#7201a8"
             ],
             [
              0.3333333333333333,
              "#9c179e"
             ],
             [
              0.4444444444444444,
              "#bd3786"
             ],
             [
              0.5555555555555556,
              "#d8576b"
             ],
             [
              0.6666666666666666,
              "#ed7953"
             ],
             [
              0.7777777777777778,
              "#fb9f3a"
             ],
             [
              0.8888888888888888,
              "#fdca26"
             ],
             [
              1,
              "#f0f921"
             ]
            ],
            "type": "histogram2d"
           }
          ],
          "histogram2dcontour": [
           {
            "colorbar": {
             "outlinewidth": 0,
             "ticks": ""
            },
            "colorscale": [
             [
              0,
              "#0d0887"
             ],
             [
              0.1111111111111111,
              "#46039f"
             ],
             [
              0.2222222222222222,
              "#7201a8"
             ],
             [
              0.3333333333333333,
              "#9c179e"
             ],
             [
              0.4444444444444444,
              "#bd3786"
             ],
             [
              0.5555555555555556,
              "#d8576b"
             ],
             [
              0.6666666666666666,
              "#ed7953"
             ],
             [
              0.7777777777777778,
              "#fb9f3a"
             ],
             [
              0.8888888888888888,
              "#fdca26"
             ],
             [
              1,
              "#f0f921"
             ]
            ],
            "type": "histogram2dcontour"
           }
          ],
          "mesh3d": [
           {
            "colorbar": {
             "outlinewidth": 0,
             "ticks": ""
            },
            "type": "mesh3d"
           }
          ],
          "parcoords": [
           {
            "line": {
             "colorbar": {
              "outlinewidth": 0,
              "ticks": ""
             }
            },
            "type": "parcoords"
           }
          ],
          "pie": [
           {
            "automargin": true,
            "type": "pie"
           }
          ],
          "scatter": [
           {
            "fillpattern": {
             "fillmode": "overlay",
             "size": 10,
             "solidity": 0.2
            },
            "type": "scatter"
           }
          ],
          "scatter3d": [
           {
            "line": {
             "colorbar": {
              "outlinewidth": 0,
              "ticks": ""
             }
            },
            "marker": {
             "colorbar": {
              "outlinewidth": 0,
              "ticks": ""
             }
            },
            "type": "scatter3d"
           }
          ],
          "scattercarpet": [
           {
            "marker": {
             "colorbar": {
              "outlinewidth": 0,
              "ticks": ""
             }
            },
            "type": "scattercarpet"
           }
          ],
          "scattergeo": [
           {
            "marker": {
             "colorbar": {
              "outlinewidth": 0,
              "ticks": ""
             }
            },
            "type": "scattergeo"
           }
          ],
          "scattergl": [
           {
            "marker": {
             "colorbar": {
              "outlinewidth": 0,
              "ticks": ""
             }
            },
            "type": "scattergl"
           }
          ],
          "scattermapbox": [
           {
            "marker": {
             "colorbar": {
              "outlinewidth": 0,
              "ticks": ""
             }
            },
            "type": "scattermapbox"
           }
          ],
          "scatterpolar": [
           {
            "marker": {
             "colorbar": {
              "outlinewidth": 0,
              "ticks": ""
             }
            },
            "type": "scatterpolar"
           }
          ],
          "scatterpolargl": [
           {
            "marker": {
             "colorbar": {
              "outlinewidth": 0,
              "ticks": ""
             }
            },
            "type": "scatterpolargl"
           }
          ],
          "scatterternary": [
           {
            "marker": {
             "colorbar": {
              "outlinewidth": 0,
              "ticks": ""
             }
            },
            "type": "scatterternary"
           }
          ],
          "surface": [
           {
            "colorbar": {
             "outlinewidth": 0,
             "ticks": ""
            },
            "colorscale": [
             [
              0,
              "#0d0887"
             ],
             [
              0.1111111111111111,
              "#46039f"
             ],
             [
              0.2222222222222222,
              "#7201a8"
             ],
             [
              0.3333333333333333,
              "#9c179e"
             ],
             [
              0.4444444444444444,
              "#bd3786"
             ],
             [
              0.5555555555555556,
              "#d8576b"
             ],
             [
              0.6666666666666666,
              "#ed7953"
             ],
             [
              0.7777777777777778,
              "#fb9f3a"
             ],
             [
              0.8888888888888888,
              "#fdca26"
             ],
             [
              1,
              "#f0f921"
             ]
            ],
            "type": "surface"
           }
          ],
          "table": [
           {
            "cells": {
             "fill": {
              "color": "#EBF0F8"
             },
             "line": {
              "color": "white"
             }
            },
            "header": {
             "fill": {
              "color": "#C8D4E3"
             },
             "line": {
              "color": "white"
             }
            },
            "type": "table"
           }
          ]
         },
         "layout": {
          "annotationdefaults": {
           "arrowcolor": "#2a3f5f",
           "arrowhead": 0,
           "arrowwidth": 1
          },
          "autotypenumbers": "strict",
          "coloraxis": {
           "colorbar": {
            "outlinewidth": 0,
            "ticks": ""
           }
          },
          "colorscale": {
           "diverging": [
            [
             0,
             "#8e0152"
            ],
            [
             0.1,
             "#c51b7d"
            ],
            [
             0.2,
             "#de77ae"
            ],
            [
             0.3,
             "#f1b6da"
            ],
            [
             0.4,
             "#fde0ef"
            ],
            [
             0.5,
             "#f7f7f7"
            ],
            [
             0.6,
             "#e6f5d0"
            ],
            [
             0.7,
             "#b8e186"
            ],
            [
             0.8,
             "#7fbc41"
            ],
            [
             0.9,
             "#4d9221"
            ],
            [
             1,
             "#276419"
            ]
           ],
           "sequential": [
            [
             0,
             "#0d0887"
            ],
            [
             0.1111111111111111,
             "#46039f"
            ],
            [
             0.2222222222222222,
             "#7201a8"
            ],
            [
             0.3333333333333333,
             "#9c179e"
            ],
            [
             0.4444444444444444,
             "#bd3786"
            ],
            [
             0.5555555555555556,
             "#d8576b"
            ],
            [
             0.6666666666666666,
             "#ed7953"
            ],
            [
             0.7777777777777778,
             "#fb9f3a"
            ],
            [
             0.8888888888888888,
             "#fdca26"
            ],
            [
             1,
             "#f0f921"
            ]
           ],
           "sequentialminus": [
            [
             0,
             "#0d0887"
            ],
            [
             0.1111111111111111,
             "#46039f"
            ],
            [
             0.2222222222222222,
             "#7201a8"
            ],
            [
             0.3333333333333333,
             "#9c179e"
            ],
            [
             0.4444444444444444,
             "#bd3786"
            ],
            [
             0.5555555555555556,
             "#d8576b"
            ],
            [
             0.6666666666666666,
             "#ed7953"
            ],
            [
             0.7777777777777778,
             "#fb9f3a"
            ],
            [
             0.8888888888888888,
             "#fdca26"
            ],
            [
             1,
             "#f0f921"
            ]
           ]
          },
          "colorway": [
           "#636efa",
           "#EF553B",
           "#00cc96",
           "#ab63fa",
           "#FFA15A",
           "#19d3f3",
           "#FF6692",
           "#B6E880",
           "#FF97FF",
           "#FECB52"
          ],
          "font": {
           "color": "#2a3f5f"
          },
          "geo": {
           "bgcolor": "white",
           "lakecolor": "white",
           "landcolor": "#E5ECF6",
           "showlakes": true,
           "showland": true,
           "subunitcolor": "white"
          },
          "hoverlabel": {
           "align": "left"
          },
          "hovermode": "closest",
          "mapbox": {
           "style": "light"
          },
          "paper_bgcolor": "white",
          "plot_bgcolor": "#E5ECF6",
          "polar": {
           "angularaxis": {
            "gridcolor": "white",
            "linecolor": "white",
            "ticks": ""
           },
           "bgcolor": "#E5ECF6",
           "radialaxis": {
            "gridcolor": "white",
            "linecolor": "white",
            "ticks": ""
           }
          },
          "scene": {
           "xaxis": {
            "backgroundcolor": "#E5ECF6",
            "gridcolor": "white",
            "gridwidth": 2,
            "linecolor": "white",
            "showbackground": true,
            "ticks": "",
            "zerolinecolor": "white"
           },
           "yaxis": {
            "backgroundcolor": "#E5ECF6",
            "gridcolor": "white",
            "gridwidth": 2,
            "linecolor": "white",
            "showbackground": true,
            "ticks": "",
            "zerolinecolor": "white"
           },
           "zaxis": {
            "backgroundcolor": "#E5ECF6",
            "gridcolor": "white",
            "gridwidth": 2,
            "linecolor": "white",
            "showbackground": true,
            "ticks": "",
            "zerolinecolor": "white"
           }
          },
          "shapedefaults": {
           "line": {
            "color": "#2a3f5f"
           }
          },
          "ternary": {
           "aaxis": {
            "gridcolor": "white",
            "linecolor": "white",
            "ticks": ""
           },
           "baxis": {
            "gridcolor": "white",
            "linecolor": "white",
            "ticks": ""
           },
           "bgcolor": "#E5ECF6",
           "caxis": {
            "gridcolor": "white",
            "linecolor": "white",
            "ticks": ""
           }
          },
          "title": {
           "x": 0.05
          },
          "xaxis": {
           "automargin": true,
           "gridcolor": "white",
           "linecolor": "white",
           "ticks": "",
           "title": {
            "standoff": 15
           },
           "zerolinecolor": "white",
           "zerolinewidth": 2
          },
          "yaxis": {
           "automargin": true,
           "gridcolor": "white",
           "linecolor": "white",
           "ticks": "",
           "title": {
            "standoff": 15
           },
           "zerolinecolor": "white",
           "zerolinewidth": 2
          }
         }
        },
        "title": {
         "font": {
          "size": 24
         },
         "text": "Category-Wise Sales Distribution",
         "x": 0.5
        },
        "xaxis": {
         "anchor": "y",
         "domain": [
          0,
          1
         ],
         "title": {
          "text": "Total Sales Value"
         }
        },
        "yaxis": {
         "anchor": "x",
         "categoryarray": [
          "Home Decor",
          "Clothing",
          "Electronics",
          "Books"
         ],
         "categoryorder": "array",
         "domain": [
          0,
          1
         ],
         "title": {
          "text": "Product Category"
         }
        }
       }
      },
      "text/html": [
       "<div>                            <div id=\"b21499c0-1e62-4eab-86dc-ceca74eb7324\" class=\"plotly-graph-div\" style=\"height:525px; width:100%;\"></div>            <script type=\"text/javascript\">                require([\"plotly\"], function(Plotly) {                    window.PLOTLYENV=window.PLOTLYENV || {};                                    if (document.getElementById(\"b21499c0-1e62-4eab-86dc-ceca74eb7324\")) {                    Plotly.newPlot(                        \"b21499c0-1e62-4eab-86dc-ceca74eb7324\",                        [{\"alignmentgroup\":\"True\",\"hovertemplate\":\"Product Category=%{y}<br>Sales Value=%{text}<extra></extra>\",\"legendgroup\":\"Books\",\"marker\":{\"color\":\"rgb(75, 41, 145)\",\"pattern\":{\"shape\":\"\"}},\"name\":\"Books\",\"offsetgroup\":\"Books\",\"orientation\":\"h\",\"showlegend\":true,\"text\":[192147.47],\"textposition\":\"inside\",\"x\":[192147.47],\"xaxis\":\"x\",\"y\":[\"Books\"],\"yaxis\":\"y\",\"type\":\"bar\",\"texttemplate\":\"%{text:.2f}\"},{\"alignmentgroup\":\"True\",\"hovertemplate\":\"Product Category=%{y}<br>Sales Value=%{text}<extra></extra>\",\"legendgroup\":\"Electronics\",\"marker\":{\"color\":\"rgb(135, 44, 162)\",\"pattern\":{\"shape\":\"\"}},\"name\":\"Electronics\",\"offsetgroup\":\"Electronics\",\"orientation\":\"h\",\"showlegend\":true,\"text\":[180783.5],\"textposition\":\"inside\",\"x\":[180783.5],\"xaxis\":\"x\",\"y\":[\"Electronics\"],\"yaxis\":\"y\",\"type\":\"bar\",\"texttemplate\":\"%{text:.2f}\"},{\"alignmentgroup\":\"True\",\"hovertemplate\":\"Product Category=%{y}<br>Sales Value=%{text}<extra></extra>\",\"legendgroup\":\"Clothing\",\"marker\":{\"color\":\"rgb(192, 54, 157)\",\"pattern\":{\"shape\":\"\"}},\"name\":\"Clothing\",\"offsetgroup\":\"Clothing\",\"orientation\":\"h\",\"showlegend\":true,\"text\":[166170.66],\"textposition\":\"inside\",\"x\":[166170.66],\"xaxis\":\"x\",\"y\":[\"Clothing\"],\"yaxis\":\"y\",\"type\":\"bar\",\"texttemplate\":\"%{text:.2f}\"},{\"alignmentgroup\":\"True\",\"hovertemplate\":\"Product Category=%{y}<br>Sales Value=%{text}<extra></extra>\",\"legendgroup\":\"Home Decor\",\"marker\":{\"color\":\"rgb(234, 79, 136)\",\"pattern\":{\"shape\":\"\"}},\"name\":\"Home Decor\",\"offsetgroup\":\"Home Decor\",\"orientation\":\"h\",\"showlegend\":true,\"text\":[150893.93],\"textposition\":\"inside\",\"x\":[150893.93],\"xaxis\":\"x\",\"y\":[\"Home Decor\"],\"yaxis\":\"y\",\"type\":\"bar\",\"texttemplate\":\"%{text:.2f}\"}],                        {\"template\":{\"data\":{\"histogram2dcontour\":[{\"type\":\"histogram2dcontour\",\"colorbar\":{\"outlinewidth\":0,\"ticks\":\"\"},\"colorscale\":[[0.0,\"#0d0887\"],[0.1111111111111111,\"#46039f\"],[0.2222222222222222,\"#7201a8\"],[0.3333333333333333,\"#9c179e\"],[0.4444444444444444,\"#bd3786\"],[0.5555555555555556,\"#d8576b\"],[0.6666666666666666,\"#ed7953\"],[0.7777777777777778,\"#fb9f3a\"],[0.8888888888888888,\"#fdca26\"],[1.0,\"#f0f921\"]]}],\"choropleth\":[{\"type\":\"choropleth\",\"colorbar\":{\"outlinewidth\":0,\"ticks\":\"\"}}],\"histogram2d\":[{\"type\":\"histogram2d\",\"colorbar\":{\"outlinewidth\":0,\"ticks\":\"\"},\"colorscale\":[[0.0,\"#0d0887\"],[0.1111111111111111,\"#46039f\"],[0.2222222222222222,\"#7201a8\"],[0.3333333333333333,\"#9c179e\"],[0.4444444444444444,\"#bd3786\"],[0.5555555555555556,\"#d8576b\"],[0.6666666666666666,\"#ed7953\"],[0.7777777777777778,\"#fb9f3a\"],[0.8888888888888888,\"#fdca26\"],[1.0,\"#f0f921\"]]}],\"heatmap\":[{\"type\":\"heatmap\",\"colorbar\":{\"outlinewidth\":0,\"ticks\":\"\"},\"colorscale\":[[0.0,\"#0d0887\"],[0.1111111111111111,\"#46039f\"],[0.2222222222222222,\"#7201a8\"],[0.3333333333333333,\"#9c179e\"],[0.4444444444444444,\"#bd3786\"],[0.5555555555555556,\"#d8576b\"],[0.6666666666666666,\"#ed7953\"],[0.7777777777777778,\"#fb9f3a\"],[0.8888888888888888,\"#fdca26\"],[1.0,\"#f0f921\"]]}],\"heatmapgl\":[{\"type\":\"heatmapgl\",\"colorbar\":{\"outlinewidth\":0,\"ticks\":\"\"},\"colorscale\":[[0.0,\"#0d0887\"],[0.1111111111111111,\"#46039f\"],[0.2222222222222222,\"#7201a8\"],[0.3333333333333333,\"#9c179e\"],[0.4444444444444444,\"#bd3786\"],[0.5555555555555556,\"#d8576b\"],[0.6666666666666666,\"#ed7953\"],[0.7777777777777778,\"#fb9f3a\"],[0.8888888888888888,\"#fdca26\"],[1.0,\"#f0f921\"]]}],\"contourcarpet\":[{\"type\":\"contourcarpet\",\"colorbar\":{\"outlinewidth\":0,\"ticks\":\"\"}}],\"contour\":[{\"type\":\"contour\",\"colorbar\":{\"outlinewidth\":0,\"ticks\":\"\"},\"colorscale\":[[0.0,\"#0d0887\"],[0.1111111111111111,\"#46039f\"],[0.2222222222222222,\"#7201a8\"],[0.3333333333333333,\"#9c179e\"],[0.4444444444444444,\"#bd3786\"],[0.5555555555555556,\"#d8576b\"],[0.6666666666666666,\"#ed7953\"],[0.7777777777777778,\"#fb9f3a\"],[0.8888888888888888,\"#fdca26\"],[1.0,\"#f0f921\"]]}],\"surface\":[{\"type\":\"surface\",\"colorbar\":{\"outlinewidth\":0,\"ticks\":\"\"},\"colorscale\":[[0.0,\"#0d0887\"],[0.1111111111111111,\"#46039f\"],[0.2222222222222222,\"#7201a8\"],[0.3333333333333333,\"#9c179e\"],[0.4444444444444444,\"#bd3786\"],[0.5555555555555556,\"#d8576b\"],[0.6666666666666666,\"#ed7953\"],[0.7777777777777778,\"#fb9f3a\"],[0.8888888888888888,\"#fdca26\"],[1.0,\"#f0f921\"]]}],\"mesh3d\":[{\"type\":\"mesh3d\",\"colorbar\":{\"outlinewidth\":0,\"ticks\":\"\"}}],\"scatter\":[{\"fillpattern\":{\"fillmode\":\"overlay\",\"size\":10,\"solidity\":0.2},\"type\":\"scatter\"}],\"parcoords\":[{\"type\":\"parcoords\",\"line\":{\"colorbar\":{\"outlinewidth\":0,\"ticks\":\"\"}}}],\"scatterpolargl\":[{\"type\":\"scatterpolargl\",\"marker\":{\"colorbar\":{\"outlinewidth\":0,\"ticks\":\"\"}}}],\"bar\":[{\"error_x\":{\"color\":\"#2a3f5f\"},\"error_y\":{\"color\":\"#2a3f5f\"},\"marker\":{\"line\":{\"color\":\"#E5ECF6\",\"width\":0.5},\"pattern\":{\"fillmode\":\"overlay\",\"size\":10,\"solidity\":0.2}},\"type\":\"bar\"}],\"scattergeo\":[{\"type\":\"scattergeo\",\"marker\":{\"colorbar\":{\"outlinewidth\":0,\"ticks\":\"\"}}}],\"scatterpolar\":[{\"type\":\"scatterpolar\",\"marker\":{\"colorbar\":{\"outlinewidth\":0,\"ticks\":\"\"}}}],\"histogram\":[{\"marker\":{\"pattern\":{\"fillmode\":\"overlay\",\"size\":10,\"solidity\":0.2}},\"type\":\"histogram\"}],\"scattergl\":[{\"type\":\"scattergl\",\"marker\":{\"colorbar\":{\"outlinewidth\":0,\"ticks\":\"\"}}}],\"scatter3d\":[{\"type\":\"scatter3d\",\"line\":{\"colorbar\":{\"outlinewidth\":0,\"ticks\":\"\"}},\"marker\":{\"colorbar\":{\"outlinewidth\":0,\"ticks\":\"\"}}}],\"scattermapbox\":[{\"type\":\"scattermapbox\",\"marker\":{\"colorbar\":{\"outlinewidth\":0,\"ticks\":\"\"}}}],\"scatterternary\":[{\"type\":\"scatterternary\",\"marker\":{\"colorbar\":{\"outlinewidth\":0,\"ticks\":\"\"}}}],\"scattercarpet\":[{\"type\":\"scattercarpet\",\"marker\":{\"colorbar\":{\"outlinewidth\":0,\"ticks\":\"\"}}}],\"carpet\":[{\"aaxis\":{\"endlinecolor\":\"#2a3f5f\",\"gridcolor\":\"white\",\"linecolor\":\"white\",\"minorgridcolor\":\"white\",\"startlinecolor\":\"#2a3f5f\"},\"baxis\":{\"endlinecolor\":\"#2a3f5f\",\"gridcolor\":\"white\",\"linecolor\":\"white\",\"minorgridcolor\":\"white\",\"startlinecolor\":\"#2a3f5f\"},\"type\":\"carpet\"}],\"table\":[{\"cells\":{\"fill\":{\"color\":\"#EBF0F8\"},\"line\":{\"color\":\"white\"}},\"header\":{\"fill\":{\"color\":\"#C8D4E3\"},\"line\":{\"color\":\"white\"}},\"type\":\"table\"}],\"barpolar\":[{\"marker\":{\"line\":{\"color\":\"#E5ECF6\",\"width\":0.5},\"pattern\":{\"fillmode\":\"overlay\",\"size\":10,\"solidity\":0.2}},\"type\":\"barpolar\"}],\"pie\":[{\"automargin\":true,\"type\":\"pie\"}]},\"layout\":{\"autotypenumbers\":\"strict\",\"colorway\":[\"#636efa\",\"#EF553B\",\"#00cc96\",\"#ab63fa\",\"#FFA15A\",\"#19d3f3\",\"#FF6692\",\"#B6E880\",\"#FF97FF\",\"#FECB52\"],\"font\":{\"color\":\"#2a3f5f\"},\"hovermode\":\"closest\",\"hoverlabel\":{\"align\":\"left\"},\"paper_bgcolor\":\"white\",\"plot_bgcolor\":\"#E5ECF6\",\"polar\":{\"bgcolor\":\"#E5ECF6\",\"angularaxis\":{\"gridcolor\":\"white\",\"linecolor\":\"white\",\"ticks\":\"\"},\"radialaxis\":{\"gridcolor\":\"white\",\"linecolor\":\"white\",\"ticks\":\"\"}},\"ternary\":{\"bgcolor\":\"#E5ECF6\",\"aaxis\":{\"gridcolor\":\"white\",\"linecolor\":\"white\",\"ticks\":\"\"},\"baxis\":{\"gridcolor\":\"white\",\"linecolor\":\"white\",\"ticks\":\"\"},\"caxis\":{\"gridcolor\":\"white\",\"linecolor\":\"white\",\"ticks\":\"\"}},\"coloraxis\":{\"colorbar\":{\"outlinewidth\":0,\"ticks\":\"\"}},\"colorscale\":{\"sequential\":[[0.0,\"#0d0887\"],[0.1111111111111111,\"#46039f\"],[0.2222222222222222,\"#7201a8\"],[0.3333333333333333,\"#9c179e\"],[0.4444444444444444,\"#bd3786\"],[0.5555555555555556,\"#d8576b\"],[0.6666666666666666,\"#ed7953\"],[0.7777777777777778,\"#fb9f3a\"],[0.8888888888888888,\"#fdca26\"],[1.0,\"#f0f921\"]],\"sequentialminus\":[[0.0,\"#0d0887\"],[0.1111111111111111,\"#46039f\"],[0.2222222222222222,\"#7201a8\"],[0.3333333333333333,\"#9c179e\"],[0.4444444444444444,\"#bd3786\"],[0.5555555555555556,\"#d8576b\"],[0.6666666666666666,\"#ed7953\"],[0.7777777777777778,\"#fb9f3a\"],[0.8888888888888888,\"#fdca26\"],[1.0,\"#f0f921\"]],\"diverging\":[[0,\"#8e0152\"],[0.1,\"#c51b7d\"],[0.2,\"#de77ae\"],[0.3,\"#f1b6da\"],[0.4,\"#fde0ef\"],[0.5,\"#f7f7f7\"],[0.6,\"#e6f5d0\"],[0.7,\"#b8e186\"],[0.8,\"#7fbc41\"],[0.9,\"#4d9221\"],[1,\"#276419\"]]},\"xaxis\":{\"gridcolor\":\"white\",\"linecolor\":\"white\",\"ticks\":\"\",\"title\":{\"standoff\":15},\"zerolinecolor\":\"white\",\"automargin\":true,\"zerolinewidth\":2},\"yaxis\":{\"gridcolor\":\"white\",\"linecolor\":\"white\",\"ticks\":\"\",\"title\":{\"standoff\":15},\"zerolinecolor\":\"white\",\"automargin\":true,\"zerolinewidth\":2},\"scene\":{\"xaxis\":{\"backgroundcolor\":\"#E5ECF6\",\"gridcolor\":\"white\",\"linecolor\":\"white\",\"showbackground\":true,\"ticks\":\"\",\"zerolinecolor\":\"white\",\"gridwidth\":2},\"yaxis\":{\"backgroundcolor\":\"#E5ECF6\",\"gridcolor\":\"white\",\"linecolor\":\"white\",\"showbackground\":true,\"ticks\":\"\",\"zerolinecolor\":\"white\",\"gridwidth\":2},\"zaxis\":{\"backgroundcolor\":\"#E5ECF6\",\"gridcolor\":\"white\",\"linecolor\":\"white\",\"showbackground\":true,\"ticks\":\"\",\"zerolinecolor\":\"white\",\"gridwidth\":2}},\"shapedefaults\":{\"line\":{\"color\":\"#2a3f5f\"}},\"annotationdefaults\":{\"arrowcolor\":\"#2a3f5f\",\"arrowhead\":0,\"arrowwidth\":1},\"geo\":{\"bgcolor\":\"white\",\"landcolor\":\"#E5ECF6\",\"subunitcolor\":\"white\",\"showland\":true,\"showlakes\":true,\"lakecolor\":\"white\"},\"title\":{\"x\":0.05},\"mapbox\":{\"style\":\"light\"}}},\"xaxis\":{\"anchor\":\"y\",\"domain\":[0.0,1.0],\"title\":{\"text\":\"Total Sales Value\"}},\"yaxis\":{\"anchor\":\"x\",\"domain\":[0.0,1.0],\"title\":{\"text\":\"Product Category\"},\"categoryorder\":\"array\",\"categoryarray\":[\"Home Decor\",\"Clothing\",\"Electronics\",\"Books\"]},\"legend\":{\"title\":{\"text\":\"Product Category\"},\"tracegroupgap\":0},\"title\":{\"text\":\"Category-Wise Sales Distribution\",\"font\":{\"size\":24},\"x\":0.5},\"barmode\":\"stack\",\"showlegend\":true,\"plot_bgcolor\":\"rgba(0,0,0,0)\"},                        {\"responsive\": true}                    ).then(function(){\n",
       "                            \n",
       "var gd = document.getElementById('b21499c0-1e62-4eab-86dc-ceca74eb7324');\n",
       "var x = new MutationObserver(function (mutations, observer) {{\n",
       "        var display = window.getComputedStyle(gd).display;\n",
       "        if (!display || display === 'none') {{\n",
       "            console.log([gd, 'removed!']);\n",
       "            Plotly.purge(gd);\n",
       "            observer.disconnect();\n",
       "        }}\n",
       "}});\n",
       "\n",
       "// Listen for the removal of the full notebook cells\n",
       "var notebookContainer = gd.closest('#notebook-container');\n",
       "if (notebookContainer) {{\n",
       "    x.observe(notebookContainer, {childList: true});\n",
       "}}\n",
       "\n",
       "// Listen for the clearing of the current output cell\n",
       "var outputEl = gd.closest('.output');\n",
       "if (outputEl) {{\n",
       "    x.observe(outputEl, {childList: true});\n",
       "}}\n",
       "\n",
       "                        })                };                });            </script>        </div>"
      ]
     },
     "metadata": {},
     "output_type": "display_data"
    }
   ],
   "source": [
    "fig_category_sales = px.bar(\n",
    "    category_sales,\n",
    "    y='Category',  \n",
    "    x='TotalValue',  \n",
    "    title='Category-Wise Sales Distribution',\n",
    "    labels={'TotalValue': 'Sales Value', 'Category': 'Product Category'},\n",
    "    color='Category',  \n",
    "    color_discrete_sequence=px.colors.sequential.Agsunset,  \n",
    "    text='TotalValue',  \n",
    "    barmode='stack'     \n",
    ")\n",
    "\n",
    "fig_category_sales.update_layout(\n",
    "    title_font_size=24,\n",
    "    title_x=0.5,  \n",
    "    xaxis_title='Total Sales Value',\n",
    "    yaxis_title='Product Category',\n",
    "    showlegend=True,  \n",
    "    plot_bgcolor='rgba(0,0,0,0)', \n",
    ")\n",
    "\n",
    "fig_category_sales.update_traces(textposition='inside', texttemplate='%{text:.2f}')\n",
    "\n",
    "fig_category_sales.show()\n"
   ]
  },
  {
   "cell_type": "markdown",
   "id": "c287985c",
   "metadata": {},
   "source": [
    "### Monthly Sales Trend"
   ]
  },
  {
   "cell_type": "code",
   "execution_count": 170,
   "id": "8c44c265",
   "metadata": {},
   "outputs": [
    {
     "data": {
      "application/vnd.plotly.v1+json": {
       "config": {
        "plotlyServerURL": "https://plot.ly"
       },
       "data": [
        {
         "hovertemplate": "Month=%{x}<br>TotalValue=%{y}<extra></extra>",
         "legendgroup": "",
         "line": {
          "color": "#636efa",
          "dash": "solid"
         },
         "marker": {
          "symbol": "circle"
         },
         "mode": "markers+lines",
         "name": "",
         "orientation": "v",
         "showlegend": false,
         "type": "scatter",
         "x": [
          "January",
          "February",
          "March",
          "April",
          "May",
          "June",
          "July",
          "August",
          "September",
          "October",
          "November",
          "December"
         ],
         "xaxis": "x",
         "y": [
          66376.39,
          51459.27,
          47828.729999999996,
          57519.06,
          64527.74,
          48771.18,
          71366.39,
          63436.74,
          70603.75,
          47063.22,
          38224.37,
          62818.72
         ],
         "yaxis": "y"
        }
       ],
       "layout": {
        "legend": {
         "tracegroupgap": 0
        },
        "template": {
         "data": {
          "bar": [
           {
            "error_x": {
             "color": "#2a3f5f"
            },
            "error_y": {
             "color": "#2a3f5f"
            },
            "marker": {
             "line": {
              "color": "#E5ECF6",
              "width": 0.5
             },
             "pattern": {
              "fillmode": "overlay",
              "size": 10,
              "solidity": 0.2
             }
            },
            "type": "bar"
           }
          ],
          "barpolar": [
           {
            "marker": {
             "line": {
              "color": "#E5ECF6",
              "width": 0.5
             },
             "pattern": {
              "fillmode": "overlay",
              "size": 10,
              "solidity": 0.2
             }
            },
            "type": "barpolar"
           }
          ],
          "carpet": [
           {
            "aaxis": {
             "endlinecolor": "#2a3f5f",
             "gridcolor": "white",
             "linecolor": "white",
             "minorgridcolor": "white",
             "startlinecolor": "#2a3f5f"
            },
            "baxis": {
             "endlinecolor": "#2a3f5f",
             "gridcolor": "white",
             "linecolor": "white",
             "minorgridcolor": "white",
             "startlinecolor": "#2a3f5f"
            },
            "type": "carpet"
           }
          ],
          "choropleth": [
           {
            "colorbar": {
             "outlinewidth": 0,
             "ticks": ""
            },
            "type": "choropleth"
           }
          ],
          "contour": [
           {
            "colorbar": {
             "outlinewidth": 0,
             "ticks": ""
            },
            "colorscale": [
             [
              0,
              "#0d0887"
             ],
             [
              0.1111111111111111,
              "#46039f"
             ],
             [
              0.2222222222222222,
              "#7201a8"
             ],
             [
              0.3333333333333333,
              "#9c179e"
             ],
             [
              0.4444444444444444,
              "#bd3786"
             ],
             [
              0.5555555555555556,
              "#d8576b"
             ],
             [
              0.6666666666666666,
              "#ed7953"
             ],
             [
              0.7777777777777778,
              "#fb9f3a"
             ],
             [
              0.8888888888888888,
              "#fdca26"
             ],
             [
              1,
              "#f0f921"
             ]
            ],
            "type": "contour"
           }
          ],
          "contourcarpet": [
           {
            "colorbar": {
             "outlinewidth": 0,
             "ticks": ""
            },
            "type": "contourcarpet"
           }
          ],
          "heatmap": [
           {
            "colorbar": {
             "outlinewidth": 0,
             "ticks": ""
            },
            "colorscale": [
             [
              0,
              "#0d0887"
             ],
             [
              0.1111111111111111,
              "#46039f"
             ],
             [
              0.2222222222222222,
              "#7201a8"
             ],
             [
              0.3333333333333333,
              "#9c179e"
             ],
             [
              0.4444444444444444,
              "#bd3786"
             ],
             [
              0.5555555555555556,
              "#d8576b"
             ],
             [
              0.6666666666666666,
              "#ed7953"
             ],
             [
              0.7777777777777778,
              "#fb9f3a"
             ],
             [
              0.8888888888888888,
              "#fdca26"
             ],
             [
              1,
              "#f0f921"
             ]
            ],
            "type": "heatmap"
           }
          ],
          "heatmapgl": [
           {
            "colorbar": {
             "outlinewidth": 0,
             "ticks": ""
            },
            "colorscale": [
             [
              0,
              "#0d0887"
             ],
             [
              0.1111111111111111,
              "#46039f"
             ],
             [
              0.2222222222222222,
              "#7201a8"
             ],
             [
              0.3333333333333333,
              "#9c179e"
             ],
             [
              0.4444444444444444,
              "#bd3786"
             ],
             [
              0.5555555555555556,
              "#d8576b"
             ],
             [
              0.6666666666666666,
              "#ed7953"
             ],
             [
              0.7777777777777778,
              "#fb9f3a"
             ],
             [
              0.8888888888888888,
              "#fdca26"
             ],
             [
              1,
              "#f0f921"
             ]
            ],
            "type": "heatmapgl"
           }
          ],
          "histogram": [
           {
            "marker": {
             "pattern": {
              "fillmode": "overlay",
              "size": 10,
              "solidity": 0.2
             }
            },
            "type": "histogram"
           }
          ],
          "histogram2d": [
           {
            "colorbar": {
             "outlinewidth": 0,
             "ticks": ""
            },
            "colorscale": [
             [
              0,
              "#0d0887"
             ],
             [
              0.1111111111111111,
              "#46039f"
             ],
             [
              0.2222222222222222,
              "#7201a8"
             ],
             [
              0.3333333333333333,
              "#9c179e"
             ],
             [
              0.4444444444444444,
              "#bd3786"
             ],
             [
              0.5555555555555556,
              "#d8576b"
             ],
             [
              0.6666666666666666,
              "#ed7953"
             ],
             [
              0.7777777777777778,
              "#fb9f3a"
             ],
             [
              0.8888888888888888,
              "#fdca26"
             ],
             [
              1,
              "#f0f921"
             ]
            ],
            "type": "histogram2d"
           }
          ],
          "histogram2dcontour": [
           {
            "colorbar": {
             "outlinewidth": 0,
             "ticks": ""
            },
            "colorscale": [
             [
              0,
              "#0d0887"
             ],
             [
              0.1111111111111111,
              "#46039f"
             ],
             [
              0.2222222222222222,
              "#7201a8"
             ],
             [
              0.3333333333333333,
              "#9c179e"
             ],
             [
              0.4444444444444444,
              "#bd3786"
             ],
             [
              0.5555555555555556,
              "#d8576b"
             ],
             [
              0.6666666666666666,
              "#ed7953"
             ],
             [
              0.7777777777777778,
              "#fb9f3a"
             ],
             [
              0.8888888888888888,
              "#fdca26"
             ],
             [
              1,
              "#f0f921"
             ]
            ],
            "type": "histogram2dcontour"
           }
          ],
          "mesh3d": [
           {
            "colorbar": {
             "outlinewidth": 0,
             "ticks": ""
            },
            "type": "mesh3d"
           }
          ],
          "parcoords": [
           {
            "line": {
             "colorbar": {
              "outlinewidth": 0,
              "ticks": ""
             }
            },
            "type": "parcoords"
           }
          ],
          "pie": [
           {
            "automargin": true,
            "type": "pie"
           }
          ],
          "scatter": [
           {
            "fillpattern": {
             "fillmode": "overlay",
             "size": 10,
             "solidity": 0.2
            },
            "type": "scatter"
           }
          ],
          "scatter3d": [
           {
            "line": {
             "colorbar": {
              "outlinewidth": 0,
              "ticks": ""
             }
            },
            "marker": {
             "colorbar": {
              "outlinewidth": 0,
              "ticks": ""
             }
            },
            "type": "scatter3d"
           }
          ],
          "scattercarpet": [
           {
            "marker": {
             "colorbar": {
              "outlinewidth": 0,
              "ticks": ""
             }
            },
            "type": "scattercarpet"
           }
          ],
          "scattergeo": [
           {
            "marker": {
             "colorbar": {
              "outlinewidth": 0,
              "ticks": ""
             }
            },
            "type": "scattergeo"
           }
          ],
          "scattergl": [
           {
            "marker": {
             "colorbar": {
              "outlinewidth": 0,
              "ticks": ""
             }
            },
            "type": "scattergl"
           }
          ],
          "scattermapbox": [
           {
            "marker": {
             "colorbar": {
              "outlinewidth": 0,
              "ticks": ""
             }
            },
            "type": "scattermapbox"
           }
          ],
          "scatterpolar": [
           {
            "marker": {
             "colorbar": {
              "outlinewidth": 0,
              "ticks": ""
             }
            },
            "type": "scatterpolar"
           }
          ],
          "scatterpolargl": [
           {
            "marker": {
             "colorbar": {
              "outlinewidth": 0,
              "ticks": ""
             }
            },
            "type": "scatterpolargl"
           }
          ],
          "scatterternary": [
           {
            "marker": {
             "colorbar": {
              "outlinewidth": 0,
              "ticks": ""
             }
            },
            "type": "scatterternary"
           }
          ],
          "surface": [
           {
            "colorbar": {
             "outlinewidth": 0,
             "ticks": ""
            },
            "colorscale": [
             [
              0,
              "#0d0887"
             ],
             [
              0.1111111111111111,
              "#46039f"
             ],
             [
              0.2222222222222222,
              "#7201a8"
             ],
             [
              0.3333333333333333,
              "#9c179e"
             ],
             [
              0.4444444444444444,
              "#bd3786"
             ],
             [
              0.5555555555555556,
              "#d8576b"
             ],
             [
              0.6666666666666666,
              "#ed7953"
             ],
             [
              0.7777777777777778,
              "#fb9f3a"
             ],
             [
              0.8888888888888888,
              "#fdca26"
             ],
             [
              1,
              "#f0f921"
             ]
            ],
            "type": "surface"
           }
          ],
          "table": [
           {
            "cells": {
             "fill": {
              "color": "#EBF0F8"
             },
             "line": {
              "color": "white"
             }
            },
            "header": {
             "fill": {
              "color": "#C8D4E3"
             },
             "line": {
              "color": "white"
             }
            },
            "type": "table"
           }
          ]
         },
         "layout": {
          "annotationdefaults": {
           "arrowcolor": "#2a3f5f",
           "arrowhead": 0,
           "arrowwidth": 1
          },
          "autotypenumbers": "strict",
          "coloraxis": {
           "colorbar": {
            "outlinewidth": 0,
            "ticks": ""
           }
          },
          "colorscale": {
           "diverging": [
            [
             0,
             "#8e0152"
            ],
            [
             0.1,
             "#c51b7d"
            ],
            [
             0.2,
             "#de77ae"
            ],
            [
             0.3,
             "#f1b6da"
            ],
            [
             0.4,
             "#fde0ef"
            ],
            [
             0.5,
             "#f7f7f7"
            ],
            [
             0.6,
             "#e6f5d0"
            ],
            [
             0.7,
             "#b8e186"
            ],
            [
             0.8,
             "#7fbc41"
            ],
            [
             0.9,
             "#4d9221"
            ],
            [
             1,
             "#276419"
            ]
           ],
           "sequential": [
            [
             0,
             "#0d0887"
            ],
            [
             0.1111111111111111,
             "#46039f"
            ],
            [
             0.2222222222222222,
             "#7201a8"
            ],
            [
             0.3333333333333333,
             "#9c179e"
            ],
            [
             0.4444444444444444,
             "#bd3786"
            ],
            [
             0.5555555555555556,
             "#d8576b"
            ],
            [
             0.6666666666666666,
             "#ed7953"
            ],
            [
             0.7777777777777778,
             "#fb9f3a"
            ],
            [
             0.8888888888888888,
             "#fdca26"
            ],
            [
             1,
             "#f0f921"
            ]
           ],
           "sequentialminus": [
            [
             0,
             "#0d0887"
            ],
            [
             0.1111111111111111,
             "#46039f"
            ],
            [
             0.2222222222222222,
             "#7201a8"
            ],
            [
             0.3333333333333333,
             "#9c179e"
            ],
            [
             0.4444444444444444,
             "#bd3786"
            ],
            [
             0.5555555555555556,
             "#d8576b"
            ],
            [
             0.6666666666666666,
             "#ed7953"
            ],
            [
             0.7777777777777778,
             "#fb9f3a"
            ],
            [
             0.8888888888888888,
             "#fdca26"
            ],
            [
             1,
             "#f0f921"
            ]
           ]
          },
          "colorway": [
           "#636efa",
           "#EF553B",
           "#00cc96",
           "#ab63fa",
           "#FFA15A",
           "#19d3f3",
           "#FF6692",
           "#B6E880",
           "#FF97FF",
           "#FECB52"
          ],
          "font": {
           "color": "#2a3f5f"
          },
          "geo": {
           "bgcolor": "white",
           "lakecolor": "white",
           "landcolor": "#E5ECF6",
           "showlakes": true,
           "showland": true,
           "subunitcolor": "white"
          },
          "hoverlabel": {
           "align": "left"
          },
          "hovermode": "closest",
          "mapbox": {
           "style": "light"
          },
          "paper_bgcolor": "white",
          "plot_bgcolor": "#E5ECF6",
          "polar": {
           "angularaxis": {
            "gridcolor": "white",
            "linecolor": "white",
            "ticks": ""
           },
           "bgcolor": "#E5ECF6",
           "radialaxis": {
            "gridcolor": "white",
            "linecolor": "white",
            "ticks": ""
           }
          },
          "scene": {
           "xaxis": {
            "backgroundcolor": "#E5ECF6",
            "gridcolor": "white",
            "gridwidth": 2,
            "linecolor": "white",
            "showbackground": true,
            "ticks": "",
            "zerolinecolor": "white"
           },
           "yaxis": {
            "backgroundcolor": "#E5ECF6",
            "gridcolor": "white",
            "gridwidth": 2,
            "linecolor": "white",
            "showbackground": true,
            "ticks": "",
            "zerolinecolor": "white"
           },
           "zaxis": {
            "backgroundcolor": "#E5ECF6",
            "gridcolor": "white",
            "gridwidth": 2,
            "linecolor": "white",
            "showbackground": true,
            "ticks": "",
            "zerolinecolor": "white"
           }
          },
          "shapedefaults": {
           "line": {
            "color": "#2a3f5f"
           }
          },
          "ternary": {
           "aaxis": {
            "gridcolor": "white",
            "linecolor": "white",
            "ticks": ""
           },
           "baxis": {
            "gridcolor": "white",
            "linecolor": "white",
            "ticks": ""
           },
           "bgcolor": "#E5ECF6",
           "caxis": {
            "gridcolor": "white",
            "linecolor": "white",
            "ticks": ""
           }
          },
          "title": {
           "x": 0.05
          },
          "xaxis": {
           "automargin": true,
           "gridcolor": "white",
           "linecolor": "white",
           "ticks": "",
           "title": {
            "standoff": 15
           },
           "zerolinecolor": "white",
           "zerolinewidth": 2
          },
          "yaxis": {
           "automargin": true,
           "gridcolor": "white",
           "linecolor": "white",
           "ticks": "",
           "title": {
            "standoff": 15
           },
           "zerolinecolor": "white",
           "zerolinewidth": 2
          }
         }
        },
        "title": {
         "text": "Monthly Sales Trend"
        },
        "xaxis": {
         "anchor": "y",
         "domain": [
          0,
          1
         ],
         "title": {
          "text": "Month"
         }
        },
        "yaxis": {
         "anchor": "x",
         "domain": [
          0,
          1
         ],
         "title": {
          "text": "TotalValue"
         }
        }
       }
      },
      "text/html": [
       "<div>                            <div id=\"f7282b52-1925-4f01-8244-6af490464b27\" class=\"plotly-graph-div\" style=\"height:525px; width:100%;\"></div>            <script type=\"text/javascript\">                require([\"plotly\"], function(Plotly) {                    window.PLOTLYENV=window.PLOTLYENV || {};                                    if (document.getElementById(\"f7282b52-1925-4f01-8244-6af490464b27\")) {                    Plotly.newPlot(                        \"f7282b52-1925-4f01-8244-6af490464b27\",                        [{\"hovertemplate\":\"Month=%{x}<br>TotalValue=%{y}<extra></extra>\",\"legendgroup\":\"\",\"line\":{\"color\":\"#636efa\",\"dash\":\"solid\"},\"marker\":{\"symbol\":\"circle\"},\"mode\":\"markers+lines\",\"name\":\"\",\"orientation\":\"v\",\"showlegend\":false,\"x\":[\"January\",\"February\",\"March\",\"April\",\"May\",\"June\",\"July\",\"August\",\"September\",\"October\",\"November\",\"December\"],\"xaxis\":\"x\",\"y\":[66376.39,51459.27,47828.729999999996,57519.06,64527.74,48771.18,71366.39,63436.74,70603.75,47063.22,38224.37,62818.72],\"yaxis\":\"y\",\"type\":\"scatter\"}],                        {\"template\":{\"data\":{\"histogram2dcontour\":[{\"type\":\"histogram2dcontour\",\"colorbar\":{\"outlinewidth\":0,\"ticks\":\"\"},\"colorscale\":[[0.0,\"#0d0887\"],[0.1111111111111111,\"#46039f\"],[0.2222222222222222,\"#7201a8\"],[0.3333333333333333,\"#9c179e\"],[0.4444444444444444,\"#bd3786\"],[0.5555555555555556,\"#d8576b\"],[0.6666666666666666,\"#ed7953\"],[0.7777777777777778,\"#fb9f3a\"],[0.8888888888888888,\"#fdca26\"],[1.0,\"#f0f921\"]]}],\"choropleth\":[{\"type\":\"choropleth\",\"colorbar\":{\"outlinewidth\":0,\"ticks\":\"\"}}],\"histogram2d\":[{\"type\":\"histogram2d\",\"colorbar\":{\"outlinewidth\":0,\"ticks\":\"\"},\"colorscale\":[[0.0,\"#0d0887\"],[0.1111111111111111,\"#46039f\"],[0.2222222222222222,\"#7201a8\"],[0.3333333333333333,\"#9c179e\"],[0.4444444444444444,\"#bd3786\"],[0.5555555555555556,\"#d8576b\"],[0.6666666666666666,\"#ed7953\"],[0.7777777777777778,\"#fb9f3a\"],[0.8888888888888888,\"#fdca26\"],[1.0,\"#f0f921\"]]}],\"heatmap\":[{\"type\":\"heatmap\",\"colorbar\":{\"outlinewidth\":0,\"ticks\":\"\"},\"colorscale\":[[0.0,\"#0d0887\"],[0.1111111111111111,\"#46039f\"],[0.2222222222222222,\"#7201a8\"],[0.3333333333333333,\"#9c179e\"],[0.4444444444444444,\"#bd3786\"],[0.5555555555555556,\"#d8576b\"],[0.6666666666666666,\"#ed7953\"],[0.7777777777777778,\"#fb9f3a\"],[0.8888888888888888,\"#fdca26\"],[1.0,\"#f0f921\"]]}],\"heatmapgl\":[{\"type\":\"heatmapgl\",\"colorbar\":{\"outlinewidth\":0,\"ticks\":\"\"},\"colorscale\":[[0.0,\"#0d0887\"],[0.1111111111111111,\"#46039f\"],[0.2222222222222222,\"#7201a8\"],[0.3333333333333333,\"#9c179e\"],[0.4444444444444444,\"#bd3786\"],[0.5555555555555556,\"#d8576b\"],[0.6666666666666666,\"#ed7953\"],[0.7777777777777778,\"#fb9f3a\"],[0.8888888888888888,\"#fdca26\"],[1.0,\"#f0f921\"]]}],\"contourcarpet\":[{\"type\":\"contourcarpet\",\"colorbar\":{\"outlinewidth\":0,\"ticks\":\"\"}}],\"contour\":[{\"type\":\"contour\",\"colorbar\":{\"outlinewidth\":0,\"ticks\":\"\"},\"colorscale\":[[0.0,\"#0d0887\"],[0.1111111111111111,\"#46039f\"],[0.2222222222222222,\"#7201a8\"],[0.3333333333333333,\"#9c179e\"],[0.4444444444444444,\"#bd3786\"],[0.5555555555555556,\"#d8576b\"],[0.6666666666666666,\"#ed7953\"],[0.7777777777777778,\"#fb9f3a\"],[0.8888888888888888,\"#fdca26\"],[1.0,\"#f0f921\"]]}],\"surface\":[{\"type\":\"surface\",\"colorbar\":{\"outlinewidth\":0,\"ticks\":\"\"},\"colorscale\":[[0.0,\"#0d0887\"],[0.1111111111111111,\"#46039f\"],[0.2222222222222222,\"#7201a8\"],[0.3333333333333333,\"#9c179e\"],[0.4444444444444444,\"#bd3786\"],[0.5555555555555556,\"#d8576b\"],[0.6666666666666666,\"#ed7953\"],[0.7777777777777778,\"#fb9f3a\"],[0.8888888888888888,\"#fdca26\"],[1.0,\"#f0f921\"]]}],\"mesh3d\":[{\"type\":\"mesh3d\",\"colorbar\":{\"outlinewidth\":0,\"ticks\":\"\"}}],\"scatter\":[{\"fillpattern\":{\"fillmode\":\"overlay\",\"size\":10,\"solidity\":0.2},\"type\":\"scatter\"}],\"parcoords\":[{\"type\":\"parcoords\",\"line\":{\"colorbar\":{\"outlinewidth\":0,\"ticks\":\"\"}}}],\"scatterpolargl\":[{\"type\":\"scatterpolargl\",\"marker\":{\"colorbar\":{\"outlinewidth\":0,\"ticks\":\"\"}}}],\"bar\":[{\"error_x\":{\"color\":\"#2a3f5f\"},\"error_y\":{\"color\":\"#2a3f5f\"},\"marker\":{\"line\":{\"color\":\"#E5ECF6\",\"width\":0.5},\"pattern\":{\"fillmode\":\"overlay\",\"size\":10,\"solidity\":0.2}},\"type\":\"bar\"}],\"scattergeo\":[{\"type\":\"scattergeo\",\"marker\":{\"colorbar\":{\"outlinewidth\":0,\"ticks\":\"\"}}}],\"scatterpolar\":[{\"type\":\"scatterpolar\",\"marker\":{\"colorbar\":{\"outlinewidth\":0,\"ticks\":\"\"}}}],\"histogram\":[{\"marker\":{\"pattern\":{\"fillmode\":\"overlay\",\"size\":10,\"solidity\":0.2}},\"type\":\"histogram\"}],\"scattergl\":[{\"type\":\"scattergl\",\"marker\":{\"colorbar\":{\"outlinewidth\":0,\"ticks\":\"\"}}}],\"scatter3d\":[{\"type\":\"scatter3d\",\"line\":{\"colorbar\":{\"outlinewidth\":0,\"ticks\":\"\"}},\"marker\":{\"colorbar\":{\"outlinewidth\":0,\"ticks\":\"\"}}}],\"scattermapbox\":[{\"type\":\"scattermapbox\",\"marker\":{\"colorbar\":{\"outlinewidth\":0,\"ticks\":\"\"}}}],\"scatterternary\":[{\"type\":\"scatterternary\",\"marker\":{\"colorbar\":{\"outlinewidth\":0,\"ticks\":\"\"}}}],\"scattercarpet\":[{\"type\":\"scattercarpet\",\"marker\":{\"colorbar\":{\"outlinewidth\":0,\"ticks\":\"\"}}}],\"carpet\":[{\"aaxis\":{\"endlinecolor\":\"#2a3f5f\",\"gridcolor\":\"white\",\"linecolor\":\"white\",\"minorgridcolor\":\"white\",\"startlinecolor\":\"#2a3f5f\"},\"baxis\":{\"endlinecolor\":\"#2a3f5f\",\"gridcolor\":\"white\",\"linecolor\":\"white\",\"minorgridcolor\":\"white\",\"startlinecolor\":\"#2a3f5f\"},\"type\":\"carpet\"}],\"table\":[{\"cells\":{\"fill\":{\"color\":\"#EBF0F8\"},\"line\":{\"color\":\"white\"}},\"header\":{\"fill\":{\"color\":\"#C8D4E3\"},\"line\":{\"color\":\"white\"}},\"type\":\"table\"}],\"barpolar\":[{\"marker\":{\"line\":{\"color\":\"#E5ECF6\",\"width\":0.5},\"pattern\":{\"fillmode\":\"overlay\",\"size\":10,\"solidity\":0.2}},\"type\":\"barpolar\"}],\"pie\":[{\"automargin\":true,\"type\":\"pie\"}]},\"layout\":{\"autotypenumbers\":\"strict\",\"colorway\":[\"#636efa\",\"#EF553B\",\"#00cc96\",\"#ab63fa\",\"#FFA15A\",\"#19d3f3\",\"#FF6692\",\"#B6E880\",\"#FF97FF\",\"#FECB52\"],\"font\":{\"color\":\"#2a3f5f\"},\"hovermode\":\"closest\",\"hoverlabel\":{\"align\":\"left\"},\"paper_bgcolor\":\"white\",\"plot_bgcolor\":\"#E5ECF6\",\"polar\":{\"bgcolor\":\"#E5ECF6\",\"angularaxis\":{\"gridcolor\":\"white\",\"linecolor\":\"white\",\"ticks\":\"\"},\"radialaxis\":{\"gridcolor\":\"white\",\"linecolor\":\"white\",\"ticks\":\"\"}},\"ternary\":{\"bgcolor\":\"#E5ECF6\",\"aaxis\":{\"gridcolor\":\"white\",\"linecolor\":\"white\",\"ticks\":\"\"},\"baxis\":{\"gridcolor\":\"white\",\"linecolor\":\"white\",\"ticks\":\"\"},\"caxis\":{\"gridcolor\":\"white\",\"linecolor\":\"white\",\"ticks\":\"\"}},\"coloraxis\":{\"colorbar\":{\"outlinewidth\":0,\"ticks\":\"\"}},\"colorscale\":{\"sequential\":[[0.0,\"#0d0887\"],[0.1111111111111111,\"#46039f\"],[0.2222222222222222,\"#7201a8\"],[0.3333333333333333,\"#9c179e\"],[0.4444444444444444,\"#bd3786\"],[0.5555555555555556,\"#d8576b\"],[0.6666666666666666,\"#ed7953\"],[0.7777777777777778,\"#fb9f3a\"],[0.8888888888888888,\"#fdca26\"],[1.0,\"#f0f921\"]],\"sequentialminus\":[[0.0,\"#0d0887\"],[0.1111111111111111,\"#46039f\"],[0.2222222222222222,\"#7201a8\"],[0.3333333333333333,\"#9c179e\"],[0.4444444444444444,\"#bd3786\"],[0.5555555555555556,\"#d8576b\"],[0.6666666666666666,\"#ed7953\"],[0.7777777777777778,\"#fb9f3a\"],[0.8888888888888888,\"#fdca26\"],[1.0,\"#f0f921\"]],\"diverging\":[[0,\"#8e0152\"],[0.1,\"#c51b7d\"],[0.2,\"#de77ae\"],[0.3,\"#f1b6da\"],[0.4,\"#fde0ef\"],[0.5,\"#f7f7f7\"],[0.6,\"#e6f5d0\"],[0.7,\"#b8e186\"],[0.8,\"#7fbc41\"],[0.9,\"#4d9221\"],[1,\"#276419\"]]},\"xaxis\":{\"gridcolor\":\"white\",\"linecolor\":\"white\",\"ticks\":\"\",\"title\":{\"standoff\":15},\"zerolinecolor\":\"white\",\"automargin\":true,\"zerolinewidth\":2},\"yaxis\":{\"gridcolor\":\"white\",\"linecolor\":\"white\",\"ticks\":\"\",\"title\":{\"standoff\":15},\"zerolinecolor\":\"white\",\"automargin\":true,\"zerolinewidth\":2},\"scene\":{\"xaxis\":{\"backgroundcolor\":\"#E5ECF6\",\"gridcolor\":\"white\",\"linecolor\":\"white\",\"showbackground\":true,\"ticks\":\"\",\"zerolinecolor\":\"white\",\"gridwidth\":2},\"yaxis\":{\"backgroundcolor\":\"#E5ECF6\",\"gridcolor\":\"white\",\"linecolor\":\"white\",\"showbackground\":true,\"ticks\":\"\",\"zerolinecolor\":\"white\",\"gridwidth\":2},\"zaxis\":{\"backgroundcolor\":\"#E5ECF6\",\"gridcolor\":\"white\",\"linecolor\":\"white\",\"showbackground\":true,\"ticks\":\"\",\"zerolinecolor\":\"white\",\"gridwidth\":2}},\"shapedefaults\":{\"line\":{\"color\":\"#2a3f5f\"}},\"annotationdefaults\":{\"arrowcolor\":\"#2a3f5f\",\"arrowhead\":0,\"arrowwidth\":1},\"geo\":{\"bgcolor\":\"white\",\"landcolor\":\"#E5ECF6\",\"subunitcolor\":\"white\",\"showland\":true,\"showlakes\":true,\"lakecolor\":\"white\"},\"title\":{\"x\":0.05},\"mapbox\":{\"style\":\"light\"}}},\"xaxis\":{\"anchor\":\"y\",\"domain\":[0.0,1.0],\"title\":{\"text\":\"Month\"}},\"yaxis\":{\"anchor\":\"x\",\"domain\":[0.0,1.0],\"title\":{\"text\":\"TotalValue\"}},\"legend\":{\"tracegroupgap\":0},\"title\":{\"text\":\"Monthly Sales Trend\"}},                        {\"responsive\": true}                    ).then(function(){\n",
       "                            \n",
       "var gd = document.getElementById('f7282b52-1925-4f01-8244-6af490464b27');\n",
       "var x = new MutationObserver(function (mutations, observer) {{\n",
       "        var display = window.getComputedStyle(gd).display;\n",
       "        if (!display || display === 'none') {{\n",
       "            console.log([gd, 'removed!']);\n",
       "            Plotly.purge(gd);\n",
       "            observer.disconnect();\n",
       "        }}\n",
       "}});\n",
       "\n",
       "// Listen for the removal of the full notebook cells\n",
       "var notebookContainer = gd.closest('#notebook-container');\n",
       "if (notebookContainer) {{\n",
       "    x.observe(notebookContainer, {childList: true});\n",
       "}}\n",
       "\n",
       "// Listen for the clearing of the current output cell\n",
       "var outputEl = gd.closest('.output');\n",
       "if (outputEl) {{\n",
       "    x.observe(outputEl, {childList: true});\n",
       "}}\n",
       "\n",
       "                        })                };                });            </script>        </div>"
      ]
     },
     "metadata": {},
     "output_type": "display_data"
    }
   ],
   "source": [
    "fig_monthly_sales = px.line(\n",
    "    monthly_sales,\n",
    "    x='Month',\n",
    "    y='TotalValue',\n",
    "     markers=True,\n",
    "    title='Monthly Sales Trend'\n",
    ")\n",
    "fig_monthly_sales.show()"
   ]
  },
  {
   "cell_type": "markdown",
   "id": "6a7140de",
   "metadata": {},
   "source": [
    "### Price vs Quantity Sold by Category"
   ]
  },
  {
   "cell_type": "code",
   "execution_count": 197,
   "id": "34d7e6cc",
   "metadata": {},
   "outputs": [
    {
     "data": {
      "application/vnd.plotly.v1+json": {
       "config": {
        "plotlyServerURL": "https://plot.ly"
       },
       "data": [
        {
         "hovertemplate": "<b>%{hovertext}</b><br><br>Category=Electronics<br>Price=%{x}<br>Quantity=%{y}<br>TotalValue=%{marker.size}<extra></extra>",
         "hovertext": [
          "ComfortLiving Bluetooth Speaker",
          "ComfortLiving Bluetooth Speaker",
          "ComfortLiving Bluetooth Speaker",
          "ComfortLiving Bluetooth Speaker",
          "ComfortLiving Bluetooth Speaker",
          "ComfortLiving Bluetooth Speaker",
          "ComfortLiving Bluetooth Speaker",
          "ComfortLiving Bluetooth Speaker",
          "ComfortLiving Bluetooth Speaker",
          "ComfortLiving Bluetooth Speaker",
          "ComfortLiving Bluetooth Speaker",
          "ComfortLiving Bluetooth Speaker",
          "ComfortLiving Bluetooth Speaker",
          "BookWorld Bluetooth Speaker",
          "BookWorld Bluetooth Speaker",
          "BookWorld Bluetooth Speaker",
          "BookWorld Bluetooth Speaker",
          "BookWorld Bluetooth Speaker",
          "BookWorld Bluetooth Speaker",
          "BookWorld Bluetooth Speaker",
          "BookWorld Bluetooth Speaker",
          "BookWorld Bluetooth Speaker",
          "BookWorld Bluetooth Speaker",
          "TechPro Headphones",
          "TechPro Headphones",
          "TechPro Headphones",
          "TechPro Headphones",
          "TechPro Headphones",
          "TechPro Headphones",
          "TechPro Headphones",
          "TechPro Headphones",
          "TechPro Headphones",
          "TechPro Headphones",
          "TechPro Headphones",
          "TechPro Headphones",
          "TechPro Headphones",
          "TechPro Headphones",
          "TechPro Headphones",
          "TechPro Headphones",
          "TechPro Headphones",
          "SoundWave Headphones",
          "SoundWave Headphones",
          "SoundWave Headphones",
          "SoundWave Headphones",
          "SoundWave Headphones",
          "SoundWave Headphones",
          "SoundWave Headphones",
          "SoundWave Headphones",
          "SoundWave Laptop",
          "SoundWave Laptop",
          "SoundWave Laptop",
          "SoundWave Laptop",
          "SoundWave Laptop",
          "SoundWave Laptop",
          "SoundWave Laptop",
          "ActiveWear Smartphone",
          "ActiveWear Smartphone",
          "ActiveWear Smartphone",
          "ActiveWear Smartphone",
          "ActiveWear Smartphone",
          "ActiveWear Smartphone",
          "ActiveWear Smartphone",
          "ActiveWear Smartphone",
          "ActiveWear Smartphone",
          "ActiveWear Smartphone",
          "ActiveWear Smartphone",
          "ActiveWear Smartphone",
          "ActiveWear Smartphone",
          "ActiveWear Smartphone",
          "ActiveWear Smartphone",
          "SoundWave Headphones",
          "SoundWave Headphones",
          "SoundWave Headphones",
          "SoundWave Headphones",
          "SoundWave Bluetooth Speaker",
          "SoundWave Bluetooth Speaker",
          "SoundWave Bluetooth Speaker",
          "SoundWave Bluetooth Speaker",
          "SoundWave Bluetooth Speaker",
          "SoundWave Bluetooth Speaker",
          "SoundWave Bluetooth Speaker",
          "BookWorld Smartwatch",
          "BookWorld Smartwatch",
          "BookWorld Smartwatch",
          "BookWorld Smartwatch",
          "BookWorld Smartwatch",
          "BookWorld Smartwatch",
          "BookWorld Smartwatch",
          "BookWorld Smartwatch",
          "BookWorld Smartwatch",
          "BookWorld Smartwatch",
          "BookWorld Smartwatch",
          "ActiveWear Smartwatch",
          "ActiveWear Smartwatch",
          "ActiveWear Smartwatch",
          "ActiveWear Smartwatch",
          "ActiveWear Smartwatch",
          "ActiveWear Smartwatch",
          "ActiveWear Smartwatch",
          "ActiveWear Smartwatch",
          "ActiveWear Smartwatch",
          "ActiveWear Smartwatch",
          "ActiveWear Smartwatch",
          "ActiveWear Smartwatch",
          "ActiveWear Smartwatch",
          "SoundWave Headphones",
          "SoundWave Headphones",
          "SoundWave Headphones",
          "SoundWave Headphones",
          "SoundWave Headphones",
          "SoundWave Headphones",
          "SoundWave Headphones",
          "SoundWave Headphones",
          "SoundWave Headphones",
          "SoundWave Headphones",
          "SoundWave Headphones",
          "SoundWave Headphones",
          "SoundWave Headphones",
          "SoundWave Headphones",
          "SoundWave Headphones",
          "ActiveWear Smartwatch",
          "ActiveWear Smartwatch",
          "ActiveWear Smartwatch",
          "ActiveWear Smartwatch",
          "ActiveWear Smartwatch",
          "ActiveWear Smartwatch",
          "ActiveWear Smartwatch",
          "ActiveWear Smartwatch",
          "ActiveWear Smartwatch",
          "ActiveWear Smartwatch",
          "ActiveWear Smartwatch",
          "ActiveWear Smartwatch",
          "ActiveWear Smartwatch",
          "ComfortLiving Smartwatch",
          "ComfortLiving Smartwatch",
          "ComfortLiving Smartwatch",
          "ComfortLiving Smartwatch",
          "ComfortLiving Smartwatch",
          "ComfortLiving Smartwatch",
          "ComfortLiving Smartwatch",
          "ComfortLiving Smartwatch",
          "ComfortLiving Smartwatch",
          "ComfortLiving Smartwatch",
          "ComfortLiving Smartwatch",
          "TechPro Smartwatch",
          "TechPro Smartwatch",
          "TechPro Smartwatch",
          "TechPro Smartwatch",
          "TechPro Smartwatch",
          "TechPro Smartwatch",
          "TechPro Smartwatch",
          "TechPro Smartwatch",
          "TechPro Smartwatch",
          "TechPro Smartwatch",
          "TechPro Smartwatch",
          "TechPro Smartwatch",
          "HomeSense Bluetooth Speaker",
          "HomeSense Bluetooth Speaker",
          "HomeSense Bluetooth Speaker",
          "HomeSense Bluetooth Speaker",
          "HomeSense Bluetooth Speaker",
          "HomeSense Bluetooth Speaker",
          "HomeSense Bluetooth Speaker",
          "ComfortLiving Smartphone",
          "ComfortLiving Smartphone",
          "ComfortLiving Smartphone",
          "ComfortLiving Smartphone",
          "ComfortLiving Smartphone",
          "ComfortLiving Smartphone",
          "ComfortLiving Smartphone",
          "ComfortLiving Smartphone",
          "ComfortLiving Smartphone",
          "ComfortLiving Smartphone",
          "ComfortLiving Smartphone",
          "HomeSense Headphones",
          "HomeSense Headphones",
          "HomeSense Headphones",
          "HomeSense Headphones",
          "HomeSense Headphones",
          "HomeSense Headphones",
          "HomeSense Headphones",
          "HomeSense Headphones",
          "SoundWave Headphones",
          "SoundWave Headphones",
          "SoundWave Headphones",
          "SoundWave Headphones",
          "SoundWave Headphones",
          "SoundWave Headphones",
          "SoundWave Headphones",
          "SoundWave Headphones",
          "SoundWave Headphones",
          "SoundWave Headphones",
          "SoundWave Headphones",
          "ComfortLiving Laptop",
          "ComfortLiving Laptop",
          "ComfortLiving Laptop",
          "ComfortLiving Laptop",
          "ComfortLiving Laptop",
          "ComfortLiving Laptop",
          "ComfortLiving Laptop",
          "ComfortLiving Laptop",
          "ComfortLiving Laptop",
          "ComfortLiving Laptop",
          "SoundWave Smartwatch",
          "SoundWave Smartwatch",
          "SoundWave Smartwatch",
          "SoundWave Smartwatch",
          "SoundWave Smartwatch",
          "SoundWave Smartwatch",
          "SoundWave Smartwatch",
          "SoundWave Smartwatch",
          "ActiveWear Smartwatch",
          "ActiveWear Smartwatch",
          "ActiveWear Smartwatch",
          "ActiveWear Smartwatch",
          "ActiveWear Smartwatch",
          "ActiveWear Smartwatch",
          "ActiveWear Headphones",
          "ActiveWear Headphones",
          "ActiveWear Headphones",
          "ActiveWear Headphones",
          "ActiveWear Headphones",
          "ActiveWear Headphones",
          "ActiveWear Smartwatch",
          "ActiveWear Smartwatch",
          "ActiveWear Smartwatch",
          "ActiveWear Smartwatch",
          "ActiveWear Smartwatch",
          "ActiveWear Smartwatch",
          "ActiveWear Smartwatch",
          "ActiveWear Smartwatch",
          "SoundWave Smartwatch",
          "SoundWave Smartwatch",
          "SoundWave Smartwatch",
          "SoundWave Smartwatch",
          "SoundWave Smartwatch",
          "SoundWave Smartwatch",
          "SoundWave Smartwatch",
          "ComfortLiving Headphones",
          "ComfortLiving Headphones",
          "ComfortLiving Headphones",
          "ComfortLiving Headphones",
          "ComfortLiving Headphones",
          "ComfortLiving Headphones",
          "ComfortLiving Headphones",
          "ComfortLiving Headphones",
          "ActiveWear Headphones",
          "ActiveWear Headphones",
          "ActiveWear Headphones",
          "ActiveWear Headphones",
          "ActiveWear Headphones",
          "ActiveWear Headphones",
          "ActiveWear Headphones",
          "ActiveWear Headphones"
         ],
         "legendgroup": "Electronics",
         "marker": {
          "color": "rgb(255, 198, 196)",
          "size": [
           300.68,
           300.68,
           300.68,
           601.36,
           902.04,
           300.68,
           902.04,
           300.68,
           902.04,
           601.36,
           902.04,
           601.36,
           601.36,
           293.7,
           293.7,
           293.7,
           293.7,
           146.85,
           146.85,
           293.7,
           440.55,
           293.7,
           293.7,
           433.64,
           1734.56,
           433.64,
           433.64,
           867.28,
           1734.56,
           1300.92,
           867.28,
           1734.56,
           1300.92,
           1300.92,
           867.28,
           867.28,
           1734.56,
           1734.56,
           867.28,
           1300.92,
           263.55,
           527.1,
           263.55,
           263.55,
           1054.2,
           527.1,
           1054.2,
           790.65,
           899.79,
           299.93,
           899.79,
           299.93,
           599.86,
           1199.72,
           599.86,
           958.8,
           479.4,
           479.4,
           719.1,
           239.7,
           958.8,
           479.4,
           958.8,
           958.8,
           479.4,
           719.1,
           719.1,
           719.1,
           958.8,
           479.4,
           392.8,
           785.6,
           196.4,
           392.8,
           128.76,
           257.52,
           64.38,
           257.52,
           128.76,
           193.14,
           193.14,
           342.6,
           342.6,
           114.2,
           342.6,
           342.6,
           114.2,
           456.8,
           456.8,
           114.2,
           342.6,
           114.2,
           1822.88,
           911.44,
           1367.16,
           911.44,
           1367.16,
           1367.16,
           455.72,
           455.72,
           1367.16,
           1367.16,
           911.44,
           911.44,
           455.72,
           614.94,
           614.94,
           307.47,
           614.94,
           614.94,
           307.47,
           922.41,
           614.94,
           307.47,
           1229.88,
           1229.88,
           922.41,
           922.41,
           922.41,
           307.47,
           437.65,
           875.3,
           437.65,
           1312.95,
           1750.6,
           437.65,
           875.3,
           437.65,
           1312.95,
           1312.95,
           1750.6,
           875.3,
           437.65,
           1050.39,
           700.26,
           1050.39,
           1050.39,
           700.26,
           350.13,
           700.26,
           1050.39,
           350.13,
           350.13,
           700.26,
           430.59,
           1291.77,
           1722.36,
           1291.77,
           1291.77,
           1722.36,
           1291.77,
           430.59,
           1291.77,
           1722.36,
           861.18,
           430.59,
           441.82,
           883.64,
           662.73,
           883.64,
           662.73,
           883.64,
           662.73,
           1368.84,
           456.28,
           456.28,
           1825.12,
           912.56,
           1825.12,
           1825.12,
           912.56,
           1825.12,
           456.28,
           1368.84,
           476.79,
           158.93,
           158.93,
           635.72,
           158.93,
           158.93,
           635.72,
           476.79,
           916.24,
           916.24,
           916.24,
           458.12,
           916.24,
           687.18,
           687.18,
           458.12,
           916.24,
           458.12,
           916.24,
           53.98,
           53.98,
           80.97,
           80.97,
           107.96,
           26.99,
           53.98,
           107.96,
           53.98,
           26.99,
           64.32,
           16.08,
           64.32,
           64.32,
           48.24,
           16.08,
           32.16,
           32.16,
           1062.04,
           531.02,
           1062.04,
           531.02,
           265.51,
           1062.04,
           1198.02,
           798.68,
           1198.02,
           1198.02,
           798.68,
           798.68,
           1038.9,
           1038.9,
           1385.2,
           692.6,
           1038.9,
           1385.2,
           1385.2,
           692.6,
           1839.44,
           459.86,
           919.72,
           1379.58,
           459.86,
           919.72,
           919.72,
           159.6,
           638.4,
           319.2,
           159.6,
           478.8,
           159.6,
           319.2,
           159.6,
           379.44,
           1517.76,
           1517.76,
           1138.32,
           1138.32,
           758.88,
           1138.32,
           379.44
          ],
          "sizemode": "area",
          "sizeref": 4.9776,
          "symbol": "circle"
         },
         "mode": "markers",
         "name": "Electronics",
         "orientation": "v",
         "showlegend": true,
         "type": "scatter",
         "x": [
          300.68,
          300.68,
          300.68,
          300.68,
          300.68,
          300.68,
          300.68,
          300.68,
          300.68,
          300.68,
          300.68,
          300.68,
          300.68,
          146.85,
          146.85,
          146.85,
          146.85,
          146.85,
          146.85,
          146.85,
          146.85,
          146.85,
          146.85,
          433.64,
          433.64,
          433.64,
          433.64,
          433.64,
          433.64,
          433.64,
          433.64,
          433.64,
          433.64,
          433.64,
          433.64,
          433.64,
          433.64,
          433.64,
          433.64,
          433.64,
          263.55,
          263.55,
          263.55,
          263.55,
          263.55,
          263.55,
          263.55,
          263.55,
          299.93,
          299.93,
          299.93,
          299.93,
          299.93,
          299.93,
          299.93,
          239.7,
          239.7,
          239.7,
          239.7,
          239.7,
          239.7,
          239.7,
          239.7,
          239.7,
          239.7,
          239.7,
          239.7,
          239.7,
          239.7,
          239.7,
          196.4,
          196.4,
          196.4,
          196.4,
          64.38,
          64.38,
          64.38,
          64.38,
          64.38,
          64.38,
          64.38,
          114.2,
          114.2,
          114.2,
          114.2,
          114.2,
          114.2,
          114.2,
          114.2,
          114.2,
          114.2,
          114.2,
          455.72,
          455.72,
          455.72,
          455.72,
          455.72,
          455.72,
          455.72,
          455.72,
          455.72,
          455.72,
          455.72,
          455.72,
          455.72,
          307.47,
          307.47,
          307.47,
          307.47,
          307.47,
          307.47,
          307.47,
          307.47,
          307.47,
          307.47,
          307.47,
          307.47,
          307.47,
          307.47,
          307.47,
          437.65,
          437.65,
          437.65,
          437.65,
          437.65,
          437.65,
          437.65,
          437.65,
          437.65,
          437.65,
          437.65,
          437.65,
          437.65,
          350.13,
          350.13,
          350.13,
          350.13,
          350.13,
          350.13,
          350.13,
          350.13,
          350.13,
          350.13,
          350.13,
          430.59,
          430.59,
          430.59,
          430.59,
          430.59,
          430.59,
          430.59,
          430.59,
          430.59,
          430.59,
          430.59,
          430.59,
          220.91,
          220.91,
          220.91,
          220.91,
          220.91,
          220.91,
          220.91,
          456.28,
          456.28,
          456.28,
          456.28,
          456.28,
          456.28,
          456.28,
          456.28,
          456.28,
          456.28,
          456.28,
          158.93,
          158.93,
          158.93,
          158.93,
          158.93,
          158.93,
          158.93,
          158.93,
          229.06,
          229.06,
          229.06,
          229.06,
          229.06,
          229.06,
          229.06,
          229.06,
          229.06,
          229.06,
          229.06,
          26.99,
          26.99,
          26.99,
          26.99,
          26.99,
          26.99,
          26.99,
          26.99,
          26.99,
          26.99,
          16.08,
          16.08,
          16.08,
          16.08,
          16.08,
          16.08,
          16.08,
          16.08,
          265.51,
          265.51,
          265.51,
          265.51,
          265.51,
          265.51,
          399.34,
          399.34,
          399.34,
          399.34,
          399.34,
          399.34,
          346.3,
          346.3,
          346.3,
          346.3,
          346.3,
          346.3,
          346.3,
          346.3,
          459.86,
          459.86,
          459.86,
          459.86,
          459.86,
          459.86,
          459.86,
          159.6,
          159.6,
          159.6,
          159.6,
          159.6,
          159.6,
          159.6,
          159.6,
          379.44,
          379.44,
          379.44,
          379.44,
          379.44,
          379.44,
          379.44,
          379.44
         ],
         "xaxis": "x",
         "y": [
          1,
          1,
          1,
          2,
          3,
          1,
          3,
          1,
          3,
          2,
          3,
          2,
          2,
          2,
          2,
          2,
          2,
          1,
          1,
          2,
          3,
          2,
          2,
          1,
          4,
          1,
          1,
          2,
          4,
          3,
          2,
          4,
          3,
          3,
          2,
          2,
          4,
          4,
          2,
          3,
          1,
          2,
          1,
          1,
          4,
          2,
          4,
          3,
          3,
          1,
          3,
          1,
          2,
          4,
          2,
          4,
          2,
          2,
          3,
          1,
          4,
          2,
          4,
          4,
          2,
          3,
          3,
          3,
          4,
          2,
          2,
          4,
          1,
          2,
          2,
          4,
          1,
          4,
          2,
          3,
          3,
          3,
          3,
          1,
          3,
          3,
          1,
          4,
          4,
          1,
          3,
          1,
          4,
          2,
          3,
          2,
          3,
          3,
          1,
          1,
          3,
          3,
          2,
          2,
          1,
          2,
          2,
          1,
          2,
          2,
          1,
          3,
          2,
          1,
          4,
          4,
          3,
          3,
          3,
          1,
          1,
          2,
          1,
          3,
          4,
          1,
          2,
          1,
          3,
          3,
          4,
          2,
          1,
          3,
          2,
          3,
          3,
          2,
          1,
          2,
          3,
          1,
          1,
          2,
          1,
          3,
          4,
          3,
          3,
          4,
          3,
          1,
          3,
          4,
          2,
          1,
          2,
          4,
          3,
          4,
          3,
          4,
          3,
          3,
          1,
          1,
          4,
          2,
          4,
          4,
          2,
          4,
          1,
          3,
          3,
          1,
          1,
          4,
          1,
          1,
          4,
          3,
          4,
          4,
          4,
          2,
          4,
          3,
          3,
          2,
          4,
          2,
          4,
          2,
          2,
          3,
          3,
          4,
          1,
          2,
          4,
          2,
          1,
          4,
          1,
          4,
          4,
          3,
          1,
          2,
          2,
          4,
          2,
          4,
          2,
          1,
          4,
          3,
          2,
          3,
          3,
          2,
          2,
          3,
          3,
          4,
          2,
          3,
          4,
          4,
          2,
          4,
          1,
          2,
          3,
          1,
          2,
          2,
          1,
          4,
          2,
          1,
          3,
          1,
          2,
          1,
          1,
          4,
          4,
          3,
          3,
          2,
          3,
          1
         ],
         "yaxis": "y"
        },
        {
         "hovertemplate": "<b>%{hovertext}</b><br><br>Category=Home Decor<br>Price=%{x}<br>Quantity=%{y}<br>TotalValue=%{marker.size}<extra></extra>",
         "hovertext": [
          "HomeSense Wall Art",
          "HomeSense Wall Art",
          "HomeSense Wall Art",
          "HomeSense Wall Art",
          "HomeSense Wall Art",
          "HomeSense Wall Art",
          "HomeSense Wall Art",
          "HomeSense Wall Art",
          "HomeSense Wall Art",
          "HomeSense Wall Art",
          "HomeSense Wall Art",
          "HomeSense Wall Art",
          "HomeSense Wall Art",
          "HomeSense Wall Art",
          "HomeSense Wall Art",
          "ActiveWear Rug",
          "ActiveWear Rug",
          "ActiveWear Rug",
          "ActiveWear Rug",
          "ActiveWear Rug",
          "ActiveWear Rug",
          "ActiveWear Rug",
          "ActiveWear Rug",
          "ActiveWear Rug",
          "ActiveWear Rug",
          "ActiveWear Rug",
          "ActiveWear Rug",
          "ActiveWear Rug",
          "ActiveWear Rug",
          "ActiveWear Rug",
          "ActiveWear Rug",
          "TechPro Rug",
          "TechPro Rug",
          "TechPro Rug",
          "TechPro Rug",
          "TechPro Rug",
          "TechPro Rug",
          "TechPro Rug",
          "TechPro Rug",
          "TechPro Rug",
          "TechPro Rug",
          "ActiveWear Wall Art",
          "ActiveWear Wall Art",
          "ActiveWear Wall Art",
          "ActiveWear Wall Art",
          "ActiveWear Wall Art",
          "ActiveWear Wall Art",
          "ActiveWear Wall Art",
          "ActiveWear Wall Art",
          "ActiveWear Wall Art",
          "ActiveWear Wall Art",
          "ActiveWear Wall Art",
          "ActiveWear Wall Art",
          "ActiveWear Wall Art",
          "HomeSense Desk Lamp",
          "HomeSense Desk Lamp",
          "HomeSense Desk Lamp",
          "HomeSense Desk Lamp",
          "HomeSense Desk Lamp",
          "HomeSense Desk Lamp",
          "HomeSense Desk Lamp",
          "HomeSense Desk Lamp",
          "HomeSense Desk Lamp",
          "HomeSense Desk Lamp",
          "HomeSense Desk Lamp",
          "HomeSense Desk Lamp",
          "ComfortLiving Cookware Set",
          "ComfortLiving Cookware Set",
          "ComfortLiving Cookware Set",
          "ComfortLiving Cookware Set",
          "ComfortLiving Cookware Set",
          "ComfortLiving Cookware Set",
          "ComfortLiving Cookware Set",
          "ComfortLiving Cookware Set",
          "ComfortLiving Cookware Set",
          "ComfortLiving Cookware Set",
          "BookWorld Cookware Set",
          "BookWorld Cookware Set",
          "BookWorld Cookware Set",
          "BookWorld Cookware Set",
          "BookWorld Cookware Set",
          "BookWorld Cookware Set",
          "BookWorld Cookware Set",
          "TechPro Vase",
          "TechPro Vase",
          "TechPro Vase",
          "TechPro Vase",
          "TechPro Vase",
          "TechPro Vase",
          "TechPro Vase",
          "TechPro Vase",
          "TechPro Vase",
          "TechPro Vase",
          "TechPro Vase",
          "TechPro Vase",
          "TechPro Vase",
          "BookWorld Rug",
          "BookWorld Rug",
          "BookWorld Rug",
          "BookWorld Rug",
          "BookWorld Rug",
          "BookWorld Rug",
          "BookWorld Rug",
          "HomeSense Cookware Set",
          "HomeSense Cookware Set",
          "HomeSense Cookware Set",
          "HomeSense Cookware Set",
          "HomeSense Cookware Set",
          "HomeSense Cookware Set",
          "HomeSense Cookware Set",
          "HomeSense Cookware Set",
          "HomeSense Cookware Set",
          "HomeSense Cookware Set",
          "HomeSense Cookware Set",
          "ComfortLiving Desk Lamp",
          "ComfortLiving Desk Lamp",
          "ComfortLiving Desk Lamp",
          "ComfortLiving Desk Lamp",
          "ComfortLiving Desk Lamp",
          "ComfortLiving Desk Lamp",
          "ComfortLiving Desk Lamp",
          "ComfortLiving Desk Lamp",
          "ComfortLiving Desk Lamp",
          "ComfortLiving Desk Lamp",
          "SoundWave Rug",
          "SoundWave Rug",
          "SoundWave Rug",
          "SoundWave Rug",
          "SoundWave Rug",
          "SoundWave Rug",
          "SoundWave Rug",
          "SoundWave Rug",
          "SoundWave Rug",
          "SoundWave Rug",
          "SoundWave Rug",
          "ActiveWear Rug",
          "ActiveWear Rug",
          "ActiveWear Rug",
          "ActiveWear Rug",
          "ActiveWear Rug",
          "ActiveWear Rug",
          "ActiveWear Rug",
          "ActiveWear Rug",
          "ActiveWear Rug",
          "ActiveWear Rug",
          "ActiveWear Rug",
          "ActiveWear Rug",
          "ActiveWear Rug",
          "HomeSense Rug",
          "HomeSense Rug",
          "HomeSense Rug",
          "HomeSense Rug",
          "HomeSense Rug",
          "HomeSense Rug",
          "HomeSense Rug",
          "ActiveWear Cookware Set",
          "ActiveWear Cookware Set",
          "ActiveWear Cookware Set",
          "ActiveWear Cookware Set",
          "ActiveWear Cookware Set",
          "ActiveWear Cookware Set",
          "ActiveWear Cookware Set",
          "ActiveWear Cookware Set",
          "ActiveWear Cookware Set",
          "ActiveWear Cookware Set",
          "ActiveWear Cookware Set",
          "ActiveWear Cookware Set",
          "SoundWave Desk Lamp",
          "SoundWave Desk Lamp",
          "SoundWave Desk Lamp",
          "SoundWave Desk Lamp",
          "SoundWave Desk Lamp",
          "SoundWave Desk Lamp",
          "SoundWave Desk Lamp",
          "SoundWave Desk Lamp",
          "SoundWave Desk Lamp",
          "SoundWave Desk Lamp",
          "HomeSense Desk Lamp",
          "HomeSense Desk Lamp",
          "HomeSense Desk Lamp",
          "HomeSense Desk Lamp",
          "HomeSense Desk Lamp",
          "HomeSense Desk Lamp",
          "HomeSense Desk Lamp",
          "HomeSense Desk Lamp",
          "HomeSense Desk Lamp",
          "HomeSense Desk Lamp",
          "HomeSense Desk Lamp",
          "HomeSense Desk Lamp",
          "HomeSense Desk Lamp",
          "HomeSense Desk Lamp",
          "HomeSense Desk Lamp",
          "HomeSense Desk Lamp",
          "HomeSense Rug",
          "HomeSense Rug",
          "HomeSense Rug",
          "HomeSense Rug",
          "HomeSense Rug",
          "HomeSense Rug",
          "HomeSense Rug",
          "HomeSense Rug",
          "HomeSense Rug",
          "HomeSense Rug",
          "ComfortLiving Rug",
          "ComfortLiving Rug",
          "ComfortLiving Rug",
          "ComfortLiving Rug",
          "ComfortLiving Rug",
          "ComfortLiving Rug",
          "ComfortLiving Rug",
          "ComfortLiving Rug",
          "ActiveWear Cookware Set",
          "ActiveWear Cookware Set",
          "ActiveWear Cookware Set",
          "ActiveWear Cookware Set",
          "ActiveWear Cookware Set",
          "ActiveWear Cookware Set",
          "ActiveWear Cookware Set",
          "ActiveWear Cookware Set",
          "ActiveWear Cookware Set",
          "SoundWave Desk Lamp",
          "SoundWave Desk Lamp",
          "SoundWave Desk Lamp",
          "SoundWave Desk Lamp",
          "SoundWave Desk Lamp",
          "SoundWave Desk Lamp",
          "SoundWave Desk Lamp",
          "SoundWave Desk Lamp",
          "SoundWave Desk Lamp",
          "SoundWave Desk Lamp",
          "SoundWave Desk Lamp",
          "SoundWave Desk Lamp",
          "SoundWave Desk Lamp",
          "BookWorld Wall Art",
          "BookWorld Wall Art",
          "BookWorld Wall Art",
          "BookWorld Wall Art",
          "BookWorld Wall Art",
          "BookWorld Wall Art",
          "BookWorld Wall Art",
          "TechPro Vase",
          "TechPro Vase",
          "TechPro Vase",
          "TechPro Vase",
          "TechPro Vase",
          "TechPro Vase",
          "TechPro Vase",
          "TechPro Vase"
         ],
         "legendgroup": "Home Decor",
         "marker": {
          "color": "rgb(244, 163, 168)",
          "size": [
           550.16,
           412.62,
           137.54,
           412.62,
           412.62,
           412.62,
           412.62,
           275.08,
           412.62,
           137.54,
           550.16,
           412.62,
           137.54,
           137.54,
           412.62,
           834.74,
           417.37,
           1252.11,
           1669.48,
           1669.48,
           417.37,
           834.74,
           417.37,
           834.74,
           1252.11,
           1669.48,
           1669.48,
           1669.48,
           417.37,
           1669.48,
           1252.11,
           824.82,
           1099.76,
           274.94,
           824.82,
           824.82,
           274.94,
           1099.76,
           274.94,
           274.94,
           1099.76,
           337.91,
           675.82,
           1351.64,
           337.91,
           675.82,
           1013.73,
           1351.64,
           1013.73,
           337.91,
           675.82,
           1351.64,
           1351.64,
           1013.73,
           942.32,
           942.32,
           706.74,
           942.32,
           706.74,
           706.74,
           942.32,
           235.58,
           706.74,
           706.74,
           471.16,
           942.32,
           477.99,
           637.32,
           318.66,
           637.32,
           318.66,
           637.32,
           318.66,
           477.99,
           318.66,
           159.33,
           227.26,
           681.78,
           454.52,
           909.04,
           454.52,
           681.78,
           909.04,
           147.22,
           588.88,
           294.44,
           441.66,
           441.66,
           147.22,
           294.44,
           588.88,
           588.88,
           147.22,
           147.22,
           147.22,
           147.22,
           191.38,
           287.07,
           95.69,
           382.76,
           382.76,
           95.69,
           287.07,
           894.68,
           894.68,
           894.68,
           1789.36,
           1342.02,
           1342.02,
           447.34,
           1342.02,
           894.68,
           894.68,
           1342.02,
           130.32,
           195.48,
           195.48,
           65.16,
           130.32,
           260.64,
           195.48,
           65.16,
           195.48,
           260.64,
           335.84,
           335.84,
           335.84,
           1007.52,
           1007.52,
           1343.36,
           671.68,
           1007.52,
           335.84,
           1007.52,
           1007.52,
           242.64,
           121.32,
           363.96,
           121.32,
           485.28,
           485.28,
           242.64,
           485.28,
           485.28,
           363.96,
           363.96,
           242.64,
           363.96,
           222.95,
           668.85,
           891.8,
           891.8,
           668.85,
           668.85,
           445.9,
           853.86,
           1138.48,
           569.24,
           853.86,
           853.86,
           284.62,
           569.24,
           284.62,
           1138.48,
           284.62,
           853.86,
           853.86,
           1044.8,
           1044.8,
           261.2,
           783.6,
           522.4,
           1044.8,
           1044.8,
           522.4,
           261.2,
           1044.8,
           627.84,
           470.88,
           470.88,
           470.88,
           156.96,
           627.84,
           156.96,
           470.88,
           156.96,
           627.84,
           313.92,
           627.84,
           470.88,
           627.84,
           156.96,
           313.92,
           41.18,
           123.54,
           164.72,
           82.36,
           82.36,
           164.72,
           164.72,
           41.18,
           123.54,
           82.36,
           167.97,
           55.99,
           55.99,
           167.97,
           167.97,
           111.98,
           111.98,
           223.96,
           1818.12,
           454.53,
           454.53,
           909.06,
           909.06,
           1363.59,
           454.53,
           1363.59,
           1818.12,
           295.58,
           886.74,
           295.58,
           886.74,
           886.74,
           295.58,
           1182.32,
           295.58,
           1182.32,
           886.74,
           1182.32,
           1182.32,
           886.74,
           650.02,
           975.03,
           650.02,
           325.01,
           1300.04,
           325.01,
           650.02,
           304.94,
           1219.76,
           609.88,
           304.94,
           609.88,
           1219.76,
           304.94,
           609.88
          ],
          "sizemode": "area",
          "sizeref": 4.9776,
          "symbol": "circle"
         },
         "mode": "markers",
         "name": "Home Decor",
         "orientation": "v",
         "showlegend": true,
         "type": "scatter",
         "x": [
          137.54,
          137.54,
          137.54,
          137.54,
          137.54,
          137.54,
          137.54,
          137.54,
          137.54,
          137.54,
          137.54,
          137.54,
          137.54,
          137.54,
          137.54,
          417.37,
          417.37,
          417.37,
          417.37,
          417.37,
          417.37,
          417.37,
          417.37,
          417.37,
          417.37,
          417.37,
          417.37,
          417.37,
          417.37,
          417.37,
          417.37,
          274.94,
          274.94,
          274.94,
          274.94,
          274.94,
          274.94,
          274.94,
          274.94,
          274.94,
          274.94,
          337.91,
          337.91,
          337.91,
          337.91,
          337.91,
          337.91,
          337.91,
          337.91,
          337.91,
          337.91,
          337.91,
          337.91,
          337.91,
          235.58,
          235.58,
          235.58,
          235.58,
          235.58,
          235.58,
          235.58,
          235.58,
          235.58,
          235.58,
          235.58,
          235.58,
          159.33,
          159.33,
          159.33,
          159.33,
          159.33,
          159.33,
          159.33,
          159.33,
          159.33,
          159.33,
          227.26,
          227.26,
          227.26,
          227.26,
          227.26,
          227.26,
          227.26,
          147.22,
          147.22,
          147.22,
          147.22,
          147.22,
          147.22,
          147.22,
          147.22,
          147.22,
          147.22,
          147.22,
          147.22,
          147.22,
          95.69,
          95.69,
          95.69,
          95.69,
          95.69,
          95.69,
          95.69,
          447.34,
          447.34,
          447.34,
          447.34,
          447.34,
          447.34,
          447.34,
          447.34,
          447.34,
          447.34,
          447.34,
          65.16,
          65.16,
          65.16,
          65.16,
          65.16,
          65.16,
          65.16,
          65.16,
          65.16,
          65.16,
          335.84,
          335.84,
          335.84,
          335.84,
          335.84,
          335.84,
          335.84,
          335.84,
          335.84,
          335.84,
          335.84,
          121.32,
          121.32,
          121.32,
          121.32,
          121.32,
          121.32,
          121.32,
          121.32,
          121.32,
          121.32,
          121.32,
          121.32,
          121.32,
          222.95,
          222.95,
          222.95,
          222.95,
          222.95,
          222.95,
          222.95,
          284.62,
          284.62,
          284.62,
          284.62,
          284.62,
          284.62,
          284.62,
          284.62,
          284.62,
          284.62,
          284.62,
          284.62,
          261.2,
          261.2,
          261.2,
          261.2,
          261.2,
          261.2,
          261.2,
          261.2,
          261.2,
          261.2,
          156.96,
          156.96,
          156.96,
          156.96,
          156.96,
          156.96,
          156.96,
          156.96,
          156.96,
          156.96,
          156.96,
          156.96,
          156.96,
          156.96,
          156.96,
          156.96,
          41.18,
          41.18,
          41.18,
          41.18,
          41.18,
          41.18,
          41.18,
          41.18,
          41.18,
          41.18,
          55.99,
          55.99,
          55.99,
          55.99,
          55.99,
          55.99,
          55.99,
          55.99,
          454.53,
          454.53,
          454.53,
          454.53,
          454.53,
          454.53,
          454.53,
          454.53,
          454.53,
          295.58,
          295.58,
          295.58,
          295.58,
          295.58,
          295.58,
          295.58,
          295.58,
          295.58,
          295.58,
          295.58,
          295.58,
          295.58,
          325.01,
          325.01,
          325.01,
          325.01,
          325.01,
          325.01,
          325.01,
          304.94,
          304.94,
          304.94,
          304.94,
          304.94,
          304.94,
          304.94,
          304.94
         ],
         "xaxis": "x",
         "y": [
          4,
          3,
          1,
          3,
          3,
          3,
          3,
          2,
          3,
          1,
          4,
          3,
          1,
          1,
          3,
          2,
          1,
          3,
          4,
          4,
          1,
          2,
          1,
          2,
          3,
          4,
          4,
          4,
          1,
          4,
          3,
          3,
          4,
          1,
          3,
          3,
          1,
          4,
          1,
          1,
          4,
          1,
          2,
          4,
          1,
          2,
          3,
          4,
          3,
          1,
          2,
          4,
          4,
          3,
          4,
          4,
          3,
          4,
          3,
          3,
          4,
          1,
          3,
          3,
          2,
          4,
          3,
          4,
          2,
          4,
          2,
          4,
          2,
          3,
          2,
          1,
          1,
          3,
          2,
          4,
          2,
          3,
          4,
          1,
          4,
          2,
          3,
          3,
          1,
          2,
          4,
          4,
          1,
          1,
          1,
          1,
          2,
          3,
          1,
          4,
          4,
          1,
          3,
          2,
          2,
          2,
          4,
          3,
          3,
          1,
          3,
          2,
          2,
          3,
          2,
          3,
          3,
          1,
          2,
          4,
          3,
          1,
          3,
          4,
          1,
          1,
          1,
          3,
          3,
          4,
          2,
          3,
          1,
          3,
          3,
          2,
          1,
          3,
          1,
          4,
          4,
          2,
          4,
          4,
          3,
          3,
          2,
          3,
          1,
          3,
          4,
          4,
          3,
          3,
          2,
          3,
          4,
          2,
          3,
          3,
          1,
          2,
          1,
          4,
          1,
          3,
          3,
          4,
          4,
          1,
          3,
          2,
          4,
          4,
          2,
          1,
          4,
          4,
          3,
          3,
          3,
          1,
          4,
          1,
          3,
          1,
          4,
          2,
          4,
          3,
          4,
          1,
          2,
          1,
          3,
          4,
          2,
          2,
          4,
          4,
          1,
          3,
          2,
          3,
          1,
          1,
          3,
          3,
          2,
          2,
          4,
          4,
          1,
          1,
          2,
          2,
          3,
          1,
          3,
          4,
          1,
          3,
          1,
          3,
          3,
          1,
          4,
          1,
          4,
          3,
          4,
          4,
          3,
          2,
          3,
          2,
          1,
          4,
          1,
          2,
          1,
          4,
          2,
          1,
          2,
          4,
          1,
          2
         ],
         "yaxis": "y"
        },
        {
         "hovertemplate": "<b>%{hovertext}</b><br><br>Category=Books<br>Price=%{x}<br>Quantity=%{y}<br>TotalValue=%{marker.size}<extra></extra>",
         "hovertext": [
          "SoundWave Textbook",
          "SoundWave Textbook",
          "SoundWave Textbook",
          "SoundWave Textbook",
          "SoundWave Textbook",
          "SoundWave Textbook",
          "SoundWave Textbook",
          "SoundWave Textbook",
          "SoundWave Textbook",
          "SoundWave Textbook",
          "SoundWave Textbook",
          "BookWorld Cookbook",
          "BookWorld Cookbook",
          "BookWorld Cookbook",
          "BookWorld Cookbook",
          "BookWorld Cookbook",
          "BookWorld Cookbook",
          "BookWorld Cookbook",
          "BookWorld Cookbook",
          "BookWorld Cookbook",
          "BookWorld Cookbook",
          "BookWorld Cookbook",
          "TechPro Textbook",
          "TechPro Textbook",
          "TechPro Textbook",
          "TechPro Textbook",
          "TechPro Textbook",
          "TechPro Textbook",
          "TechPro Textbook",
          "TechPro Textbook",
          "TechPro Textbook",
          "TechPro Textbook",
          "TechPro Textbook",
          "TechPro Textbook",
          "TechPro Textbook",
          "TechPro Textbook",
          "TechPro Textbook",
          "HomeSense Novel",
          "HomeSense Novel",
          "HomeSense Novel",
          "HomeSense Novel",
          "HomeSense Novel",
          "HomeSense Novel",
          "HomeSense Novel",
          "HomeSense Novel",
          "HomeSense Novel",
          "HomeSense Novel",
          "HomeSense Novel",
          "HomeSense Novel",
          "HomeSense Novel",
          "HomeSense Novel",
          "HomeSense Novel",
          "HomeSense Novel",
          "ActiveWear Cookbook",
          "ActiveWear Cookbook",
          "ActiveWear Cookbook",
          "ActiveWear Cookbook",
          "ActiveWear Cookbook",
          "ActiveWear Cookbook",
          "ActiveWear Cookbook",
          "ActiveWear Cookbook",
          "ActiveWear Cookbook",
          "BookWorld Cookbook",
          "BookWorld Cookbook",
          "BookWorld Cookbook",
          "BookWorld Cookbook",
          "BookWorld Cookbook",
          "BookWorld Cookbook",
          "BookWorld Cookbook",
          "BookWorld Cookbook",
          "BookWorld Cookbook",
          "SoundWave Mystery Book",
          "SoundWave Mystery Book",
          "SoundWave Mystery Book",
          "SoundWave Mystery Book",
          "TechPro Textbook",
          "TechPro Textbook",
          "TechPro Textbook",
          "TechPro Textbook",
          "TechPro Textbook",
          "TechPro Textbook",
          "TechPro Textbook",
          "TechPro Textbook",
          "TechPro Textbook",
          "TechPro Textbook",
          "TechPro Novel",
          "TechPro Novel",
          "TechPro Novel",
          "TechPro Novel",
          "TechPro Novel",
          "TechPro Novel",
          "TechPro Novel",
          "TechPro Novel",
          "TechPro Novel",
          "TechPro Novel",
          "TechPro Novel",
          "ComfortLiving Biography",
          "ComfortLiving Biography",
          "ComfortLiving Biography",
          "ComfortLiving Biography",
          "ComfortLiving Biography",
          "ComfortLiving Biography",
          "ComfortLiving Biography",
          "ComfortLiving Biography",
          "ActiveWear Textbook",
          "ActiveWear Textbook",
          "ActiveWear Textbook",
          "ActiveWear Textbook",
          "ActiveWear Textbook",
          "ActiveWear Textbook",
          "ActiveWear Textbook",
          "ActiveWear Textbook",
          "ActiveWear Textbook",
          "ActiveWear Textbook",
          "TechPro Novel",
          "TechPro Novel",
          "TechPro Novel",
          "TechPro Novel",
          "TechPro Novel",
          "TechPro Novel",
          "TechPro Novel",
          "TechPro Novel",
          "TechPro Novel",
          "SoundWave Cookbook",
          "SoundWave Cookbook",
          "SoundWave Cookbook",
          "SoundWave Cookbook",
          "SoundWave Cookbook",
          "TechPro Cookbook",
          "TechPro Cookbook",
          "TechPro Cookbook",
          "TechPro Cookbook",
          "TechPro Cookbook",
          "TechPro Cookbook",
          "TechPro Cookbook",
          "TechPro Cookbook",
          "TechPro Cookbook",
          "TechPro Cookbook",
          "TechPro Cookbook",
          "TechPro Cookbook",
          "TechPro Cookbook",
          "TechPro Cookbook",
          "TechPro Cookbook",
          "SoundWave Novel",
          "SoundWave Novel",
          "SoundWave Novel",
          "SoundWave Novel",
          "SoundWave Novel",
          "SoundWave Novel",
          "SoundWave Novel",
          "SoundWave Novel",
          "SoundWave Novel",
          "SoundWave Novel",
          "SoundWave Novel",
          "BookWorld Biography",
          "BookWorld Biography",
          "BookWorld Biography",
          "BookWorld Biography",
          "BookWorld Biography",
          "BookWorld Biography",
          "BookWorld Biography",
          "BookWorld Biography",
          "BookWorld Biography",
          "BookWorld Biography",
          "ComfortLiving Biography",
          "ComfortLiving Biography",
          "ComfortLiving Biography",
          "ComfortLiving Biography",
          "ComfortLiving Biography",
          "ComfortLiving Biography",
          "ComfortLiving Biography",
          "ComfortLiving Biography",
          "ComfortLiving Biography",
          "ComfortLiving Biography",
          "ComfortLiving Biography",
          "ComfortLiving Biography",
          "SoundWave Novel",
          "SoundWave Novel",
          "SoundWave Novel",
          "SoundWave Novel",
          "SoundWave Novel",
          "SoundWave Novel",
          "SoundWave Novel",
          "SoundWave Novel",
          "SoundWave Novel",
          "SoundWave Cookbook",
          "SoundWave Cookbook",
          "SoundWave Cookbook",
          "SoundWave Cookbook",
          "SoundWave Cookbook",
          "SoundWave Cookbook",
          "SoundWave Cookbook",
          "SoundWave Cookbook",
          "ActiveWear Textbook",
          "ActiveWear Textbook",
          "ActiveWear Textbook",
          "ActiveWear Textbook",
          "ActiveWear Textbook",
          "ActiveWear Textbook",
          "ActiveWear Textbook",
          "ActiveWear Textbook",
          "ActiveWear Textbook",
          "ActiveWear Textbook",
          "ActiveWear Textbook",
          "ActiveWear Textbook",
          "ActiveWear Textbook",
          "BookWorld Biography",
          "BookWorld Biography",
          "BookWorld Biography",
          "BookWorld Biography",
          "BookWorld Biography",
          "BookWorld Biography",
          "BookWorld Biography",
          "BookWorld Biography",
          "SoundWave Cookbook",
          "SoundWave Cookbook",
          "SoundWave Cookbook",
          "SoundWave Cookbook",
          "SoundWave Cookbook",
          "SoundWave Cookbook",
          "SoundWave Cookbook",
          "SoundWave Cookbook",
          "SoundWave Cookbook",
          "SoundWave Cookbook",
          "SoundWave Cookbook",
          "SoundWave Cookbook",
          "SoundWave Cookbook",
          "SoundWave Cookbook",
          "SoundWave Cookbook",
          "SoundWave Cookbook",
          "SoundWave Mystery Book",
          "SoundWave Mystery Book",
          "SoundWave Mystery Book",
          "SoundWave Mystery Book",
          "SoundWave Mystery Book",
          "SoundWave Mystery Book",
          "SoundWave Mystery Book",
          "SoundWave Mystery Book",
          "SoundWave Mystery Book",
          "SoundWave Mystery Book",
          "SoundWave Mystery Book",
          "SoundWave Mystery Book",
          "SoundWave Mystery Book",
          "BookWorld Biography",
          "BookWorld Biography",
          "BookWorld Biography",
          "BookWorld Biography",
          "BookWorld Biography",
          "BookWorld Biography",
          "BookWorld Biography",
          "BookWorld Biography",
          "BookWorld Biography",
          "BookWorld Biography",
          "BookWorld Biography",
          "BookWorld Biography",
          "ActiveWear Biography",
          "ActiveWear Biography",
          "ActiveWear Biography",
          "ActiveWear Biography",
          "ActiveWear Biography",
          "ActiveWear Biography",
          "ActiveWear Biography",
          "ActiveWear Biography",
          "ComfortLiving Mystery Book",
          "ComfortLiving Mystery Book",
          "ComfortLiving Mystery Book",
          "ComfortLiving Mystery Book",
          "ComfortLiving Mystery Book",
          "ComfortLiving Mystery Book",
          "ComfortLiving Mystery Book"
         ],
         "legendgroup": "Books",
         "marker": {
          "color": "rgb(227, 129, 145)",
          "size": [
           1011.66,
           337.22,
           1348.88,
           674.44,
           337.22,
           1011.66,
           1011.66,
           337.22,
           337.22,
           1348.88,
           337.22,
           488.63,
           1954.52,
           977.26,
           488.63,
           977.26,
           1465.89,
           977.26,
           977.26,
           1465.89,
           977.26,
           488.63,
           443.85,
           591.8,
           591.8,
           591.8,
           295.9,
           295.9,
           295.9,
           591.8,
           295.9,
           147.95,
           443.85,
           147.95,
           295.9,
           147.95,
           147.95,
           1122.48,
           1496.64,
           748.32,
           1122.48,
           748.32,
           374.16,
           748.32,
           374.16,
           1496.64,
           748.32,
           1496.64,
           374.16,
           1496.64,
           748.32,
           748.32,
           748.32,
           833.58,
           1111.44,
           1111.44,
           833.58,
           277.86,
           277.86,
           1111.44,
           277.86,
           277.86,
           1277.36,
           958.02,
           958.02,
           1277.36,
           958.02,
           319.34,
           1277.36,
           638.68,
           319.34,
           354.29,
           708.58,
           1417.16,
           1417.16,
           1493.28,
           1493.28,
           995.52,
           497.76,
           1493.28,
           1493.28,
           1991.04,
           1493.28,
           995.52,
           995.52,
           447.23,
           1341.69,
           894.46,
           1788.92,
           1341.69,
           1341.69,
           447.23,
           447.23,
           447.23,
           447.23,
           1341.69,
           165.3,
           330.6,
           661.2,
           165.3,
           330.6,
           330.6,
           165.3,
           165.3,
           1879.08,
           469.77,
           939.54,
           1879.08,
           939.54,
           1879.08,
           939.54,
           469.77,
           1879.08,
           939.54,
           134.36,
           33.59,
           33.59,
           100.77,
           100.77,
           100.77,
           100.77,
           134.36,
           100.77,
           1015.98,
           338.66,
           1354.64,
           677.32,
           677.32,
           1665.6,
           1249.2,
           1665.6,
           1665.6,
           1249.2,
           1665.6,
           416.4,
           832.8,
           1249.2,
           416.4,
           832.8,
           1249.2,
           416.4,
           1665.6,
           1665.6,
           808.8,
           808.8,
           1617.6,
           404.4,
           1617.6,
           1617.6,
           808.8,
           404.4,
           808.8,
           1213.2,
           1617.6,
           128.53,
           385.59,
           128.53,
           514.12,
           257.06,
           257.06,
           128.53,
           385.59,
           514.12,
           385.59,
           176.48,
           132.36,
           176.48,
           44.12,
           88.24,
           88.24,
           176.48,
           132.36,
           44.12,
           132.36,
           88.24,
           88.24,
           1762.8,
           881.4,
           440.7,
           1762.8,
           1322.1,
           1762.8,
           1322.1,
           1762.8,
           1762.8,
           1680.6,
           840.3,
           840.3,
           840.3,
           1680.6,
           420.15,
           1260.45,
           840.3,
           315.24,
           630.48,
           630.48,
           472.86,
           315.24,
           157.62,
           630.48,
           315.24,
           157.62,
           315.24,
           315.24,
           157.62,
           630.48,
           1249.05,
           832.7,
           1249.05,
           1249.05,
           1249.05,
           1665.4,
           416.35,
           1665.4,
           229.2,
           229.2,
           229.2,
           171.9,
           114.6,
           114.6,
           171.9,
           114.6,
           114.6,
           57.3,
           171.9,
           171.9,
           229.2,
           171.9,
           171.9,
           171.9,
           612.76,
           459.57,
           306.38,
           612.76,
           153.19,
           612.76,
           612.76,
           306.38,
           612.76,
           306.38,
           306.38,
           306.38,
           306.38,
           201.62,
           403.24,
           201.62,
           201.62,
           100.81,
           201.62,
           100.81,
           100.81,
           201.62,
           302.43,
           100.81,
           302.43,
           507.9,
           338.6,
           677.2,
           338.6,
           169.3,
           338.6,
           338.6,
           338.6,
           1747.56,
           436.89,
           436.89,
           1310.67,
           1747.56,
           1747.56,
           1310.67
          ],
          "sizemode": "area",
          "sizeref": 4.9776,
          "symbol": "circle"
         },
         "mode": "markers",
         "name": "Books",
         "orientation": "v",
         "showlegend": true,
         "type": "scatter",
         "x": [
          337.22,
          337.22,
          337.22,
          337.22,
          337.22,
          337.22,
          337.22,
          337.22,
          337.22,
          337.22,
          337.22,
          488.63,
          488.63,
          488.63,
          488.63,
          488.63,
          488.63,
          488.63,
          488.63,
          488.63,
          488.63,
          488.63,
          147.95,
          147.95,
          147.95,
          147.95,
          147.95,
          147.95,
          147.95,
          147.95,
          147.95,
          147.95,
          147.95,
          147.95,
          147.95,
          147.95,
          147.95,
          374.16,
          374.16,
          374.16,
          374.16,
          374.16,
          374.16,
          374.16,
          374.16,
          374.16,
          374.16,
          374.16,
          374.16,
          374.16,
          374.16,
          374.16,
          374.16,
          277.86,
          277.86,
          277.86,
          277.86,
          277.86,
          277.86,
          277.86,
          277.86,
          277.86,
          319.34,
          319.34,
          319.34,
          319.34,
          319.34,
          319.34,
          319.34,
          319.34,
          319.34,
          354.29,
          354.29,
          354.29,
          354.29,
          497.76,
          497.76,
          497.76,
          497.76,
          497.76,
          497.76,
          497.76,
          497.76,
          497.76,
          497.76,
          447.23,
          447.23,
          447.23,
          447.23,
          447.23,
          447.23,
          447.23,
          447.23,
          447.23,
          447.23,
          447.23,
          165.3,
          165.3,
          165.3,
          165.3,
          165.3,
          165.3,
          165.3,
          165.3,
          469.77,
          469.77,
          469.77,
          469.77,
          469.77,
          469.77,
          469.77,
          469.77,
          469.77,
          469.77,
          33.59,
          33.59,
          33.59,
          33.59,
          33.59,
          33.59,
          33.59,
          33.59,
          33.59,
          338.66,
          338.66,
          338.66,
          338.66,
          338.66,
          416.4,
          416.4,
          416.4,
          416.4,
          416.4,
          416.4,
          416.4,
          416.4,
          416.4,
          416.4,
          416.4,
          416.4,
          416.4,
          416.4,
          416.4,
          404.4,
          404.4,
          404.4,
          404.4,
          404.4,
          404.4,
          404.4,
          404.4,
          404.4,
          404.4,
          404.4,
          128.53,
          128.53,
          128.53,
          128.53,
          128.53,
          128.53,
          128.53,
          128.53,
          128.53,
          128.53,
          44.12,
          44.12,
          44.12,
          44.12,
          44.12,
          44.12,
          44.12,
          44.12,
          44.12,
          44.12,
          44.12,
          44.12,
          440.7,
          440.7,
          440.7,
          440.7,
          440.7,
          440.7,
          440.7,
          440.7,
          440.7,
          420.15,
          420.15,
          420.15,
          420.15,
          420.15,
          420.15,
          420.15,
          420.15,
          157.62,
          157.62,
          157.62,
          157.62,
          157.62,
          157.62,
          157.62,
          157.62,
          157.62,
          157.62,
          157.62,
          157.62,
          157.62,
          416.35,
          416.35,
          416.35,
          416.35,
          416.35,
          416.35,
          416.35,
          416.35,
          57.3,
          57.3,
          57.3,
          57.3,
          57.3,
          57.3,
          57.3,
          57.3,
          57.3,
          57.3,
          57.3,
          57.3,
          57.3,
          57.3,
          57.3,
          57.3,
          153.19,
          153.19,
          153.19,
          153.19,
          153.19,
          153.19,
          153.19,
          153.19,
          153.19,
          153.19,
          153.19,
          153.19,
          153.19,
          100.81,
          100.81,
          100.81,
          100.81,
          100.81,
          100.81,
          100.81,
          100.81,
          100.81,
          100.81,
          100.81,
          100.81,
          169.3,
          169.3,
          169.3,
          169.3,
          169.3,
          169.3,
          169.3,
          169.3,
          436.89,
          436.89,
          436.89,
          436.89,
          436.89,
          436.89,
          436.89
         ],
         "xaxis": "x",
         "y": [
          3,
          1,
          4,
          2,
          1,
          3,
          3,
          1,
          1,
          4,
          1,
          1,
          4,
          2,
          1,
          2,
          3,
          2,
          2,
          3,
          2,
          1,
          3,
          4,
          4,
          4,
          2,
          2,
          2,
          4,
          2,
          1,
          3,
          1,
          2,
          1,
          1,
          3,
          4,
          2,
          3,
          2,
          1,
          2,
          1,
          4,
          2,
          4,
          1,
          4,
          2,
          2,
          2,
          3,
          4,
          4,
          3,
          1,
          1,
          4,
          1,
          1,
          4,
          3,
          3,
          4,
          3,
          1,
          4,
          2,
          1,
          1,
          2,
          4,
          4,
          3,
          3,
          2,
          1,
          3,
          3,
          4,
          3,
          2,
          2,
          1,
          3,
          2,
          4,
          3,
          3,
          1,
          1,
          1,
          1,
          3,
          1,
          2,
          4,
          1,
          2,
          2,
          1,
          1,
          4,
          1,
          2,
          4,
          2,
          4,
          2,
          1,
          4,
          2,
          4,
          1,
          1,
          3,
          3,
          3,
          3,
          4,
          3,
          3,
          1,
          4,
          2,
          2,
          4,
          3,
          4,
          4,
          3,
          4,
          1,
          2,
          3,
          1,
          2,
          3,
          1,
          4,
          4,
          2,
          2,
          4,
          1,
          4,
          4,
          2,
          1,
          2,
          3,
          4,
          1,
          3,
          1,
          4,
          2,
          2,
          1,
          3,
          4,
          3,
          4,
          3,
          4,
          1,
          2,
          2,
          4,
          3,
          1,
          3,
          2,
          2,
          4,
          2,
          1,
          4,
          3,
          4,
          3,
          4,
          4,
          4,
          2,
          2,
          2,
          4,
          1,
          3,
          2,
          2,
          4,
          4,
          3,
          2,
          1,
          4,
          2,
          1,
          2,
          2,
          1,
          4,
          3,
          2,
          3,
          3,
          3,
          4,
          1,
          4,
          4,
          4,
          4,
          3,
          2,
          2,
          3,
          2,
          2,
          1,
          3,
          3,
          4,
          3,
          3,
          3,
          4,
          3,
          2,
          4,
          1,
          4,
          4,
          2,
          4,
          2,
          2,
          2,
          2,
          2,
          4,
          2,
          2,
          1,
          2,
          1,
          1,
          2,
          3,
          1,
          3,
          3,
          2,
          4,
          2,
          1,
          2,
          2,
          2,
          4,
          1,
          1,
          3,
          4,
          4,
          3
         ],
         "yaxis": "y"
        },
        {
         "hovertemplate": "<b>%{hovertext}</b><br><br>Category=Clothing<br>Price=%{x}<br>Quantity=%{y}<br>TotalValue=%{marker.size}<extra></extra>",
         "hovertext": [
          "SoundWave Jeans",
          "SoundWave Jeans",
          "SoundWave Jeans",
          "SoundWave Jeans",
          "SoundWave Jeans",
          "SoundWave Jeans",
          "SoundWave Jeans",
          "SoundWave Jeans",
          "SoundWave Jeans",
          "SoundWave Jeans",
          "SoundWave Jeans",
          "SoundWave Jeans",
          "SoundWave Jeans",
          "SoundWave Jeans",
          "SoundWave Jeans",
          "SoundWave Jeans",
          "SoundWave Jeans",
          "SoundWave Jeans",
          "SoundWave Jeans",
          "ActiveWear Jeans",
          "ActiveWear Jeans",
          "ActiveWear Jeans",
          "ActiveWear Jeans",
          "ActiveWear Jeans",
          "ActiveWear Jeans",
          "ActiveWear Jeans",
          "ActiveWear Jeans",
          "ActiveWear Jeans",
          "ActiveWear Jeans",
          "BookWorld Sweater",
          "BookWorld Sweater",
          "BookWorld Sweater",
          "BookWorld Sweater",
          "BookWorld Sweater",
          "BookWorld Sweater",
          "BookWorld Sweater",
          "BookWorld Sweater",
          "TechPro T-Shirt",
          "TechPro T-Shirt",
          "TechPro T-Shirt",
          "TechPro T-Shirt",
          "TechPro T-Shirt",
          "TechPro T-Shirt",
          "TechPro T-Shirt",
          "TechPro T-Shirt",
          "SoundWave Jacket",
          "SoundWave Jacket",
          "SoundWave Jacket",
          "SoundWave Jacket",
          "SoundWave Jacket",
          "ActiveWear T-Shirt",
          "ActiveWear T-Shirt",
          "ActiveWear T-Shirt",
          "ActiveWear T-Shirt",
          "ActiveWear T-Shirt",
          "ActiveWear T-Shirt",
          "ActiveWear T-Shirt",
          "ActiveWear T-Shirt",
          "ActiveWear T-Shirt",
          "ActiveWear T-Shirt",
          "ActiveWear Running Shoes",
          "ActiveWear Running Shoes",
          "ActiveWear Running Shoes",
          "ActiveWear Running Shoes",
          "ActiveWear Running Shoes",
          "ActiveWear Running Shoes",
          "ActiveWear Running Shoes",
          "ActiveWear Running Shoes",
          "ActiveWear Running Shoes",
          "HomeSense T-Shirt",
          "HomeSense T-Shirt",
          "HomeSense T-Shirt",
          "HomeSense T-Shirt",
          "HomeSense T-Shirt",
          "HomeSense T-Shirt",
          "HomeSense T-Shirt",
          "HomeSense T-Shirt",
          "HomeSense T-Shirt",
          "BookWorld Jacket",
          "BookWorld Jacket",
          "BookWorld Jacket",
          "BookWorld Jacket",
          "BookWorld Jacket",
          "BookWorld Jacket",
          "BookWorld Jacket",
          "BookWorld Jacket",
          "BookWorld Jacket",
          "BookWorld Jacket",
          "BookWorld Jacket",
          "BookWorld Jacket",
          "HomeSense Sweater",
          "HomeSense Sweater",
          "HomeSense Sweater",
          "HomeSense Sweater",
          "HomeSense Sweater",
          "HomeSense Sweater",
          "ComfortLiving Sweater",
          "ComfortLiving Sweater",
          "ComfortLiving Sweater",
          "ComfortLiving Sweater",
          "ComfortLiving Sweater",
          "ComfortLiving Sweater",
          "ComfortLiving Sweater",
          "ComfortLiving Sweater",
          "ComfortLiving Sweater",
          "ComfortLiving Sweater",
          "ComfortLiving Sweater",
          "TechPro T-Shirt",
          "TechPro T-Shirt",
          "TechPro T-Shirt",
          "TechPro T-Shirt",
          "TechPro T-Shirt",
          "TechPro T-Shirt",
          "TechPro T-Shirt",
          "TechPro T-Shirt",
          "HomeSense Running Shoes",
          "HomeSense Running Shoes",
          "HomeSense Running Shoes",
          "HomeSense Running Shoes",
          "HomeSense Running Shoes",
          "HomeSense Running Shoes",
          "HomeSense Running Shoes",
          "HomeSense Running Shoes",
          "HomeSense Running Shoes",
          "HomeSense Running Shoes",
          "HomeSense Sweater",
          "HomeSense Sweater",
          "HomeSense Sweater",
          "HomeSense Sweater",
          "HomeSense Sweater",
          "HomeSense Sweater",
          "HomeSense Sweater",
          "HomeSense Sweater",
          "HomeSense Sweater",
          "HomeSense Sweater",
          "HomeSense Sweater",
          "HomeSense Sweater",
          "HomeSense Sweater",
          "BookWorld Sweater",
          "BookWorld Sweater",
          "BookWorld Sweater",
          "BookWorld Sweater",
          "BookWorld Sweater",
          "BookWorld Sweater",
          "BookWorld Sweater",
          "BookWorld Sweater",
          "BookWorld Sweater",
          "BookWorld Sweater",
          "BookWorld Sweater",
          "BookWorld Running Shoes",
          "BookWorld Running Shoes",
          "BookWorld Running Shoes",
          "BookWorld Running Shoes",
          "BookWorld Running Shoes",
          "BookWorld Running Shoes",
          "BookWorld Running Shoes",
          "BookWorld Running Shoes",
          "BookWorld Running Shoes",
          "ActiveWear Jacket",
          "ActiveWear Jacket",
          "ActiveWear Jacket",
          "ActiveWear Jacket",
          "ActiveWear Jacket",
          "ActiveWear Jacket",
          "ActiveWear Jacket",
          "ActiveWear Jacket",
          "ActiveWear Jacket",
          "ActiveWear Jacket",
          "ActiveWear Jacket",
          "ActiveWear Jacket",
          "ActiveWear Jacket",
          "ActiveWear Jacket",
          "SoundWave T-Shirt",
          "SoundWave T-Shirt",
          "SoundWave T-Shirt",
          "SoundWave T-Shirt",
          "SoundWave T-Shirt",
          "SoundWave T-Shirt",
          "SoundWave T-Shirt",
          "SoundWave T-Shirt",
          "TechPro Running Shoes",
          "TechPro Running Shoes",
          "TechPro Running Shoes",
          "TechPro Running Shoes",
          "TechPro Running Shoes",
          "TechPro Running Shoes",
          "TechPro Running Shoes",
          "TechPro Running Shoes",
          "TechPro Running Shoes",
          "TechPro Running Shoes",
          "TechPro Running Shoes",
          "TechPro Running Shoes",
          "ActiveWear Jacket",
          "ActiveWear Jacket",
          "ActiveWear Jacket",
          "ActiveWear Jacket",
          "ActiveWear Jacket",
          "ActiveWear Jacket",
          "ActiveWear Jacket",
          "ActiveWear Jacket",
          "ActiveWear Jacket",
          "ActiveWear Jacket",
          "ActiveWear Jacket",
          "ActiveWear Jacket",
          "HomeSense T-Shirt",
          "HomeSense T-Shirt",
          "HomeSense T-Shirt",
          "HomeSense T-Shirt",
          "HomeSense T-Shirt",
          "HomeSense T-Shirt",
          "TechPro T-Shirt",
          "TechPro T-Shirt",
          "TechPro T-Shirt",
          "TechPro T-Shirt",
          "TechPro T-Shirt",
          "TechPro T-Shirt",
          "TechPro T-Shirt",
          "TechPro T-Shirt",
          "HomeSense T-Shirt",
          "HomeSense T-Shirt",
          "HomeSense T-Shirt",
          "HomeSense T-Shirt",
          "HomeSense T-Shirt",
          "HomeSense T-Shirt",
          "ActiveWear Running Shoes",
          "ActiveWear Running Shoes",
          "ActiveWear Running Shoes",
          "ActiveWear Running Shoes"
         ],
         "legendgroup": "Clothing",
         "marker": {
          "color": "rgb(204, 96, 125)",
          "size": [
           909.6,
           909.6,
           303.2,
           303.2,
           909.6,
           303.2,
           909.6,
           303.2,
           1212.8,
           909.6,
           606.4,
           1212.8,
           1212.8,
           606.4,
           303.2,
           909.6,
           606.4,
           303.2,
           1212.8,
           1717.16,
           858.58,
           1717.16,
           429.29,
           1287.87,
           1717.16,
           1287.87,
           1287.87,
           429.29,
           429.29,
           732.14,
           1098.21,
           1464.28,
           366.07,
           1464.28,
           1098.21,
           366.07,
           1464.28,
           128.5,
           192.75,
           128.5,
           192.75,
           128.5,
           192.75,
           257,
           192.75,
           1419.24,
           709.62,
           1419.24,
           709.62,
           1419.24,
           122.36,
           91.77,
           122.36,
           61.18,
           30.59,
           30.59,
           30.59,
           61.18,
           122.36,
           122.36,
           330.05,
           1320.2,
           330.05,
           990.15,
           1320.2,
           330.05,
           1320.2,
           990.15,
           330.05,
           434.1,
           434.1,
           868.2,
           868.2,
           651.15,
           217.05,
           868.2,
           217.05,
           217.05,
           372.55,
           1490.2,
           745.1,
           1117.65,
           372.55,
           372.55,
           745.1,
           372.55,
           372.55,
           745.1,
           1117.65,
           1117.65,
           505.36,
           252.68,
           126.34,
           505.36,
           252.68,
           252.68,
           770.74,
           385.37,
           770.74,
           1156.11,
           1541.48,
           1541.48,
           1541.48,
           1541.48,
           1156.11,
           1541.48,
           1541.48,
           382.08,
           254.72,
           382.08,
           509.44,
           127.36,
           509.44,
           254.72,
           127.36,
           1357.26,
           452.42,
           452.42,
           1357.26,
           452.42,
           1809.68,
           452.42,
           1809.68,
           1357.26,
           904.84,
           66.32,
           66.32,
           198.96,
           198.96,
           132.64,
           66.32,
           265.28,
           66.32,
           265.28,
           265.28,
           198.96,
           265.28,
           132.64,
           427.61,
           855.22,
           855.22,
           855.22,
           1282.83,
           855.22,
           1282.83,
           1710.44,
           855.22,
           427.61,
           1282.83,
           389.2,
           1167.6,
           1556.8,
           1556.8,
           1556.8,
           389.2,
           1167.6,
           778.4,
           1556.8,
           1214,
           303.5,
           607,
           1214,
           607,
           607,
           1214,
           303.5,
           303.5,
           910.5,
           105.04,
           78.78,
           105.04,
           78.78,
           963.56,
           963.56,
           481.78,
           963.56,
           963.56,
           963.56,
           1445.34,
           1927.12,
           580.34,
           1160.68,
           580.34,
           290.17,
           290.17,
           580.34,
           1160.68,
           290.17,
           1160.68,
           580.34,
           870.51,
           580.34,
           792.68,
           1189.02,
           1585.36,
           1189.02,
           1585.36,
           1585.36,
           1585.36,
           1585.36,
           1585.36,
           396.34,
           1585.36,
           396.34,
           194.76,
           97.38,
           48.69,
           146.07,
           48.69,
           194.76,
           1287.93,
           1717.24,
           1287.93,
           858.62,
           1287.93,
           1287.93,
           1287.93,
           1287.93,
           622.6,
           155.65,
           622.6,
           311.3,
           155.65,
           155.65,
           75.28,
           75.28,
           56.46,
           37.64
          ],
          "sizemode": "area",
          "sizeref": 4.9776,
          "symbol": "circle"
         },
         "mode": "markers",
         "name": "Clothing",
         "orientation": "v",
         "showlegend": true,
         "type": "scatter",
         "x": [
          303.2,
          303.2,
          303.2,
          303.2,
          303.2,
          303.2,
          303.2,
          303.2,
          303.2,
          303.2,
          303.2,
          303.2,
          303.2,
          303.2,
          303.2,
          303.2,
          303.2,
          303.2,
          303.2,
          429.29,
          429.29,
          429.29,
          429.29,
          429.29,
          429.29,
          429.29,
          429.29,
          429.29,
          429.29,
          366.07,
          366.07,
          366.07,
          366.07,
          366.07,
          366.07,
          366.07,
          366.07,
          64.25,
          64.25,
          64.25,
          64.25,
          64.25,
          64.25,
          64.25,
          64.25,
          354.81,
          354.81,
          354.81,
          354.81,
          354.81,
          30.59,
          30.59,
          30.59,
          30.59,
          30.59,
          30.59,
          30.59,
          30.59,
          30.59,
          30.59,
          330.05,
          330.05,
          330.05,
          330.05,
          330.05,
          330.05,
          330.05,
          330.05,
          330.05,
          217.05,
          217.05,
          217.05,
          217.05,
          217.05,
          217.05,
          217.05,
          217.05,
          217.05,
          372.55,
          372.55,
          372.55,
          372.55,
          372.55,
          372.55,
          372.55,
          372.55,
          372.55,
          372.55,
          372.55,
          372.55,
          126.34,
          126.34,
          126.34,
          126.34,
          126.34,
          126.34,
          385.37,
          385.37,
          385.37,
          385.37,
          385.37,
          385.37,
          385.37,
          385.37,
          385.37,
          385.37,
          385.37,
          127.36,
          127.36,
          127.36,
          127.36,
          127.36,
          127.36,
          127.36,
          127.36,
          452.42,
          452.42,
          452.42,
          452.42,
          452.42,
          452.42,
          452.42,
          452.42,
          452.42,
          452.42,
          66.32,
          66.32,
          66.32,
          66.32,
          66.32,
          66.32,
          66.32,
          66.32,
          66.32,
          66.32,
          66.32,
          66.32,
          66.32,
          427.61,
          427.61,
          427.61,
          427.61,
          427.61,
          427.61,
          427.61,
          427.61,
          427.61,
          427.61,
          427.61,
          389.2,
          389.2,
          389.2,
          389.2,
          389.2,
          389.2,
          389.2,
          389.2,
          389.2,
          303.5,
          303.5,
          303.5,
          303.5,
          303.5,
          303.5,
          303.5,
          303.5,
          303.5,
          303.5,
          26.26,
          26.26,
          26.26,
          26.26,
          481.78,
          481.78,
          481.78,
          481.78,
          481.78,
          481.78,
          481.78,
          481.78,
          290.17,
          290.17,
          290.17,
          290.17,
          290.17,
          290.17,
          290.17,
          290.17,
          290.17,
          290.17,
          290.17,
          290.17,
          396.34,
          396.34,
          396.34,
          396.34,
          396.34,
          396.34,
          396.34,
          396.34,
          396.34,
          396.34,
          396.34,
          396.34,
          48.69,
          48.69,
          48.69,
          48.69,
          48.69,
          48.69,
          429.31,
          429.31,
          429.31,
          429.31,
          429.31,
          429.31,
          429.31,
          429.31,
          155.65,
          155.65,
          155.65,
          155.65,
          155.65,
          155.65,
          18.82,
          18.82,
          18.82,
          18.82
         ],
         "xaxis": "x",
         "y": [
          3,
          3,
          1,
          1,
          3,
          1,
          3,
          1,
          4,
          3,
          2,
          4,
          4,
          2,
          1,
          3,
          2,
          1,
          4,
          4,
          2,
          4,
          1,
          3,
          4,
          3,
          3,
          1,
          1,
          2,
          3,
          4,
          1,
          4,
          3,
          1,
          4,
          2,
          3,
          2,
          3,
          2,
          3,
          4,
          3,
          4,
          2,
          4,
          2,
          4,
          4,
          3,
          4,
          2,
          1,
          1,
          1,
          2,
          4,
          4,
          1,
          4,
          1,
          3,
          4,
          1,
          4,
          3,
          1,
          2,
          2,
          4,
          4,
          3,
          1,
          4,
          1,
          1,
          1,
          4,
          2,
          3,
          1,
          1,
          2,
          1,
          1,
          2,
          3,
          3,
          4,
          2,
          1,
          4,
          2,
          2,
          2,
          1,
          2,
          3,
          4,
          4,
          4,
          4,
          3,
          4,
          4,
          3,
          2,
          3,
          4,
          1,
          4,
          2,
          1,
          3,
          1,
          1,
          3,
          1,
          4,
          1,
          4,
          3,
          2,
          1,
          1,
          3,
          3,
          2,
          1,
          4,
          1,
          4,
          4,
          3,
          4,
          2,
          1,
          2,
          2,
          2,
          3,
          2,
          3,
          4,
          2,
          1,
          3,
          1,
          3,
          4,
          4,
          4,
          1,
          3,
          2,
          4,
          4,
          1,
          2,
          4,
          2,
          2,
          4,
          1,
          1,
          3,
          4,
          3,
          4,
          3,
          2,
          2,
          1,
          2,
          2,
          2,
          3,
          4,
          2,
          4,
          2,
          1,
          1,
          2,
          4,
          1,
          4,
          2,
          3,
          2,
          2,
          3,
          4,
          3,
          4,
          4,
          4,
          4,
          4,
          1,
          4,
          1,
          4,
          2,
          1,
          3,
          1,
          4,
          3,
          4,
          3,
          2,
          3,
          3,
          3,
          3,
          4,
          1,
          4,
          2,
          1,
          1,
          4,
          4,
          3,
          2
         ],
         "yaxis": "y"
        }
       ],
       "layout": {
        "legend": {
         "itemsizing": "constant",
         "title": {
          "text": "Category"
         },
         "tracegroupgap": 0
        },
        "template": {
         "data": {
          "bar": [
           {
            "error_x": {
             "color": "#2a3f5f"
            },
            "error_y": {
             "color": "#2a3f5f"
            },
            "marker": {
             "line": {
              "color": "#E5ECF6",
              "width": 0.5
             },
             "pattern": {
              "fillmode": "overlay",
              "size": 10,
              "solidity": 0.2
             }
            },
            "type": "bar"
           }
          ],
          "barpolar": [
           {
            "marker": {
             "line": {
              "color": "#E5ECF6",
              "width": 0.5
             },
             "pattern": {
              "fillmode": "overlay",
              "size": 10,
              "solidity": 0.2
             }
            },
            "type": "barpolar"
           }
          ],
          "carpet": [
           {
            "aaxis": {
             "endlinecolor": "#2a3f5f",
             "gridcolor": "white",
             "linecolor": "white",
             "minorgridcolor": "white",
             "startlinecolor": "#2a3f5f"
            },
            "baxis": {
             "endlinecolor": "#2a3f5f",
             "gridcolor": "white",
             "linecolor": "white",
             "minorgridcolor": "white",
             "startlinecolor": "#2a3f5f"
            },
            "type": "carpet"
           }
          ],
          "choropleth": [
           {
            "colorbar": {
             "outlinewidth": 0,
             "ticks": ""
            },
            "type": "choropleth"
           }
          ],
          "contour": [
           {
            "colorbar": {
             "outlinewidth": 0,
             "ticks": ""
            },
            "colorscale": [
             [
              0,
              "#0d0887"
             ],
             [
              0.1111111111111111,
              "#46039f"
             ],
             [
              0.2222222222222222,
              "#7201a8"
             ],
             [
              0.3333333333333333,
              "#9c179e"
             ],
             [
              0.4444444444444444,
              "#bd3786"
             ],
             [
              0.5555555555555556,
              "#d8576b"
             ],
             [
              0.6666666666666666,
              "#ed7953"
             ],
             [
              0.7777777777777778,
              "#fb9f3a"
             ],
             [
              0.8888888888888888,
              "#fdca26"
             ],
             [
              1,
              "#f0f921"
             ]
            ],
            "type": "contour"
           }
          ],
          "contourcarpet": [
           {
            "colorbar": {
             "outlinewidth": 0,
             "ticks": ""
            },
            "type": "contourcarpet"
           }
          ],
          "heatmap": [
           {
            "colorbar": {
             "outlinewidth": 0,
             "ticks": ""
            },
            "colorscale": [
             [
              0,
              "#0d0887"
             ],
             [
              0.1111111111111111,
              "#46039f"
             ],
             [
              0.2222222222222222,
              "#7201a8"
             ],
             [
              0.3333333333333333,
              "#9c179e"
             ],
             [
              0.4444444444444444,
              "#bd3786"
             ],
             [
              0.5555555555555556,
              "#d8576b"
             ],
             [
              0.6666666666666666,
              "#ed7953"
             ],
             [
              0.7777777777777778,
              "#fb9f3a"
             ],
             [
              0.8888888888888888,
              "#fdca26"
             ],
             [
              1,
              "#f0f921"
             ]
            ],
            "type": "heatmap"
           }
          ],
          "heatmapgl": [
           {
            "colorbar": {
             "outlinewidth": 0,
             "ticks": ""
            },
            "colorscale": [
             [
              0,
              "#0d0887"
             ],
             [
              0.1111111111111111,
              "#46039f"
             ],
             [
              0.2222222222222222,
              "#7201a8"
             ],
             [
              0.3333333333333333,
              "#9c179e"
             ],
             [
              0.4444444444444444,
              "#bd3786"
             ],
             [
              0.5555555555555556,
              "#d8576b"
             ],
             [
              0.6666666666666666,
              "#ed7953"
             ],
             [
              0.7777777777777778,
              "#fb9f3a"
             ],
             [
              0.8888888888888888,
              "#fdca26"
             ],
             [
              1,
              "#f0f921"
             ]
            ],
            "type": "heatmapgl"
           }
          ],
          "histogram": [
           {
            "marker": {
             "pattern": {
              "fillmode": "overlay",
              "size": 10,
              "solidity": 0.2
             }
            },
            "type": "histogram"
           }
          ],
          "histogram2d": [
           {
            "colorbar": {
             "outlinewidth": 0,
             "ticks": ""
            },
            "colorscale": [
             [
              0,
              "#0d0887"
             ],
             [
              0.1111111111111111,
              "#46039f"
             ],
             [
              0.2222222222222222,
              "#7201a8"
             ],
             [
              0.3333333333333333,
              "#9c179e"
             ],
             [
              0.4444444444444444,
              "#bd3786"
             ],
             [
              0.5555555555555556,
              "#d8576b"
             ],
             [
              0.6666666666666666,
              "#ed7953"
             ],
             [
              0.7777777777777778,
              "#fb9f3a"
             ],
             [
              0.8888888888888888,
              "#fdca26"
             ],
             [
              1,
              "#f0f921"
             ]
            ],
            "type": "histogram2d"
           }
          ],
          "histogram2dcontour": [
           {
            "colorbar": {
             "outlinewidth": 0,
             "ticks": ""
            },
            "colorscale": [
             [
              0,
              "#0d0887"
             ],
             [
              0.1111111111111111,
              "#46039f"
             ],
             [
              0.2222222222222222,
              "#7201a8"
             ],
             [
              0.3333333333333333,
              "#9c179e"
             ],
             [
              0.4444444444444444,
              "#bd3786"
             ],
             [
              0.5555555555555556,
              "#d8576b"
             ],
             [
              0.6666666666666666,
              "#ed7953"
             ],
             [
              0.7777777777777778,
              "#fb9f3a"
             ],
             [
              0.8888888888888888,
              "#fdca26"
             ],
             [
              1,
              "#f0f921"
             ]
            ],
            "type": "histogram2dcontour"
           }
          ],
          "mesh3d": [
           {
            "colorbar": {
             "outlinewidth": 0,
             "ticks": ""
            },
            "type": "mesh3d"
           }
          ],
          "parcoords": [
           {
            "line": {
             "colorbar": {
              "outlinewidth": 0,
              "ticks": ""
             }
            },
            "type": "parcoords"
           }
          ],
          "pie": [
           {
            "automargin": true,
            "type": "pie"
           }
          ],
          "scatter": [
           {
            "fillpattern": {
             "fillmode": "overlay",
             "size": 10,
             "solidity": 0.2
            },
            "type": "scatter"
           }
          ],
          "scatter3d": [
           {
            "line": {
             "colorbar": {
              "outlinewidth": 0,
              "ticks": ""
             }
            },
            "marker": {
             "colorbar": {
              "outlinewidth": 0,
              "ticks": ""
             }
            },
            "type": "scatter3d"
           }
          ],
          "scattercarpet": [
           {
            "marker": {
             "colorbar": {
              "outlinewidth": 0,
              "ticks": ""
             }
            },
            "type": "scattercarpet"
           }
          ],
          "scattergeo": [
           {
            "marker": {
             "colorbar": {
              "outlinewidth": 0,
              "ticks": ""
             }
            },
            "type": "scattergeo"
           }
          ],
          "scattergl": [
           {
            "marker": {
             "colorbar": {
              "outlinewidth": 0,
              "ticks": ""
             }
            },
            "type": "scattergl"
           }
          ],
          "scattermapbox": [
           {
            "marker": {
             "colorbar": {
              "outlinewidth": 0,
              "ticks": ""
             }
            },
            "type": "scattermapbox"
           }
          ],
          "scatterpolar": [
           {
            "marker": {
             "colorbar": {
              "outlinewidth": 0,
              "ticks": ""
             }
            },
            "type": "scatterpolar"
           }
          ],
          "scatterpolargl": [
           {
            "marker": {
             "colorbar": {
              "outlinewidth": 0,
              "ticks": ""
             }
            },
            "type": "scatterpolargl"
           }
          ],
          "scatterternary": [
           {
            "marker": {
             "colorbar": {
              "outlinewidth": 0,
              "ticks": ""
             }
            },
            "type": "scatterternary"
           }
          ],
          "surface": [
           {
            "colorbar": {
             "outlinewidth": 0,
             "ticks": ""
            },
            "colorscale": [
             [
              0,
              "#0d0887"
             ],
             [
              0.1111111111111111,
              "#46039f"
             ],
             [
              0.2222222222222222,
              "#7201a8"
             ],
             [
              0.3333333333333333,
              "#9c179e"
             ],
             [
              0.4444444444444444,
              "#bd3786"
             ],
             [
              0.5555555555555556,
              "#d8576b"
             ],
             [
              0.6666666666666666,
              "#ed7953"
             ],
             [
              0.7777777777777778,
              "#fb9f3a"
             ],
             [
              0.8888888888888888,
              "#fdca26"
             ],
             [
              1,
              "#f0f921"
             ]
            ],
            "type": "surface"
           }
          ],
          "table": [
           {
            "cells": {
             "fill": {
              "color": "#EBF0F8"
             },
             "line": {
              "color": "white"
             }
            },
            "header": {
             "fill": {
              "color": "#C8D4E3"
             },
             "line": {
              "color": "white"
             }
            },
            "type": "table"
           }
          ]
         },
         "layout": {
          "annotationdefaults": {
           "arrowcolor": "#2a3f5f",
           "arrowhead": 0,
           "arrowwidth": 1
          },
          "autotypenumbers": "strict",
          "coloraxis": {
           "colorbar": {
            "outlinewidth": 0,
            "ticks": ""
           }
          },
          "colorscale": {
           "diverging": [
            [
             0,
             "#8e0152"
            ],
            [
             0.1,
             "#c51b7d"
            ],
            [
             0.2,
             "#de77ae"
            ],
            [
             0.3,
             "#f1b6da"
            ],
            [
             0.4,
             "#fde0ef"
            ],
            [
             0.5,
             "#f7f7f7"
            ],
            [
             0.6,
             "#e6f5d0"
            ],
            [
             0.7,
             "#b8e186"
            ],
            [
             0.8,
             "#7fbc41"
            ],
            [
             0.9,
             "#4d9221"
            ],
            [
             1,
             "#276419"
            ]
           ],
           "sequential": [
            [
             0,
             "#0d0887"
            ],
            [
             0.1111111111111111,
             "#46039f"
            ],
            [
             0.2222222222222222,
             "#7201a8"
            ],
            [
             0.3333333333333333,
             "#9c179e"
            ],
            [
             0.4444444444444444,
             "#bd3786"
            ],
            [
             0.5555555555555556,
             "#d8576b"
            ],
            [
             0.6666666666666666,
             "#ed7953"
            ],
            [
             0.7777777777777778,
             "#fb9f3a"
            ],
            [
             0.8888888888888888,
             "#fdca26"
            ],
            [
             1,
             "#f0f921"
            ]
           ],
           "sequentialminus": [
            [
             0,
             "#0d0887"
            ],
            [
             0.1111111111111111,
             "#46039f"
            ],
            [
             0.2222222222222222,
             "#7201a8"
            ],
            [
             0.3333333333333333,
             "#9c179e"
            ],
            [
             0.4444444444444444,
             "#bd3786"
            ],
            [
             0.5555555555555556,
             "#d8576b"
            ],
            [
             0.6666666666666666,
             "#ed7953"
            ],
            [
             0.7777777777777778,
             "#fb9f3a"
            ],
            [
             0.8888888888888888,
             "#fdca26"
            ],
            [
             1,
             "#f0f921"
            ]
           ]
          },
          "colorway": [
           "#636efa",
           "#EF553B",
           "#00cc96",
           "#ab63fa",
           "#FFA15A",
           "#19d3f3",
           "#FF6692",
           "#B6E880",
           "#FF97FF",
           "#FECB52"
          ],
          "font": {
           "color": "#2a3f5f"
          },
          "geo": {
           "bgcolor": "white",
           "lakecolor": "white",
           "landcolor": "#E5ECF6",
           "showlakes": true,
           "showland": true,
           "subunitcolor": "white"
          },
          "hoverlabel": {
           "align": "left"
          },
          "hovermode": "closest",
          "mapbox": {
           "style": "light"
          },
          "paper_bgcolor": "white",
          "plot_bgcolor": "#E5ECF6",
          "polar": {
           "angularaxis": {
            "gridcolor": "white",
            "linecolor": "white",
            "ticks": ""
           },
           "bgcolor": "#E5ECF6",
           "radialaxis": {
            "gridcolor": "white",
            "linecolor": "white",
            "ticks": ""
           }
          },
          "scene": {
           "xaxis": {
            "backgroundcolor": "#E5ECF6",
            "gridcolor": "white",
            "gridwidth": 2,
            "linecolor": "white",
            "showbackground": true,
            "ticks": "",
            "zerolinecolor": "white"
           },
           "yaxis": {
            "backgroundcolor": "#E5ECF6",
            "gridcolor": "white",
            "gridwidth": 2,
            "linecolor": "white",
            "showbackground": true,
            "ticks": "",
            "zerolinecolor": "white"
           },
           "zaxis": {
            "backgroundcolor": "#E5ECF6",
            "gridcolor": "white",
            "gridwidth": 2,
            "linecolor": "white",
            "showbackground": true,
            "ticks": "",
            "zerolinecolor": "white"
           }
          },
          "shapedefaults": {
           "line": {
            "color": "#2a3f5f"
           }
          },
          "ternary": {
           "aaxis": {
            "gridcolor": "white",
            "linecolor": "white",
            "ticks": ""
           },
           "baxis": {
            "gridcolor": "white",
            "linecolor": "white",
            "ticks": ""
           },
           "bgcolor": "#E5ECF6",
           "caxis": {
            "gridcolor": "white",
            "linecolor": "white",
            "ticks": ""
           }
          },
          "title": {
           "x": 0.05
          },
          "xaxis": {
           "automargin": true,
           "gridcolor": "white",
           "linecolor": "white",
           "ticks": "",
           "title": {
            "standoff": 15
           },
           "zerolinecolor": "white",
           "zerolinewidth": 2
          },
          "yaxis": {
           "automargin": true,
           "gridcolor": "white",
           "linecolor": "white",
           "ticks": "",
           "title": {
            "standoff": 15
           },
           "zerolinecolor": "white",
           "zerolinewidth": 2
          }
         }
        },
        "title": {
         "text": "Price vs Quantity Sold by Category"
        },
        "xaxis": {
         "anchor": "y",
         "domain": [
          0,
          1
         ],
         "title": {
          "text": "Price"
         }
        },
        "yaxis": {
         "anchor": "x",
         "domain": [
          0,
          1
         ],
         "title": {
          "text": "Quantity"
         }
        }
       }
      },
      "text/html": [
       "<div>                            <div id=\"908fda43-ab2c-4c04-a4bd-910771496f1c\" class=\"plotly-graph-div\" style=\"height:525px; width:100%;\"></div>            <script type=\"text/javascript\">                require([\"plotly\"], function(Plotly) {                    window.PLOTLYENV=window.PLOTLYENV || {};                                    if (document.getElementById(\"908fda43-ab2c-4c04-a4bd-910771496f1c\")) {                    Plotly.newPlot(                        \"908fda43-ab2c-4c04-a4bd-910771496f1c\",                        [{\"hovertemplate\":\"<b>%{hovertext}</b><br><br>Category=Electronics<br>Price=%{x}<br>Quantity=%{y}<br>TotalValue=%{marker.size}<extra></extra>\",\"hovertext\":[\"ComfortLiving Bluetooth Speaker\",\"ComfortLiving Bluetooth Speaker\",\"ComfortLiving Bluetooth Speaker\",\"ComfortLiving Bluetooth Speaker\",\"ComfortLiving Bluetooth Speaker\",\"ComfortLiving Bluetooth Speaker\",\"ComfortLiving Bluetooth Speaker\",\"ComfortLiving Bluetooth Speaker\",\"ComfortLiving Bluetooth Speaker\",\"ComfortLiving Bluetooth Speaker\",\"ComfortLiving Bluetooth Speaker\",\"ComfortLiving Bluetooth Speaker\",\"ComfortLiving Bluetooth Speaker\",\"BookWorld Bluetooth Speaker\",\"BookWorld Bluetooth Speaker\",\"BookWorld Bluetooth Speaker\",\"BookWorld Bluetooth Speaker\",\"BookWorld Bluetooth Speaker\",\"BookWorld Bluetooth Speaker\",\"BookWorld Bluetooth Speaker\",\"BookWorld Bluetooth Speaker\",\"BookWorld Bluetooth Speaker\",\"BookWorld Bluetooth Speaker\",\"TechPro Headphones\",\"TechPro Headphones\",\"TechPro Headphones\",\"TechPro Headphones\",\"TechPro Headphones\",\"TechPro Headphones\",\"TechPro Headphones\",\"TechPro Headphones\",\"TechPro Headphones\",\"TechPro Headphones\",\"TechPro Headphones\",\"TechPro Headphones\",\"TechPro Headphones\",\"TechPro Headphones\",\"TechPro Headphones\",\"TechPro Headphones\",\"TechPro Headphones\",\"SoundWave Headphones\",\"SoundWave Headphones\",\"SoundWave Headphones\",\"SoundWave Headphones\",\"SoundWave Headphones\",\"SoundWave Headphones\",\"SoundWave Headphones\",\"SoundWave Headphones\",\"SoundWave Laptop\",\"SoundWave Laptop\",\"SoundWave Laptop\",\"SoundWave Laptop\",\"SoundWave Laptop\",\"SoundWave Laptop\",\"SoundWave Laptop\",\"ActiveWear Smartphone\",\"ActiveWear Smartphone\",\"ActiveWear Smartphone\",\"ActiveWear Smartphone\",\"ActiveWear Smartphone\",\"ActiveWear Smartphone\",\"ActiveWear Smartphone\",\"ActiveWear Smartphone\",\"ActiveWear Smartphone\",\"ActiveWear Smartphone\",\"ActiveWear Smartphone\",\"ActiveWear Smartphone\",\"ActiveWear Smartphone\",\"ActiveWear Smartphone\",\"ActiveWear Smartphone\",\"SoundWave Headphones\",\"SoundWave Headphones\",\"SoundWave Headphones\",\"SoundWave Headphones\",\"SoundWave Bluetooth Speaker\",\"SoundWave Bluetooth Speaker\",\"SoundWave Bluetooth Speaker\",\"SoundWave Bluetooth Speaker\",\"SoundWave Bluetooth Speaker\",\"SoundWave Bluetooth Speaker\",\"SoundWave Bluetooth Speaker\",\"BookWorld Smartwatch\",\"BookWorld Smartwatch\",\"BookWorld Smartwatch\",\"BookWorld Smartwatch\",\"BookWorld Smartwatch\",\"BookWorld Smartwatch\",\"BookWorld Smartwatch\",\"BookWorld Smartwatch\",\"BookWorld Smartwatch\",\"BookWorld Smartwatch\",\"BookWorld Smartwatch\",\"ActiveWear Smartwatch\",\"ActiveWear Smartwatch\",\"ActiveWear Smartwatch\",\"ActiveWear Smartwatch\",\"ActiveWear Smartwatch\",\"ActiveWear Smartwatch\",\"ActiveWear Smartwatch\",\"ActiveWear Smartwatch\",\"ActiveWear Smartwatch\",\"ActiveWear Smartwatch\",\"ActiveWear Smartwatch\",\"ActiveWear Smartwatch\",\"ActiveWear Smartwatch\",\"SoundWave Headphones\",\"SoundWave Headphones\",\"SoundWave Headphones\",\"SoundWave Headphones\",\"SoundWave Headphones\",\"SoundWave Headphones\",\"SoundWave Headphones\",\"SoundWave Headphones\",\"SoundWave Headphones\",\"SoundWave Headphones\",\"SoundWave Headphones\",\"SoundWave Headphones\",\"SoundWave Headphones\",\"SoundWave Headphones\",\"SoundWave Headphones\",\"ActiveWear Smartwatch\",\"ActiveWear Smartwatch\",\"ActiveWear Smartwatch\",\"ActiveWear Smartwatch\",\"ActiveWear Smartwatch\",\"ActiveWear Smartwatch\",\"ActiveWear Smartwatch\",\"ActiveWear Smartwatch\",\"ActiveWear Smartwatch\",\"ActiveWear Smartwatch\",\"ActiveWear Smartwatch\",\"ActiveWear Smartwatch\",\"ActiveWear Smartwatch\",\"ComfortLiving Smartwatch\",\"ComfortLiving Smartwatch\",\"ComfortLiving Smartwatch\",\"ComfortLiving Smartwatch\",\"ComfortLiving Smartwatch\",\"ComfortLiving Smartwatch\",\"ComfortLiving Smartwatch\",\"ComfortLiving Smartwatch\",\"ComfortLiving Smartwatch\",\"ComfortLiving Smartwatch\",\"ComfortLiving Smartwatch\",\"TechPro Smartwatch\",\"TechPro Smartwatch\",\"TechPro Smartwatch\",\"TechPro Smartwatch\",\"TechPro Smartwatch\",\"TechPro Smartwatch\",\"TechPro Smartwatch\",\"TechPro Smartwatch\",\"TechPro Smartwatch\",\"TechPro Smartwatch\",\"TechPro Smartwatch\",\"TechPro Smartwatch\",\"HomeSense Bluetooth Speaker\",\"HomeSense Bluetooth Speaker\",\"HomeSense Bluetooth Speaker\",\"HomeSense Bluetooth Speaker\",\"HomeSense Bluetooth Speaker\",\"HomeSense Bluetooth Speaker\",\"HomeSense Bluetooth Speaker\",\"ComfortLiving Smartphone\",\"ComfortLiving Smartphone\",\"ComfortLiving Smartphone\",\"ComfortLiving Smartphone\",\"ComfortLiving Smartphone\",\"ComfortLiving Smartphone\",\"ComfortLiving Smartphone\",\"ComfortLiving Smartphone\",\"ComfortLiving Smartphone\",\"ComfortLiving Smartphone\",\"ComfortLiving Smartphone\",\"HomeSense Headphones\",\"HomeSense Headphones\",\"HomeSense Headphones\",\"HomeSense Headphones\",\"HomeSense Headphones\",\"HomeSense Headphones\",\"HomeSense Headphones\",\"HomeSense Headphones\",\"SoundWave Headphones\",\"SoundWave Headphones\",\"SoundWave Headphones\",\"SoundWave Headphones\",\"SoundWave Headphones\",\"SoundWave Headphones\",\"SoundWave Headphones\",\"SoundWave Headphones\",\"SoundWave Headphones\",\"SoundWave Headphones\",\"SoundWave Headphones\",\"ComfortLiving Laptop\",\"ComfortLiving Laptop\",\"ComfortLiving Laptop\",\"ComfortLiving Laptop\",\"ComfortLiving Laptop\",\"ComfortLiving Laptop\",\"ComfortLiving Laptop\",\"ComfortLiving Laptop\",\"ComfortLiving Laptop\",\"ComfortLiving Laptop\",\"SoundWave Smartwatch\",\"SoundWave Smartwatch\",\"SoundWave Smartwatch\",\"SoundWave Smartwatch\",\"SoundWave Smartwatch\",\"SoundWave Smartwatch\",\"SoundWave Smartwatch\",\"SoundWave Smartwatch\",\"ActiveWear Smartwatch\",\"ActiveWear Smartwatch\",\"ActiveWear Smartwatch\",\"ActiveWear Smartwatch\",\"ActiveWear Smartwatch\",\"ActiveWear Smartwatch\",\"ActiveWear Headphones\",\"ActiveWear Headphones\",\"ActiveWear Headphones\",\"ActiveWear Headphones\",\"ActiveWear Headphones\",\"ActiveWear Headphones\",\"ActiveWear Smartwatch\",\"ActiveWear Smartwatch\",\"ActiveWear Smartwatch\",\"ActiveWear Smartwatch\",\"ActiveWear Smartwatch\",\"ActiveWear Smartwatch\",\"ActiveWear Smartwatch\",\"ActiveWear Smartwatch\",\"SoundWave Smartwatch\",\"SoundWave Smartwatch\",\"SoundWave Smartwatch\",\"SoundWave Smartwatch\",\"SoundWave Smartwatch\",\"SoundWave Smartwatch\",\"SoundWave Smartwatch\",\"ComfortLiving Headphones\",\"ComfortLiving Headphones\",\"ComfortLiving Headphones\",\"ComfortLiving Headphones\",\"ComfortLiving Headphones\",\"ComfortLiving Headphones\",\"ComfortLiving Headphones\",\"ComfortLiving Headphones\",\"ActiveWear Headphones\",\"ActiveWear Headphones\",\"ActiveWear Headphones\",\"ActiveWear Headphones\",\"ActiveWear Headphones\",\"ActiveWear Headphones\",\"ActiveWear Headphones\",\"ActiveWear Headphones\"],\"legendgroup\":\"Electronics\",\"marker\":{\"color\":\"rgb(255, 198, 196)\",\"size\":[300.68,300.68,300.68,601.36,902.04,300.68,902.04,300.68,902.04,601.36,902.04,601.36,601.36,293.7,293.7,293.7,293.7,146.85,146.85,293.7,440.55,293.7,293.7,433.64,1734.56,433.64,433.64,867.28,1734.56,1300.92,867.28,1734.56,1300.92,1300.92,867.28,867.28,1734.56,1734.56,867.28,1300.92,263.55,527.1,263.55,263.55,1054.2,527.1,1054.2,790.65,899.79,299.93,899.79,299.93,599.86,1199.72,599.86,958.8,479.4,479.4,719.1,239.7,958.8,479.4,958.8,958.8,479.4,719.1,719.1,719.1,958.8,479.4,392.8,785.6,196.4,392.8,128.76,257.52,64.38,257.52,128.76,193.14,193.14,342.6,342.6,114.2,342.6,342.6,114.2,456.8,456.8,114.2,342.6,114.2,1822.88,911.44,1367.16,911.44,1367.16,1367.16,455.72,455.72,1367.16,1367.16,911.44,911.44,455.72,614.94,614.94,307.47,614.94,614.94,307.47,922.41,614.94,307.47,1229.88,1229.88,922.41,922.41,922.41,307.47,437.65,875.3,437.65,1312.95,1750.6,437.65,875.3,437.65,1312.95,1312.95,1750.6,875.3,437.65,1050.39,700.26,1050.39,1050.39,700.26,350.13,700.26,1050.39,350.13,350.13,700.26,430.59,1291.77,1722.36,1291.77,1291.77,1722.36,1291.77,430.59,1291.77,1722.36,861.18,430.59,441.82,883.64,662.73,883.64,662.73,883.64,662.73,1368.84,456.28,456.28,1825.12,912.56,1825.12,1825.12,912.56,1825.12,456.28,1368.84,476.79,158.93,158.93,635.72,158.93,158.93,635.72,476.79,916.24,916.24,916.24,458.12,916.24,687.18,687.18,458.12,916.24,458.12,916.24,53.98,53.98,80.97,80.97,107.96,26.99,53.98,107.96,53.98,26.99,64.32,16.08,64.32,64.32,48.24,16.08,32.16,32.16,1062.04,531.02,1062.04,531.02,265.51,1062.04,1198.02,798.68,1198.02,1198.02,798.68,798.68,1038.9,1038.9,1385.2,692.6,1038.9,1385.2,1385.2,692.6,1839.44,459.86,919.72,1379.58,459.86,919.72,919.72,159.6,638.4,319.2,159.6,478.8,159.6,319.2,159.6,379.44,1517.76,1517.76,1138.32,1138.32,758.88,1138.32,379.44],\"sizemode\":\"area\",\"sizeref\":4.9776,\"symbol\":\"circle\"},\"mode\":\"markers\",\"name\":\"Electronics\",\"orientation\":\"v\",\"showlegend\":true,\"x\":[300.68,300.68,300.68,300.68,300.68,300.68,300.68,300.68,300.68,300.68,300.68,300.68,300.68,146.85,146.85,146.85,146.85,146.85,146.85,146.85,146.85,146.85,146.85,433.64,433.64,433.64,433.64,433.64,433.64,433.64,433.64,433.64,433.64,433.64,433.64,433.64,433.64,433.64,433.64,433.64,263.55,263.55,263.55,263.55,263.55,263.55,263.55,263.55,299.93,299.93,299.93,299.93,299.93,299.93,299.93,239.7,239.7,239.7,239.7,239.7,239.7,239.7,239.7,239.7,239.7,239.7,239.7,239.7,239.7,239.7,196.4,196.4,196.4,196.4,64.38,64.38,64.38,64.38,64.38,64.38,64.38,114.2,114.2,114.2,114.2,114.2,114.2,114.2,114.2,114.2,114.2,114.2,455.72,455.72,455.72,455.72,455.72,455.72,455.72,455.72,455.72,455.72,455.72,455.72,455.72,307.47,307.47,307.47,307.47,307.47,307.47,307.47,307.47,307.47,307.47,307.47,307.47,307.47,307.47,307.47,437.65,437.65,437.65,437.65,437.65,437.65,437.65,437.65,437.65,437.65,437.65,437.65,437.65,350.13,350.13,350.13,350.13,350.13,350.13,350.13,350.13,350.13,350.13,350.13,430.59,430.59,430.59,430.59,430.59,430.59,430.59,430.59,430.59,430.59,430.59,430.59,220.91,220.91,220.91,220.91,220.91,220.91,220.91,456.28,456.28,456.28,456.28,456.28,456.28,456.28,456.28,456.28,456.28,456.28,158.93,158.93,158.93,158.93,158.93,158.93,158.93,158.93,229.06,229.06,229.06,229.06,229.06,229.06,229.06,229.06,229.06,229.06,229.06,26.99,26.99,26.99,26.99,26.99,26.99,26.99,26.99,26.99,26.99,16.08,16.08,16.08,16.08,16.08,16.08,16.08,16.08,265.51,265.51,265.51,265.51,265.51,265.51,399.34,399.34,399.34,399.34,399.34,399.34,346.3,346.3,346.3,346.3,346.3,346.3,346.3,346.3,459.86,459.86,459.86,459.86,459.86,459.86,459.86,159.6,159.6,159.6,159.6,159.6,159.6,159.6,159.6,379.44,379.44,379.44,379.44,379.44,379.44,379.44,379.44],\"xaxis\":\"x\",\"y\":[1,1,1,2,3,1,3,1,3,2,3,2,2,2,2,2,2,1,1,2,3,2,2,1,4,1,1,2,4,3,2,4,3,3,2,2,4,4,2,3,1,2,1,1,4,2,4,3,3,1,3,1,2,4,2,4,2,2,3,1,4,2,4,4,2,3,3,3,4,2,2,4,1,2,2,4,1,4,2,3,3,3,3,1,3,3,1,4,4,1,3,1,4,2,3,2,3,3,1,1,3,3,2,2,1,2,2,1,2,2,1,3,2,1,4,4,3,3,3,1,1,2,1,3,4,1,2,1,3,3,4,2,1,3,2,3,3,2,1,2,3,1,1,2,1,3,4,3,3,4,3,1,3,4,2,1,2,4,3,4,3,4,3,3,1,1,4,2,4,4,2,4,1,3,3,1,1,4,1,1,4,3,4,4,4,2,4,3,3,2,4,2,4,2,2,3,3,4,1,2,4,2,1,4,1,4,4,3,1,2,2,4,2,4,2,1,4,3,2,3,3,2,2,3,3,4,2,3,4,4,2,4,1,2,3,1,2,2,1,4,2,1,3,1,2,1,1,4,4,3,3,2,3,1],\"yaxis\":\"y\",\"type\":\"scatter\"},{\"hovertemplate\":\"<b>%{hovertext}</b><br><br>Category=Home Decor<br>Price=%{x}<br>Quantity=%{y}<br>TotalValue=%{marker.size}<extra></extra>\",\"hovertext\":[\"HomeSense Wall Art\",\"HomeSense Wall Art\",\"HomeSense Wall Art\",\"HomeSense Wall Art\",\"HomeSense Wall Art\",\"HomeSense Wall Art\",\"HomeSense Wall Art\",\"HomeSense Wall Art\",\"HomeSense Wall Art\",\"HomeSense Wall Art\",\"HomeSense Wall Art\",\"HomeSense Wall Art\",\"HomeSense Wall Art\",\"HomeSense Wall Art\",\"HomeSense Wall Art\",\"ActiveWear Rug\",\"ActiveWear Rug\",\"ActiveWear Rug\",\"ActiveWear Rug\",\"ActiveWear Rug\",\"ActiveWear Rug\",\"ActiveWear Rug\",\"ActiveWear Rug\",\"ActiveWear Rug\",\"ActiveWear Rug\",\"ActiveWear Rug\",\"ActiveWear Rug\",\"ActiveWear Rug\",\"ActiveWear Rug\",\"ActiveWear Rug\",\"ActiveWear Rug\",\"TechPro Rug\",\"TechPro Rug\",\"TechPro Rug\",\"TechPro Rug\",\"TechPro Rug\",\"TechPro Rug\",\"TechPro Rug\",\"TechPro Rug\",\"TechPro Rug\",\"TechPro Rug\",\"ActiveWear Wall Art\",\"ActiveWear Wall Art\",\"ActiveWear Wall Art\",\"ActiveWear Wall Art\",\"ActiveWear Wall Art\",\"ActiveWear Wall Art\",\"ActiveWear Wall Art\",\"ActiveWear Wall Art\",\"ActiveWear Wall Art\",\"ActiveWear Wall Art\",\"ActiveWear Wall Art\",\"ActiveWear Wall Art\",\"ActiveWear Wall Art\",\"HomeSense Desk Lamp\",\"HomeSense Desk Lamp\",\"HomeSense Desk Lamp\",\"HomeSense Desk Lamp\",\"HomeSense Desk Lamp\",\"HomeSense Desk Lamp\",\"HomeSense Desk Lamp\",\"HomeSense Desk Lamp\",\"HomeSense Desk Lamp\",\"HomeSense Desk Lamp\",\"HomeSense Desk Lamp\",\"HomeSense Desk Lamp\",\"ComfortLiving Cookware Set\",\"ComfortLiving Cookware Set\",\"ComfortLiving Cookware Set\",\"ComfortLiving Cookware Set\",\"ComfortLiving Cookware Set\",\"ComfortLiving Cookware Set\",\"ComfortLiving Cookware Set\",\"ComfortLiving Cookware Set\",\"ComfortLiving Cookware Set\",\"ComfortLiving Cookware Set\",\"BookWorld Cookware Set\",\"BookWorld Cookware Set\",\"BookWorld Cookware Set\",\"BookWorld Cookware Set\",\"BookWorld Cookware Set\",\"BookWorld Cookware Set\",\"BookWorld Cookware Set\",\"TechPro Vase\",\"TechPro Vase\",\"TechPro Vase\",\"TechPro Vase\",\"TechPro Vase\",\"TechPro Vase\",\"TechPro Vase\",\"TechPro Vase\",\"TechPro Vase\",\"TechPro Vase\",\"TechPro Vase\",\"TechPro Vase\",\"TechPro Vase\",\"BookWorld Rug\",\"BookWorld Rug\",\"BookWorld Rug\",\"BookWorld Rug\",\"BookWorld Rug\",\"BookWorld Rug\",\"BookWorld Rug\",\"HomeSense Cookware Set\",\"HomeSense Cookware Set\",\"HomeSense Cookware Set\",\"HomeSense Cookware Set\",\"HomeSense Cookware Set\",\"HomeSense Cookware Set\",\"HomeSense Cookware Set\",\"HomeSense Cookware Set\",\"HomeSense Cookware Set\",\"HomeSense Cookware Set\",\"HomeSense Cookware Set\",\"ComfortLiving Desk Lamp\",\"ComfortLiving Desk Lamp\",\"ComfortLiving Desk Lamp\",\"ComfortLiving Desk Lamp\",\"ComfortLiving Desk Lamp\",\"ComfortLiving Desk Lamp\",\"ComfortLiving Desk Lamp\",\"ComfortLiving Desk Lamp\",\"ComfortLiving Desk Lamp\",\"ComfortLiving Desk Lamp\",\"SoundWave Rug\",\"SoundWave Rug\",\"SoundWave Rug\",\"SoundWave Rug\",\"SoundWave Rug\",\"SoundWave Rug\",\"SoundWave Rug\",\"SoundWave Rug\",\"SoundWave Rug\",\"SoundWave Rug\",\"SoundWave Rug\",\"ActiveWear Rug\",\"ActiveWear Rug\",\"ActiveWear Rug\",\"ActiveWear Rug\",\"ActiveWear Rug\",\"ActiveWear Rug\",\"ActiveWear Rug\",\"ActiveWear Rug\",\"ActiveWear Rug\",\"ActiveWear Rug\",\"ActiveWear Rug\",\"ActiveWear Rug\",\"ActiveWear Rug\",\"HomeSense Rug\",\"HomeSense Rug\",\"HomeSense Rug\",\"HomeSense Rug\",\"HomeSense Rug\",\"HomeSense Rug\",\"HomeSense Rug\",\"ActiveWear Cookware Set\",\"ActiveWear Cookware Set\",\"ActiveWear Cookware Set\",\"ActiveWear Cookware Set\",\"ActiveWear Cookware Set\",\"ActiveWear Cookware Set\",\"ActiveWear Cookware Set\",\"ActiveWear Cookware Set\",\"ActiveWear Cookware Set\",\"ActiveWear Cookware Set\",\"ActiveWear Cookware Set\",\"ActiveWear Cookware Set\",\"SoundWave Desk Lamp\",\"SoundWave Desk Lamp\",\"SoundWave Desk Lamp\",\"SoundWave Desk Lamp\",\"SoundWave Desk Lamp\",\"SoundWave Desk Lamp\",\"SoundWave Desk Lamp\",\"SoundWave Desk Lamp\",\"SoundWave Desk Lamp\",\"SoundWave Desk Lamp\",\"HomeSense Desk Lamp\",\"HomeSense Desk Lamp\",\"HomeSense Desk Lamp\",\"HomeSense Desk Lamp\",\"HomeSense Desk Lamp\",\"HomeSense Desk Lamp\",\"HomeSense Desk Lamp\",\"HomeSense Desk Lamp\",\"HomeSense Desk Lamp\",\"HomeSense Desk Lamp\",\"HomeSense Desk Lamp\",\"HomeSense Desk Lamp\",\"HomeSense Desk Lamp\",\"HomeSense Desk Lamp\",\"HomeSense Desk Lamp\",\"HomeSense Desk Lamp\",\"HomeSense Rug\",\"HomeSense Rug\",\"HomeSense Rug\",\"HomeSense Rug\",\"HomeSense Rug\",\"HomeSense Rug\",\"HomeSense Rug\",\"HomeSense Rug\",\"HomeSense Rug\",\"HomeSense Rug\",\"ComfortLiving Rug\",\"ComfortLiving Rug\",\"ComfortLiving Rug\",\"ComfortLiving Rug\",\"ComfortLiving Rug\",\"ComfortLiving Rug\",\"ComfortLiving Rug\",\"ComfortLiving Rug\",\"ActiveWear Cookware Set\",\"ActiveWear Cookware Set\",\"ActiveWear Cookware Set\",\"ActiveWear Cookware Set\",\"ActiveWear Cookware Set\",\"ActiveWear Cookware Set\",\"ActiveWear Cookware Set\",\"ActiveWear Cookware Set\",\"ActiveWear Cookware Set\",\"SoundWave Desk Lamp\",\"SoundWave Desk Lamp\",\"SoundWave Desk Lamp\",\"SoundWave Desk Lamp\",\"SoundWave Desk Lamp\",\"SoundWave Desk Lamp\",\"SoundWave Desk Lamp\",\"SoundWave Desk Lamp\",\"SoundWave Desk Lamp\",\"SoundWave Desk Lamp\",\"SoundWave Desk Lamp\",\"SoundWave Desk Lamp\",\"SoundWave Desk Lamp\",\"BookWorld Wall Art\",\"BookWorld Wall Art\",\"BookWorld Wall Art\",\"BookWorld Wall Art\",\"BookWorld Wall Art\",\"BookWorld Wall Art\",\"BookWorld Wall Art\",\"TechPro Vase\",\"TechPro Vase\",\"TechPro Vase\",\"TechPro Vase\",\"TechPro Vase\",\"TechPro Vase\",\"TechPro Vase\",\"TechPro Vase\"],\"legendgroup\":\"Home Decor\",\"marker\":{\"color\":\"rgb(244, 163, 168)\",\"size\":[550.16,412.62,137.54,412.62,412.62,412.62,412.62,275.08,412.62,137.54,550.16,412.62,137.54,137.54,412.62,834.74,417.37,1252.11,1669.48,1669.48,417.37,834.74,417.37,834.74,1252.11,1669.48,1669.48,1669.48,417.37,1669.48,1252.11,824.82,1099.76,274.94,824.82,824.82,274.94,1099.76,274.94,274.94,1099.76,337.91,675.82,1351.64,337.91,675.82,1013.73,1351.64,1013.73,337.91,675.82,1351.64,1351.64,1013.73,942.32,942.32,706.74,942.32,706.74,706.74,942.32,235.58,706.74,706.74,471.16,942.32,477.99,637.32,318.66,637.32,318.66,637.32,318.66,477.99,318.66,159.33,227.26,681.78,454.52,909.04,454.52,681.78,909.04,147.22,588.88,294.44,441.66,441.66,147.22,294.44,588.88,588.88,147.22,147.22,147.22,147.22,191.38,287.07,95.69,382.76,382.76,95.69,287.07,894.68,894.68,894.68,1789.36,1342.02,1342.02,447.34,1342.02,894.68,894.68,1342.02,130.32,195.48,195.48,65.16,130.32,260.64,195.48,65.16,195.48,260.64,335.84,335.84,335.84,1007.52,1007.52,1343.36,671.68,1007.52,335.84,1007.52,1007.52,242.64,121.32,363.96,121.32,485.28,485.28,242.64,485.28,485.28,363.96,363.96,242.64,363.96,222.95,668.85,891.8,891.8,668.85,668.85,445.9,853.86,1138.48,569.24,853.86,853.86,284.62,569.24,284.62,1138.48,284.62,853.86,853.86,1044.8,1044.8,261.2,783.6,522.4,1044.8,1044.8,522.4,261.2,1044.8,627.84,470.88,470.88,470.88,156.96,627.84,156.96,470.88,156.96,627.84,313.92,627.84,470.88,627.84,156.96,313.92,41.18,123.54,164.72,82.36,82.36,164.72,164.72,41.18,123.54,82.36,167.97,55.99,55.99,167.97,167.97,111.98,111.98,223.96,1818.12,454.53,454.53,909.06,909.06,1363.59,454.53,1363.59,1818.12,295.58,886.74,295.58,886.74,886.74,295.58,1182.32,295.58,1182.32,886.74,1182.32,1182.32,886.74,650.02,975.03,650.02,325.01,1300.04,325.01,650.02,304.94,1219.76,609.88,304.94,609.88,1219.76,304.94,609.88],\"sizemode\":\"area\",\"sizeref\":4.9776,\"symbol\":\"circle\"},\"mode\":\"markers\",\"name\":\"Home Decor\",\"orientation\":\"v\",\"showlegend\":true,\"x\":[137.54,137.54,137.54,137.54,137.54,137.54,137.54,137.54,137.54,137.54,137.54,137.54,137.54,137.54,137.54,417.37,417.37,417.37,417.37,417.37,417.37,417.37,417.37,417.37,417.37,417.37,417.37,417.37,417.37,417.37,417.37,274.94,274.94,274.94,274.94,274.94,274.94,274.94,274.94,274.94,274.94,337.91,337.91,337.91,337.91,337.91,337.91,337.91,337.91,337.91,337.91,337.91,337.91,337.91,235.58,235.58,235.58,235.58,235.58,235.58,235.58,235.58,235.58,235.58,235.58,235.58,159.33,159.33,159.33,159.33,159.33,159.33,159.33,159.33,159.33,159.33,227.26,227.26,227.26,227.26,227.26,227.26,227.26,147.22,147.22,147.22,147.22,147.22,147.22,147.22,147.22,147.22,147.22,147.22,147.22,147.22,95.69,95.69,95.69,95.69,95.69,95.69,95.69,447.34,447.34,447.34,447.34,447.34,447.34,447.34,447.34,447.34,447.34,447.34,65.16,65.16,65.16,65.16,65.16,65.16,65.16,65.16,65.16,65.16,335.84,335.84,335.84,335.84,335.84,335.84,335.84,335.84,335.84,335.84,335.84,121.32,121.32,121.32,121.32,121.32,121.32,121.32,121.32,121.32,121.32,121.32,121.32,121.32,222.95,222.95,222.95,222.95,222.95,222.95,222.95,284.62,284.62,284.62,284.62,284.62,284.62,284.62,284.62,284.62,284.62,284.62,284.62,261.2,261.2,261.2,261.2,261.2,261.2,261.2,261.2,261.2,261.2,156.96,156.96,156.96,156.96,156.96,156.96,156.96,156.96,156.96,156.96,156.96,156.96,156.96,156.96,156.96,156.96,41.18,41.18,41.18,41.18,41.18,41.18,41.18,41.18,41.18,41.18,55.99,55.99,55.99,55.99,55.99,55.99,55.99,55.99,454.53,454.53,454.53,454.53,454.53,454.53,454.53,454.53,454.53,295.58,295.58,295.58,295.58,295.58,295.58,295.58,295.58,295.58,295.58,295.58,295.58,295.58,325.01,325.01,325.01,325.01,325.01,325.01,325.01,304.94,304.94,304.94,304.94,304.94,304.94,304.94,304.94],\"xaxis\":\"x\",\"y\":[4,3,1,3,3,3,3,2,3,1,4,3,1,1,3,2,1,3,4,4,1,2,1,2,3,4,4,4,1,4,3,3,4,1,3,3,1,4,1,1,4,1,2,4,1,2,3,4,3,1,2,4,4,3,4,4,3,4,3,3,4,1,3,3,2,4,3,4,2,4,2,4,2,3,2,1,1,3,2,4,2,3,4,1,4,2,3,3,1,2,4,4,1,1,1,1,2,3,1,4,4,1,3,2,2,2,4,3,3,1,3,2,2,3,2,3,3,1,2,4,3,1,3,4,1,1,1,3,3,4,2,3,1,3,3,2,1,3,1,4,4,2,4,4,3,3,2,3,1,3,4,4,3,3,2,3,4,2,3,3,1,2,1,4,1,3,3,4,4,1,3,2,4,4,2,1,4,4,3,3,3,1,4,1,3,1,4,2,4,3,4,1,2,1,3,4,2,2,4,4,1,3,2,3,1,1,3,3,2,2,4,4,1,1,2,2,3,1,3,4,1,3,1,3,3,1,4,1,4,3,4,4,3,2,3,2,1,4,1,2,1,4,2,1,2,4,1,2],\"yaxis\":\"y\",\"type\":\"scatter\"},{\"hovertemplate\":\"<b>%{hovertext}</b><br><br>Category=Books<br>Price=%{x}<br>Quantity=%{y}<br>TotalValue=%{marker.size}<extra></extra>\",\"hovertext\":[\"SoundWave Textbook\",\"SoundWave Textbook\",\"SoundWave Textbook\",\"SoundWave Textbook\",\"SoundWave Textbook\",\"SoundWave Textbook\",\"SoundWave Textbook\",\"SoundWave Textbook\",\"SoundWave Textbook\",\"SoundWave Textbook\",\"SoundWave Textbook\",\"BookWorld Cookbook\",\"BookWorld Cookbook\",\"BookWorld Cookbook\",\"BookWorld Cookbook\",\"BookWorld Cookbook\",\"BookWorld Cookbook\",\"BookWorld Cookbook\",\"BookWorld Cookbook\",\"BookWorld Cookbook\",\"BookWorld Cookbook\",\"BookWorld Cookbook\",\"TechPro Textbook\",\"TechPro Textbook\",\"TechPro Textbook\",\"TechPro Textbook\",\"TechPro Textbook\",\"TechPro Textbook\",\"TechPro Textbook\",\"TechPro Textbook\",\"TechPro Textbook\",\"TechPro Textbook\",\"TechPro Textbook\",\"TechPro Textbook\",\"TechPro Textbook\",\"TechPro Textbook\",\"TechPro Textbook\",\"HomeSense Novel\",\"HomeSense Novel\",\"HomeSense Novel\",\"HomeSense Novel\",\"HomeSense Novel\",\"HomeSense Novel\",\"HomeSense Novel\",\"HomeSense Novel\",\"HomeSense Novel\",\"HomeSense Novel\",\"HomeSense Novel\",\"HomeSense Novel\",\"HomeSense Novel\",\"HomeSense Novel\",\"HomeSense Novel\",\"HomeSense Novel\",\"ActiveWear Cookbook\",\"ActiveWear Cookbook\",\"ActiveWear Cookbook\",\"ActiveWear Cookbook\",\"ActiveWear Cookbook\",\"ActiveWear Cookbook\",\"ActiveWear Cookbook\",\"ActiveWear Cookbook\",\"ActiveWear Cookbook\",\"BookWorld Cookbook\",\"BookWorld Cookbook\",\"BookWorld Cookbook\",\"BookWorld Cookbook\",\"BookWorld Cookbook\",\"BookWorld Cookbook\",\"BookWorld Cookbook\",\"BookWorld Cookbook\",\"BookWorld Cookbook\",\"SoundWave Mystery Book\",\"SoundWave Mystery Book\",\"SoundWave Mystery Book\",\"SoundWave Mystery Book\",\"TechPro Textbook\",\"TechPro Textbook\",\"TechPro Textbook\",\"TechPro Textbook\",\"TechPro Textbook\",\"TechPro Textbook\",\"TechPro Textbook\",\"TechPro Textbook\",\"TechPro Textbook\",\"TechPro Textbook\",\"TechPro Novel\",\"TechPro Novel\",\"TechPro Novel\",\"TechPro Novel\",\"TechPro Novel\",\"TechPro Novel\",\"TechPro Novel\",\"TechPro Novel\",\"TechPro Novel\",\"TechPro Novel\",\"TechPro Novel\",\"ComfortLiving Biography\",\"ComfortLiving Biography\",\"ComfortLiving Biography\",\"ComfortLiving Biography\",\"ComfortLiving Biography\",\"ComfortLiving Biography\",\"ComfortLiving Biography\",\"ComfortLiving Biography\",\"ActiveWear Textbook\",\"ActiveWear Textbook\",\"ActiveWear Textbook\",\"ActiveWear Textbook\",\"ActiveWear Textbook\",\"ActiveWear Textbook\",\"ActiveWear Textbook\",\"ActiveWear Textbook\",\"ActiveWear Textbook\",\"ActiveWear Textbook\",\"TechPro Novel\",\"TechPro Novel\",\"TechPro Novel\",\"TechPro Novel\",\"TechPro Novel\",\"TechPro Novel\",\"TechPro Novel\",\"TechPro Novel\",\"TechPro Novel\",\"SoundWave Cookbook\",\"SoundWave Cookbook\",\"SoundWave Cookbook\",\"SoundWave Cookbook\",\"SoundWave Cookbook\",\"TechPro Cookbook\",\"TechPro Cookbook\",\"TechPro Cookbook\",\"TechPro Cookbook\",\"TechPro Cookbook\",\"TechPro Cookbook\",\"TechPro Cookbook\",\"TechPro Cookbook\",\"TechPro Cookbook\",\"TechPro Cookbook\",\"TechPro Cookbook\",\"TechPro Cookbook\",\"TechPro Cookbook\",\"TechPro Cookbook\",\"TechPro Cookbook\",\"SoundWave Novel\",\"SoundWave Novel\",\"SoundWave Novel\",\"SoundWave Novel\",\"SoundWave Novel\",\"SoundWave Novel\",\"SoundWave Novel\",\"SoundWave Novel\",\"SoundWave Novel\",\"SoundWave Novel\",\"SoundWave Novel\",\"BookWorld Biography\",\"BookWorld Biography\",\"BookWorld Biography\",\"BookWorld Biography\",\"BookWorld Biography\",\"BookWorld Biography\",\"BookWorld Biography\",\"BookWorld Biography\",\"BookWorld Biography\",\"BookWorld Biography\",\"ComfortLiving Biography\",\"ComfortLiving Biography\",\"ComfortLiving Biography\",\"ComfortLiving Biography\",\"ComfortLiving Biography\",\"ComfortLiving Biography\",\"ComfortLiving Biography\",\"ComfortLiving Biography\",\"ComfortLiving Biography\",\"ComfortLiving Biography\",\"ComfortLiving Biography\",\"ComfortLiving Biography\",\"SoundWave Novel\",\"SoundWave Novel\",\"SoundWave Novel\",\"SoundWave Novel\",\"SoundWave Novel\",\"SoundWave Novel\",\"SoundWave Novel\",\"SoundWave Novel\",\"SoundWave Novel\",\"SoundWave Cookbook\",\"SoundWave Cookbook\",\"SoundWave Cookbook\",\"SoundWave Cookbook\",\"SoundWave Cookbook\",\"SoundWave Cookbook\",\"SoundWave Cookbook\",\"SoundWave Cookbook\",\"ActiveWear Textbook\",\"ActiveWear Textbook\",\"ActiveWear Textbook\",\"ActiveWear Textbook\",\"ActiveWear Textbook\",\"ActiveWear Textbook\",\"ActiveWear Textbook\",\"ActiveWear Textbook\",\"ActiveWear Textbook\",\"ActiveWear Textbook\",\"ActiveWear Textbook\",\"ActiveWear Textbook\",\"ActiveWear Textbook\",\"BookWorld Biography\",\"BookWorld Biography\",\"BookWorld Biography\",\"BookWorld Biography\",\"BookWorld Biography\",\"BookWorld Biography\",\"BookWorld Biography\",\"BookWorld Biography\",\"SoundWave Cookbook\",\"SoundWave Cookbook\",\"SoundWave Cookbook\",\"SoundWave Cookbook\",\"SoundWave Cookbook\",\"SoundWave Cookbook\",\"SoundWave Cookbook\",\"SoundWave Cookbook\",\"SoundWave Cookbook\",\"SoundWave Cookbook\",\"SoundWave Cookbook\",\"SoundWave Cookbook\",\"SoundWave Cookbook\",\"SoundWave Cookbook\",\"SoundWave Cookbook\",\"SoundWave Cookbook\",\"SoundWave Mystery Book\",\"SoundWave Mystery Book\",\"SoundWave Mystery Book\",\"SoundWave Mystery Book\",\"SoundWave Mystery Book\",\"SoundWave Mystery Book\",\"SoundWave Mystery Book\",\"SoundWave Mystery Book\",\"SoundWave Mystery Book\",\"SoundWave Mystery Book\",\"SoundWave Mystery Book\",\"SoundWave Mystery Book\",\"SoundWave Mystery Book\",\"BookWorld Biography\",\"BookWorld Biography\",\"BookWorld Biography\",\"BookWorld Biography\",\"BookWorld Biography\",\"BookWorld Biography\",\"BookWorld Biography\",\"BookWorld Biography\",\"BookWorld Biography\",\"BookWorld Biography\",\"BookWorld Biography\",\"BookWorld Biography\",\"ActiveWear Biography\",\"ActiveWear Biography\",\"ActiveWear Biography\",\"ActiveWear Biography\",\"ActiveWear Biography\",\"ActiveWear Biography\",\"ActiveWear Biography\",\"ActiveWear Biography\",\"ComfortLiving Mystery Book\",\"ComfortLiving Mystery Book\",\"ComfortLiving Mystery Book\",\"ComfortLiving Mystery Book\",\"ComfortLiving Mystery Book\",\"ComfortLiving Mystery Book\",\"ComfortLiving Mystery Book\"],\"legendgroup\":\"Books\",\"marker\":{\"color\":\"rgb(227, 129, 145)\",\"size\":[1011.66,337.22,1348.88,674.44,337.22,1011.66,1011.66,337.22,337.22,1348.88,337.22,488.63,1954.52,977.26,488.63,977.26,1465.89,977.26,977.26,1465.89,977.26,488.63,443.85,591.8,591.8,591.8,295.9,295.9,295.9,591.8,295.9,147.95,443.85,147.95,295.9,147.95,147.95,1122.48,1496.64,748.32,1122.48,748.32,374.16,748.32,374.16,1496.64,748.32,1496.64,374.16,1496.64,748.32,748.32,748.32,833.58,1111.44,1111.44,833.58,277.86,277.86,1111.44,277.86,277.86,1277.36,958.02,958.02,1277.36,958.02,319.34,1277.36,638.68,319.34,354.29,708.58,1417.16,1417.16,1493.28,1493.28,995.52,497.76,1493.28,1493.28,1991.04,1493.28,995.52,995.52,447.23,1341.69,894.46,1788.92,1341.69,1341.69,447.23,447.23,447.23,447.23,1341.69,165.3,330.6,661.2,165.3,330.6,330.6,165.3,165.3,1879.08,469.77,939.54,1879.08,939.54,1879.08,939.54,469.77,1879.08,939.54,134.36,33.59,33.59,100.77,100.77,100.77,100.77,134.36,100.77,1015.98,338.66,1354.64,677.32,677.32,1665.6,1249.2,1665.6,1665.6,1249.2,1665.6,416.4,832.8,1249.2,416.4,832.8,1249.2,416.4,1665.6,1665.6,808.8,808.8,1617.6,404.4,1617.6,1617.6,808.8,404.4,808.8,1213.2,1617.6,128.53,385.59,128.53,514.12,257.06,257.06,128.53,385.59,514.12,385.59,176.48,132.36,176.48,44.12,88.24,88.24,176.48,132.36,44.12,132.36,88.24,88.24,1762.8,881.4,440.7,1762.8,1322.1,1762.8,1322.1,1762.8,1762.8,1680.6,840.3,840.3,840.3,1680.6,420.15,1260.45,840.3,315.24,630.48,630.48,472.86,315.24,157.62,630.48,315.24,157.62,315.24,315.24,157.62,630.48,1249.05,832.7,1249.05,1249.05,1249.05,1665.4,416.35,1665.4,229.2,229.2,229.2,171.9,114.6,114.6,171.9,114.6,114.6,57.3,171.9,171.9,229.2,171.9,171.9,171.9,612.76,459.57,306.38,612.76,153.19,612.76,612.76,306.38,612.76,306.38,306.38,306.38,306.38,201.62,403.24,201.62,201.62,100.81,201.62,100.81,100.81,201.62,302.43,100.81,302.43,507.9,338.6,677.2,338.6,169.3,338.6,338.6,338.6,1747.56,436.89,436.89,1310.67,1747.56,1747.56,1310.67],\"sizemode\":\"area\",\"sizeref\":4.9776,\"symbol\":\"circle\"},\"mode\":\"markers\",\"name\":\"Books\",\"orientation\":\"v\",\"showlegend\":true,\"x\":[337.22,337.22,337.22,337.22,337.22,337.22,337.22,337.22,337.22,337.22,337.22,488.63,488.63,488.63,488.63,488.63,488.63,488.63,488.63,488.63,488.63,488.63,147.95,147.95,147.95,147.95,147.95,147.95,147.95,147.95,147.95,147.95,147.95,147.95,147.95,147.95,147.95,374.16,374.16,374.16,374.16,374.16,374.16,374.16,374.16,374.16,374.16,374.16,374.16,374.16,374.16,374.16,374.16,277.86,277.86,277.86,277.86,277.86,277.86,277.86,277.86,277.86,319.34,319.34,319.34,319.34,319.34,319.34,319.34,319.34,319.34,354.29,354.29,354.29,354.29,497.76,497.76,497.76,497.76,497.76,497.76,497.76,497.76,497.76,497.76,447.23,447.23,447.23,447.23,447.23,447.23,447.23,447.23,447.23,447.23,447.23,165.3,165.3,165.3,165.3,165.3,165.3,165.3,165.3,469.77,469.77,469.77,469.77,469.77,469.77,469.77,469.77,469.77,469.77,33.59,33.59,33.59,33.59,33.59,33.59,33.59,33.59,33.59,338.66,338.66,338.66,338.66,338.66,416.4,416.4,416.4,416.4,416.4,416.4,416.4,416.4,416.4,416.4,416.4,416.4,416.4,416.4,416.4,404.4,404.4,404.4,404.4,404.4,404.4,404.4,404.4,404.4,404.4,404.4,128.53,128.53,128.53,128.53,128.53,128.53,128.53,128.53,128.53,128.53,44.12,44.12,44.12,44.12,44.12,44.12,44.12,44.12,44.12,44.12,44.12,44.12,440.7,440.7,440.7,440.7,440.7,440.7,440.7,440.7,440.7,420.15,420.15,420.15,420.15,420.15,420.15,420.15,420.15,157.62,157.62,157.62,157.62,157.62,157.62,157.62,157.62,157.62,157.62,157.62,157.62,157.62,416.35,416.35,416.35,416.35,416.35,416.35,416.35,416.35,57.3,57.3,57.3,57.3,57.3,57.3,57.3,57.3,57.3,57.3,57.3,57.3,57.3,57.3,57.3,57.3,153.19,153.19,153.19,153.19,153.19,153.19,153.19,153.19,153.19,153.19,153.19,153.19,153.19,100.81,100.81,100.81,100.81,100.81,100.81,100.81,100.81,100.81,100.81,100.81,100.81,169.3,169.3,169.3,169.3,169.3,169.3,169.3,169.3,436.89,436.89,436.89,436.89,436.89,436.89,436.89],\"xaxis\":\"x\",\"y\":[3,1,4,2,1,3,3,1,1,4,1,1,4,2,1,2,3,2,2,3,2,1,3,4,4,4,2,2,2,4,2,1,3,1,2,1,1,3,4,2,3,2,1,2,1,4,2,4,1,4,2,2,2,3,4,4,3,1,1,4,1,1,4,3,3,4,3,1,4,2,1,1,2,4,4,3,3,2,1,3,3,4,3,2,2,1,3,2,4,3,3,1,1,1,1,3,1,2,4,1,2,2,1,1,4,1,2,4,2,4,2,1,4,2,4,1,1,3,3,3,3,4,3,3,1,4,2,2,4,3,4,4,3,4,1,2,3,1,2,3,1,4,4,2,2,4,1,4,4,2,1,2,3,4,1,3,1,4,2,2,1,3,4,3,4,3,4,1,2,2,4,3,1,3,2,2,4,2,1,4,3,4,3,4,4,4,2,2,2,4,1,3,2,2,4,4,3,2,1,4,2,1,2,2,1,4,3,2,3,3,3,4,1,4,4,4,4,3,2,2,3,2,2,1,3,3,4,3,3,3,4,3,2,4,1,4,4,2,4,2,2,2,2,2,4,2,2,1,2,1,1,2,3,1,3,3,2,4,2,1,2,2,2,4,1,1,3,4,4,3],\"yaxis\":\"y\",\"type\":\"scatter\"},{\"hovertemplate\":\"<b>%{hovertext}</b><br><br>Category=Clothing<br>Price=%{x}<br>Quantity=%{y}<br>TotalValue=%{marker.size}<extra></extra>\",\"hovertext\":[\"SoundWave Jeans\",\"SoundWave Jeans\",\"SoundWave Jeans\",\"SoundWave Jeans\",\"SoundWave Jeans\",\"SoundWave Jeans\",\"SoundWave Jeans\",\"SoundWave Jeans\",\"SoundWave Jeans\",\"SoundWave Jeans\",\"SoundWave Jeans\",\"SoundWave Jeans\",\"SoundWave Jeans\",\"SoundWave Jeans\",\"SoundWave Jeans\",\"SoundWave Jeans\",\"SoundWave Jeans\",\"SoundWave Jeans\",\"SoundWave Jeans\",\"ActiveWear Jeans\",\"ActiveWear Jeans\",\"ActiveWear Jeans\",\"ActiveWear Jeans\",\"ActiveWear Jeans\",\"ActiveWear Jeans\",\"ActiveWear Jeans\",\"ActiveWear Jeans\",\"ActiveWear Jeans\",\"ActiveWear Jeans\",\"BookWorld Sweater\",\"BookWorld Sweater\",\"BookWorld Sweater\",\"BookWorld Sweater\",\"BookWorld Sweater\",\"BookWorld Sweater\",\"BookWorld Sweater\",\"BookWorld Sweater\",\"TechPro T-Shirt\",\"TechPro T-Shirt\",\"TechPro T-Shirt\",\"TechPro T-Shirt\",\"TechPro T-Shirt\",\"TechPro T-Shirt\",\"TechPro T-Shirt\",\"TechPro T-Shirt\",\"SoundWave Jacket\",\"SoundWave Jacket\",\"SoundWave Jacket\",\"SoundWave Jacket\",\"SoundWave Jacket\",\"ActiveWear T-Shirt\",\"ActiveWear T-Shirt\",\"ActiveWear T-Shirt\",\"ActiveWear T-Shirt\",\"ActiveWear T-Shirt\",\"ActiveWear T-Shirt\",\"ActiveWear T-Shirt\",\"ActiveWear T-Shirt\",\"ActiveWear T-Shirt\",\"ActiveWear T-Shirt\",\"ActiveWear Running Shoes\",\"ActiveWear Running Shoes\",\"ActiveWear Running Shoes\",\"ActiveWear Running Shoes\",\"ActiveWear Running Shoes\",\"ActiveWear Running Shoes\",\"ActiveWear Running Shoes\",\"ActiveWear Running Shoes\",\"ActiveWear Running Shoes\",\"HomeSense T-Shirt\",\"HomeSense T-Shirt\",\"HomeSense T-Shirt\",\"HomeSense T-Shirt\",\"HomeSense T-Shirt\",\"HomeSense T-Shirt\",\"HomeSense T-Shirt\",\"HomeSense T-Shirt\",\"HomeSense T-Shirt\",\"BookWorld Jacket\",\"BookWorld Jacket\",\"BookWorld Jacket\",\"BookWorld Jacket\",\"BookWorld Jacket\",\"BookWorld Jacket\",\"BookWorld Jacket\",\"BookWorld Jacket\",\"BookWorld Jacket\",\"BookWorld Jacket\",\"BookWorld Jacket\",\"BookWorld Jacket\",\"HomeSense Sweater\",\"HomeSense Sweater\",\"HomeSense Sweater\",\"HomeSense Sweater\",\"HomeSense Sweater\",\"HomeSense Sweater\",\"ComfortLiving Sweater\",\"ComfortLiving Sweater\",\"ComfortLiving Sweater\",\"ComfortLiving Sweater\",\"ComfortLiving Sweater\",\"ComfortLiving Sweater\",\"ComfortLiving Sweater\",\"ComfortLiving Sweater\",\"ComfortLiving Sweater\",\"ComfortLiving Sweater\",\"ComfortLiving Sweater\",\"TechPro T-Shirt\",\"TechPro T-Shirt\",\"TechPro T-Shirt\",\"TechPro T-Shirt\",\"TechPro T-Shirt\",\"TechPro T-Shirt\",\"TechPro T-Shirt\",\"TechPro T-Shirt\",\"HomeSense Running Shoes\",\"HomeSense Running Shoes\",\"HomeSense Running Shoes\",\"HomeSense Running Shoes\",\"HomeSense Running Shoes\",\"HomeSense Running Shoes\",\"HomeSense Running Shoes\",\"HomeSense Running Shoes\",\"HomeSense Running Shoes\",\"HomeSense Running Shoes\",\"HomeSense Sweater\",\"HomeSense Sweater\",\"HomeSense Sweater\",\"HomeSense Sweater\",\"HomeSense Sweater\",\"HomeSense Sweater\",\"HomeSense Sweater\",\"HomeSense Sweater\",\"HomeSense Sweater\",\"HomeSense Sweater\",\"HomeSense Sweater\",\"HomeSense Sweater\",\"HomeSense Sweater\",\"BookWorld Sweater\",\"BookWorld Sweater\",\"BookWorld Sweater\",\"BookWorld Sweater\",\"BookWorld Sweater\",\"BookWorld Sweater\",\"BookWorld Sweater\",\"BookWorld Sweater\",\"BookWorld Sweater\",\"BookWorld Sweater\",\"BookWorld Sweater\",\"BookWorld Running Shoes\",\"BookWorld Running Shoes\",\"BookWorld Running Shoes\",\"BookWorld Running Shoes\",\"BookWorld Running Shoes\",\"BookWorld Running Shoes\",\"BookWorld Running Shoes\",\"BookWorld Running Shoes\",\"BookWorld Running Shoes\",\"ActiveWear Jacket\",\"ActiveWear Jacket\",\"ActiveWear Jacket\",\"ActiveWear Jacket\",\"ActiveWear Jacket\",\"ActiveWear Jacket\",\"ActiveWear Jacket\",\"ActiveWear Jacket\",\"ActiveWear Jacket\",\"ActiveWear Jacket\",\"ActiveWear Jacket\",\"ActiveWear Jacket\",\"ActiveWear Jacket\",\"ActiveWear Jacket\",\"SoundWave T-Shirt\",\"SoundWave T-Shirt\",\"SoundWave T-Shirt\",\"SoundWave T-Shirt\",\"SoundWave T-Shirt\",\"SoundWave T-Shirt\",\"SoundWave T-Shirt\",\"SoundWave T-Shirt\",\"TechPro Running Shoes\",\"TechPro Running Shoes\",\"TechPro Running Shoes\",\"TechPro Running Shoes\",\"TechPro Running Shoes\",\"TechPro Running Shoes\",\"TechPro Running Shoes\",\"TechPro Running Shoes\",\"TechPro Running Shoes\",\"TechPro Running Shoes\",\"TechPro Running Shoes\",\"TechPro Running Shoes\",\"ActiveWear Jacket\",\"ActiveWear Jacket\",\"ActiveWear Jacket\",\"ActiveWear Jacket\",\"ActiveWear Jacket\",\"ActiveWear Jacket\",\"ActiveWear Jacket\",\"ActiveWear Jacket\",\"ActiveWear Jacket\",\"ActiveWear Jacket\",\"ActiveWear Jacket\",\"ActiveWear Jacket\",\"HomeSense T-Shirt\",\"HomeSense T-Shirt\",\"HomeSense T-Shirt\",\"HomeSense T-Shirt\",\"HomeSense T-Shirt\",\"HomeSense T-Shirt\",\"TechPro T-Shirt\",\"TechPro T-Shirt\",\"TechPro T-Shirt\",\"TechPro T-Shirt\",\"TechPro T-Shirt\",\"TechPro T-Shirt\",\"TechPro T-Shirt\",\"TechPro T-Shirt\",\"HomeSense T-Shirt\",\"HomeSense T-Shirt\",\"HomeSense T-Shirt\",\"HomeSense T-Shirt\",\"HomeSense T-Shirt\",\"HomeSense T-Shirt\",\"ActiveWear Running Shoes\",\"ActiveWear Running Shoes\",\"ActiveWear Running Shoes\",\"ActiveWear Running Shoes\"],\"legendgroup\":\"Clothing\",\"marker\":{\"color\":\"rgb(204, 96, 125)\",\"size\":[909.6,909.6,303.2,303.2,909.6,303.2,909.6,303.2,1212.8,909.6,606.4,1212.8,1212.8,606.4,303.2,909.6,606.4,303.2,1212.8,1717.16,858.58,1717.16,429.29,1287.87,1717.16,1287.87,1287.87,429.29,429.29,732.14,1098.21,1464.28,366.07,1464.28,1098.21,366.07,1464.28,128.5,192.75,128.5,192.75,128.5,192.75,257.0,192.75,1419.24,709.62,1419.24,709.62,1419.24,122.36,91.77,122.36,61.18,30.59,30.59,30.59,61.18,122.36,122.36,330.05,1320.2,330.05,990.15,1320.2,330.05,1320.2,990.15,330.05,434.1,434.1,868.2,868.2,651.15,217.05,868.2,217.05,217.05,372.55,1490.2,745.1,1117.65,372.55,372.55,745.1,372.55,372.55,745.1,1117.65,1117.65,505.36,252.68,126.34,505.36,252.68,252.68,770.74,385.37,770.74,1156.11,1541.48,1541.48,1541.48,1541.48,1156.11,1541.48,1541.48,382.08,254.72,382.08,509.44,127.36,509.44,254.72,127.36,1357.26,452.42,452.42,1357.26,452.42,1809.68,452.42,1809.68,1357.26,904.84,66.32,66.32,198.96,198.96,132.64,66.32,265.28,66.32,265.28,265.28,198.96,265.28,132.64,427.61,855.22,855.22,855.22,1282.83,855.22,1282.83,1710.44,855.22,427.61,1282.83,389.2,1167.6,1556.8,1556.8,1556.8,389.2,1167.6,778.4,1556.8,1214.0,303.5,607.0,1214.0,607.0,607.0,1214.0,303.5,303.5,910.5,105.04,78.78,105.04,78.78,963.56,963.56,481.78,963.56,963.56,963.56,1445.34,1927.12,580.34,1160.68,580.34,290.17,290.17,580.34,1160.68,290.17,1160.68,580.34,870.51,580.34,792.68,1189.02,1585.36,1189.02,1585.36,1585.36,1585.36,1585.36,1585.36,396.34,1585.36,396.34,194.76,97.38,48.69,146.07,48.69,194.76,1287.93,1717.24,1287.93,858.62,1287.93,1287.93,1287.93,1287.93,622.6,155.65,622.6,311.3,155.65,155.65,75.28,75.28,56.46,37.64],\"sizemode\":\"area\",\"sizeref\":4.9776,\"symbol\":\"circle\"},\"mode\":\"markers\",\"name\":\"Clothing\",\"orientation\":\"v\",\"showlegend\":true,\"x\":[303.2,303.2,303.2,303.2,303.2,303.2,303.2,303.2,303.2,303.2,303.2,303.2,303.2,303.2,303.2,303.2,303.2,303.2,303.2,429.29,429.29,429.29,429.29,429.29,429.29,429.29,429.29,429.29,429.29,366.07,366.07,366.07,366.07,366.07,366.07,366.07,366.07,64.25,64.25,64.25,64.25,64.25,64.25,64.25,64.25,354.81,354.81,354.81,354.81,354.81,30.59,30.59,30.59,30.59,30.59,30.59,30.59,30.59,30.59,30.59,330.05,330.05,330.05,330.05,330.05,330.05,330.05,330.05,330.05,217.05,217.05,217.05,217.05,217.05,217.05,217.05,217.05,217.05,372.55,372.55,372.55,372.55,372.55,372.55,372.55,372.55,372.55,372.55,372.55,372.55,126.34,126.34,126.34,126.34,126.34,126.34,385.37,385.37,385.37,385.37,385.37,385.37,385.37,385.37,385.37,385.37,385.37,127.36,127.36,127.36,127.36,127.36,127.36,127.36,127.36,452.42,452.42,452.42,452.42,452.42,452.42,452.42,452.42,452.42,452.42,66.32,66.32,66.32,66.32,66.32,66.32,66.32,66.32,66.32,66.32,66.32,66.32,66.32,427.61,427.61,427.61,427.61,427.61,427.61,427.61,427.61,427.61,427.61,427.61,389.2,389.2,389.2,389.2,389.2,389.2,389.2,389.2,389.2,303.5,303.5,303.5,303.5,303.5,303.5,303.5,303.5,303.5,303.5,26.26,26.26,26.26,26.26,481.78,481.78,481.78,481.78,481.78,481.78,481.78,481.78,290.17,290.17,290.17,290.17,290.17,290.17,290.17,290.17,290.17,290.17,290.17,290.17,396.34,396.34,396.34,396.34,396.34,396.34,396.34,396.34,396.34,396.34,396.34,396.34,48.69,48.69,48.69,48.69,48.69,48.69,429.31,429.31,429.31,429.31,429.31,429.31,429.31,429.31,155.65,155.65,155.65,155.65,155.65,155.65,18.82,18.82,18.82,18.82],\"xaxis\":\"x\",\"y\":[3,3,1,1,3,1,3,1,4,3,2,4,4,2,1,3,2,1,4,4,2,4,1,3,4,3,3,1,1,2,3,4,1,4,3,1,4,2,3,2,3,2,3,4,3,4,2,4,2,4,4,3,4,2,1,1,1,2,4,4,1,4,1,3,4,1,4,3,1,2,2,4,4,3,1,4,1,1,1,4,2,3,1,1,2,1,1,2,3,3,4,2,1,4,2,2,2,1,2,3,4,4,4,4,3,4,4,3,2,3,4,1,4,2,1,3,1,1,3,1,4,1,4,3,2,1,1,3,3,2,1,4,1,4,4,3,4,2,1,2,2,2,3,2,3,4,2,1,3,1,3,4,4,4,1,3,2,4,4,1,2,4,2,2,4,1,1,3,4,3,4,3,2,2,1,2,2,2,3,4,2,4,2,1,1,2,4,1,4,2,3,2,2,3,4,3,4,4,4,4,4,1,4,1,4,2,1,3,1,4,3,4,3,2,3,3,3,3,4,1,4,2,1,1,4,4,3,2],\"yaxis\":\"y\",\"type\":\"scatter\"}],                        {\"template\":{\"data\":{\"histogram2dcontour\":[{\"type\":\"histogram2dcontour\",\"colorbar\":{\"outlinewidth\":0,\"ticks\":\"\"},\"colorscale\":[[0.0,\"#0d0887\"],[0.1111111111111111,\"#46039f\"],[0.2222222222222222,\"#7201a8\"],[0.3333333333333333,\"#9c179e\"],[0.4444444444444444,\"#bd3786\"],[0.5555555555555556,\"#d8576b\"],[0.6666666666666666,\"#ed7953\"],[0.7777777777777778,\"#fb9f3a\"],[0.8888888888888888,\"#fdca26\"],[1.0,\"#f0f921\"]]}],\"choropleth\":[{\"type\":\"choropleth\",\"colorbar\":{\"outlinewidth\":0,\"ticks\":\"\"}}],\"histogram2d\":[{\"type\":\"histogram2d\",\"colorbar\":{\"outlinewidth\":0,\"ticks\":\"\"},\"colorscale\":[[0.0,\"#0d0887\"],[0.1111111111111111,\"#46039f\"],[0.2222222222222222,\"#7201a8\"],[0.3333333333333333,\"#9c179e\"],[0.4444444444444444,\"#bd3786\"],[0.5555555555555556,\"#d8576b\"],[0.6666666666666666,\"#ed7953\"],[0.7777777777777778,\"#fb9f3a\"],[0.8888888888888888,\"#fdca26\"],[1.0,\"#f0f921\"]]}],\"heatmap\":[{\"type\":\"heatmap\",\"colorbar\":{\"outlinewidth\":0,\"ticks\":\"\"},\"colorscale\":[[0.0,\"#0d0887\"],[0.1111111111111111,\"#46039f\"],[0.2222222222222222,\"#7201a8\"],[0.3333333333333333,\"#9c179e\"],[0.4444444444444444,\"#bd3786\"],[0.5555555555555556,\"#d8576b\"],[0.6666666666666666,\"#ed7953\"],[0.7777777777777778,\"#fb9f3a\"],[0.8888888888888888,\"#fdca26\"],[1.0,\"#f0f921\"]]}],\"heatmapgl\":[{\"type\":\"heatmapgl\",\"colorbar\":{\"outlinewidth\":0,\"ticks\":\"\"},\"colorscale\":[[0.0,\"#0d0887\"],[0.1111111111111111,\"#46039f\"],[0.2222222222222222,\"#7201a8\"],[0.3333333333333333,\"#9c179e\"],[0.4444444444444444,\"#bd3786\"],[0.5555555555555556,\"#d8576b\"],[0.6666666666666666,\"#ed7953\"],[0.7777777777777778,\"#fb9f3a\"],[0.8888888888888888,\"#fdca26\"],[1.0,\"#f0f921\"]]}],\"contourcarpet\":[{\"type\":\"contourcarpet\",\"colorbar\":{\"outlinewidth\":0,\"ticks\":\"\"}}],\"contour\":[{\"type\":\"contour\",\"colorbar\":{\"outlinewidth\":0,\"ticks\":\"\"},\"colorscale\":[[0.0,\"#0d0887\"],[0.1111111111111111,\"#46039f\"],[0.2222222222222222,\"#7201a8\"],[0.3333333333333333,\"#9c179e\"],[0.4444444444444444,\"#bd3786\"],[0.5555555555555556,\"#d8576b\"],[0.6666666666666666,\"#ed7953\"],[0.7777777777777778,\"#fb9f3a\"],[0.8888888888888888,\"#fdca26\"],[1.0,\"#f0f921\"]]}],\"surface\":[{\"type\":\"surface\",\"colorbar\":{\"outlinewidth\":0,\"ticks\":\"\"},\"colorscale\":[[0.0,\"#0d0887\"],[0.1111111111111111,\"#46039f\"],[0.2222222222222222,\"#7201a8\"],[0.3333333333333333,\"#9c179e\"],[0.4444444444444444,\"#bd3786\"],[0.5555555555555556,\"#d8576b\"],[0.6666666666666666,\"#ed7953\"],[0.7777777777777778,\"#fb9f3a\"],[0.8888888888888888,\"#fdca26\"],[1.0,\"#f0f921\"]]}],\"mesh3d\":[{\"type\":\"mesh3d\",\"colorbar\":{\"outlinewidth\":0,\"ticks\":\"\"}}],\"scatter\":[{\"fillpattern\":{\"fillmode\":\"overlay\",\"size\":10,\"solidity\":0.2},\"type\":\"scatter\"}],\"parcoords\":[{\"type\":\"parcoords\",\"line\":{\"colorbar\":{\"outlinewidth\":0,\"ticks\":\"\"}}}],\"scatterpolargl\":[{\"type\":\"scatterpolargl\",\"marker\":{\"colorbar\":{\"outlinewidth\":0,\"ticks\":\"\"}}}],\"bar\":[{\"error_x\":{\"color\":\"#2a3f5f\"},\"error_y\":{\"color\":\"#2a3f5f\"},\"marker\":{\"line\":{\"color\":\"#E5ECF6\",\"width\":0.5},\"pattern\":{\"fillmode\":\"overlay\",\"size\":10,\"solidity\":0.2}},\"type\":\"bar\"}],\"scattergeo\":[{\"type\":\"scattergeo\",\"marker\":{\"colorbar\":{\"outlinewidth\":0,\"ticks\":\"\"}}}],\"scatterpolar\":[{\"type\":\"scatterpolar\",\"marker\":{\"colorbar\":{\"outlinewidth\":0,\"ticks\":\"\"}}}],\"histogram\":[{\"marker\":{\"pattern\":{\"fillmode\":\"overlay\",\"size\":10,\"solidity\":0.2}},\"type\":\"histogram\"}],\"scattergl\":[{\"type\":\"scattergl\",\"marker\":{\"colorbar\":{\"outlinewidth\":0,\"ticks\":\"\"}}}],\"scatter3d\":[{\"type\":\"scatter3d\",\"line\":{\"colorbar\":{\"outlinewidth\":0,\"ticks\":\"\"}},\"marker\":{\"colorbar\":{\"outlinewidth\":0,\"ticks\":\"\"}}}],\"scattermapbox\":[{\"type\":\"scattermapbox\",\"marker\":{\"colorbar\":{\"outlinewidth\":0,\"ticks\":\"\"}}}],\"scatterternary\":[{\"type\":\"scatterternary\",\"marker\":{\"colorbar\":{\"outlinewidth\":0,\"ticks\":\"\"}}}],\"scattercarpet\":[{\"type\":\"scattercarpet\",\"marker\":{\"colorbar\":{\"outlinewidth\":0,\"ticks\":\"\"}}}],\"carpet\":[{\"aaxis\":{\"endlinecolor\":\"#2a3f5f\",\"gridcolor\":\"white\",\"linecolor\":\"white\",\"minorgridcolor\":\"white\",\"startlinecolor\":\"#2a3f5f\"},\"baxis\":{\"endlinecolor\":\"#2a3f5f\",\"gridcolor\":\"white\",\"linecolor\":\"white\",\"minorgridcolor\":\"white\",\"startlinecolor\":\"#2a3f5f\"},\"type\":\"carpet\"}],\"table\":[{\"cells\":{\"fill\":{\"color\":\"#EBF0F8\"},\"line\":{\"color\":\"white\"}},\"header\":{\"fill\":{\"color\":\"#C8D4E3\"},\"line\":{\"color\":\"white\"}},\"type\":\"table\"}],\"barpolar\":[{\"marker\":{\"line\":{\"color\":\"#E5ECF6\",\"width\":0.5},\"pattern\":{\"fillmode\":\"overlay\",\"size\":10,\"solidity\":0.2}},\"type\":\"barpolar\"}],\"pie\":[{\"automargin\":true,\"type\":\"pie\"}]},\"layout\":{\"autotypenumbers\":\"strict\",\"colorway\":[\"#636efa\",\"#EF553B\",\"#00cc96\",\"#ab63fa\",\"#FFA15A\",\"#19d3f3\",\"#FF6692\",\"#B6E880\",\"#FF97FF\",\"#FECB52\"],\"font\":{\"color\":\"#2a3f5f\"},\"hovermode\":\"closest\",\"hoverlabel\":{\"align\":\"left\"},\"paper_bgcolor\":\"white\",\"plot_bgcolor\":\"#E5ECF6\",\"polar\":{\"bgcolor\":\"#E5ECF6\",\"angularaxis\":{\"gridcolor\":\"white\",\"linecolor\":\"white\",\"ticks\":\"\"},\"radialaxis\":{\"gridcolor\":\"white\",\"linecolor\":\"white\",\"ticks\":\"\"}},\"ternary\":{\"bgcolor\":\"#E5ECF6\",\"aaxis\":{\"gridcolor\":\"white\",\"linecolor\":\"white\",\"ticks\":\"\"},\"baxis\":{\"gridcolor\":\"white\",\"linecolor\":\"white\",\"ticks\":\"\"},\"caxis\":{\"gridcolor\":\"white\",\"linecolor\":\"white\",\"ticks\":\"\"}},\"coloraxis\":{\"colorbar\":{\"outlinewidth\":0,\"ticks\":\"\"}},\"colorscale\":{\"sequential\":[[0.0,\"#0d0887\"],[0.1111111111111111,\"#46039f\"],[0.2222222222222222,\"#7201a8\"],[0.3333333333333333,\"#9c179e\"],[0.4444444444444444,\"#bd3786\"],[0.5555555555555556,\"#d8576b\"],[0.6666666666666666,\"#ed7953\"],[0.7777777777777778,\"#fb9f3a\"],[0.8888888888888888,\"#fdca26\"],[1.0,\"#f0f921\"]],\"sequentialminus\":[[0.0,\"#0d0887\"],[0.1111111111111111,\"#46039f\"],[0.2222222222222222,\"#7201a8\"],[0.3333333333333333,\"#9c179e\"],[0.4444444444444444,\"#bd3786\"],[0.5555555555555556,\"#d8576b\"],[0.6666666666666666,\"#ed7953\"],[0.7777777777777778,\"#fb9f3a\"],[0.8888888888888888,\"#fdca26\"],[1.0,\"#f0f921\"]],\"diverging\":[[0,\"#8e0152\"],[0.1,\"#c51b7d\"],[0.2,\"#de77ae\"],[0.3,\"#f1b6da\"],[0.4,\"#fde0ef\"],[0.5,\"#f7f7f7\"],[0.6,\"#e6f5d0\"],[0.7,\"#b8e186\"],[0.8,\"#7fbc41\"],[0.9,\"#4d9221\"],[1,\"#276419\"]]},\"xaxis\":{\"gridcolor\":\"white\",\"linecolor\":\"white\",\"ticks\":\"\",\"title\":{\"standoff\":15},\"zerolinecolor\":\"white\",\"automargin\":true,\"zerolinewidth\":2},\"yaxis\":{\"gridcolor\":\"white\",\"linecolor\":\"white\",\"ticks\":\"\",\"title\":{\"standoff\":15},\"zerolinecolor\":\"white\",\"automargin\":true,\"zerolinewidth\":2},\"scene\":{\"xaxis\":{\"backgroundcolor\":\"#E5ECF6\",\"gridcolor\":\"white\",\"linecolor\":\"white\",\"showbackground\":true,\"ticks\":\"\",\"zerolinecolor\":\"white\",\"gridwidth\":2},\"yaxis\":{\"backgroundcolor\":\"#E5ECF6\",\"gridcolor\":\"white\",\"linecolor\":\"white\",\"showbackground\":true,\"ticks\":\"\",\"zerolinecolor\":\"white\",\"gridwidth\":2},\"zaxis\":{\"backgroundcolor\":\"#E5ECF6\",\"gridcolor\":\"white\",\"linecolor\":\"white\",\"showbackground\":true,\"ticks\":\"\",\"zerolinecolor\":\"white\",\"gridwidth\":2}},\"shapedefaults\":{\"line\":{\"color\":\"#2a3f5f\"}},\"annotationdefaults\":{\"arrowcolor\":\"#2a3f5f\",\"arrowhead\":0,\"arrowwidth\":1},\"geo\":{\"bgcolor\":\"white\",\"landcolor\":\"#E5ECF6\",\"subunitcolor\":\"white\",\"showland\":true,\"showlakes\":true,\"lakecolor\":\"white\"},\"title\":{\"x\":0.05},\"mapbox\":{\"style\":\"light\"}}},\"xaxis\":{\"anchor\":\"y\",\"domain\":[0.0,1.0],\"title\":{\"text\":\"Price\"}},\"yaxis\":{\"anchor\":\"x\",\"domain\":[0.0,1.0],\"title\":{\"text\":\"Quantity\"}},\"legend\":{\"title\":{\"text\":\"Category\"},\"tracegroupgap\":0,\"itemsizing\":\"constant\"},\"title\":{\"text\":\"Price vs Quantity Sold by Category\"}},                        {\"responsive\": true}                    ).then(function(){\n",
       "                            \n",
       "var gd = document.getElementById('908fda43-ab2c-4c04-a4bd-910771496f1c');\n",
       "var x = new MutationObserver(function (mutations, observer) {{\n",
       "        var display = window.getComputedStyle(gd).display;\n",
       "        if (!display || display === 'none') {{\n",
       "            console.log([gd, 'removed!']);\n",
       "            Plotly.purge(gd);\n",
       "            observer.disconnect();\n",
       "        }}\n",
       "}});\n",
       "\n",
       "// Listen for the removal of the full notebook cells\n",
       "var notebookContainer = gd.closest('#notebook-container');\n",
       "if (notebookContainer) {{\n",
       "    x.observe(notebookContainer, {childList: true});\n",
       "}}\n",
       "\n",
       "// Listen for the clearing of the current output cell\n",
       "var outputEl = gd.closest('.output');\n",
       "if (outputEl) {{\n",
       "    x.observe(outputEl, {childList: true});\n",
       "}}\n",
       "\n",
       "                        })                };                });            </script>        </div>"
      ]
     },
     "metadata": {},
     "output_type": "display_data"
    }
   ],
   "source": [
    "fig_price_quantity = px.scatter(\n",
    "    merged_data,\n",
    "    x='Price',  \n",
    "    y='Quantity',\n",
    "    color='Category',\n",
    "    size='TotalValue',\n",
    "    hover_name='ProductName',\n",
    "    title='Price vs Quantity Sold by Category',\n",
    "    color_discrete_sequence=px.colors.sequential.Burg\n",
    "\n",
    ")\n",
    "\n",
    "fig_price_quantity.show()\n"
   ]
  },
  {
   "cell_type": "markdown",
   "id": "0cf2946e",
   "metadata": {},
   "source": [
    "### Price Distribution by Category"
   ]
  },
  {
   "cell_type": "code",
   "execution_count": 136,
   "id": "e1e867b7",
   "metadata": {},
   "outputs": [
    {
     "data": {
      "application/vnd.plotly.v1+json": {
       "config": {
        "plotlyServerURL": "https://plot.ly"
       },
       "data": [
        {
         "alignmentgroup": "True",
         "hovertemplate": "Product Category=%{x}<br>Product Price=%{y}<extra></extra>",
         "legendgroup": "Electronics",
         "marker": {
          "color": "#440154"
         },
         "name": "Electronics",
         "notched": false,
         "offsetgroup": "Electronics",
         "orientation": "v",
         "showlegend": true,
         "type": "box",
         "x": [
          "Electronics",
          "Electronics",
          "Electronics",
          "Electronics",
          "Electronics",
          "Electronics",
          "Electronics",
          "Electronics",
          "Electronics",
          "Electronics",
          "Electronics",
          "Electronics",
          "Electronics",
          "Electronics",
          "Electronics",
          "Electronics",
          "Electronics",
          "Electronics",
          "Electronics",
          "Electronics",
          "Electronics",
          "Electronics",
          "Electronics",
          "Electronics",
          "Electronics",
          "Electronics",
          "Electronics",
          "Electronics",
          "Electronics",
          "Electronics",
          "Electronics",
          "Electronics",
          "Electronics",
          "Electronics",
          "Electronics",
          "Electronics",
          "Electronics",
          "Electronics",
          "Electronics",
          "Electronics",
          "Electronics",
          "Electronics",
          "Electronics",
          "Electronics",
          "Electronics",
          "Electronics",
          "Electronics",
          "Electronics",
          "Electronics",
          "Electronics",
          "Electronics",
          "Electronics",
          "Electronics",
          "Electronics",
          "Electronics",
          "Electronics",
          "Electronics",
          "Electronics",
          "Electronics",
          "Electronics",
          "Electronics",
          "Electronics",
          "Electronics",
          "Electronics",
          "Electronics",
          "Electronics",
          "Electronics",
          "Electronics",
          "Electronics",
          "Electronics",
          "Electronics",
          "Electronics",
          "Electronics",
          "Electronics",
          "Electronics",
          "Electronics",
          "Electronics",
          "Electronics",
          "Electronics",
          "Electronics",
          "Electronics",
          "Electronics",
          "Electronics",
          "Electronics",
          "Electronics",
          "Electronics",
          "Electronics",
          "Electronics",
          "Electronics",
          "Electronics",
          "Electronics",
          "Electronics",
          "Electronics",
          "Electronics",
          "Electronics",
          "Electronics",
          "Electronics",
          "Electronics",
          "Electronics",
          "Electronics",
          "Electronics",
          "Electronics",
          "Electronics",
          "Electronics",
          "Electronics",
          "Electronics",
          "Electronics",
          "Electronics",
          "Electronics",
          "Electronics",
          "Electronics",
          "Electronics",
          "Electronics",
          "Electronics",
          "Electronics",
          "Electronics",
          "Electronics",
          "Electronics",
          "Electronics",
          "Electronics",
          "Electronics",
          "Electronics",
          "Electronics",
          "Electronics",
          "Electronics",
          "Electronics",
          "Electronics",
          "Electronics",
          "Electronics",
          "Electronics",
          "Electronics",
          "Electronics",
          "Electronics",
          "Electronics",
          "Electronics",
          "Electronics",
          "Electronics",
          "Electronics",
          "Electronics",
          "Electronics",
          "Electronics",
          "Electronics",
          "Electronics",
          "Electronics",
          "Electronics",
          "Electronics",
          "Electronics",
          "Electronics",
          "Electronics",
          "Electronics",
          "Electronics",
          "Electronics",
          "Electronics",
          "Electronics",
          "Electronics",
          "Electronics",
          "Electronics",
          "Electronics",
          "Electronics",
          "Electronics",
          "Electronics",
          "Electronics",
          "Electronics",
          "Electronics",
          "Electronics",
          "Electronics",
          "Electronics",
          "Electronics",
          "Electronics",
          "Electronics",
          "Electronics",
          "Electronics",
          "Electronics",
          "Electronics",
          "Electronics",
          "Electronics",
          "Electronics",
          "Electronics",
          "Electronics",
          "Electronics",
          "Electronics",
          "Electronics",
          "Electronics",
          "Electronics",
          "Electronics",
          "Electronics",
          "Electronics",
          "Electronics",
          "Electronics",
          "Electronics",
          "Electronics",
          "Electronics",
          "Electronics",
          "Electronics",
          "Electronics",
          "Electronics",
          "Electronics",
          "Electronics",
          "Electronics",
          "Electronics",
          "Electronics",
          "Electronics",
          "Electronics",
          "Electronics",
          "Electronics",
          "Electronics",
          "Electronics",
          "Electronics",
          "Electronics",
          "Electronics",
          "Electronics",
          "Electronics",
          "Electronics",
          "Electronics",
          "Electronics",
          "Electronics",
          "Electronics",
          "Electronics",
          "Electronics",
          "Electronics",
          "Electronics",
          "Electronics",
          "Electronics",
          "Electronics",
          "Electronics",
          "Electronics",
          "Electronics",
          "Electronics",
          "Electronics",
          "Electronics",
          "Electronics",
          "Electronics",
          "Electronics",
          "Electronics",
          "Electronics",
          "Electronics",
          "Electronics",
          "Electronics",
          "Electronics",
          "Electronics",
          "Electronics",
          "Electronics",
          "Electronics",
          "Electronics",
          "Electronics",
          "Electronics",
          "Electronics",
          "Electronics",
          "Electronics",
          "Electronics",
          "Electronics",
          "Electronics",
          "Electronics",
          "Electronics"
         ],
         "x0": " ",
         "xaxis": "x",
         "y": [
          300.68,
          300.68,
          300.68,
          300.68,
          300.68,
          300.68,
          300.68,
          300.68,
          300.68,
          300.68,
          300.68,
          300.68,
          300.68,
          146.85,
          146.85,
          146.85,
          146.85,
          146.85,
          146.85,
          146.85,
          146.85,
          146.85,
          146.85,
          433.64,
          433.64,
          433.64,
          433.64,
          433.64,
          433.64,
          433.64,
          433.64,
          433.64,
          433.64,
          433.64,
          433.64,
          433.64,
          433.64,
          433.64,
          433.64,
          433.64,
          263.55,
          263.55,
          263.55,
          263.55,
          263.55,
          263.55,
          263.55,
          263.55,
          299.93,
          299.93,
          299.93,
          299.93,
          299.93,
          299.93,
          299.93,
          239.7,
          239.7,
          239.7,
          239.7,
          239.7,
          239.7,
          239.7,
          239.7,
          239.7,
          239.7,
          239.7,
          239.7,
          239.7,
          239.7,
          239.7,
          196.4,
          196.4,
          196.4,
          196.4,
          64.38,
          64.38,
          64.38,
          64.38,
          64.38,
          64.38,
          64.38,
          114.2,
          114.2,
          114.2,
          114.2,
          114.2,
          114.2,
          114.2,
          114.2,
          114.2,
          114.2,
          114.2,
          455.72,
          455.72,
          455.72,
          455.72,
          455.72,
          455.72,
          455.72,
          455.72,
          455.72,
          455.72,
          455.72,
          455.72,
          455.72,
          307.47,
          307.47,
          307.47,
          307.47,
          307.47,
          307.47,
          307.47,
          307.47,
          307.47,
          307.47,
          307.47,
          307.47,
          307.47,
          307.47,
          307.47,
          437.65,
          437.65,
          437.65,
          437.65,
          437.65,
          437.65,
          437.65,
          437.65,
          437.65,
          437.65,
          437.65,
          437.65,
          437.65,
          350.13,
          350.13,
          350.13,
          350.13,
          350.13,
          350.13,
          350.13,
          350.13,
          350.13,
          350.13,
          350.13,
          430.59,
          430.59,
          430.59,
          430.59,
          430.59,
          430.59,
          430.59,
          430.59,
          430.59,
          430.59,
          430.59,
          430.59,
          220.91,
          220.91,
          220.91,
          220.91,
          220.91,
          220.91,
          220.91,
          456.28,
          456.28,
          456.28,
          456.28,
          456.28,
          456.28,
          456.28,
          456.28,
          456.28,
          456.28,
          456.28,
          158.93,
          158.93,
          158.93,
          158.93,
          158.93,
          158.93,
          158.93,
          158.93,
          229.06,
          229.06,
          229.06,
          229.06,
          229.06,
          229.06,
          229.06,
          229.06,
          229.06,
          229.06,
          229.06,
          26.99,
          26.99,
          26.99,
          26.99,
          26.99,
          26.99,
          26.99,
          26.99,
          26.99,
          26.99,
          16.08,
          16.08,
          16.08,
          16.08,
          16.08,
          16.08,
          16.08,
          16.08,
          265.51,
          265.51,
          265.51,
          265.51,
          265.51,
          265.51,
          399.34,
          399.34,
          399.34,
          399.34,
          399.34,
          399.34,
          346.3,
          346.3,
          346.3,
          346.3,
          346.3,
          346.3,
          346.3,
          346.3,
          459.86,
          459.86,
          459.86,
          459.86,
          459.86,
          459.86,
          459.86,
          159.6,
          159.6,
          159.6,
          159.6,
          159.6,
          159.6,
          159.6,
          159.6,
          379.44,
          379.44,
          379.44,
          379.44,
          379.44,
          379.44,
          379.44,
          379.44
         ],
         "y0": " ",
         "yaxis": "y"
        },
        {
         "alignmentgroup": "True",
         "hovertemplate": "Product Category=%{x}<br>Product Price=%{y}<extra></extra>",
         "legendgroup": "Home Decor",
         "marker": {
          "color": "#482878"
         },
         "name": "Home Decor",
         "notched": false,
         "offsetgroup": "Home Decor",
         "orientation": "v",
         "showlegend": true,
         "type": "box",
         "x": [
          "Home Decor",
          "Home Decor",
          "Home Decor",
          "Home Decor",
          "Home Decor",
          "Home Decor",
          "Home Decor",
          "Home Decor",
          "Home Decor",
          "Home Decor",
          "Home Decor",
          "Home Decor",
          "Home Decor",
          "Home Decor",
          "Home Decor",
          "Home Decor",
          "Home Decor",
          "Home Decor",
          "Home Decor",
          "Home Decor",
          "Home Decor",
          "Home Decor",
          "Home Decor",
          "Home Decor",
          "Home Decor",
          "Home Decor",
          "Home Decor",
          "Home Decor",
          "Home Decor",
          "Home Decor",
          "Home Decor",
          "Home Decor",
          "Home Decor",
          "Home Decor",
          "Home Decor",
          "Home Decor",
          "Home Decor",
          "Home Decor",
          "Home Decor",
          "Home Decor",
          "Home Decor",
          "Home Decor",
          "Home Decor",
          "Home Decor",
          "Home Decor",
          "Home Decor",
          "Home Decor",
          "Home Decor",
          "Home Decor",
          "Home Decor",
          "Home Decor",
          "Home Decor",
          "Home Decor",
          "Home Decor",
          "Home Decor",
          "Home Decor",
          "Home Decor",
          "Home Decor",
          "Home Decor",
          "Home Decor",
          "Home Decor",
          "Home Decor",
          "Home Decor",
          "Home Decor",
          "Home Decor",
          "Home Decor",
          "Home Decor",
          "Home Decor",
          "Home Decor",
          "Home Decor",
          "Home Decor",
          "Home Decor",
          "Home Decor",
          "Home Decor",
          "Home Decor",
          "Home Decor",
          "Home Decor",
          "Home Decor",
          "Home Decor",
          "Home Decor",
          "Home Decor",
          "Home Decor",
          "Home Decor",
          "Home Decor",
          "Home Decor",
          "Home Decor",
          "Home Decor",
          "Home Decor",
          "Home Decor",
          "Home Decor",
          "Home Decor",
          "Home Decor",
          "Home Decor",
          "Home Decor",
          "Home Decor",
          "Home Decor",
          "Home Decor",
          "Home Decor",
          "Home Decor",
          "Home Decor",
          "Home Decor",
          "Home Decor",
          "Home Decor",
          "Home Decor",
          "Home Decor",
          "Home Decor",
          "Home Decor",
          "Home Decor",
          "Home Decor",
          "Home Decor",
          "Home Decor",
          "Home Decor",
          "Home Decor",
          "Home Decor",
          "Home Decor",
          "Home Decor",
          "Home Decor",
          "Home Decor",
          "Home Decor",
          "Home Decor",
          "Home Decor",
          "Home Decor",
          "Home Decor",
          "Home Decor",
          "Home Decor",
          "Home Decor",
          "Home Decor",
          "Home Decor",
          "Home Decor",
          "Home Decor",
          "Home Decor",
          "Home Decor",
          "Home Decor",
          "Home Decor",
          "Home Decor",
          "Home Decor",
          "Home Decor",
          "Home Decor",
          "Home Decor",
          "Home Decor",
          "Home Decor",
          "Home Decor",
          "Home Decor",
          "Home Decor",
          "Home Decor",
          "Home Decor",
          "Home Decor",
          "Home Decor",
          "Home Decor",
          "Home Decor",
          "Home Decor",
          "Home Decor",
          "Home Decor",
          "Home Decor",
          "Home Decor",
          "Home Decor",
          "Home Decor",
          "Home Decor",
          "Home Decor",
          "Home Decor",
          "Home Decor",
          "Home Decor",
          "Home Decor",
          "Home Decor",
          "Home Decor",
          "Home Decor",
          "Home Decor",
          "Home Decor",
          "Home Decor",
          "Home Decor",
          "Home Decor",
          "Home Decor",
          "Home Decor",
          "Home Decor",
          "Home Decor",
          "Home Decor",
          "Home Decor",
          "Home Decor",
          "Home Decor",
          "Home Decor",
          "Home Decor",
          "Home Decor",
          "Home Decor",
          "Home Decor",
          "Home Decor",
          "Home Decor",
          "Home Decor",
          "Home Decor",
          "Home Decor",
          "Home Decor",
          "Home Decor",
          "Home Decor",
          "Home Decor",
          "Home Decor",
          "Home Decor",
          "Home Decor",
          "Home Decor",
          "Home Decor",
          "Home Decor",
          "Home Decor",
          "Home Decor",
          "Home Decor",
          "Home Decor",
          "Home Decor",
          "Home Decor",
          "Home Decor",
          "Home Decor",
          "Home Decor",
          "Home Decor",
          "Home Decor",
          "Home Decor",
          "Home Decor",
          "Home Decor",
          "Home Decor",
          "Home Decor",
          "Home Decor",
          "Home Decor",
          "Home Decor",
          "Home Decor",
          "Home Decor",
          "Home Decor",
          "Home Decor",
          "Home Decor",
          "Home Decor",
          "Home Decor",
          "Home Decor",
          "Home Decor",
          "Home Decor",
          "Home Decor",
          "Home Decor",
          "Home Decor",
          "Home Decor",
          "Home Decor",
          "Home Decor",
          "Home Decor",
          "Home Decor",
          "Home Decor",
          "Home Decor",
          "Home Decor",
          "Home Decor",
          "Home Decor",
          "Home Decor",
          "Home Decor",
          "Home Decor",
          "Home Decor",
          "Home Decor",
          "Home Decor",
          "Home Decor"
         ],
         "x0": " ",
         "xaxis": "x",
         "y": [
          137.54,
          137.54,
          137.54,
          137.54,
          137.54,
          137.54,
          137.54,
          137.54,
          137.54,
          137.54,
          137.54,
          137.54,
          137.54,
          137.54,
          137.54,
          417.37,
          417.37,
          417.37,
          417.37,
          417.37,
          417.37,
          417.37,
          417.37,
          417.37,
          417.37,
          417.37,
          417.37,
          417.37,
          417.37,
          417.37,
          417.37,
          274.94,
          274.94,
          274.94,
          274.94,
          274.94,
          274.94,
          274.94,
          274.94,
          274.94,
          274.94,
          337.91,
          337.91,
          337.91,
          337.91,
          337.91,
          337.91,
          337.91,
          337.91,
          337.91,
          337.91,
          337.91,
          337.91,
          337.91,
          235.58,
          235.58,
          235.58,
          235.58,
          235.58,
          235.58,
          235.58,
          235.58,
          235.58,
          235.58,
          235.58,
          235.58,
          159.33,
          159.33,
          159.33,
          159.33,
          159.33,
          159.33,
          159.33,
          159.33,
          159.33,
          159.33,
          227.26,
          227.26,
          227.26,
          227.26,
          227.26,
          227.26,
          227.26,
          147.22,
          147.22,
          147.22,
          147.22,
          147.22,
          147.22,
          147.22,
          147.22,
          147.22,
          147.22,
          147.22,
          147.22,
          147.22,
          95.69,
          95.69,
          95.69,
          95.69,
          95.69,
          95.69,
          95.69,
          447.34,
          447.34,
          447.34,
          447.34,
          447.34,
          447.34,
          447.34,
          447.34,
          447.34,
          447.34,
          447.34,
          65.16,
          65.16,
          65.16,
          65.16,
          65.16,
          65.16,
          65.16,
          65.16,
          65.16,
          65.16,
          335.84,
          335.84,
          335.84,
          335.84,
          335.84,
          335.84,
          335.84,
          335.84,
          335.84,
          335.84,
          335.84,
          121.32,
          121.32,
          121.32,
          121.32,
          121.32,
          121.32,
          121.32,
          121.32,
          121.32,
          121.32,
          121.32,
          121.32,
          121.32,
          222.95,
          222.95,
          222.95,
          222.95,
          222.95,
          222.95,
          222.95,
          284.62,
          284.62,
          284.62,
          284.62,
          284.62,
          284.62,
          284.62,
          284.62,
          284.62,
          284.62,
          284.62,
          284.62,
          261.2,
          261.2,
          261.2,
          261.2,
          261.2,
          261.2,
          261.2,
          261.2,
          261.2,
          261.2,
          156.96,
          156.96,
          156.96,
          156.96,
          156.96,
          156.96,
          156.96,
          156.96,
          156.96,
          156.96,
          156.96,
          156.96,
          156.96,
          156.96,
          156.96,
          156.96,
          41.18,
          41.18,
          41.18,
          41.18,
          41.18,
          41.18,
          41.18,
          41.18,
          41.18,
          41.18,
          55.99,
          55.99,
          55.99,
          55.99,
          55.99,
          55.99,
          55.99,
          55.99,
          454.53,
          454.53,
          454.53,
          454.53,
          454.53,
          454.53,
          454.53,
          454.53,
          454.53,
          295.58,
          295.58,
          295.58,
          295.58,
          295.58,
          295.58,
          295.58,
          295.58,
          295.58,
          295.58,
          295.58,
          295.58,
          295.58,
          325.01,
          325.01,
          325.01,
          325.01,
          325.01,
          325.01,
          325.01,
          304.94,
          304.94,
          304.94,
          304.94,
          304.94,
          304.94,
          304.94,
          304.94
         ],
         "y0": " ",
         "yaxis": "y"
        },
        {
         "alignmentgroup": "True",
         "hovertemplate": "Product Category=%{x}<br>Product Price=%{y}<extra></extra>",
         "legendgroup": "Books",
         "marker": {
          "color": "#3e4989"
         },
         "name": "Books",
         "notched": false,
         "offsetgroup": "Books",
         "orientation": "v",
         "showlegend": true,
         "type": "box",
         "x": [
          "Books",
          "Books",
          "Books",
          "Books",
          "Books",
          "Books",
          "Books",
          "Books",
          "Books",
          "Books",
          "Books",
          "Books",
          "Books",
          "Books",
          "Books",
          "Books",
          "Books",
          "Books",
          "Books",
          "Books",
          "Books",
          "Books",
          "Books",
          "Books",
          "Books",
          "Books",
          "Books",
          "Books",
          "Books",
          "Books",
          "Books",
          "Books",
          "Books",
          "Books",
          "Books",
          "Books",
          "Books",
          "Books",
          "Books",
          "Books",
          "Books",
          "Books",
          "Books",
          "Books",
          "Books",
          "Books",
          "Books",
          "Books",
          "Books",
          "Books",
          "Books",
          "Books",
          "Books",
          "Books",
          "Books",
          "Books",
          "Books",
          "Books",
          "Books",
          "Books",
          "Books",
          "Books",
          "Books",
          "Books",
          "Books",
          "Books",
          "Books",
          "Books",
          "Books",
          "Books",
          "Books",
          "Books",
          "Books",
          "Books",
          "Books",
          "Books",
          "Books",
          "Books",
          "Books",
          "Books",
          "Books",
          "Books",
          "Books",
          "Books",
          "Books",
          "Books",
          "Books",
          "Books",
          "Books",
          "Books",
          "Books",
          "Books",
          "Books",
          "Books",
          "Books",
          "Books",
          "Books",
          "Books",
          "Books",
          "Books",
          "Books",
          "Books",
          "Books",
          "Books",
          "Books",
          "Books",
          "Books",
          "Books",
          "Books",
          "Books",
          "Books",
          "Books",
          "Books",
          "Books",
          "Books",
          "Books",
          "Books",
          "Books",
          "Books",
          "Books",
          "Books",
          "Books",
          "Books",
          "Books",
          "Books",
          "Books",
          "Books",
          "Books",
          "Books",
          "Books",
          "Books",
          "Books",
          "Books",
          "Books",
          "Books",
          "Books",
          "Books",
          "Books",
          "Books",
          "Books",
          "Books",
          "Books",
          "Books",
          "Books",
          "Books",
          "Books",
          "Books",
          "Books",
          "Books",
          "Books",
          "Books",
          "Books",
          "Books",
          "Books",
          "Books",
          "Books",
          "Books",
          "Books",
          "Books",
          "Books",
          "Books",
          "Books",
          "Books",
          "Books",
          "Books",
          "Books",
          "Books",
          "Books",
          "Books",
          "Books",
          "Books",
          "Books",
          "Books",
          "Books",
          "Books",
          "Books",
          "Books",
          "Books",
          "Books",
          "Books",
          "Books",
          "Books",
          "Books",
          "Books",
          "Books",
          "Books",
          "Books",
          "Books",
          "Books",
          "Books",
          "Books",
          "Books",
          "Books",
          "Books",
          "Books",
          "Books",
          "Books",
          "Books",
          "Books",
          "Books",
          "Books",
          "Books",
          "Books",
          "Books",
          "Books",
          "Books",
          "Books",
          "Books",
          "Books",
          "Books",
          "Books",
          "Books",
          "Books",
          "Books",
          "Books",
          "Books",
          "Books",
          "Books",
          "Books",
          "Books",
          "Books",
          "Books",
          "Books",
          "Books",
          "Books",
          "Books",
          "Books",
          "Books",
          "Books",
          "Books",
          "Books",
          "Books",
          "Books",
          "Books",
          "Books",
          "Books",
          "Books",
          "Books",
          "Books",
          "Books",
          "Books",
          "Books",
          "Books",
          "Books",
          "Books",
          "Books",
          "Books",
          "Books",
          "Books",
          "Books",
          "Books",
          "Books",
          "Books",
          "Books",
          "Books",
          "Books",
          "Books",
          "Books",
          "Books",
          "Books",
          "Books",
          "Books",
          "Books",
          "Books",
          "Books",
          "Books",
          "Books",
          "Books",
          "Books",
          "Books"
         ],
         "x0": " ",
         "xaxis": "x",
         "y": [
          337.22,
          337.22,
          337.22,
          337.22,
          337.22,
          337.22,
          337.22,
          337.22,
          337.22,
          337.22,
          337.22,
          488.63,
          488.63,
          488.63,
          488.63,
          488.63,
          488.63,
          488.63,
          488.63,
          488.63,
          488.63,
          488.63,
          147.95,
          147.95,
          147.95,
          147.95,
          147.95,
          147.95,
          147.95,
          147.95,
          147.95,
          147.95,
          147.95,
          147.95,
          147.95,
          147.95,
          147.95,
          374.16,
          374.16,
          374.16,
          374.16,
          374.16,
          374.16,
          374.16,
          374.16,
          374.16,
          374.16,
          374.16,
          374.16,
          374.16,
          374.16,
          374.16,
          374.16,
          277.86,
          277.86,
          277.86,
          277.86,
          277.86,
          277.86,
          277.86,
          277.86,
          277.86,
          319.34,
          319.34,
          319.34,
          319.34,
          319.34,
          319.34,
          319.34,
          319.34,
          319.34,
          354.29,
          354.29,
          354.29,
          354.29,
          497.76,
          497.76,
          497.76,
          497.76,
          497.76,
          497.76,
          497.76,
          497.76,
          497.76,
          497.76,
          447.23,
          447.23,
          447.23,
          447.23,
          447.23,
          447.23,
          447.23,
          447.23,
          447.23,
          447.23,
          447.23,
          165.3,
          165.3,
          165.3,
          165.3,
          165.3,
          165.3,
          165.3,
          165.3,
          469.77,
          469.77,
          469.77,
          469.77,
          469.77,
          469.77,
          469.77,
          469.77,
          469.77,
          469.77,
          33.59,
          33.59,
          33.59,
          33.59,
          33.59,
          33.59,
          33.59,
          33.59,
          33.59,
          338.66,
          338.66,
          338.66,
          338.66,
          338.66,
          416.4,
          416.4,
          416.4,
          416.4,
          416.4,
          416.4,
          416.4,
          416.4,
          416.4,
          416.4,
          416.4,
          416.4,
          416.4,
          416.4,
          416.4,
          404.4,
          404.4,
          404.4,
          404.4,
          404.4,
          404.4,
          404.4,
          404.4,
          404.4,
          404.4,
          404.4,
          128.53,
          128.53,
          128.53,
          128.53,
          128.53,
          128.53,
          128.53,
          128.53,
          128.53,
          128.53,
          44.12,
          44.12,
          44.12,
          44.12,
          44.12,
          44.12,
          44.12,
          44.12,
          44.12,
          44.12,
          44.12,
          44.12,
          440.7,
          440.7,
          440.7,
          440.7,
          440.7,
          440.7,
          440.7,
          440.7,
          440.7,
          420.15,
          420.15,
          420.15,
          420.15,
          420.15,
          420.15,
          420.15,
          420.15,
          157.62,
          157.62,
          157.62,
          157.62,
          157.62,
          157.62,
          157.62,
          157.62,
          157.62,
          157.62,
          157.62,
          157.62,
          157.62,
          416.35,
          416.35,
          416.35,
          416.35,
          416.35,
          416.35,
          416.35,
          416.35,
          57.3,
          57.3,
          57.3,
          57.3,
          57.3,
          57.3,
          57.3,
          57.3,
          57.3,
          57.3,
          57.3,
          57.3,
          57.3,
          57.3,
          57.3,
          57.3,
          153.19,
          153.19,
          153.19,
          153.19,
          153.19,
          153.19,
          153.19,
          153.19,
          153.19,
          153.19,
          153.19,
          153.19,
          153.19,
          100.81,
          100.81,
          100.81,
          100.81,
          100.81,
          100.81,
          100.81,
          100.81,
          100.81,
          100.81,
          100.81,
          100.81,
          169.3,
          169.3,
          169.3,
          169.3,
          169.3,
          169.3,
          169.3,
          169.3,
          436.89,
          436.89,
          436.89,
          436.89,
          436.89,
          436.89,
          436.89
         ],
         "y0": " ",
         "yaxis": "y"
        },
        {
         "alignmentgroup": "True",
         "hovertemplate": "Product Category=%{x}<br>Product Price=%{y}<extra></extra>",
         "legendgroup": "Clothing",
         "marker": {
          "color": "#31688e"
         },
         "name": "Clothing",
         "notched": false,
         "offsetgroup": "Clothing",
         "orientation": "v",
         "showlegend": true,
         "type": "box",
         "x": [
          "Clothing",
          "Clothing",
          "Clothing",
          "Clothing",
          "Clothing",
          "Clothing",
          "Clothing",
          "Clothing",
          "Clothing",
          "Clothing",
          "Clothing",
          "Clothing",
          "Clothing",
          "Clothing",
          "Clothing",
          "Clothing",
          "Clothing",
          "Clothing",
          "Clothing",
          "Clothing",
          "Clothing",
          "Clothing",
          "Clothing",
          "Clothing",
          "Clothing",
          "Clothing",
          "Clothing",
          "Clothing",
          "Clothing",
          "Clothing",
          "Clothing",
          "Clothing",
          "Clothing",
          "Clothing",
          "Clothing",
          "Clothing",
          "Clothing",
          "Clothing",
          "Clothing",
          "Clothing",
          "Clothing",
          "Clothing",
          "Clothing",
          "Clothing",
          "Clothing",
          "Clothing",
          "Clothing",
          "Clothing",
          "Clothing",
          "Clothing",
          "Clothing",
          "Clothing",
          "Clothing",
          "Clothing",
          "Clothing",
          "Clothing",
          "Clothing",
          "Clothing",
          "Clothing",
          "Clothing",
          "Clothing",
          "Clothing",
          "Clothing",
          "Clothing",
          "Clothing",
          "Clothing",
          "Clothing",
          "Clothing",
          "Clothing",
          "Clothing",
          "Clothing",
          "Clothing",
          "Clothing",
          "Clothing",
          "Clothing",
          "Clothing",
          "Clothing",
          "Clothing",
          "Clothing",
          "Clothing",
          "Clothing",
          "Clothing",
          "Clothing",
          "Clothing",
          "Clothing",
          "Clothing",
          "Clothing",
          "Clothing",
          "Clothing",
          "Clothing",
          "Clothing",
          "Clothing",
          "Clothing",
          "Clothing",
          "Clothing",
          "Clothing",
          "Clothing",
          "Clothing",
          "Clothing",
          "Clothing",
          "Clothing",
          "Clothing",
          "Clothing",
          "Clothing",
          "Clothing",
          "Clothing",
          "Clothing",
          "Clothing",
          "Clothing",
          "Clothing",
          "Clothing",
          "Clothing",
          "Clothing",
          "Clothing",
          "Clothing",
          "Clothing",
          "Clothing",
          "Clothing",
          "Clothing",
          "Clothing",
          "Clothing",
          "Clothing",
          "Clothing",
          "Clothing",
          "Clothing",
          "Clothing",
          "Clothing",
          "Clothing",
          "Clothing",
          "Clothing",
          "Clothing",
          "Clothing",
          "Clothing",
          "Clothing",
          "Clothing",
          "Clothing",
          "Clothing",
          "Clothing",
          "Clothing",
          "Clothing",
          "Clothing",
          "Clothing",
          "Clothing",
          "Clothing",
          "Clothing",
          "Clothing",
          "Clothing",
          "Clothing",
          "Clothing",
          "Clothing",
          "Clothing",
          "Clothing",
          "Clothing",
          "Clothing",
          "Clothing",
          "Clothing",
          "Clothing",
          "Clothing",
          "Clothing",
          "Clothing",
          "Clothing",
          "Clothing",
          "Clothing",
          "Clothing",
          "Clothing",
          "Clothing",
          "Clothing",
          "Clothing",
          "Clothing",
          "Clothing",
          "Clothing",
          "Clothing",
          "Clothing",
          "Clothing",
          "Clothing",
          "Clothing",
          "Clothing",
          "Clothing",
          "Clothing",
          "Clothing",
          "Clothing",
          "Clothing",
          "Clothing",
          "Clothing",
          "Clothing",
          "Clothing",
          "Clothing",
          "Clothing",
          "Clothing",
          "Clothing",
          "Clothing",
          "Clothing",
          "Clothing",
          "Clothing",
          "Clothing",
          "Clothing",
          "Clothing",
          "Clothing",
          "Clothing",
          "Clothing",
          "Clothing",
          "Clothing",
          "Clothing",
          "Clothing",
          "Clothing",
          "Clothing",
          "Clothing",
          "Clothing",
          "Clothing",
          "Clothing",
          "Clothing",
          "Clothing",
          "Clothing",
          "Clothing",
          "Clothing",
          "Clothing",
          "Clothing",
          "Clothing",
          "Clothing",
          "Clothing",
          "Clothing",
          "Clothing",
          "Clothing",
          "Clothing",
          "Clothing",
          "Clothing",
          "Clothing",
          "Clothing"
         ],
         "x0": " ",
         "xaxis": "x",
         "y": [
          303.2,
          303.2,
          303.2,
          303.2,
          303.2,
          303.2,
          303.2,
          303.2,
          303.2,
          303.2,
          303.2,
          303.2,
          303.2,
          303.2,
          303.2,
          303.2,
          303.2,
          303.2,
          303.2,
          429.29,
          429.29,
          429.29,
          429.29,
          429.29,
          429.29,
          429.29,
          429.29,
          429.29,
          429.29,
          366.07,
          366.07,
          366.07,
          366.07,
          366.07,
          366.07,
          366.07,
          366.07,
          64.25,
          64.25,
          64.25,
          64.25,
          64.25,
          64.25,
          64.25,
          64.25,
          354.81,
          354.81,
          354.81,
          354.81,
          354.81,
          30.59,
          30.59,
          30.59,
          30.59,
          30.59,
          30.59,
          30.59,
          30.59,
          30.59,
          30.59,
          330.05,
          330.05,
          330.05,
          330.05,
          330.05,
          330.05,
          330.05,
          330.05,
          330.05,
          217.05,
          217.05,
          217.05,
          217.05,
          217.05,
          217.05,
          217.05,
          217.05,
          217.05,
          372.55,
          372.55,
          372.55,
          372.55,
          372.55,
          372.55,
          372.55,
          372.55,
          372.55,
          372.55,
          372.55,
          372.55,
          126.34,
          126.34,
          126.34,
          126.34,
          126.34,
          126.34,
          385.37,
          385.37,
          385.37,
          385.37,
          385.37,
          385.37,
          385.37,
          385.37,
          385.37,
          385.37,
          385.37,
          127.36,
          127.36,
          127.36,
          127.36,
          127.36,
          127.36,
          127.36,
          127.36,
          452.42,
          452.42,
          452.42,
          452.42,
          452.42,
          452.42,
          452.42,
          452.42,
          452.42,
          452.42,
          66.32,
          66.32,
          66.32,
          66.32,
          66.32,
          66.32,
          66.32,
          66.32,
          66.32,
          66.32,
          66.32,
          66.32,
          66.32,
          427.61,
          427.61,
          427.61,
          427.61,
          427.61,
          427.61,
          427.61,
          427.61,
          427.61,
          427.61,
          427.61,
          389.2,
          389.2,
          389.2,
          389.2,
          389.2,
          389.2,
          389.2,
          389.2,
          389.2,
          303.5,
          303.5,
          303.5,
          303.5,
          303.5,
          303.5,
          303.5,
          303.5,
          303.5,
          303.5,
          26.26,
          26.26,
          26.26,
          26.26,
          481.78,
          481.78,
          481.78,
          481.78,
          481.78,
          481.78,
          481.78,
          481.78,
          290.17,
          290.17,
          290.17,
          290.17,
          290.17,
          290.17,
          290.17,
          290.17,
          290.17,
          290.17,
          290.17,
          290.17,
          396.34,
          396.34,
          396.34,
          396.34,
          396.34,
          396.34,
          396.34,
          396.34,
          396.34,
          396.34,
          396.34,
          396.34,
          48.69,
          48.69,
          48.69,
          48.69,
          48.69,
          48.69,
          429.31,
          429.31,
          429.31,
          429.31,
          429.31,
          429.31,
          429.31,
          429.31,
          155.65,
          155.65,
          155.65,
          155.65,
          155.65,
          155.65,
          18.82,
          18.82,
          18.82,
          18.82
         ],
         "y0": " ",
         "yaxis": "y"
        }
       ],
       "layout": {
        "boxmode": "overlay",
        "legend": {
         "title": {
          "text": "Product Category"
         },
         "tracegroupgap": 0
        },
        "template": {
         "data": {
          "bar": [
           {
            "error_x": {
             "color": "#2a3f5f"
            },
            "error_y": {
             "color": "#2a3f5f"
            },
            "marker": {
             "line": {
              "color": "#E5ECF6",
              "width": 0.5
             },
             "pattern": {
              "fillmode": "overlay",
              "size": 10,
              "solidity": 0.2
             }
            },
            "type": "bar"
           }
          ],
          "barpolar": [
           {
            "marker": {
             "line": {
              "color": "#E5ECF6",
              "width": 0.5
             },
             "pattern": {
              "fillmode": "overlay",
              "size": 10,
              "solidity": 0.2
             }
            },
            "type": "barpolar"
           }
          ],
          "carpet": [
           {
            "aaxis": {
             "endlinecolor": "#2a3f5f",
             "gridcolor": "white",
             "linecolor": "white",
             "minorgridcolor": "white",
             "startlinecolor": "#2a3f5f"
            },
            "baxis": {
             "endlinecolor": "#2a3f5f",
             "gridcolor": "white",
             "linecolor": "white",
             "minorgridcolor": "white",
             "startlinecolor": "#2a3f5f"
            },
            "type": "carpet"
           }
          ],
          "choropleth": [
           {
            "colorbar": {
             "outlinewidth": 0,
             "ticks": ""
            },
            "type": "choropleth"
           }
          ],
          "contour": [
           {
            "colorbar": {
             "outlinewidth": 0,
             "ticks": ""
            },
            "colorscale": [
             [
              0,
              "#0d0887"
             ],
             [
              0.1111111111111111,
              "#46039f"
             ],
             [
              0.2222222222222222,
              "#7201a8"
             ],
             [
              0.3333333333333333,
              "#9c179e"
             ],
             [
              0.4444444444444444,
              "#bd3786"
             ],
             [
              0.5555555555555556,
              "#d8576b"
             ],
             [
              0.6666666666666666,
              "#ed7953"
             ],
             [
              0.7777777777777778,
              "#fb9f3a"
             ],
             [
              0.8888888888888888,
              "#fdca26"
             ],
             [
              1,
              "#f0f921"
             ]
            ],
            "type": "contour"
           }
          ],
          "contourcarpet": [
           {
            "colorbar": {
             "outlinewidth": 0,
             "ticks": ""
            },
            "type": "contourcarpet"
           }
          ],
          "heatmap": [
           {
            "colorbar": {
             "outlinewidth": 0,
             "ticks": ""
            },
            "colorscale": [
             [
              0,
              "#0d0887"
             ],
             [
              0.1111111111111111,
              "#46039f"
             ],
             [
              0.2222222222222222,
              "#7201a8"
             ],
             [
              0.3333333333333333,
              "#9c179e"
             ],
             [
              0.4444444444444444,
              "#bd3786"
             ],
             [
              0.5555555555555556,
              "#d8576b"
             ],
             [
              0.6666666666666666,
              "#ed7953"
             ],
             [
              0.7777777777777778,
              "#fb9f3a"
             ],
             [
              0.8888888888888888,
              "#fdca26"
             ],
             [
              1,
              "#f0f921"
             ]
            ],
            "type": "heatmap"
           }
          ],
          "heatmapgl": [
           {
            "colorbar": {
             "outlinewidth": 0,
             "ticks": ""
            },
            "colorscale": [
             [
              0,
              "#0d0887"
             ],
             [
              0.1111111111111111,
              "#46039f"
             ],
             [
              0.2222222222222222,
              "#7201a8"
             ],
             [
              0.3333333333333333,
              "#9c179e"
             ],
             [
              0.4444444444444444,
              "#bd3786"
             ],
             [
              0.5555555555555556,
              "#d8576b"
             ],
             [
              0.6666666666666666,
              "#ed7953"
             ],
             [
              0.7777777777777778,
              "#fb9f3a"
             ],
             [
              0.8888888888888888,
              "#fdca26"
             ],
             [
              1,
              "#f0f921"
             ]
            ],
            "type": "heatmapgl"
           }
          ],
          "histogram": [
           {
            "marker": {
             "pattern": {
              "fillmode": "overlay",
              "size": 10,
              "solidity": 0.2
             }
            },
            "type": "histogram"
           }
          ],
          "histogram2d": [
           {
            "colorbar": {
             "outlinewidth": 0,
             "ticks": ""
            },
            "colorscale": [
             [
              0,
              "#0d0887"
             ],
             [
              0.1111111111111111,
              "#46039f"
             ],
             [
              0.2222222222222222,
              "#7201a8"
             ],
             [
              0.3333333333333333,
              "#9c179e"
             ],
             [
              0.4444444444444444,
              "#bd3786"
             ],
             [
              0.5555555555555556,
              "#d8576b"
             ],
             [
              0.6666666666666666,
              "#ed7953"
             ],
             [
              0.7777777777777778,
              "#fb9f3a"
             ],
             [
              0.8888888888888888,
              "#fdca26"
             ],
             [
              1,
              "#f0f921"
             ]
            ],
            "type": "histogram2d"
           }
          ],
          "histogram2dcontour": [
           {
            "colorbar": {
             "outlinewidth": 0,
             "ticks": ""
            },
            "colorscale": [
             [
              0,
              "#0d0887"
             ],
             [
              0.1111111111111111,
              "#46039f"
             ],
             [
              0.2222222222222222,
              "#7201a8"
             ],
             [
              0.3333333333333333,
              "#9c179e"
             ],
             [
              0.4444444444444444,
              "#bd3786"
             ],
             [
              0.5555555555555556,
              "#d8576b"
             ],
             [
              0.6666666666666666,
              "#ed7953"
             ],
             [
              0.7777777777777778,
              "#fb9f3a"
             ],
             [
              0.8888888888888888,
              "#fdca26"
             ],
             [
              1,
              "#f0f921"
             ]
            ],
            "type": "histogram2dcontour"
           }
          ],
          "mesh3d": [
           {
            "colorbar": {
             "outlinewidth": 0,
             "ticks": ""
            },
            "type": "mesh3d"
           }
          ],
          "parcoords": [
           {
            "line": {
             "colorbar": {
              "outlinewidth": 0,
              "ticks": ""
             }
            },
            "type": "parcoords"
           }
          ],
          "pie": [
           {
            "automargin": true,
            "type": "pie"
           }
          ],
          "scatter": [
           {
            "fillpattern": {
             "fillmode": "overlay",
             "size": 10,
             "solidity": 0.2
            },
            "type": "scatter"
           }
          ],
          "scatter3d": [
           {
            "line": {
             "colorbar": {
              "outlinewidth": 0,
              "ticks": ""
             }
            },
            "marker": {
             "colorbar": {
              "outlinewidth": 0,
              "ticks": ""
             }
            },
            "type": "scatter3d"
           }
          ],
          "scattercarpet": [
           {
            "marker": {
             "colorbar": {
              "outlinewidth": 0,
              "ticks": ""
             }
            },
            "type": "scattercarpet"
           }
          ],
          "scattergeo": [
           {
            "marker": {
             "colorbar": {
              "outlinewidth": 0,
              "ticks": ""
             }
            },
            "type": "scattergeo"
           }
          ],
          "scattergl": [
           {
            "marker": {
             "colorbar": {
              "outlinewidth": 0,
              "ticks": ""
             }
            },
            "type": "scattergl"
           }
          ],
          "scattermapbox": [
           {
            "marker": {
             "colorbar": {
              "outlinewidth": 0,
              "ticks": ""
             }
            },
            "type": "scattermapbox"
           }
          ],
          "scatterpolar": [
           {
            "marker": {
             "colorbar": {
              "outlinewidth": 0,
              "ticks": ""
             }
            },
            "type": "scatterpolar"
           }
          ],
          "scatterpolargl": [
           {
            "marker": {
             "colorbar": {
              "outlinewidth": 0,
              "ticks": ""
             }
            },
            "type": "scatterpolargl"
           }
          ],
          "scatterternary": [
           {
            "marker": {
             "colorbar": {
              "outlinewidth": 0,
              "ticks": ""
             }
            },
            "type": "scatterternary"
           }
          ],
          "surface": [
           {
            "colorbar": {
             "outlinewidth": 0,
             "ticks": ""
            },
            "colorscale": [
             [
              0,
              "#0d0887"
             ],
             [
              0.1111111111111111,
              "#46039f"
             ],
             [
              0.2222222222222222,
              "#7201a8"
             ],
             [
              0.3333333333333333,
              "#9c179e"
             ],
             [
              0.4444444444444444,
              "#bd3786"
             ],
             [
              0.5555555555555556,
              "#d8576b"
             ],
             [
              0.6666666666666666,
              "#ed7953"
             ],
             [
              0.7777777777777778,
              "#fb9f3a"
             ],
             [
              0.8888888888888888,
              "#fdca26"
             ],
             [
              1,
              "#f0f921"
             ]
            ],
            "type": "surface"
           }
          ],
          "table": [
           {
            "cells": {
             "fill": {
              "color": "#EBF0F8"
             },
             "line": {
              "color": "white"
             }
            },
            "header": {
             "fill": {
              "color": "#C8D4E3"
             },
             "line": {
              "color": "white"
             }
            },
            "type": "table"
           }
          ]
         },
         "layout": {
          "annotationdefaults": {
           "arrowcolor": "#2a3f5f",
           "arrowhead": 0,
           "arrowwidth": 1
          },
          "autotypenumbers": "strict",
          "coloraxis": {
           "colorbar": {
            "outlinewidth": 0,
            "ticks": ""
           }
          },
          "colorscale": {
           "diverging": [
            [
             0,
             "#8e0152"
            ],
            [
             0.1,
             "#c51b7d"
            ],
            [
             0.2,
             "#de77ae"
            ],
            [
             0.3,
             "#f1b6da"
            ],
            [
             0.4,
             "#fde0ef"
            ],
            [
             0.5,
             "#f7f7f7"
            ],
            [
             0.6,
             "#e6f5d0"
            ],
            [
             0.7,
             "#b8e186"
            ],
            [
             0.8,
             "#7fbc41"
            ],
            [
             0.9,
             "#4d9221"
            ],
            [
             1,
             "#276419"
            ]
           ],
           "sequential": [
            [
             0,
             "#0d0887"
            ],
            [
             0.1111111111111111,
             "#46039f"
            ],
            [
             0.2222222222222222,
             "#7201a8"
            ],
            [
             0.3333333333333333,
             "#9c179e"
            ],
            [
             0.4444444444444444,
             "#bd3786"
            ],
            [
             0.5555555555555556,
             "#d8576b"
            ],
            [
             0.6666666666666666,
             "#ed7953"
            ],
            [
             0.7777777777777778,
             "#fb9f3a"
            ],
            [
             0.8888888888888888,
             "#fdca26"
            ],
            [
             1,
             "#f0f921"
            ]
           ],
           "sequentialminus": [
            [
             0,
             "#0d0887"
            ],
            [
             0.1111111111111111,
             "#46039f"
            ],
            [
             0.2222222222222222,
             "#7201a8"
            ],
            [
             0.3333333333333333,
             "#9c179e"
            ],
            [
             0.4444444444444444,
             "#bd3786"
            ],
            [
             0.5555555555555556,
             "#d8576b"
            ],
            [
             0.6666666666666666,
             "#ed7953"
            ],
            [
             0.7777777777777778,
             "#fb9f3a"
            ],
            [
             0.8888888888888888,
             "#fdca26"
            ],
            [
             1,
             "#f0f921"
            ]
           ]
          },
          "colorway": [
           "#636efa",
           "#EF553B",
           "#00cc96",
           "#ab63fa",
           "#FFA15A",
           "#19d3f3",
           "#FF6692",
           "#B6E880",
           "#FF97FF",
           "#FECB52"
          ],
          "font": {
           "color": "#2a3f5f"
          },
          "geo": {
           "bgcolor": "white",
           "lakecolor": "white",
           "landcolor": "#E5ECF6",
           "showlakes": true,
           "showland": true,
           "subunitcolor": "white"
          },
          "hoverlabel": {
           "align": "left"
          },
          "hovermode": "closest",
          "mapbox": {
           "style": "light"
          },
          "paper_bgcolor": "white",
          "plot_bgcolor": "#E5ECF6",
          "polar": {
           "angularaxis": {
            "gridcolor": "white",
            "linecolor": "white",
            "ticks": ""
           },
           "bgcolor": "#E5ECF6",
           "radialaxis": {
            "gridcolor": "white",
            "linecolor": "white",
            "ticks": ""
           }
          },
          "scene": {
           "xaxis": {
            "backgroundcolor": "#E5ECF6",
            "gridcolor": "white",
            "gridwidth": 2,
            "linecolor": "white",
            "showbackground": true,
            "ticks": "",
            "zerolinecolor": "white"
           },
           "yaxis": {
            "backgroundcolor": "#E5ECF6",
            "gridcolor": "white",
            "gridwidth": 2,
            "linecolor": "white",
            "showbackground": true,
            "ticks": "",
            "zerolinecolor": "white"
           },
           "zaxis": {
            "backgroundcolor": "#E5ECF6",
            "gridcolor": "white",
            "gridwidth": 2,
            "linecolor": "white",
            "showbackground": true,
            "ticks": "",
            "zerolinecolor": "white"
           }
          },
          "shapedefaults": {
           "line": {
            "color": "#2a3f5f"
           }
          },
          "ternary": {
           "aaxis": {
            "gridcolor": "white",
            "linecolor": "white",
            "ticks": ""
           },
           "baxis": {
            "gridcolor": "white",
            "linecolor": "white",
            "ticks": ""
           },
           "bgcolor": "#E5ECF6",
           "caxis": {
            "gridcolor": "white",
            "linecolor": "white",
            "ticks": ""
           }
          },
          "title": {
           "x": 0.05
          },
          "xaxis": {
           "automargin": true,
           "gridcolor": "white",
           "linecolor": "white",
           "ticks": "",
           "title": {
            "standoff": 15
           },
           "zerolinecolor": "white",
           "zerolinewidth": 2
          },
          "yaxis": {
           "automargin": true,
           "gridcolor": "white",
           "linecolor": "white",
           "ticks": "",
           "title": {
            "standoff": 15
           },
           "zerolinecolor": "white",
           "zerolinewidth": 2
          }
         }
        },
        "title": {
         "text": "Price Distribution by Category"
        },
        "xaxis": {
         "anchor": "y",
         "categoryarray": [
          "Electronics",
          "Home Decor",
          "Books",
          "Clothing"
         ],
         "categoryorder": "array",
         "domain": [
          0,
          1
         ],
         "title": {
          "text": "Product Category"
         }
        },
        "yaxis": {
         "anchor": "x",
         "domain": [
          0,
          1
         ],
         "title": {
          "text": "Product Price"
         }
        }
       }
      },
      "text/html": [
       "<div>                            <div id=\"c34e3191-ba39-4313-87d8-04d2198d483f\" class=\"plotly-graph-div\" style=\"height:525px; width:100%;\"></div>            <script type=\"text/javascript\">                require([\"plotly\"], function(Plotly) {                    window.PLOTLYENV=window.PLOTLYENV || {};                                    if (document.getElementById(\"c34e3191-ba39-4313-87d8-04d2198d483f\")) {                    Plotly.newPlot(                        \"c34e3191-ba39-4313-87d8-04d2198d483f\",                        [{\"alignmentgroup\":\"True\",\"hovertemplate\":\"Product Category=%{x}<br>Product Price=%{y}<extra></extra>\",\"legendgroup\":\"Electronics\",\"marker\":{\"color\":\"#440154\"},\"name\":\"Electronics\",\"notched\":false,\"offsetgroup\":\"Electronics\",\"orientation\":\"v\",\"showlegend\":true,\"x\":[\"Electronics\",\"Electronics\",\"Electronics\",\"Electronics\",\"Electronics\",\"Electronics\",\"Electronics\",\"Electronics\",\"Electronics\",\"Electronics\",\"Electronics\",\"Electronics\",\"Electronics\",\"Electronics\",\"Electronics\",\"Electronics\",\"Electronics\",\"Electronics\",\"Electronics\",\"Electronics\",\"Electronics\",\"Electronics\",\"Electronics\",\"Electronics\",\"Electronics\",\"Electronics\",\"Electronics\",\"Electronics\",\"Electronics\",\"Electronics\",\"Electronics\",\"Electronics\",\"Electronics\",\"Electronics\",\"Electronics\",\"Electronics\",\"Electronics\",\"Electronics\",\"Electronics\",\"Electronics\",\"Electronics\",\"Electronics\",\"Electronics\",\"Electronics\",\"Electronics\",\"Electronics\",\"Electronics\",\"Electronics\",\"Electronics\",\"Electronics\",\"Electronics\",\"Electronics\",\"Electronics\",\"Electronics\",\"Electronics\",\"Electronics\",\"Electronics\",\"Electronics\",\"Electronics\",\"Electronics\",\"Electronics\",\"Electronics\",\"Electronics\",\"Electronics\",\"Electronics\",\"Electronics\",\"Electronics\",\"Electronics\",\"Electronics\",\"Electronics\",\"Electronics\",\"Electronics\",\"Electronics\",\"Electronics\",\"Electronics\",\"Electronics\",\"Electronics\",\"Electronics\",\"Electronics\",\"Electronics\",\"Electronics\",\"Electronics\",\"Electronics\",\"Electronics\",\"Electronics\",\"Electronics\",\"Electronics\",\"Electronics\",\"Electronics\",\"Electronics\",\"Electronics\",\"Electronics\",\"Electronics\",\"Electronics\",\"Electronics\",\"Electronics\",\"Electronics\",\"Electronics\",\"Electronics\",\"Electronics\",\"Electronics\",\"Electronics\",\"Electronics\",\"Electronics\",\"Electronics\",\"Electronics\",\"Electronics\",\"Electronics\",\"Electronics\",\"Electronics\",\"Electronics\",\"Electronics\",\"Electronics\",\"Electronics\",\"Electronics\",\"Electronics\",\"Electronics\",\"Electronics\",\"Electronics\",\"Electronics\",\"Electronics\",\"Electronics\",\"Electronics\",\"Electronics\",\"Electronics\",\"Electronics\",\"Electronics\",\"Electronics\",\"Electronics\",\"Electronics\",\"Electronics\",\"Electronics\",\"Electronics\",\"Electronics\",\"Electronics\",\"Electronics\",\"Electronics\",\"Electronics\",\"Electronics\",\"Electronics\",\"Electronics\",\"Electronics\",\"Electronics\",\"Electronics\",\"Electronics\",\"Electronics\",\"Electronics\",\"Electronics\",\"Electronics\",\"Electronics\",\"Electronics\",\"Electronics\",\"Electronics\",\"Electronics\",\"Electronics\",\"Electronics\",\"Electronics\",\"Electronics\",\"Electronics\",\"Electronics\",\"Electronics\",\"Electronics\",\"Electronics\",\"Electronics\",\"Electronics\",\"Electronics\",\"Electronics\",\"Electronics\",\"Electronics\",\"Electronics\",\"Electronics\",\"Electronics\",\"Electronics\",\"Electronics\",\"Electronics\",\"Electronics\",\"Electronics\",\"Electronics\",\"Electronics\",\"Electronics\",\"Electronics\",\"Electronics\",\"Electronics\",\"Electronics\",\"Electronics\",\"Electronics\",\"Electronics\",\"Electronics\",\"Electronics\",\"Electronics\",\"Electronics\",\"Electronics\",\"Electronics\",\"Electronics\",\"Electronics\",\"Electronics\",\"Electronics\",\"Electronics\",\"Electronics\",\"Electronics\",\"Electronics\",\"Electronics\",\"Electronics\",\"Electronics\",\"Electronics\",\"Electronics\",\"Electronics\",\"Electronics\",\"Electronics\",\"Electronics\",\"Electronics\",\"Electronics\",\"Electronics\",\"Electronics\",\"Electronics\",\"Electronics\",\"Electronics\",\"Electronics\",\"Electronics\",\"Electronics\",\"Electronics\",\"Electronics\",\"Electronics\",\"Electronics\",\"Electronics\",\"Electronics\",\"Electronics\",\"Electronics\",\"Electronics\",\"Electronics\",\"Electronics\",\"Electronics\",\"Electronics\",\"Electronics\",\"Electronics\",\"Electronics\",\"Electronics\",\"Electronics\",\"Electronics\",\"Electronics\",\"Electronics\",\"Electronics\",\"Electronics\",\"Electronics\",\"Electronics\",\"Electronics\",\"Electronics\",\"Electronics\",\"Electronics\",\"Electronics\",\"Electronics\",\"Electronics\",\"Electronics\",\"Electronics\"],\"x0\":\" \",\"xaxis\":\"x\",\"y\":[300.68,300.68,300.68,300.68,300.68,300.68,300.68,300.68,300.68,300.68,300.68,300.68,300.68,146.85,146.85,146.85,146.85,146.85,146.85,146.85,146.85,146.85,146.85,433.64,433.64,433.64,433.64,433.64,433.64,433.64,433.64,433.64,433.64,433.64,433.64,433.64,433.64,433.64,433.64,433.64,263.55,263.55,263.55,263.55,263.55,263.55,263.55,263.55,299.93,299.93,299.93,299.93,299.93,299.93,299.93,239.7,239.7,239.7,239.7,239.7,239.7,239.7,239.7,239.7,239.7,239.7,239.7,239.7,239.7,239.7,196.4,196.4,196.4,196.4,64.38,64.38,64.38,64.38,64.38,64.38,64.38,114.2,114.2,114.2,114.2,114.2,114.2,114.2,114.2,114.2,114.2,114.2,455.72,455.72,455.72,455.72,455.72,455.72,455.72,455.72,455.72,455.72,455.72,455.72,455.72,307.47,307.47,307.47,307.47,307.47,307.47,307.47,307.47,307.47,307.47,307.47,307.47,307.47,307.47,307.47,437.65,437.65,437.65,437.65,437.65,437.65,437.65,437.65,437.65,437.65,437.65,437.65,437.65,350.13,350.13,350.13,350.13,350.13,350.13,350.13,350.13,350.13,350.13,350.13,430.59,430.59,430.59,430.59,430.59,430.59,430.59,430.59,430.59,430.59,430.59,430.59,220.91,220.91,220.91,220.91,220.91,220.91,220.91,456.28,456.28,456.28,456.28,456.28,456.28,456.28,456.28,456.28,456.28,456.28,158.93,158.93,158.93,158.93,158.93,158.93,158.93,158.93,229.06,229.06,229.06,229.06,229.06,229.06,229.06,229.06,229.06,229.06,229.06,26.99,26.99,26.99,26.99,26.99,26.99,26.99,26.99,26.99,26.99,16.08,16.08,16.08,16.08,16.08,16.08,16.08,16.08,265.51,265.51,265.51,265.51,265.51,265.51,399.34,399.34,399.34,399.34,399.34,399.34,346.3,346.3,346.3,346.3,346.3,346.3,346.3,346.3,459.86,459.86,459.86,459.86,459.86,459.86,459.86,159.6,159.6,159.6,159.6,159.6,159.6,159.6,159.6,379.44,379.44,379.44,379.44,379.44,379.44,379.44,379.44],\"y0\":\" \",\"yaxis\":\"y\",\"type\":\"box\"},{\"alignmentgroup\":\"True\",\"hovertemplate\":\"Product Category=%{x}<br>Product Price=%{y}<extra></extra>\",\"legendgroup\":\"Home Decor\",\"marker\":{\"color\":\"#482878\"},\"name\":\"Home Decor\",\"notched\":false,\"offsetgroup\":\"Home Decor\",\"orientation\":\"v\",\"showlegend\":true,\"x\":[\"Home Decor\",\"Home Decor\",\"Home Decor\",\"Home Decor\",\"Home Decor\",\"Home Decor\",\"Home Decor\",\"Home Decor\",\"Home Decor\",\"Home Decor\",\"Home Decor\",\"Home Decor\",\"Home Decor\",\"Home Decor\",\"Home Decor\",\"Home Decor\",\"Home Decor\",\"Home Decor\",\"Home Decor\",\"Home Decor\",\"Home Decor\",\"Home Decor\",\"Home Decor\",\"Home Decor\",\"Home Decor\",\"Home Decor\",\"Home Decor\",\"Home Decor\",\"Home Decor\",\"Home Decor\",\"Home Decor\",\"Home Decor\",\"Home Decor\",\"Home Decor\",\"Home Decor\",\"Home Decor\",\"Home Decor\",\"Home Decor\",\"Home Decor\",\"Home Decor\",\"Home Decor\",\"Home Decor\",\"Home Decor\",\"Home Decor\",\"Home Decor\",\"Home Decor\",\"Home Decor\",\"Home Decor\",\"Home Decor\",\"Home Decor\",\"Home Decor\",\"Home Decor\",\"Home Decor\",\"Home Decor\",\"Home Decor\",\"Home Decor\",\"Home Decor\",\"Home Decor\",\"Home Decor\",\"Home Decor\",\"Home Decor\",\"Home Decor\",\"Home Decor\",\"Home Decor\",\"Home Decor\",\"Home Decor\",\"Home Decor\",\"Home Decor\",\"Home Decor\",\"Home Decor\",\"Home Decor\",\"Home Decor\",\"Home Decor\",\"Home Decor\",\"Home Decor\",\"Home Decor\",\"Home Decor\",\"Home Decor\",\"Home Decor\",\"Home Decor\",\"Home Decor\",\"Home Decor\",\"Home Decor\",\"Home Decor\",\"Home Decor\",\"Home Decor\",\"Home Decor\",\"Home Decor\",\"Home Decor\",\"Home Decor\",\"Home Decor\",\"Home Decor\",\"Home Decor\",\"Home Decor\",\"Home Decor\",\"Home Decor\",\"Home Decor\",\"Home Decor\",\"Home Decor\",\"Home Decor\",\"Home Decor\",\"Home Decor\",\"Home Decor\",\"Home Decor\",\"Home Decor\",\"Home Decor\",\"Home Decor\",\"Home Decor\",\"Home Decor\",\"Home Decor\",\"Home Decor\",\"Home Decor\",\"Home Decor\",\"Home Decor\",\"Home Decor\",\"Home Decor\",\"Home Decor\",\"Home Decor\",\"Home Decor\",\"Home Decor\",\"Home Decor\",\"Home Decor\",\"Home Decor\",\"Home Decor\",\"Home Decor\",\"Home Decor\",\"Home Decor\",\"Home Decor\",\"Home Decor\",\"Home Decor\",\"Home Decor\",\"Home Decor\",\"Home Decor\",\"Home Decor\",\"Home Decor\",\"Home Decor\",\"Home Decor\",\"Home Decor\",\"Home Decor\",\"Home Decor\",\"Home Decor\",\"Home Decor\",\"Home Decor\",\"Home Decor\",\"Home Decor\",\"Home Decor\",\"Home Decor\",\"Home Decor\",\"Home Decor\",\"Home Decor\",\"Home Decor\",\"Home Decor\",\"Home Decor\",\"Home Decor\",\"Home Decor\",\"Home Decor\",\"Home Decor\",\"Home Decor\",\"Home Decor\",\"Home Decor\",\"Home Decor\",\"Home Decor\",\"Home Decor\",\"Home Decor\",\"Home Decor\",\"Home Decor\",\"Home Decor\",\"Home Decor\",\"Home Decor\",\"Home Decor\",\"Home Decor\",\"Home Decor\",\"Home Decor\",\"Home Decor\",\"Home Decor\",\"Home Decor\",\"Home Decor\",\"Home Decor\",\"Home Decor\",\"Home Decor\",\"Home Decor\",\"Home Decor\",\"Home Decor\",\"Home Decor\",\"Home Decor\",\"Home Decor\",\"Home Decor\",\"Home Decor\",\"Home Decor\",\"Home Decor\",\"Home Decor\",\"Home Decor\",\"Home Decor\",\"Home Decor\",\"Home Decor\",\"Home Decor\",\"Home Decor\",\"Home Decor\",\"Home Decor\",\"Home Decor\",\"Home Decor\",\"Home Decor\",\"Home Decor\",\"Home Decor\",\"Home Decor\",\"Home Decor\",\"Home Decor\",\"Home Decor\",\"Home Decor\",\"Home Decor\",\"Home Decor\",\"Home Decor\",\"Home Decor\",\"Home Decor\",\"Home Decor\",\"Home Decor\",\"Home Decor\",\"Home Decor\",\"Home Decor\",\"Home Decor\",\"Home Decor\",\"Home Decor\",\"Home Decor\",\"Home Decor\",\"Home Decor\",\"Home Decor\",\"Home Decor\",\"Home Decor\",\"Home Decor\",\"Home Decor\",\"Home Decor\",\"Home Decor\",\"Home Decor\",\"Home Decor\",\"Home Decor\",\"Home Decor\",\"Home Decor\",\"Home Decor\",\"Home Decor\",\"Home Decor\",\"Home Decor\",\"Home Decor\",\"Home Decor\",\"Home Decor\",\"Home Decor\",\"Home Decor\",\"Home Decor\",\"Home Decor\"],\"x0\":\" \",\"xaxis\":\"x\",\"y\":[137.54,137.54,137.54,137.54,137.54,137.54,137.54,137.54,137.54,137.54,137.54,137.54,137.54,137.54,137.54,417.37,417.37,417.37,417.37,417.37,417.37,417.37,417.37,417.37,417.37,417.37,417.37,417.37,417.37,417.37,417.37,274.94,274.94,274.94,274.94,274.94,274.94,274.94,274.94,274.94,274.94,337.91,337.91,337.91,337.91,337.91,337.91,337.91,337.91,337.91,337.91,337.91,337.91,337.91,235.58,235.58,235.58,235.58,235.58,235.58,235.58,235.58,235.58,235.58,235.58,235.58,159.33,159.33,159.33,159.33,159.33,159.33,159.33,159.33,159.33,159.33,227.26,227.26,227.26,227.26,227.26,227.26,227.26,147.22,147.22,147.22,147.22,147.22,147.22,147.22,147.22,147.22,147.22,147.22,147.22,147.22,95.69,95.69,95.69,95.69,95.69,95.69,95.69,447.34,447.34,447.34,447.34,447.34,447.34,447.34,447.34,447.34,447.34,447.34,65.16,65.16,65.16,65.16,65.16,65.16,65.16,65.16,65.16,65.16,335.84,335.84,335.84,335.84,335.84,335.84,335.84,335.84,335.84,335.84,335.84,121.32,121.32,121.32,121.32,121.32,121.32,121.32,121.32,121.32,121.32,121.32,121.32,121.32,222.95,222.95,222.95,222.95,222.95,222.95,222.95,284.62,284.62,284.62,284.62,284.62,284.62,284.62,284.62,284.62,284.62,284.62,284.62,261.2,261.2,261.2,261.2,261.2,261.2,261.2,261.2,261.2,261.2,156.96,156.96,156.96,156.96,156.96,156.96,156.96,156.96,156.96,156.96,156.96,156.96,156.96,156.96,156.96,156.96,41.18,41.18,41.18,41.18,41.18,41.18,41.18,41.18,41.18,41.18,55.99,55.99,55.99,55.99,55.99,55.99,55.99,55.99,454.53,454.53,454.53,454.53,454.53,454.53,454.53,454.53,454.53,295.58,295.58,295.58,295.58,295.58,295.58,295.58,295.58,295.58,295.58,295.58,295.58,295.58,325.01,325.01,325.01,325.01,325.01,325.01,325.01,304.94,304.94,304.94,304.94,304.94,304.94,304.94,304.94],\"y0\":\" \",\"yaxis\":\"y\",\"type\":\"box\"},{\"alignmentgroup\":\"True\",\"hovertemplate\":\"Product Category=%{x}<br>Product Price=%{y}<extra></extra>\",\"legendgroup\":\"Books\",\"marker\":{\"color\":\"#3e4989\"},\"name\":\"Books\",\"notched\":false,\"offsetgroup\":\"Books\",\"orientation\":\"v\",\"showlegend\":true,\"x\":[\"Books\",\"Books\",\"Books\",\"Books\",\"Books\",\"Books\",\"Books\",\"Books\",\"Books\",\"Books\",\"Books\",\"Books\",\"Books\",\"Books\",\"Books\",\"Books\",\"Books\",\"Books\",\"Books\",\"Books\",\"Books\",\"Books\",\"Books\",\"Books\",\"Books\",\"Books\",\"Books\",\"Books\",\"Books\",\"Books\",\"Books\",\"Books\",\"Books\",\"Books\",\"Books\",\"Books\",\"Books\",\"Books\",\"Books\",\"Books\",\"Books\",\"Books\",\"Books\",\"Books\",\"Books\",\"Books\",\"Books\",\"Books\",\"Books\",\"Books\",\"Books\",\"Books\",\"Books\",\"Books\",\"Books\",\"Books\",\"Books\",\"Books\",\"Books\",\"Books\",\"Books\",\"Books\",\"Books\",\"Books\",\"Books\",\"Books\",\"Books\",\"Books\",\"Books\",\"Books\",\"Books\",\"Books\",\"Books\",\"Books\",\"Books\",\"Books\",\"Books\",\"Books\",\"Books\",\"Books\",\"Books\",\"Books\",\"Books\",\"Books\",\"Books\",\"Books\",\"Books\",\"Books\",\"Books\",\"Books\",\"Books\",\"Books\",\"Books\",\"Books\",\"Books\",\"Books\",\"Books\",\"Books\",\"Books\",\"Books\",\"Books\",\"Books\",\"Books\",\"Books\",\"Books\",\"Books\",\"Books\",\"Books\",\"Books\",\"Books\",\"Books\",\"Books\",\"Books\",\"Books\",\"Books\",\"Books\",\"Books\",\"Books\",\"Books\",\"Books\",\"Books\",\"Books\",\"Books\",\"Books\",\"Books\",\"Books\",\"Books\",\"Books\",\"Books\",\"Books\",\"Books\",\"Books\",\"Books\",\"Books\",\"Books\",\"Books\",\"Books\",\"Books\",\"Books\",\"Books\",\"Books\",\"Books\",\"Books\",\"Books\",\"Books\",\"Books\",\"Books\",\"Books\",\"Books\",\"Books\",\"Books\",\"Books\",\"Books\",\"Books\",\"Books\",\"Books\",\"Books\",\"Books\",\"Books\",\"Books\",\"Books\",\"Books\",\"Books\",\"Books\",\"Books\",\"Books\",\"Books\",\"Books\",\"Books\",\"Books\",\"Books\",\"Books\",\"Books\",\"Books\",\"Books\",\"Books\",\"Books\",\"Books\",\"Books\",\"Books\",\"Books\",\"Books\",\"Books\",\"Books\",\"Books\",\"Books\",\"Books\",\"Books\",\"Books\",\"Books\",\"Books\",\"Books\",\"Books\",\"Books\",\"Books\",\"Books\",\"Books\",\"Books\",\"Books\",\"Books\",\"Books\",\"Books\",\"Books\",\"Books\",\"Books\",\"Books\",\"Books\",\"Books\",\"Books\",\"Books\",\"Books\",\"Books\",\"Books\",\"Books\",\"Books\",\"Books\",\"Books\",\"Books\",\"Books\",\"Books\",\"Books\",\"Books\",\"Books\",\"Books\",\"Books\",\"Books\",\"Books\",\"Books\",\"Books\",\"Books\",\"Books\",\"Books\",\"Books\",\"Books\",\"Books\",\"Books\",\"Books\",\"Books\",\"Books\",\"Books\",\"Books\",\"Books\",\"Books\",\"Books\",\"Books\",\"Books\",\"Books\",\"Books\",\"Books\",\"Books\",\"Books\",\"Books\",\"Books\",\"Books\",\"Books\",\"Books\",\"Books\",\"Books\",\"Books\",\"Books\",\"Books\",\"Books\",\"Books\",\"Books\",\"Books\",\"Books\",\"Books\",\"Books\",\"Books\",\"Books\"],\"x0\":\" \",\"xaxis\":\"x\",\"y\":[337.22,337.22,337.22,337.22,337.22,337.22,337.22,337.22,337.22,337.22,337.22,488.63,488.63,488.63,488.63,488.63,488.63,488.63,488.63,488.63,488.63,488.63,147.95,147.95,147.95,147.95,147.95,147.95,147.95,147.95,147.95,147.95,147.95,147.95,147.95,147.95,147.95,374.16,374.16,374.16,374.16,374.16,374.16,374.16,374.16,374.16,374.16,374.16,374.16,374.16,374.16,374.16,374.16,277.86,277.86,277.86,277.86,277.86,277.86,277.86,277.86,277.86,319.34,319.34,319.34,319.34,319.34,319.34,319.34,319.34,319.34,354.29,354.29,354.29,354.29,497.76,497.76,497.76,497.76,497.76,497.76,497.76,497.76,497.76,497.76,447.23,447.23,447.23,447.23,447.23,447.23,447.23,447.23,447.23,447.23,447.23,165.3,165.3,165.3,165.3,165.3,165.3,165.3,165.3,469.77,469.77,469.77,469.77,469.77,469.77,469.77,469.77,469.77,469.77,33.59,33.59,33.59,33.59,33.59,33.59,33.59,33.59,33.59,338.66,338.66,338.66,338.66,338.66,416.4,416.4,416.4,416.4,416.4,416.4,416.4,416.4,416.4,416.4,416.4,416.4,416.4,416.4,416.4,404.4,404.4,404.4,404.4,404.4,404.4,404.4,404.4,404.4,404.4,404.4,128.53,128.53,128.53,128.53,128.53,128.53,128.53,128.53,128.53,128.53,44.12,44.12,44.12,44.12,44.12,44.12,44.12,44.12,44.12,44.12,44.12,44.12,440.7,440.7,440.7,440.7,440.7,440.7,440.7,440.7,440.7,420.15,420.15,420.15,420.15,420.15,420.15,420.15,420.15,157.62,157.62,157.62,157.62,157.62,157.62,157.62,157.62,157.62,157.62,157.62,157.62,157.62,416.35,416.35,416.35,416.35,416.35,416.35,416.35,416.35,57.3,57.3,57.3,57.3,57.3,57.3,57.3,57.3,57.3,57.3,57.3,57.3,57.3,57.3,57.3,57.3,153.19,153.19,153.19,153.19,153.19,153.19,153.19,153.19,153.19,153.19,153.19,153.19,153.19,100.81,100.81,100.81,100.81,100.81,100.81,100.81,100.81,100.81,100.81,100.81,100.81,169.3,169.3,169.3,169.3,169.3,169.3,169.3,169.3,436.89,436.89,436.89,436.89,436.89,436.89,436.89],\"y0\":\" \",\"yaxis\":\"y\",\"type\":\"box\"},{\"alignmentgroup\":\"True\",\"hovertemplate\":\"Product Category=%{x}<br>Product Price=%{y}<extra></extra>\",\"legendgroup\":\"Clothing\",\"marker\":{\"color\":\"#31688e\"},\"name\":\"Clothing\",\"notched\":false,\"offsetgroup\":\"Clothing\",\"orientation\":\"v\",\"showlegend\":true,\"x\":[\"Clothing\",\"Clothing\",\"Clothing\",\"Clothing\",\"Clothing\",\"Clothing\",\"Clothing\",\"Clothing\",\"Clothing\",\"Clothing\",\"Clothing\",\"Clothing\",\"Clothing\",\"Clothing\",\"Clothing\",\"Clothing\",\"Clothing\",\"Clothing\",\"Clothing\",\"Clothing\",\"Clothing\",\"Clothing\",\"Clothing\",\"Clothing\",\"Clothing\",\"Clothing\",\"Clothing\",\"Clothing\",\"Clothing\",\"Clothing\",\"Clothing\",\"Clothing\",\"Clothing\",\"Clothing\",\"Clothing\",\"Clothing\",\"Clothing\",\"Clothing\",\"Clothing\",\"Clothing\",\"Clothing\",\"Clothing\",\"Clothing\",\"Clothing\",\"Clothing\",\"Clothing\",\"Clothing\",\"Clothing\",\"Clothing\",\"Clothing\",\"Clothing\",\"Clothing\",\"Clothing\",\"Clothing\",\"Clothing\",\"Clothing\",\"Clothing\",\"Clothing\",\"Clothing\",\"Clothing\",\"Clothing\",\"Clothing\",\"Clothing\",\"Clothing\",\"Clothing\",\"Clothing\",\"Clothing\",\"Clothing\",\"Clothing\",\"Clothing\",\"Clothing\",\"Clothing\",\"Clothing\",\"Clothing\",\"Clothing\",\"Clothing\",\"Clothing\",\"Clothing\",\"Clothing\",\"Clothing\",\"Clothing\",\"Clothing\",\"Clothing\",\"Clothing\",\"Clothing\",\"Clothing\",\"Clothing\",\"Clothing\",\"Clothing\",\"Clothing\",\"Clothing\",\"Clothing\",\"Clothing\",\"Clothing\",\"Clothing\",\"Clothing\",\"Clothing\",\"Clothing\",\"Clothing\",\"Clothing\",\"Clothing\",\"Clothing\",\"Clothing\",\"Clothing\",\"Clothing\",\"Clothing\",\"Clothing\",\"Clothing\",\"Clothing\",\"Clothing\",\"Clothing\",\"Clothing\",\"Clothing\",\"Clothing\",\"Clothing\",\"Clothing\",\"Clothing\",\"Clothing\",\"Clothing\",\"Clothing\",\"Clothing\",\"Clothing\",\"Clothing\",\"Clothing\",\"Clothing\",\"Clothing\",\"Clothing\",\"Clothing\",\"Clothing\",\"Clothing\",\"Clothing\",\"Clothing\",\"Clothing\",\"Clothing\",\"Clothing\",\"Clothing\",\"Clothing\",\"Clothing\",\"Clothing\",\"Clothing\",\"Clothing\",\"Clothing\",\"Clothing\",\"Clothing\",\"Clothing\",\"Clothing\",\"Clothing\",\"Clothing\",\"Clothing\",\"Clothing\",\"Clothing\",\"Clothing\",\"Clothing\",\"Clothing\",\"Clothing\",\"Clothing\",\"Clothing\",\"Clothing\",\"Clothing\",\"Clothing\",\"Clothing\",\"Clothing\",\"Clothing\",\"Clothing\",\"Clothing\",\"Clothing\",\"Clothing\",\"Clothing\",\"Clothing\",\"Clothing\",\"Clothing\",\"Clothing\",\"Clothing\",\"Clothing\",\"Clothing\",\"Clothing\",\"Clothing\",\"Clothing\",\"Clothing\",\"Clothing\",\"Clothing\",\"Clothing\",\"Clothing\",\"Clothing\",\"Clothing\",\"Clothing\",\"Clothing\",\"Clothing\",\"Clothing\",\"Clothing\",\"Clothing\",\"Clothing\",\"Clothing\",\"Clothing\",\"Clothing\",\"Clothing\",\"Clothing\",\"Clothing\",\"Clothing\",\"Clothing\",\"Clothing\",\"Clothing\",\"Clothing\",\"Clothing\",\"Clothing\",\"Clothing\",\"Clothing\",\"Clothing\",\"Clothing\",\"Clothing\",\"Clothing\",\"Clothing\",\"Clothing\",\"Clothing\",\"Clothing\",\"Clothing\",\"Clothing\",\"Clothing\",\"Clothing\",\"Clothing\",\"Clothing\",\"Clothing\",\"Clothing\",\"Clothing\",\"Clothing\",\"Clothing\",\"Clothing\",\"Clothing\"],\"x0\":\" \",\"xaxis\":\"x\",\"y\":[303.2,303.2,303.2,303.2,303.2,303.2,303.2,303.2,303.2,303.2,303.2,303.2,303.2,303.2,303.2,303.2,303.2,303.2,303.2,429.29,429.29,429.29,429.29,429.29,429.29,429.29,429.29,429.29,429.29,366.07,366.07,366.07,366.07,366.07,366.07,366.07,366.07,64.25,64.25,64.25,64.25,64.25,64.25,64.25,64.25,354.81,354.81,354.81,354.81,354.81,30.59,30.59,30.59,30.59,30.59,30.59,30.59,30.59,30.59,30.59,330.05,330.05,330.05,330.05,330.05,330.05,330.05,330.05,330.05,217.05,217.05,217.05,217.05,217.05,217.05,217.05,217.05,217.05,372.55,372.55,372.55,372.55,372.55,372.55,372.55,372.55,372.55,372.55,372.55,372.55,126.34,126.34,126.34,126.34,126.34,126.34,385.37,385.37,385.37,385.37,385.37,385.37,385.37,385.37,385.37,385.37,385.37,127.36,127.36,127.36,127.36,127.36,127.36,127.36,127.36,452.42,452.42,452.42,452.42,452.42,452.42,452.42,452.42,452.42,452.42,66.32,66.32,66.32,66.32,66.32,66.32,66.32,66.32,66.32,66.32,66.32,66.32,66.32,427.61,427.61,427.61,427.61,427.61,427.61,427.61,427.61,427.61,427.61,427.61,389.2,389.2,389.2,389.2,389.2,389.2,389.2,389.2,389.2,303.5,303.5,303.5,303.5,303.5,303.5,303.5,303.5,303.5,303.5,26.26,26.26,26.26,26.26,481.78,481.78,481.78,481.78,481.78,481.78,481.78,481.78,290.17,290.17,290.17,290.17,290.17,290.17,290.17,290.17,290.17,290.17,290.17,290.17,396.34,396.34,396.34,396.34,396.34,396.34,396.34,396.34,396.34,396.34,396.34,396.34,48.69,48.69,48.69,48.69,48.69,48.69,429.31,429.31,429.31,429.31,429.31,429.31,429.31,429.31,155.65,155.65,155.65,155.65,155.65,155.65,18.82,18.82,18.82,18.82],\"y0\":\" \",\"yaxis\":\"y\",\"type\":\"box\"}],                        {\"template\":{\"data\":{\"histogram2dcontour\":[{\"type\":\"histogram2dcontour\",\"colorbar\":{\"outlinewidth\":0,\"ticks\":\"\"},\"colorscale\":[[0.0,\"#0d0887\"],[0.1111111111111111,\"#46039f\"],[0.2222222222222222,\"#7201a8\"],[0.3333333333333333,\"#9c179e\"],[0.4444444444444444,\"#bd3786\"],[0.5555555555555556,\"#d8576b\"],[0.6666666666666666,\"#ed7953\"],[0.7777777777777778,\"#fb9f3a\"],[0.8888888888888888,\"#fdca26\"],[1.0,\"#f0f921\"]]}],\"choropleth\":[{\"type\":\"choropleth\",\"colorbar\":{\"outlinewidth\":0,\"ticks\":\"\"}}],\"histogram2d\":[{\"type\":\"histogram2d\",\"colorbar\":{\"outlinewidth\":0,\"ticks\":\"\"},\"colorscale\":[[0.0,\"#0d0887\"],[0.1111111111111111,\"#46039f\"],[0.2222222222222222,\"#7201a8\"],[0.3333333333333333,\"#9c179e\"],[0.4444444444444444,\"#bd3786\"],[0.5555555555555556,\"#d8576b\"],[0.6666666666666666,\"#ed7953\"],[0.7777777777777778,\"#fb9f3a\"],[0.8888888888888888,\"#fdca26\"],[1.0,\"#f0f921\"]]}],\"heatmap\":[{\"type\":\"heatmap\",\"colorbar\":{\"outlinewidth\":0,\"ticks\":\"\"},\"colorscale\":[[0.0,\"#0d0887\"],[0.1111111111111111,\"#46039f\"],[0.2222222222222222,\"#7201a8\"],[0.3333333333333333,\"#9c179e\"],[0.4444444444444444,\"#bd3786\"],[0.5555555555555556,\"#d8576b\"],[0.6666666666666666,\"#ed7953\"],[0.7777777777777778,\"#fb9f3a\"],[0.8888888888888888,\"#fdca26\"],[1.0,\"#f0f921\"]]}],\"heatmapgl\":[{\"type\":\"heatmapgl\",\"colorbar\":{\"outlinewidth\":0,\"ticks\":\"\"},\"colorscale\":[[0.0,\"#0d0887\"],[0.1111111111111111,\"#46039f\"],[0.2222222222222222,\"#7201a8\"],[0.3333333333333333,\"#9c179e\"],[0.4444444444444444,\"#bd3786\"],[0.5555555555555556,\"#d8576b\"],[0.6666666666666666,\"#ed7953\"],[0.7777777777777778,\"#fb9f3a\"],[0.8888888888888888,\"#fdca26\"],[1.0,\"#f0f921\"]]}],\"contourcarpet\":[{\"type\":\"contourcarpet\",\"colorbar\":{\"outlinewidth\":0,\"ticks\":\"\"}}],\"contour\":[{\"type\":\"contour\",\"colorbar\":{\"outlinewidth\":0,\"ticks\":\"\"},\"colorscale\":[[0.0,\"#0d0887\"],[0.1111111111111111,\"#46039f\"],[0.2222222222222222,\"#7201a8\"],[0.3333333333333333,\"#9c179e\"],[0.4444444444444444,\"#bd3786\"],[0.5555555555555556,\"#d8576b\"],[0.6666666666666666,\"#ed7953\"],[0.7777777777777778,\"#fb9f3a\"],[0.8888888888888888,\"#fdca26\"],[1.0,\"#f0f921\"]]}],\"surface\":[{\"type\":\"surface\",\"colorbar\":{\"outlinewidth\":0,\"ticks\":\"\"},\"colorscale\":[[0.0,\"#0d0887\"],[0.1111111111111111,\"#46039f\"],[0.2222222222222222,\"#7201a8\"],[0.3333333333333333,\"#9c179e\"],[0.4444444444444444,\"#bd3786\"],[0.5555555555555556,\"#d8576b\"],[0.6666666666666666,\"#ed7953\"],[0.7777777777777778,\"#fb9f3a\"],[0.8888888888888888,\"#fdca26\"],[1.0,\"#f0f921\"]]}],\"mesh3d\":[{\"type\":\"mesh3d\",\"colorbar\":{\"outlinewidth\":0,\"ticks\":\"\"}}],\"scatter\":[{\"fillpattern\":{\"fillmode\":\"overlay\",\"size\":10,\"solidity\":0.2},\"type\":\"scatter\"}],\"parcoords\":[{\"type\":\"parcoords\",\"line\":{\"colorbar\":{\"outlinewidth\":0,\"ticks\":\"\"}}}],\"scatterpolargl\":[{\"type\":\"scatterpolargl\",\"marker\":{\"colorbar\":{\"outlinewidth\":0,\"ticks\":\"\"}}}],\"bar\":[{\"error_x\":{\"color\":\"#2a3f5f\"},\"error_y\":{\"color\":\"#2a3f5f\"},\"marker\":{\"line\":{\"color\":\"#E5ECF6\",\"width\":0.5},\"pattern\":{\"fillmode\":\"overlay\",\"size\":10,\"solidity\":0.2}},\"type\":\"bar\"}],\"scattergeo\":[{\"type\":\"scattergeo\",\"marker\":{\"colorbar\":{\"outlinewidth\":0,\"ticks\":\"\"}}}],\"scatterpolar\":[{\"type\":\"scatterpolar\",\"marker\":{\"colorbar\":{\"outlinewidth\":0,\"ticks\":\"\"}}}],\"histogram\":[{\"marker\":{\"pattern\":{\"fillmode\":\"overlay\",\"size\":10,\"solidity\":0.2}},\"type\":\"histogram\"}],\"scattergl\":[{\"type\":\"scattergl\",\"marker\":{\"colorbar\":{\"outlinewidth\":0,\"ticks\":\"\"}}}],\"scatter3d\":[{\"type\":\"scatter3d\",\"line\":{\"colorbar\":{\"outlinewidth\":0,\"ticks\":\"\"}},\"marker\":{\"colorbar\":{\"outlinewidth\":0,\"ticks\":\"\"}}}],\"scattermapbox\":[{\"type\":\"scattermapbox\",\"marker\":{\"colorbar\":{\"outlinewidth\":0,\"ticks\":\"\"}}}],\"scatterternary\":[{\"type\":\"scatterternary\",\"marker\":{\"colorbar\":{\"outlinewidth\":0,\"ticks\":\"\"}}}],\"scattercarpet\":[{\"type\":\"scattercarpet\",\"marker\":{\"colorbar\":{\"outlinewidth\":0,\"ticks\":\"\"}}}],\"carpet\":[{\"aaxis\":{\"endlinecolor\":\"#2a3f5f\",\"gridcolor\":\"white\",\"linecolor\":\"white\",\"minorgridcolor\":\"white\",\"startlinecolor\":\"#2a3f5f\"},\"baxis\":{\"endlinecolor\":\"#2a3f5f\",\"gridcolor\":\"white\",\"linecolor\":\"white\",\"minorgridcolor\":\"white\",\"startlinecolor\":\"#2a3f5f\"},\"type\":\"carpet\"}],\"table\":[{\"cells\":{\"fill\":{\"color\":\"#EBF0F8\"},\"line\":{\"color\":\"white\"}},\"header\":{\"fill\":{\"color\":\"#C8D4E3\"},\"line\":{\"color\":\"white\"}},\"type\":\"table\"}],\"barpolar\":[{\"marker\":{\"line\":{\"color\":\"#E5ECF6\",\"width\":0.5},\"pattern\":{\"fillmode\":\"overlay\",\"size\":10,\"solidity\":0.2}},\"type\":\"barpolar\"}],\"pie\":[{\"automargin\":true,\"type\":\"pie\"}]},\"layout\":{\"autotypenumbers\":\"strict\",\"colorway\":[\"#636efa\",\"#EF553B\",\"#00cc96\",\"#ab63fa\",\"#FFA15A\",\"#19d3f3\",\"#FF6692\",\"#B6E880\",\"#FF97FF\",\"#FECB52\"],\"font\":{\"color\":\"#2a3f5f\"},\"hovermode\":\"closest\",\"hoverlabel\":{\"align\":\"left\"},\"paper_bgcolor\":\"white\",\"plot_bgcolor\":\"#E5ECF6\",\"polar\":{\"bgcolor\":\"#E5ECF6\",\"angularaxis\":{\"gridcolor\":\"white\",\"linecolor\":\"white\",\"ticks\":\"\"},\"radialaxis\":{\"gridcolor\":\"white\",\"linecolor\":\"white\",\"ticks\":\"\"}},\"ternary\":{\"bgcolor\":\"#E5ECF6\",\"aaxis\":{\"gridcolor\":\"white\",\"linecolor\":\"white\",\"ticks\":\"\"},\"baxis\":{\"gridcolor\":\"white\",\"linecolor\":\"white\",\"ticks\":\"\"},\"caxis\":{\"gridcolor\":\"white\",\"linecolor\":\"white\",\"ticks\":\"\"}},\"coloraxis\":{\"colorbar\":{\"outlinewidth\":0,\"ticks\":\"\"}},\"colorscale\":{\"sequential\":[[0.0,\"#0d0887\"],[0.1111111111111111,\"#46039f\"],[0.2222222222222222,\"#7201a8\"],[0.3333333333333333,\"#9c179e\"],[0.4444444444444444,\"#bd3786\"],[0.5555555555555556,\"#d8576b\"],[0.6666666666666666,\"#ed7953\"],[0.7777777777777778,\"#fb9f3a\"],[0.8888888888888888,\"#fdca26\"],[1.0,\"#f0f921\"]],\"sequentialminus\":[[0.0,\"#0d0887\"],[0.1111111111111111,\"#46039f\"],[0.2222222222222222,\"#7201a8\"],[0.3333333333333333,\"#9c179e\"],[0.4444444444444444,\"#bd3786\"],[0.5555555555555556,\"#d8576b\"],[0.6666666666666666,\"#ed7953\"],[0.7777777777777778,\"#fb9f3a\"],[0.8888888888888888,\"#fdca26\"],[1.0,\"#f0f921\"]],\"diverging\":[[0,\"#8e0152\"],[0.1,\"#c51b7d\"],[0.2,\"#de77ae\"],[0.3,\"#f1b6da\"],[0.4,\"#fde0ef\"],[0.5,\"#f7f7f7\"],[0.6,\"#e6f5d0\"],[0.7,\"#b8e186\"],[0.8,\"#7fbc41\"],[0.9,\"#4d9221\"],[1,\"#276419\"]]},\"xaxis\":{\"gridcolor\":\"white\",\"linecolor\":\"white\",\"ticks\":\"\",\"title\":{\"standoff\":15},\"zerolinecolor\":\"white\",\"automargin\":true,\"zerolinewidth\":2},\"yaxis\":{\"gridcolor\":\"white\",\"linecolor\":\"white\",\"ticks\":\"\",\"title\":{\"standoff\":15},\"zerolinecolor\":\"white\",\"automargin\":true,\"zerolinewidth\":2},\"scene\":{\"xaxis\":{\"backgroundcolor\":\"#E5ECF6\",\"gridcolor\":\"white\",\"linecolor\":\"white\",\"showbackground\":true,\"ticks\":\"\",\"zerolinecolor\":\"white\",\"gridwidth\":2},\"yaxis\":{\"backgroundcolor\":\"#E5ECF6\",\"gridcolor\":\"white\",\"linecolor\":\"white\",\"showbackground\":true,\"ticks\":\"\",\"zerolinecolor\":\"white\",\"gridwidth\":2},\"zaxis\":{\"backgroundcolor\":\"#E5ECF6\",\"gridcolor\":\"white\",\"linecolor\":\"white\",\"showbackground\":true,\"ticks\":\"\",\"zerolinecolor\":\"white\",\"gridwidth\":2}},\"shapedefaults\":{\"line\":{\"color\":\"#2a3f5f\"}},\"annotationdefaults\":{\"arrowcolor\":\"#2a3f5f\",\"arrowhead\":0,\"arrowwidth\":1},\"geo\":{\"bgcolor\":\"white\",\"landcolor\":\"#E5ECF6\",\"subunitcolor\":\"white\",\"showland\":true,\"showlakes\":true,\"lakecolor\":\"white\"},\"title\":{\"x\":0.05},\"mapbox\":{\"style\":\"light\"}}},\"xaxis\":{\"anchor\":\"y\",\"domain\":[0.0,1.0],\"title\":{\"text\":\"Product Category\"},\"categoryorder\":\"array\",\"categoryarray\":[\"Electronics\",\"Home Decor\",\"Books\",\"Clothing\"]},\"yaxis\":{\"anchor\":\"x\",\"domain\":[0.0,1.0],\"title\":{\"text\":\"Product Price\"}},\"legend\":{\"title\":{\"text\":\"Product Category\"},\"tracegroupgap\":0},\"title\":{\"text\":\"Price Distribution by Category\"},\"boxmode\":\"overlay\"},                        {\"responsive\": true}                    ).then(function(){\n",
       "                            \n",
       "var gd = document.getElementById('c34e3191-ba39-4313-87d8-04d2198d483f');\n",
       "var x = new MutationObserver(function (mutations, observer) {{\n",
       "        var display = window.getComputedStyle(gd).display;\n",
       "        if (!display || display === 'none') {{\n",
       "            console.log([gd, 'removed!']);\n",
       "            Plotly.purge(gd);\n",
       "            observer.disconnect();\n",
       "        }}\n",
       "}});\n",
       "\n",
       "// Listen for the removal of the full notebook cells\n",
       "var notebookContainer = gd.closest('#notebook-container');\n",
       "if (notebookContainer) {{\n",
       "    x.observe(notebookContainer, {childList: true});\n",
       "}}\n",
       "\n",
       "// Listen for the clearing of the current output cell\n",
       "var outputEl = gd.closest('.output');\n",
       "if (outputEl) {{\n",
       "    x.observe(outputEl, {childList: true});\n",
       "}}\n",
       "\n",
       "                        })                };                });            </script>        </div>"
      ]
     },
     "metadata": {},
     "output_type": "display_data"
    }
   ],
   "source": [
    "fig_box_price = px.box(\n",
    "    merged_data,\n",
    "    x='Category',\n",
    "    y='Price',\n",
    "    color='Category',\n",
    "    title=\"Price Distribution by Category\",\n",
    "    labels={'Price': 'Product Price', 'Category': 'Product Category'},\n",
    "    color_discrete_sequence=px.colors.sequential.Viridis  \n",
    ")\n",
    "fig_box_price.show()\n"
   ]
  },
  {
   "cell_type": "markdown",
   "id": "485ecc92",
   "metadata": {},
   "source": [
    "### Top 10 Products by Total Sales"
   ]
  },
  {
   "cell_type": "code",
   "execution_count": 213,
   "id": "0b24341b",
   "metadata": {},
   "outputs": [
    {
     "data": {
      "application/vnd.plotly.v1+json": {
       "config": {
        "plotlyServerURL": "https://plot.ly"
       },
       "data": [
        {
         "alignmentgroup": "True",
         "hovertemplate": "ProductName=%{x}<br>TotalValue=%{y}<extra></extra>",
         "legendgroup": "ActiveWear Smartwatch",
         "marker": {
          "color": "rgb(103, 32, 68)",
          "pattern": {
           "shape": ""
          }
         },
         "name": "ActiveWear Smartwatch",
         "offsetgroup": "ActiveWear Smartwatch",
         "orientation": "v",
         "showlegend": true,
         "textposition": "auto",
         "texttemplate": "%{y}",
         "type": "bar",
         "x": [
          "ActiveWear Smartwatch"
         ],
         "xaxis": "x",
         "y": [
          39096.97
         ],
         "yaxis": "y"
        },
        {
         "alignmentgroup": "True",
         "hovertemplate": "ProductName=%{x}<br>TotalValue=%{y}<extra></extra>",
         "legendgroup": "SoundWave Headphones",
         "marker": {
          "color": "rgb(139, 48, 88)",
          "pattern": {
           "shape": ""
          }
         },
         "name": "SoundWave Headphones",
         "offsetgroup": "SoundWave Headphones",
         "orientation": "v",
         "showlegend": true,
         "textposition": "auto",
         "texttemplate": "%{y}",
         "type": "bar",
         "x": [
          "SoundWave Headphones"
         ],
         "xaxis": "x",
         "y": [
          25211.64
         ],
         "yaxis": "y"
        },
        {
         "alignmentgroup": "True",
         "hovertemplate": "ProductName=%{x}<br>TotalValue=%{y}<extra></extra>",
         "legendgroup": "SoundWave Novel",
         "marker": {
          "color": "rgb(173, 70, 108)",
          "pattern": {
           "shape": ""
          }
         },
         "name": "SoundWave Novel",
         "offsetgroup": "SoundWave Novel",
         "orientation": "v",
         "showlegend": true,
         "textposition": "auto",
         "texttemplate": "%{y}",
         "type": "bar",
         "x": [
          "SoundWave Novel"
         ],
         "xaxis": "x",
         "y": [
          24507.899999999998
         ],
         "yaxis": "y"
        },
        {
         "alignmentgroup": "True",
         "hovertemplate": "ProductName=%{x}<br>TotalValue=%{y}<extra></extra>",
         "legendgroup": "ActiveWear Jacket",
         "marker": {
          "color": "rgb(204, 96, 125)",
          "pattern": {
           "shape": ""
          }
         },
         "name": "ActiveWear Jacket",
         "offsetgroup": "ActiveWear Jacket",
         "orientation": "v",
         "showlegend": true,
         "textposition": "auto",
         "texttemplate": "%{y}",
         "type": "bar",
         "x": [
          "ActiveWear Jacket"
         ],
         "xaxis": "x",
         "y": [
          22712.559999999998
         ],
         "yaxis": "y"
        },
        {
         "alignmentgroup": "True",
         "hovertemplate": "ProductName=%{x}<br>TotalValue=%{y}<extra></extra>",
         "legendgroup": "ActiveWear Rug",
         "marker": {
          "color": "rgb(227, 129, 145)",
          "pattern": {
           "shape": ""
          }
         },
         "name": "ActiveWear Rug",
         "offsetgroup": "ActiveWear Rug",
         "orientation": "v",
         "showlegend": true,
         "textposition": "auto",
         "texttemplate": "%{y}",
         "type": "bar",
         "x": [
          "ActiveWear Rug"
         ],
         "xaxis": "x",
         "y": [
          22314.43
         ],
         "yaxis": "y"
        },
        {
         "alignmentgroup": "True",
         "hovertemplate": "ProductName=%{x}<br>TotalValue=%{y}<extra></extra>",
         "legendgroup": "TechPro Headphones",
         "marker": {
          "color": "rgb(244, 163, 168)",
          "pattern": {
           "shape": ""
          }
         },
         "name": "TechPro Headphones",
         "offsetgroup": "TechPro Headphones",
         "orientation": "v",
         "showlegend": true,
         "textposition": "auto",
         "texttemplate": "%{y}",
         "type": "bar",
         "x": [
          "TechPro Headphones"
         ],
         "xaxis": "x",
         "y": [
          19513.8
         ],
         "yaxis": "y"
        },
        {
         "alignmentgroup": "True",
         "hovertemplate": "ProductName=%{x}<br>TotalValue=%{y}<extra></extra>",
         "legendgroup": "BookWorld Cookbook",
         "marker": {
          "color": "rgb(255, 198, 196)",
          "pattern": {
           "shape": ""
          }
         },
         "name": "BookWorld Cookbook",
         "offsetgroup": "BookWorld Cookbook",
         "orientation": "v",
         "showlegend": true,
         "textposition": "auto",
         "texttemplate": "%{y}",
         "type": "bar",
         "x": [
          "BookWorld Cookbook"
         ],
         "xaxis": "x",
         "y": [
          19221.989999999998
         ],
         "yaxis": "y"
        },
        {
         "alignmentgroup": "True",
         "hovertemplate": "ProductName=%{x}<br>TotalValue=%{y}<extra></extra>",
         "legendgroup": "BookWorld Sweater",
         "marker": {
          "color": "rgb(103, 32, 68)",
          "pattern": {
           "shape": ""
          }
         },
         "name": "BookWorld Sweater",
         "offsetgroup": "BookWorld Sweater",
         "orientation": "v",
         "showlegend": true,
         "textposition": "auto",
         "texttemplate": "%{y}",
         "type": "bar",
         "x": [
          "BookWorld Sweater"
         ],
         "xaxis": "x",
         "y": [
          18743.79
         ],
         "yaxis": "y"
        },
        {
         "alignmentgroup": "True",
         "hovertemplate": "ProductName=%{x}<br>TotalValue=%{y}<extra></extra>",
         "legendgroup": "TechPro Textbook",
         "marker": {
          "color": "rgb(139, 48, 88)",
          "pattern": {
           "shape": ""
          }
         },
         "name": "TechPro Textbook",
         "offsetgroup": "TechPro Textbook",
         "orientation": "v",
         "showlegend": true,
         "textposition": "auto",
         "texttemplate": "%{y}",
         "type": "bar",
         "x": [
          "TechPro Textbook"
         ],
         "xaxis": "x",
         "y": [
          18267.96
         ],
         "yaxis": "y"
        },
        {
         "alignmentgroup": "True",
         "hovertemplate": "ProductName=%{x}<br>TotalValue=%{y}<extra></extra>",
         "legendgroup": "ActiveWear Cookware Set",
         "marker": {
          "color": "rgb(173, 70, 108)",
          "pattern": {
           "shape": ""
          }
         },
         "name": "ActiveWear Cookware Set",
         "offsetgroup": "ActiveWear Cookware Set",
         "orientation": "v",
         "showlegend": true,
         "textposition": "auto",
         "texttemplate": "%{y}",
         "type": "bar",
         "x": [
          "ActiveWear Cookware Set"
         ],
         "xaxis": "x",
         "y": [
          18083.73
         ],
         "yaxis": "y"
        }
       ],
       "layout": {
        "barmode": "relative",
        "legend": {
         "title": {
          "text": "ProductName"
         },
         "tracegroupgap": 0
        },
        "template": {
         "data": {
          "bar": [
           {
            "error_x": {
             "color": "#2a3f5f"
            },
            "error_y": {
             "color": "#2a3f5f"
            },
            "marker": {
             "line": {
              "color": "#E5ECF6",
              "width": 0.5
             },
             "pattern": {
              "fillmode": "overlay",
              "size": 10,
              "solidity": 0.2
             }
            },
            "type": "bar"
           }
          ],
          "barpolar": [
           {
            "marker": {
             "line": {
              "color": "#E5ECF6",
              "width": 0.5
             },
             "pattern": {
              "fillmode": "overlay",
              "size": 10,
              "solidity": 0.2
             }
            },
            "type": "barpolar"
           }
          ],
          "carpet": [
           {
            "aaxis": {
             "endlinecolor": "#2a3f5f",
             "gridcolor": "white",
             "linecolor": "white",
             "minorgridcolor": "white",
             "startlinecolor": "#2a3f5f"
            },
            "baxis": {
             "endlinecolor": "#2a3f5f",
             "gridcolor": "white",
             "linecolor": "white",
             "minorgridcolor": "white",
             "startlinecolor": "#2a3f5f"
            },
            "type": "carpet"
           }
          ],
          "choropleth": [
           {
            "colorbar": {
             "outlinewidth": 0,
             "ticks": ""
            },
            "type": "choropleth"
           }
          ],
          "contour": [
           {
            "colorbar": {
             "outlinewidth": 0,
             "ticks": ""
            },
            "colorscale": [
             [
              0,
              "#0d0887"
             ],
             [
              0.1111111111111111,
              "#46039f"
             ],
             [
              0.2222222222222222,
              "#7201a8"
             ],
             [
              0.3333333333333333,
              "#9c179e"
             ],
             [
              0.4444444444444444,
              "#bd3786"
             ],
             [
              0.5555555555555556,
              "#d8576b"
             ],
             [
              0.6666666666666666,
              "#ed7953"
             ],
             [
              0.7777777777777778,
              "#fb9f3a"
             ],
             [
              0.8888888888888888,
              "#fdca26"
             ],
             [
              1,
              "#f0f921"
             ]
            ],
            "type": "contour"
           }
          ],
          "contourcarpet": [
           {
            "colorbar": {
             "outlinewidth": 0,
             "ticks": ""
            },
            "type": "contourcarpet"
           }
          ],
          "heatmap": [
           {
            "colorbar": {
             "outlinewidth": 0,
             "ticks": ""
            },
            "colorscale": [
             [
              0,
              "#0d0887"
             ],
             [
              0.1111111111111111,
              "#46039f"
             ],
             [
              0.2222222222222222,
              "#7201a8"
             ],
             [
              0.3333333333333333,
              "#9c179e"
             ],
             [
              0.4444444444444444,
              "#bd3786"
             ],
             [
              0.5555555555555556,
              "#d8576b"
             ],
             [
              0.6666666666666666,
              "#ed7953"
             ],
             [
              0.7777777777777778,
              "#fb9f3a"
             ],
             [
              0.8888888888888888,
              "#fdca26"
             ],
             [
              1,
              "#f0f921"
             ]
            ],
            "type": "heatmap"
           }
          ],
          "heatmapgl": [
           {
            "colorbar": {
             "outlinewidth": 0,
             "ticks": ""
            },
            "colorscale": [
             [
              0,
              "#0d0887"
             ],
             [
              0.1111111111111111,
              "#46039f"
             ],
             [
              0.2222222222222222,
              "#7201a8"
             ],
             [
              0.3333333333333333,
              "#9c179e"
             ],
             [
              0.4444444444444444,
              "#bd3786"
             ],
             [
              0.5555555555555556,
              "#d8576b"
             ],
             [
              0.6666666666666666,
              "#ed7953"
             ],
             [
              0.7777777777777778,
              "#fb9f3a"
             ],
             [
              0.8888888888888888,
              "#fdca26"
             ],
             [
              1,
              "#f0f921"
             ]
            ],
            "type": "heatmapgl"
           }
          ],
          "histogram": [
           {
            "marker": {
             "pattern": {
              "fillmode": "overlay",
              "size": 10,
              "solidity": 0.2
             }
            },
            "type": "histogram"
           }
          ],
          "histogram2d": [
           {
            "colorbar": {
             "outlinewidth": 0,
             "ticks": ""
            },
            "colorscale": [
             [
              0,
              "#0d0887"
             ],
             [
              0.1111111111111111,
              "#46039f"
             ],
             [
              0.2222222222222222,
              "#7201a8"
             ],
             [
              0.3333333333333333,
              "#9c179e"
             ],
             [
              0.4444444444444444,
              "#bd3786"
             ],
             [
              0.5555555555555556,
              "#d8576b"
             ],
             [
              0.6666666666666666,
              "#ed7953"
             ],
             [
              0.7777777777777778,
              "#fb9f3a"
             ],
             [
              0.8888888888888888,
              "#fdca26"
             ],
             [
              1,
              "#f0f921"
             ]
            ],
            "type": "histogram2d"
           }
          ],
          "histogram2dcontour": [
           {
            "colorbar": {
             "outlinewidth": 0,
             "ticks": ""
            },
            "colorscale": [
             [
              0,
              "#0d0887"
             ],
             [
              0.1111111111111111,
              "#46039f"
             ],
             [
              0.2222222222222222,
              "#7201a8"
             ],
             [
              0.3333333333333333,
              "#9c179e"
             ],
             [
              0.4444444444444444,
              "#bd3786"
             ],
             [
              0.5555555555555556,
              "#d8576b"
             ],
             [
              0.6666666666666666,
              "#ed7953"
             ],
             [
              0.7777777777777778,
              "#fb9f3a"
             ],
             [
              0.8888888888888888,
              "#fdca26"
             ],
             [
              1,
              "#f0f921"
             ]
            ],
            "type": "histogram2dcontour"
           }
          ],
          "mesh3d": [
           {
            "colorbar": {
             "outlinewidth": 0,
             "ticks": ""
            },
            "type": "mesh3d"
           }
          ],
          "parcoords": [
           {
            "line": {
             "colorbar": {
              "outlinewidth": 0,
              "ticks": ""
             }
            },
            "type": "parcoords"
           }
          ],
          "pie": [
           {
            "automargin": true,
            "type": "pie"
           }
          ],
          "scatter": [
           {
            "fillpattern": {
             "fillmode": "overlay",
             "size": 10,
             "solidity": 0.2
            },
            "type": "scatter"
           }
          ],
          "scatter3d": [
           {
            "line": {
             "colorbar": {
              "outlinewidth": 0,
              "ticks": ""
             }
            },
            "marker": {
             "colorbar": {
              "outlinewidth": 0,
              "ticks": ""
             }
            },
            "type": "scatter3d"
           }
          ],
          "scattercarpet": [
           {
            "marker": {
             "colorbar": {
              "outlinewidth": 0,
              "ticks": ""
             }
            },
            "type": "scattercarpet"
           }
          ],
          "scattergeo": [
           {
            "marker": {
             "colorbar": {
              "outlinewidth": 0,
              "ticks": ""
             }
            },
            "type": "scattergeo"
           }
          ],
          "scattergl": [
           {
            "marker": {
             "colorbar": {
              "outlinewidth": 0,
              "ticks": ""
             }
            },
            "type": "scattergl"
           }
          ],
          "scattermapbox": [
           {
            "marker": {
             "colorbar": {
              "outlinewidth": 0,
              "ticks": ""
             }
            },
            "type": "scattermapbox"
           }
          ],
          "scatterpolar": [
           {
            "marker": {
             "colorbar": {
              "outlinewidth": 0,
              "ticks": ""
             }
            },
            "type": "scatterpolar"
           }
          ],
          "scatterpolargl": [
           {
            "marker": {
             "colorbar": {
              "outlinewidth": 0,
              "ticks": ""
             }
            },
            "type": "scatterpolargl"
           }
          ],
          "scatterternary": [
           {
            "marker": {
             "colorbar": {
              "outlinewidth": 0,
              "ticks": ""
             }
            },
            "type": "scatterternary"
           }
          ],
          "surface": [
           {
            "colorbar": {
             "outlinewidth": 0,
             "ticks": ""
            },
            "colorscale": [
             [
              0,
              "#0d0887"
             ],
             [
              0.1111111111111111,
              "#46039f"
             ],
             [
              0.2222222222222222,
              "#7201a8"
             ],
             [
              0.3333333333333333,
              "#9c179e"
             ],
             [
              0.4444444444444444,
              "#bd3786"
             ],
             [
              0.5555555555555556,
              "#d8576b"
             ],
             [
              0.6666666666666666,
              "#ed7953"
             ],
             [
              0.7777777777777778,
              "#fb9f3a"
             ],
             [
              0.8888888888888888,
              "#fdca26"
             ],
             [
              1,
              "#f0f921"
             ]
            ],
            "type": "surface"
           }
          ],
          "table": [
           {
            "cells": {
             "fill": {
              "color": "#EBF0F8"
             },
             "line": {
              "color": "white"
             }
            },
            "header": {
             "fill": {
              "color": "#C8D4E3"
             },
             "line": {
              "color": "white"
             }
            },
            "type": "table"
           }
          ]
         },
         "layout": {
          "annotationdefaults": {
           "arrowcolor": "#2a3f5f",
           "arrowhead": 0,
           "arrowwidth": 1
          },
          "autotypenumbers": "strict",
          "coloraxis": {
           "colorbar": {
            "outlinewidth": 0,
            "ticks": ""
           }
          },
          "colorscale": {
           "diverging": [
            [
             0,
             "#8e0152"
            ],
            [
             0.1,
             "#c51b7d"
            ],
            [
             0.2,
             "#de77ae"
            ],
            [
             0.3,
             "#f1b6da"
            ],
            [
             0.4,
             "#fde0ef"
            ],
            [
             0.5,
             "#f7f7f7"
            ],
            [
             0.6,
             "#e6f5d0"
            ],
            [
             0.7,
             "#b8e186"
            ],
            [
             0.8,
             "#7fbc41"
            ],
            [
             0.9,
             "#4d9221"
            ],
            [
             1,
             "#276419"
            ]
           ],
           "sequential": [
            [
             0,
             "#0d0887"
            ],
            [
             0.1111111111111111,
             "#46039f"
            ],
            [
             0.2222222222222222,
             "#7201a8"
            ],
            [
             0.3333333333333333,
             "#9c179e"
            ],
            [
             0.4444444444444444,
             "#bd3786"
            ],
            [
             0.5555555555555556,
             "#d8576b"
            ],
            [
             0.6666666666666666,
             "#ed7953"
            ],
            [
             0.7777777777777778,
             "#fb9f3a"
            ],
            [
             0.8888888888888888,
             "#fdca26"
            ],
            [
             1,
             "#f0f921"
            ]
           ],
           "sequentialminus": [
            [
             0,
             "#0d0887"
            ],
            [
             0.1111111111111111,
             "#46039f"
            ],
            [
             0.2222222222222222,
             "#7201a8"
            ],
            [
             0.3333333333333333,
             "#9c179e"
            ],
            [
             0.4444444444444444,
             "#bd3786"
            ],
            [
             0.5555555555555556,
             "#d8576b"
            ],
            [
             0.6666666666666666,
             "#ed7953"
            ],
            [
             0.7777777777777778,
             "#fb9f3a"
            ],
            [
             0.8888888888888888,
             "#fdca26"
            ],
            [
             1,
             "#f0f921"
            ]
           ]
          },
          "colorway": [
           "#636efa",
           "#EF553B",
           "#00cc96",
           "#ab63fa",
           "#FFA15A",
           "#19d3f3",
           "#FF6692",
           "#B6E880",
           "#FF97FF",
           "#FECB52"
          ],
          "font": {
           "color": "#2a3f5f"
          },
          "geo": {
           "bgcolor": "white",
           "lakecolor": "white",
           "landcolor": "#E5ECF6",
           "showlakes": true,
           "showland": true,
           "subunitcolor": "white"
          },
          "hoverlabel": {
           "align": "left"
          },
          "hovermode": "closest",
          "mapbox": {
           "style": "light"
          },
          "paper_bgcolor": "white",
          "plot_bgcolor": "#E5ECF6",
          "polar": {
           "angularaxis": {
            "gridcolor": "white",
            "linecolor": "white",
            "ticks": ""
           },
           "bgcolor": "#E5ECF6",
           "radialaxis": {
            "gridcolor": "white",
            "linecolor": "white",
            "ticks": ""
           }
          },
          "scene": {
           "xaxis": {
            "backgroundcolor": "#E5ECF6",
            "gridcolor": "white",
            "gridwidth": 2,
            "linecolor": "white",
            "showbackground": true,
            "ticks": "",
            "zerolinecolor": "white"
           },
           "yaxis": {
            "backgroundcolor": "#E5ECF6",
            "gridcolor": "white",
            "gridwidth": 2,
            "linecolor": "white",
            "showbackground": true,
            "ticks": "",
            "zerolinecolor": "white"
           },
           "zaxis": {
            "backgroundcolor": "#E5ECF6",
            "gridcolor": "white",
            "gridwidth": 2,
            "linecolor": "white",
            "showbackground": true,
            "ticks": "",
            "zerolinecolor": "white"
           }
          },
          "shapedefaults": {
           "line": {
            "color": "#2a3f5f"
           }
          },
          "ternary": {
           "aaxis": {
            "gridcolor": "white",
            "linecolor": "white",
            "ticks": ""
           },
           "baxis": {
            "gridcolor": "white",
            "linecolor": "white",
            "ticks": ""
           },
           "bgcolor": "#E5ECF6",
           "caxis": {
            "gridcolor": "white",
            "linecolor": "white",
            "ticks": ""
           }
          },
          "title": {
           "x": 0.05
          },
          "xaxis": {
           "automargin": true,
           "gridcolor": "white",
           "linecolor": "white",
           "ticks": "",
           "title": {
            "standoff": 15
           },
           "zerolinecolor": "white",
           "zerolinewidth": 2
          },
          "yaxis": {
           "automargin": true,
           "gridcolor": "white",
           "linecolor": "white",
           "ticks": "",
           "title": {
            "standoff": 15
           },
           "zerolinecolor": "white",
           "zerolinewidth": 2
          }
         }
        },
        "title": {
         "text": "Top 10 Products by Total Sales"
        },
        "xaxis": {
         "anchor": "y",
         "categoryarray": [
          "ActiveWear Smartwatch",
          "SoundWave Headphones",
          "SoundWave Novel",
          "ActiveWear Jacket",
          "ActiveWear Rug",
          "TechPro Headphones",
          "BookWorld Cookbook",
          "BookWorld Sweater",
          "TechPro Textbook",
          "ActiveWear Cookware Set"
         ],
         "categoryorder": "array",
         "domain": [
          0,
          1
         ],
         "title": {
          "text": "Product Name"
         }
        },
        "yaxis": {
         "anchor": "x",
         "domain": [
          0,
          1
         ],
         "title": {
          "text": "Total Sales (USD)"
         }
        }
       }
      },
      "text/html": [
       "<div>                            <div id=\"a4201c1e-022a-4237-92e5-21d8a41fa980\" class=\"plotly-graph-div\" style=\"height:525px; width:100%;\"></div>            <script type=\"text/javascript\">                require([\"plotly\"], function(Plotly) {                    window.PLOTLYENV=window.PLOTLYENV || {};                                    if (document.getElementById(\"a4201c1e-022a-4237-92e5-21d8a41fa980\")) {                    Plotly.newPlot(                        \"a4201c1e-022a-4237-92e5-21d8a41fa980\",                        [{\"alignmentgroup\":\"True\",\"hovertemplate\":\"ProductName=%{x}<br>TotalValue=%{y}<extra></extra>\",\"legendgroup\":\"ActiveWear Smartwatch\",\"marker\":{\"color\":\"rgb(103, 32, 68)\",\"pattern\":{\"shape\":\"\"}},\"name\":\"ActiveWear Smartwatch\",\"offsetgroup\":\"ActiveWear Smartwatch\",\"orientation\":\"v\",\"showlegend\":true,\"textposition\":\"auto\",\"texttemplate\":\"%{y}\",\"x\":[\"ActiveWear Smartwatch\"],\"xaxis\":\"x\",\"y\":[39096.97],\"yaxis\":\"y\",\"type\":\"bar\"},{\"alignmentgroup\":\"True\",\"hovertemplate\":\"ProductName=%{x}<br>TotalValue=%{y}<extra></extra>\",\"legendgroup\":\"SoundWave Headphones\",\"marker\":{\"color\":\"rgb(139, 48, 88)\",\"pattern\":{\"shape\":\"\"}},\"name\":\"SoundWave Headphones\",\"offsetgroup\":\"SoundWave Headphones\",\"orientation\":\"v\",\"showlegend\":true,\"textposition\":\"auto\",\"texttemplate\":\"%{y}\",\"x\":[\"SoundWave Headphones\"],\"xaxis\":\"x\",\"y\":[25211.64],\"yaxis\":\"y\",\"type\":\"bar\"},{\"alignmentgroup\":\"True\",\"hovertemplate\":\"ProductName=%{x}<br>TotalValue=%{y}<extra></extra>\",\"legendgroup\":\"SoundWave Novel\",\"marker\":{\"color\":\"rgb(173, 70, 108)\",\"pattern\":{\"shape\":\"\"}},\"name\":\"SoundWave Novel\",\"offsetgroup\":\"SoundWave Novel\",\"orientation\":\"v\",\"showlegend\":true,\"textposition\":\"auto\",\"texttemplate\":\"%{y}\",\"x\":[\"SoundWave Novel\"],\"xaxis\":\"x\",\"y\":[24507.899999999998],\"yaxis\":\"y\",\"type\":\"bar\"},{\"alignmentgroup\":\"True\",\"hovertemplate\":\"ProductName=%{x}<br>TotalValue=%{y}<extra></extra>\",\"legendgroup\":\"ActiveWear Jacket\",\"marker\":{\"color\":\"rgb(204, 96, 125)\",\"pattern\":{\"shape\":\"\"}},\"name\":\"ActiveWear Jacket\",\"offsetgroup\":\"ActiveWear Jacket\",\"orientation\":\"v\",\"showlegend\":true,\"textposition\":\"auto\",\"texttemplate\":\"%{y}\",\"x\":[\"ActiveWear Jacket\"],\"xaxis\":\"x\",\"y\":[22712.559999999998],\"yaxis\":\"y\",\"type\":\"bar\"},{\"alignmentgroup\":\"True\",\"hovertemplate\":\"ProductName=%{x}<br>TotalValue=%{y}<extra></extra>\",\"legendgroup\":\"ActiveWear Rug\",\"marker\":{\"color\":\"rgb(227, 129, 145)\",\"pattern\":{\"shape\":\"\"}},\"name\":\"ActiveWear Rug\",\"offsetgroup\":\"ActiveWear Rug\",\"orientation\":\"v\",\"showlegend\":true,\"textposition\":\"auto\",\"texttemplate\":\"%{y}\",\"x\":[\"ActiveWear Rug\"],\"xaxis\":\"x\",\"y\":[22314.43],\"yaxis\":\"y\",\"type\":\"bar\"},{\"alignmentgroup\":\"True\",\"hovertemplate\":\"ProductName=%{x}<br>TotalValue=%{y}<extra></extra>\",\"legendgroup\":\"TechPro Headphones\",\"marker\":{\"color\":\"rgb(244, 163, 168)\",\"pattern\":{\"shape\":\"\"}},\"name\":\"TechPro Headphones\",\"offsetgroup\":\"TechPro Headphones\",\"orientation\":\"v\",\"showlegend\":true,\"textposition\":\"auto\",\"texttemplate\":\"%{y}\",\"x\":[\"TechPro Headphones\"],\"xaxis\":\"x\",\"y\":[19513.8],\"yaxis\":\"y\",\"type\":\"bar\"},{\"alignmentgroup\":\"True\",\"hovertemplate\":\"ProductName=%{x}<br>TotalValue=%{y}<extra></extra>\",\"legendgroup\":\"BookWorld Cookbook\",\"marker\":{\"color\":\"rgb(255, 198, 196)\",\"pattern\":{\"shape\":\"\"}},\"name\":\"BookWorld Cookbook\",\"offsetgroup\":\"BookWorld Cookbook\",\"orientation\":\"v\",\"showlegend\":true,\"textposition\":\"auto\",\"texttemplate\":\"%{y}\",\"x\":[\"BookWorld Cookbook\"],\"xaxis\":\"x\",\"y\":[19221.989999999998],\"yaxis\":\"y\",\"type\":\"bar\"},{\"alignmentgroup\":\"True\",\"hovertemplate\":\"ProductName=%{x}<br>TotalValue=%{y}<extra></extra>\",\"legendgroup\":\"BookWorld Sweater\",\"marker\":{\"color\":\"rgb(103, 32, 68)\",\"pattern\":{\"shape\":\"\"}},\"name\":\"BookWorld Sweater\",\"offsetgroup\":\"BookWorld Sweater\",\"orientation\":\"v\",\"showlegend\":true,\"textposition\":\"auto\",\"texttemplate\":\"%{y}\",\"x\":[\"BookWorld Sweater\"],\"xaxis\":\"x\",\"y\":[18743.79],\"yaxis\":\"y\",\"type\":\"bar\"},{\"alignmentgroup\":\"True\",\"hovertemplate\":\"ProductName=%{x}<br>TotalValue=%{y}<extra></extra>\",\"legendgroup\":\"TechPro Textbook\",\"marker\":{\"color\":\"rgb(139, 48, 88)\",\"pattern\":{\"shape\":\"\"}},\"name\":\"TechPro Textbook\",\"offsetgroup\":\"TechPro Textbook\",\"orientation\":\"v\",\"showlegend\":true,\"textposition\":\"auto\",\"texttemplate\":\"%{y}\",\"x\":[\"TechPro Textbook\"],\"xaxis\":\"x\",\"y\":[18267.96],\"yaxis\":\"y\",\"type\":\"bar\"},{\"alignmentgroup\":\"True\",\"hovertemplate\":\"ProductName=%{x}<br>TotalValue=%{y}<extra></extra>\",\"legendgroup\":\"ActiveWear Cookware Set\",\"marker\":{\"color\":\"rgb(173, 70, 108)\",\"pattern\":{\"shape\":\"\"}},\"name\":\"ActiveWear Cookware Set\",\"offsetgroup\":\"ActiveWear Cookware Set\",\"orientation\":\"v\",\"showlegend\":true,\"textposition\":\"auto\",\"texttemplate\":\"%{y}\",\"x\":[\"ActiveWear Cookware Set\"],\"xaxis\":\"x\",\"y\":[18083.73],\"yaxis\":\"y\",\"type\":\"bar\"}],                        {\"template\":{\"data\":{\"histogram2dcontour\":[{\"type\":\"histogram2dcontour\",\"colorbar\":{\"outlinewidth\":0,\"ticks\":\"\"},\"colorscale\":[[0.0,\"#0d0887\"],[0.1111111111111111,\"#46039f\"],[0.2222222222222222,\"#7201a8\"],[0.3333333333333333,\"#9c179e\"],[0.4444444444444444,\"#bd3786\"],[0.5555555555555556,\"#d8576b\"],[0.6666666666666666,\"#ed7953\"],[0.7777777777777778,\"#fb9f3a\"],[0.8888888888888888,\"#fdca26\"],[1.0,\"#f0f921\"]]}],\"choropleth\":[{\"type\":\"choropleth\",\"colorbar\":{\"outlinewidth\":0,\"ticks\":\"\"}}],\"histogram2d\":[{\"type\":\"histogram2d\",\"colorbar\":{\"outlinewidth\":0,\"ticks\":\"\"},\"colorscale\":[[0.0,\"#0d0887\"],[0.1111111111111111,\"#46039f\"],[0.2222222222222222,\"#7201a8\"],[0.3333333333333333,\"#9c179e\"],[0.4444444444444444,\"#bd3786\"],[0.5555555555555556,\"#d8576b\"],[0.6666666666666666,\"#ed7953\"],[0.7777777777777778,\"#fb9f3a\"],[0.8888888888888888,\"#fdca26\"],[1.0,\"#f0f921\"]]}],\"heatmap\":[{\"type\":\"heatmap\",\"colorbar\":{\"outlinewidth\":0,\"ticks\":\"\"},\"colorscale\":[[0.0,\"#0d0887\"],[0.1111111111111111,\"#46039f\"],[0.2222222222222222,\"#7201a8\"],[0.3333333333333333,\"#9c179e\"],[0.4444444444444444,\"#bd3786\"],[0.5555555555555556,\"#d8576b\"],[0.6666666666666666,\"#ed7953\"],[0.7777777777777778,\"#fb9f3a\"],[0.8888888888888888,\"#fdca26\"],[1.0,\"#f0f921\"]]}],\"heatmapgl\":[{\"type\":\"heatmapgl\",\"colorbar\":{\"outlinewidth\":0,\"ticks\":\"\"},\"colorscale\":[[0.0,\"#0d0887\"],[0.1111111111111111,\"#46039f\"],[0.2222222222222222,\"#7201a8\"],[0.3333333333333333,\"#9c179e\"],[0.4444444444444444,\"#bd3786\"],[0.5555555555555556,\"#d8576b\"],[0.6666666666666666,\"#ed7953\"],[0.7777777777777778,\"#fb9f3a\"],[0.8888888888888888,\"#fdca26\"],[1.0,\"#f0f921\"]]}],\"contourcarpet\":[{\"type\":\"contourcarpet\",\"colorbar\":{\"outlinewidth\":0,\"ticks\":\"\"}}],\"contour\":[{\"type\":\"contour\",\"colorbar\":{\"outlinewidth\":0,\"ticks\":\"\"},\"colorscale\":[[0.0,\"#0d0887\"],[0.1111111111111111,\"#46039f\"],[0.2222222222222222,\"#7201a8\"],[0.3333333333333333,\"#9c179e\"],[0.4444444444444444,\"#bd3786\"],[0.5555555555555556,\"#d8576b\"],[0.6666666666666666,\"#ed7953\"],[0.7777777777777778,\"#fb9f3a\"],[0.8888888888888888,\"#fdca26\"],[1.0,\"#f0f921\"]]}],\"surface\":[{\"type\":\"surface\",\"colorbar\":{\"outlinewidth\":0,\"ticks\":\"\"},\"colorscale\":[[0.0,\"#0d0887\"],[0.1111111111111111,\"#46039f\"],[0.2222222222222222,\"#7201a8\"],[0.3333333333333333,\"#9c179e\"],[0.4444444444444444,\"#bd3786\"],[0.5555555555555556,\"#d8576b\"],[0.6666666666666666,\"#ed7953\"],[0.7777777777777778,\"#fb9f3a\"],[0.8888888888888888,\"#fdca26\"],[1.0,\"#f0f921\"]]}],\"mesh3d\":[{\"type\":\"mesh3d\",\"colorbar\":{\"outlinewidth\":0,\"ticks\":\"\"}}],\"scatter\":[{\"fillpattern\":{\"fillmode\":\"overlay\",\"size\":10,\"solidity\":0.2},\"type\":\"scatter\"}],\"parcoords\":[{\"type\":\"parcoords\",\"line\":{\"colorbar\":{\"outlinewidth\":0,\"ticks\":\"\"}}}],\"scatterpolargl\":[{\"type\":\"scatterpolargl\",\"marker\":{\"colorbar\":{\"outlinewidth\":0,\"ticks\":\"\"}}}],\"bar\":[{\"error_x\":{\"color\":\"#2a3f5f\"},\"error_y\":{\"color\":\"#2a3f5f\"},\"marker\":{\"line\":{\"color\":\"#E5ECF6\",\"width\":0.5},\"pattern\":{\"fillmode\":\"overlay\",\"size\":10,\"solidity\":0.2}},\"type\":\"bar\"}],\"scattergeo\":[{\"type\":\"scattergeo\",\"marker\":{\"colorbar\":{\"outlinewidth\":0,\"ticks\":\"\"}}}],\"scatterpolar\":[{\"type\":\"scatterpolar\",\"marker\":{\"colorbar\":{\"outlinewidth\":0,\"ticks\":\"\"}}}],\"histogram\":[{\"marker\":{\"pattern\":{\"fillmode\":\"overlay\",\"size\":10,\"solidity\":0.2}},\"type\":\"histogram\"}],\"scattergl\":[{\"type\":\"scattergl\",\"marker\":{\"colorbar\":{\"outlinewidth\":0,\"ticks\":\"\"}}}],\"scatter3d\":[{\"type\":\"scatter3d\",\"line\":{\"colorbar\":{\"outlinewidth\":0,\"ticks\":\"\"}},\"marker\":{\"colorbar\":{\"outlinewidth\":0,\"ticks\":\"\"}}}],\"scattermapbox\":[{\"type\":\"scattermapbox\",\"marker\":{\"colorbar\":{\"outlinewidth\":0,\"ticks\":\"\"}}}],\"scatterternary\":[{\"type\":\"scatterternary\",\"marker\":{\"colorbar\":{\"outlinewidth\":0,\"ticks\":\"\"}}}],\"scattercarpet\":[{\"type\":\"scattercarpet\",\"marker\":{\"colorbar\":{\"outlinewidth\":0,\"ticks\":\"\"}}}],\"carpet\":[{\"aaxis\":{\"endlinecolor\":\"#2a3f5f\",\"gridcolor\":\"white\",\"linecolor\":\"white\",\"minorgridcolor\":\"white\",\"startlinecolor\":\"#2a3f5f\"},\"baxis\":{\"endlinecolor\":\"#2a3f5f\",\"gridcolor\":\"white\",\"linecolor\":\"white\",\"minorgridcolor\":\"white\",\"startlinecolor\":\"#2a3f5f\"},\"type\":\"carpet\"}],\"table\":[{\"cells\":{\"fill\":{\"color\":\"#EBF0F8\"},\"line\":{\"color\":\"white\"}},\"header\":{\"fill\":{\"color\":\"#C8D4E3\"},\"line\":{\"color\":\"white\"}},\"type\":\"table\"}],\"barpolar\":[{\"marker\":{\"line\":{\"color\":\"#E5ECF6\",\"width\":0.5},\"pattern\":{\"fillmode\":\"overlay\",\"size\":10,\"solidity\":0.2}},\"type\":\"barpolar\"}],\"pie\":[{\"automargin\":true,\"type\":\"pie\"}]},\"layout\":{\"autotypenumbers\":\"strict\",\"colorway\":[\"#636efa\",\"#EF553B\",\"#00cc96\",\"#ab63fa\",\"#FFA15A\",\"#19d3f3\",\"#FF6692\",\"#B6E880\",\"#FF97FF\",\"#FECB52\"],\"font\":{\"color\":\"#2a3f5f\"},\"hovermode\":\"closest\",\"hoverlabel\":{\"align\":\"left\"},\"paper_bgcolor\":\"white\",\"plot_bgcolor\":\"#E5ECF6\",\"polar\":{\"bgcolor\":\"#E5ECF6\",\"angularaxis\":{\"gridcolor\":\"white\",\"linecolor\":\"white\",\"ticks\":\"\"},\"radialaxis\":{\"gridcolor\":\"white\",\"linecolor\":\"white\",\"ticks\":\"\"}},\"ternary\":{\"bgcolor\":\"#E5ECF6\",\"aaxis\":{\"gridcolor\":\"white\",\"linecolor\":\"white\",\"ticks\":\"\"},\"baxis\":{\"gridcolor\":\"white\",\"linecolor\":\"white\",\"ticks\":\"\"},\"caxis\":{\"gridcolor\":\"white\",\"linecolor\":\"white\",\"ticks\":\"\"}},\"coloraxis\":{\"colorbar\":{\"outlinewidth\":0,\"ticks\":\"\"}},\"colorscale\":{\"sequential\":[[0.0,\"#0d0887\"],[0.1111111111111111,\"#46039f\"],[0.2222222222222222,\"#7201a8\"],[0.3333333333333333,\"#9c179e\"],[0.4444444444444444,\"#bd3786\"],[0.5555555555555556,\"#d8576b\"],[0.6666666666666666,\"#ed7953\"],[0.7777777777777778,\"#fb9f3a\"],[0.8888888888888888,\"#fdca26\"],[1.0,\"#f0f921\"]],\"sequentialminus\":[[0.0,\"#0d0887\"],[0.1111111111111111,\"#46039f\"],[0.2222222222222222,\"#7201a8\"],[0.3333333333333333,\"#9c179e\"],[0.4444444444444444,\"#bd3786\"],[0.5555555555555556,\"#d8576b\"],[0.6666666666666666,\"#ed7953\"],[0.7777777777777778,\"#fb9f3a\"],[0.8888888888888888,\"#fdca26\"],[1.0,\"#f0f921\"]],\"diverging\":[[0,\"#8e0152\"],[0.1,\"#c51b7d\"],[0.2,\"#de77ae\"],[0.3,\"#f1b6da\"],[0.4,\"#fde0ef\"],[0.5,\"#f7f7f7\"],[0.6,\"#e6f5d0\"],[0.7,\"#b8e186\"],[0.8,\"#7fbc41\"],[0.9,\"#4d9221\"],[1,\"#276419\"]]},\"xaxis\":{\"gridcolor\":\"white\",\"linecolor\":\"white\",\"ticks\":\"\",\"title\":{\"standoff\":15},\"zerolinecolor\":\"white\",\"automargin\":true,\"zerolinewidth\":2},\"yaxis\":{\"gridcolor\":\"white\",\"linecolor\":\"white\",\"ticks\":\"\",\"title\":{\"standoff\":15},\"zerolinecolor\":\"white\",\"automargin\":true,\"zerolinewidth\":2},\"scene\":{\"xaxis\":{\"backgroundcolor\":\"#E5ECF6\",\"gridcolor\":\"white\",\"linecolor\":\"white\",\"showbackground\":true,\"ticks\":\"\",\"zerolinecolor\":\"white\",\"gridwidth\":2},\"yaxis\":{\"backgroundcolor\":\"#E5ECF6\",\"gridcolor\":\"white\",\"linecolor\":\"white\",\"showbackground\":true,\"ticks\":\"\",\"zerolinecolor\":\"white\",\"gridwidth\":2},\"zaxis\":{\"backgroundcolor\":\"#E5ECF6\",\"gridcolor\":\"white\",\"linecolor\":\"white\",\"showbackground\":true,\"ticks\":\"\",\"zerolinecolor\":\"white\",\"gridwidth\":2}},\"shapedefaults\":{\"line\":{\"color\":\"#2a3f5f\"}},\"annotationdefaults\":{\"arrowcolor\":\"#2a3f5f\",\"arrowhead\":0,\"arrowwidth\":1},\"geo\":{\"bgcolor\":\"white\",\"landcolor\":\"#E5ECF6\",\"subunitcolor\":\"white\",\"showland\":true,\"showlakes\":true,\"lakecolor\":\"white\"},\"title\":{\"x\":0.05},\"mapbox\":{\"style\":\"light\"}}},\"xaxis\":{\"anchor\":\"y\",\"domain\":[0.0,1.0],\"title\":{\"text\":\"Product Name\"},\"categoryorder\":\"array\",\"categoryarray\":[\"ActiveWear Smartwatch\",\"SoundWave Headphones\",\"SoundWave Novel\",\"ActiveWear Jacket\",\"ActiveWear Rug\",\"TechPro Headphones\",\"BookWorld Cookbook\",\"BookWorld Sweater\",\"TechPro Textbook\",\"ActiveWear Cookware Set\"]},\"yaxis\":{\"anchor\":\"x\",\"domain\":[0.0,1.0],\"title\":{\"text\":\"Total Sales (USD)\"}},\"legend\":{\"title\":{\"text\":\"ProductName\"},\"tracegroupgap\":0},\"title\":{\"text\":\"Top 10 Products by Total Sales\"},\"barmode\":\"relative\"},                        {\"responsive\": true}                    ).then(function(){\n",
       "                            \n",
       "var gd = document.getElementById('a4201c1e-022a-4237-92e5-21d8a41fa980');\n",
       "var x = new MutationObserver(function (mutations, observer) {{\n",
       "        var display = window.getComputedStyle(gd).display;\n",
       "        if (!display || display === 'none') {{\n",
       "            console.log([gd, 'removed!']);\n",
       "            Plotly.purge(gd);\n",
       "            observer.disconnect();\n",
       "        }}\n",
       "}});\n",
       "\n",
       "// Listen for the removal of the full notebook cells\n",
       "var notebookContainer = gd.closest('#notebook-container');\n",
       "if (notebookContainer) {{\n",
       "    x.observe(notebookContainer, {childList: true});\n",
       "}}\n",
       "\n",
       "// Listen for the clearing of the current output cell\n",
       "var outputEl = gd.closest('.output');\n",
       "if (outputEl) {{\n",
       "    x.observe(outputEl, {childList: true});\n",
       "}}\n",
       "\n",
       "                        })                };                });            </script>        </div>"
      ]
     },
     "metadata": {},
     "output_type": "display_data"
    }
   ],
   "source": [
    "fig_top_products = px.bar(\n",
    "    top_10_products,\n",
    "    x='ProductName',\n",
    "    y='TotalValue',\n",
    "    color='ProductName',\n",
    "    title='Top 10 Products by Total Sales',\n",
    "    color_discrete_sequence=px.colors.sequential.Burg[::-1],  \n",
    "    text_auto=True\n",
    ")\n",
    "\n",
    "fig_top_products.update_layout(\n",
    "    xaxis_title=\"Product Name\", \n",
    "    yaxis_title=\"Total Sales (USD)\"\n",
    ")\n",
    "\n",
    "\n"
   ]
  },
  {
   "cell_type": "markdown",
   "id": "c9147540",
   "metadata": {},
   "source": [
    "# Insights"
   ]
  },
  {
   "cell_type": "markdown",
   "id": "8f2f47d8",
   "metadata": {},
   "source": [
    "#### 1. Total Sales by Region : \n",
    "- Customers from South America show the highest transaction count, leading the total sales by 6.79%, followed by Europe, Asia and North America, thereby presenting the greatest market potential based on current sales."
   ]
  },
  {
   "cell_type": "markdown",
   "id": "2710dd46",
   "metadata": {},
   "source": [
    "#### 2.  Category-wise Sales Distribution : \n",
    "- The Books category has the highest sales value, exceeding 192,000, followed by Electronics closely around 180,000.\n",
    "- This might imply that expanding the Electronics and Clothing product lines might drive additional sales growth."
   ]
  },
  {
   "cell_type": "markdown",
   "id": "29b4b5b5",
   "metadata": {},
   "source": [
    "#### 3. Monthly Sales Trend\n",
    "- There is a fluctuation in the month-on-month sales demonstrating a non-linear trend. \n",
    "- The peak sales happen in July and September. \n",
    "- The sharp dip in sales in June and October could be an indicator of seasonal factors.\n",
    "- Sales are high in December and January, which can be attributed to the holiday season."
   ]
  },
  {
   "cell_type": "markdown",
   "id": "7501ace1",
   "metadata": {},
   "source": [
    "#### 4. Price vs Quantity Sold by Category\n",
    "- Quantity sold generally decreases as price increases across all categories. \n",
    "- Electronics consistently have higher quantity sold compared to other categories, even at higher price points.\n",
    "- Home Decor items seem to be priced lower than Electronics and Books, with a concentration of sales in the lower price range."
   ]
  },
  {
   "cell_type": "markdown",
   "id": "aa02a50c",
   "metadata": {},
   "source": [
    "#### 5. Price Distribution by Category\n",
    "- Electronics show a higher median price as compared to others, with a compact interquartile range, suggesting price variability.\n",
    "- Home Decor and Books exhibit similar median prices, but Books exhibit greater price spread.\n",
    "- Clothing has the lowest median price and wider range, indicating variability."
   ]
  },
  {
   "cell_type": "markdown",
   "id": "b099f741",
   "metadata": {},
   "source": [
    "#### 6. Top 10 Products by Total Sales\n",
    "- ActiveWear Smartwatch is the top-selling product. Its total value represents approximately 19.1% of the combined total value of the top 10 products.\n",
    "- ActiveWear Jacket, Rug, and Cookware Set also rank highly, showcasing the popularity of the ActiveWear product line. Collectively, these four ActiveWear products contribute approximately 37.1% to the combined total value.\n",
    "- There is a considerable difference between the top-selling product (ActiveWear Smartwatch) and the lowest (ActiveWear Cookware Set).The Smartwatch's total value is more than 2 times that of the Cookware Set."
   ]
  }
 ],
 "metadata": {
  "kernelspec": {
   "display_name": "Python 3 (ipykernel)",
   "language": "python",
   "name": "python3"
  },
  "language_info": {
   "codemirror_mode": {
    "name": "ipython",
    "version": 3
   },
   "file_extension": ".py",
   "mimetype": "text/x-python",
   "name": "python",
   "nbconvert_exporter": "python",
   "pygments_lexer": "ipython3",
   "version": "3.11.5"
  }
 },
 "nbformat": 4,
 "nbformat_minor": 5
}
